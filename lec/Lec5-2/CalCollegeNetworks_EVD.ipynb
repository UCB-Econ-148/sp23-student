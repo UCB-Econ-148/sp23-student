{
 "cells": [
  {
   "cell_type": "code",
   "execution_count": null,
   "id": "7d41b7e8-a1dd-4c48-934b-dacce972fd3a",
   "metadata": {},
   "outputs": [],
   "source": [
    "# Run this cell to set up your notebook\n",
    "import numpy as np\n",
    "import pandas as pd\n",
    "import matplotlib.pyplot as plt\n",
    "import seaborn as sns\n",
    "import random\n",
    "import plotly.express as px\n",
    "import warnings\n",
    "warnings.filterwarnings('ignore')"
   ]
  },
  {
   "cell_type": "markdown",
   "id": "5cc7d616-5864-485f-a405-4745b4e165ef",
   "metadata": {},
   "source": [
    "## Dataset 1 \n",
    "https://www.nature.com/articles/s41586-022-04997-3\n",
    "\n",
    "https://data.humdata.org/dataset/social-capital-atlas"
   ]
  },
  {
   "cell_type": "code",
   "execution_count": null,
   "id": "e305a86e-8b0b-49f5-b09b-46c12a22fca1",
   "metadata": {},
   "outputs": [],
   "source": [
    "us_college_data = pd.read_csv(\"social_capital_college.csv\")\n"
   ]
  },
  {
   "cell_type": "code",
   "execution_count": null,
   "id": "8f53be78-44d7-43a5-959a-545a8e74550e",
   "metadata": {},
   "outputs": [],
   "source": [
    "cal_college = us_college_data[(us_college_data['zip']>=90000) &(us_college_data['zip']<96163)]\n",
    "cal_college\n"
   ]
  },
  {
   "cell_type": "markdown",
   "id": "9825ab63-61f0-4079-a4d3-1e8bd1adcc6d",
   "metadata": {},
   "source": [
    "# Dataset 2 -\n",
    "Adapted from and manually tagged 1=CCC, 2=CSU, 3=UC, 4=Private or Other\n",
    "\n",
    "https://www.sc.edu/codeset/E1216.html"
   ]
  },
  {
   "cell_type": "code",
   "execution_count": null,
   "id": "89a0fabb-a19d-41b4-825e-b4404217d76b",
   "metadata": {},
   "outputs": [],
   "source": [
    "CalCollegeCodes=pd.read_csv(\"CalCollegeCodes.csv\")\n",
    "CalCollegeCodes"
   ]
  },
  {
   "cell_type": "code",
   "execution_count": null,
   "id": "f3ac653d-230d-4588-9d9b-4ee751425b1b",
   "metadata": {},
   "outputs": [],
   "source": [
    "ZipCodesLL=pd.read_csv(\"zip_lat_long.csv\")\n",
    "ZipCodesLL"
   ]
  },
  {
   "cell_type": "code",
   "execution_count": null,
   "id": "52e406fd-efc9-4b51-8853-a263484d6e13",
   "metadata": {},
   "outputs": [],
   "source": [
    "CalCollegeCodes=CalCollegeCodes.rename(columns={\"OPEID CODE\":\"college\"})\n",
    "CalCollegeCodes"
   ]
  },
  {
   "cell_type": "code",
   "execution_count": null,
   "id": "bbd41826-a892-4ac6-a635-df8501385dc9",
   "metadata": {},
   "outputs": [],
   "source": [
    "MergeCalCollege=pd.merge(cal_college,CalCollegeCodes,how=\"left\")\n",
    "MergeCalCollege"
   ]
  },
  {
   "cell_type": "code",
   "execution_count": null,
   "id": "d1b77ad4-1077-44fb-9052-c8d9921761e4",
   "metadata": {},
   "outputs": [],
   "source": [
    "MergeCalCollegeZLL=pd.merge(MergeCalCollege,ZipCodesLL,how=\"left\")\n",
    "MergeCalCollegeZLL"
   ]
  },
  {
   "cell_type": "code",
   "execution_count": null,
   "id": "37c92822-2d5f-43b7-a4b8-1f3d2c670e44",
   "metadata": {},
   "outputs": [],
   "source": [
    "publics_df=MergeCalCollegeZLL[MergeCalCollegeZLL['EVDCode']<4]\n",
    "publics_df"
   ]
  },
  {
   "cell_type": "code",
   "execution_count": null,
   "id": "b2cf465d-946a-4f99-bf89-4d38f5496479",
   "metadata": {},
   "outputs": [],
   "source": [
    "sns.scatterplot(data=publics_df,\n",
    "                x='ec_high_own_ses_college',\n",
    "                y='exposure_own_ses_college',\n",
    "                hue='EVDCode')"
   ]
  },
  {
   "cell_type": "code",
   "execution_count": null,
   "id": "a546afcb-e487-4f32-b946-5ef59f413295",
   "metadata": {},
   "outputs": [],
   "source": [
    "px.scatter(publics_df, \n",
    "                x='ec_high_own_ses_college',\n",
    "                y='exposure_own_ses_college',\n",
    "                color='EVDCode',\n",
    "                hover_name='college_name')"
   ]
  },
  {
   "cell_type": "code",
   "execution_count": null,
   "id": "d7dc288b-67ae-4a05-95a4-322d33850f20",
   "metadata": {},
   "outputs": [],
   "source": []
  },
  {
   "cell_type": "code",
   "execution_count": null,
   "id": "db8009ea-d33a-4d7d-8535-2357eb0a8316",
   "metadata": {},
   "outputs": [],
   "source": []
  }
 ],
 "metadata": {
  "kernelspec": {
   "display_name": "Python 3 (ipykernel)",
   "language": "python",
   "name": "python3"
  },
  "language_info": {
   "codemirror_mode": {
    "name": "ipython",
    "version": 3
   },
   "file_extension": ".py",
   "mimetype": "text/x-python",
   "name": "python",
   "nbconvert_exporter": "python",
   "pygments_lexer": "ipython3",
   "version": "3.8.15"
  }
 },
 "nbformat": 4,
 "nbformat_minor": 5
}
