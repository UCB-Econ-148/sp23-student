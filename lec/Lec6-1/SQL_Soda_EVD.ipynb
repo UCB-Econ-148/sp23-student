{
 "cells": [
  {
   "cell_type": "code",
   "execution_count": null,
   "id": "3e5142c4",
   "metadata": {},
   "outputs": [],
   "source": [
    "import sqlalchemy\n",
    "import sqlite3"
   ]
  },
  {
   "cell_type": "code",
   "execution_count": null,
   "id": "7da987cf",
   "metadata": {},
   "outputs": [],
   "source": [
    "%load_ext sql"
   ]
  },
  {
   "cell_type": "code",
   "execution_count": null,
   "id": "105eef98",
   "metadata": {},
   "outputs": [],
   "source": [
    "%sql sqlite:///wsdr.db"
   ]
  },
  {
   "cell_type": "code",
   "execution_count": null,
   "id": "f4c44bdd-04c8-4066-863b-f517e8c51fa5",
   "metadata": {},
   "outputs": [],
   "source": [
    "conn = sqlite3.connect(\"wsdr.db\")"
   ]
  },
  {
   "cell_type": "code",
   "execution_count": null,
   "id": "37802714",
   "metadata": {},
   "outputs": [],
   "source": [
    "%sql SELECT * FROM soda LIMIT 5;"
   ]
  },
  {
   "cell_type": "code",
   "execution_count": null,
   "id": "f35c0651",
   "metadata": {},
   "outputs": [],
   "source": [
    "%sql SELECT * FROM sqlite_master WHERE type='table';\n"
   ]
  },
  {
   "cell_type": "code",
   "execution_count": null,
   "id": "a6039b2f",
   "metadata": {},
   "outputs": [],
   "source": [
    "%%sql\n",
    "SELECT count(DISTINCT store)\n",
    "     AS total_store\n",
    "FROM soda;"
   ]
  },
  {
   "cell_type": "code",
   "execution_count": null,
   "id": "b3c195b7-3c6c-4791-b941-b029d43b5ddc",
   "metadata": {},
   "outputs": [],
   "source": [
    "%%sql\n",
    "SELECT count(DISTINCT week)\n",
    "     AS total_week\n",
    "FROM soda;"
   ]
  },
  {
   "cell_type": "code",
   "execution_count": null,
   "id": "c268c329-d374-40b7-bbb3-1adeada47dc0",
   "metadata": {},
   "outputs": [],
   "source": [
    "%sql SELECT * FROM upc LIMIT 5;"
   ]
  },
  {
   "cell_type": "code",
   "execution_count": null,
   "id": "4c75393d",
   "metadata": {},
   "outputs": [],
   "source": [
    "%%sql\n",
    "SELECT DISTINCT upc\n",
    "AS distinct_upc\n",
    "FROM soda\n",
    "ORDER BY distinct_upc\n",
    "LIMIT 5;"
   ]
  },
  {
   "cell_type": "code",
   "execution_count": null,
   "id": "5fe5c174",
   "metadata": {},
   "outputs": [],
   "source": [
    "%%sql\n",
    "SELECT count(DISTINCT upc) \n",
    "        AS total_upc\n",
    "FROM soda;"
   ]
  },
  {
   "cell_type": "code",
   "execution_count": null,
   "id": "f7143527-3328-4482-984f-fb1f4d4cf035",
   "metadata": {},
   "outputs": [],
   "source": [
    "%%sql\n",
    "SELECT * FROM upc\n",
    "WHERE descrip LIKE '%COKE%';"
   ]
  },
  {
   "cell_type": "code",
   "execution_count": null,
   "id": "531c5f3b-e564-4bd9-89e8-62e76a36c83b",
   "metadata": {},
   "outputs": [],
   "source": []
  }
 ],
 "metadata": {
  "kernelspec": {
   "display_name": "Python 3 (ipykernel)",
   "language": "python",
   "name": "python3"
  },
  "language_info": {
   "codemirror_mode": {
    "name": "ipython",
    "version": 3
   },
   "file_extension": ".py",
   "mimetype": "text/x-python",
   "name": "python",
   "nbconvert_exporter": "python",
   "pygments_lexer": "ipython3",
   "version": "3.9.15"
  }
 },
 "nbformat": 4,
 "nbformat_minor": 5
}
