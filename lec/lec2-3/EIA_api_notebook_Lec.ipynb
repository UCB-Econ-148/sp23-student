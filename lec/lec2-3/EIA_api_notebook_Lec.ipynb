{
 "cells": [
  {
   "cell_type": "markdown",
   "metadata": {},
   "source": [
    "# ECON 148 Lab #\n",
    "\n",
    "In this lab, we'll learn how to use APIs or Application Programming Interfaces. APIs are super powerful tools that allow different computer programs to interact with each other. In the context of data science, APIs are often used to access data from different sources.\n",
    "\n",
    "<center><img src=\"data/675px-Rest-API.png\"/></center>\n",
    "\n",
    "<h><center>[Image Source](https://www.seobility.net/en/wiki/REST_API)</center><h>\n",
    "\n",
    "Using APIs allows you to easily access data and reduces the amount of time it takes to refresh data with updates. In this notebook, we'll explore data from the US Energy Information Administration."
   ]
  },
  {
   "cell_type": "markdown",
   "metadata": {},
   "source": [
    "## Part 1: Get Your API Key"
   ]
  },
  {
   "cell_type": "markdown",
   "metadata": {},
   "source": [
    "In most cases, you will need an API key in order to access an API. Some API keys involve paperwork or payment, but the EIA provides *free* API keys [here](https://www.eia.gov/opendata/register.php). Once you have submitted your information, you will recieve an confirmation email. Once you have confirmed, you will recieve your key."
   ]
  },
  {
   "cell_type": "markdown",
   "metadata": {},
   "source": [
    "**Question 1.1**: Request an EIA API Key and paste it below."
   ]
  },
  {
   "cell_type": "code",
   "execution_count": null,
   "metadata": {},
   "outputs": [],
   "source": [
    "my_api_key = \"your API Key here\""
   ]
  },
  {
   "cell_type": "code",
   "execution_count": null,
   "metadata": {},
   "outputs": [],
   "source": [
    "5hPnULbtrhHk3j8BWkHdX5cVHzQhMq6DRIWEYzKT"
   ]
  },
  {
   "cell_type": "markdown",
   "metadata": {},
   "source": [
    "## Part 2: Acessing the API"
   ]
  },
  {
   "cell_type": "markdown",
   "metadata": {},
   "source": [
    "Let's first see how an API call works. In this notebook, we'll be using the `requests` library to access the EIA data. As part of this, we'll use the `get` method to pull the data. We'll also be utilizing an API key, which is a unique identifier, much like a password that allows you to access the data. \n",
    "\n",
    "\n",
    "Let's start by importing the necessary libraries."
   ]
  },
  {
   "cell_type": "code",
   "execution_count": null,
   "metadata": {},
   "outputs": [],
   "source": [
    "import requests\n",
    "import os\n",
    "import pandas as pd\n",
    "import matplotlib.pyplot as plt\n",
    "%matplotlib inline\n",
    "plt.style.use('fivethirtyeight')\n",
    "plt.rcParams[\"figure.figsize\"] = (20,8)"
   ]
  },
  {
   "cell_type": "markdown",
   "metadata": {},
   "source": [
    "First, we'll create variable for the URL location of the data we want to pull. The EIA has a helpful [website](https://www.eia.gov/opendata/browser/) that allows you to select what types of data you would like to use and autogenerate a URL to use. In this example, we'll be looking at $CO_2$ or carbon dioxide emissions."
   ]
  },
  {
   "cell_type": "code",
   "execution_count": null,
   "metadata": {},
   "outputs": [],
   "source": [
    "# The url that stores the EIA data\n",
    "api_url = \"https://api.eia.gov/v2/co2-emissions/co2-emissions-aggregates/data/\"\n",
    "\n",
    "# The API key param and your API key\n",
    "api_key = \"?api_key=\"+my_api_key\n",
    "\n",
    "# Selects just California and pulls data values\n",
    "api_data_pull = \"&facets[stateId][]=CA&data[]=value\"\n",
    "\n",
    "# Makes a GET request to pull the data\n",
    "response = requests.get(api_url+api_key+api_data_pull)\n",
    "\n",
    "# The response from the API in JSON form\n",
    "r = response.json()"
   ]
  },
  {
   "cell_type": "code",
   "execution_count": null,
   "metadata": {},
   "outputs": [],
   "source": [
    "r[\"response\"][\"data\"][0]"
   ]
  },
  {
   "cell_type": "markdown",
   "metadata": {},
   "source": [
    "As you can see, the data from the API is not in the normal tabular/CSV format we are used to seeing. That is because the data is being stored in a format called JSON or JavaScript Object Notation. This data structure uses a series of dictionaries to store data in key-value pairs. To convert the JSON file into something that we can manipulate with `pandas`, we can use the `from_dict` method."
   ]
  },
  {
   "cell_type": "code",
   "execution_count": null,
   "metadata": {},
   "outputs": [],
   "source": [
    "emissions = pd.DataFrame.from_dict(r[\"response\"][\"data\"])"
   ]
  },
  {
   "cell_type": "code",
   "execution_count": null,
   "metadata": {},
   "outputs": [],
   "source": [
    "emissions.head()"
   ]
  },
  {
   "cell_type": "markdown",
   "metadata": {},
   "source": [
    "Now that we have the data, let's explore it. Let's start by looking at carbon dioxide emisssion in California over time.\n",
    "\n",
    "We can start by selecting `Total carbon dioxide emissions from all sectors` and `All Fuels`"
   ]
  },
  {
   "cell_type": "code",
   "execution_count": null,
   "metadata": {},
   "outputs": [],
   "source": [
    "ca_all_emissions_all_fuels=emissions[(emissions[\"sectorId\"]==\"TT\")&\n",
    "                                     (emissions[\"fuel-name\"]==\"All Fuels\")].sort_values(\"period\")"
   ]
  },
  {
   "cell_type": "code",
   "execution_count": null,
   "metadata": {},
   "outputs": [],
   "source": [
    "ca_all_emissions_all_fuels.head()"
   ]
  },
  {
   "cell_type": "markdown",
   "metadata": {},
   "source": [
    "Now let's plot these values over time. The `plt.plot` method plots a line plot using the first parameter as the x-axis and the second parameter as the y-axis. Labels are added using `plt.xlabel()` and `plt.ylabel()` for each axis. Finally, a title is added with the `plt.title()` method."
   ]
  },
  {
   "cell_type": "code",
   "execution_count": null,
   "metadata": {},
   "outputs": [],
   "source": [
    "plt.plot(ca_all_emissions_all_fuels[\"period\"],ca_all_emissions_all_fuels[\"value\"])\n",
    "plt.xlabel(\"Year\")\n",
    "plt.ylabel(\"Millions of Metric Tons of CO2\")\n",
    "plt.title(\"Emissions of $CO_2$ In California from All Sources and All Fuels\")\n",
    "plt.show();"
   ]
  },
  {
   "cell_type": "markdown",
   "metadata": {},
   "source": [
    "**Question 2.1**: Create a dataframe called `ca_all_emissions_coal` and select data that has `sectorId == \"TT\"` and `fuel-name == \"Coal\"`.\n",
    "\n",
    "*Hint: Look at the previous example if you need a guide.*"
   ]
  },
  {
   "cell_type": "code",
   "execution_count": null,
   "metadata": {},
   "outputs": [],
   "source": [
    "ca_all_emissions_coal=emissions[(emissions[\"sectorId\"]==\"TT\")&\n",
    "                                     (emissions[\"fuel-name\"]==\"Coal\")].sort_values(\"period\")"
   ]
  },
  {
   "cell_type": "code",
   "execution_count": null,
   "metadata": {},
   "outputs": [],
   "source": [
    "ca_all_emissions_coal.head()"
   ]
  },
  {
   "cell_type": "markdown",
   "metadata": {},
   "source": [
    "**Question 2.2**: Create a line plot using `plt.plot()` with `period` on the x-axis and `value` on the y-axis using the `ca_all_emissions_coal` dataframe. Add in an x-axis label of `Year` and y-axis label of `Millions of Metric Tons of CO2`. Add an appropriate title."
   ]
  },
  {
   "cell_type": "code",
   "execution_count": null,
   "metadata": {},
   "outputs": [],
   "source": [
    "\n",
    "\n",
    "plt.plot(ca_all_emissions_coal[\"period\"], ca_all_emissions_coal[\"value\"])\n",
    "plt.xlabel(\"Year\")\n",
    "plt.ylabel(\"Millions of Metric Tons of CO2\")\n",
    "plt.title(\"Emissions of $CO_2$ In California for All Sources with Only Coal\")\n",
    "plt.show();"
   ]
  }
 ],
 "metadata": {
  "kernelspec": {
   "display_name": "Python 3 (ipykernel)",
   "language": "python",
   "name": "python3"
  },
  "language_info": {
   "codemirror_mode": {
    "name": "ipython",
    "version": 3
   },
   "file_extension": ".py",
   "mimetype": "text/x-python",
   "name": "python",
   "nbconvert_exporter": "python",
   "pygments_lexer": "ipython3",
   "version": "3.8.15"
  }
 },
 "nbformat": 4,
 "nbformat_minor": 4
}
