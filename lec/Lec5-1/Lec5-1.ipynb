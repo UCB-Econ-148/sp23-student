{
 "cells": [
  {
   "cell_type": "code",
   "execution_count": null,
   "id": "1798dee8-ddc9-41d8-a4f3-9f19a951d626",
   "metadata": {},
   "outputs": [],
   "source": [
    "!pwd"
   ]
  },
  {
   "cell_type": "code",
   "execution_count": null,
   "id": "0e47a60d-e218-4df4-bcc7-2c2b2c73a3d4",
   "metadata": {},
   "outputs": [],
   "source": [
    "%ls"
   ]
  },
  {
   "cell_type": "code",
   "execution_count": null,
   "id": "329b4168-8260-4ba2-9eca-de2dc30f39ac",
   "metadata": {},
   "outputs": [],
   "source": [
    "!ls"
   ]
  },
  {
   "cell_type": "code",
   "execution_count": null,
   "id": "70c2e2f0-ad66-46bd-9852-3affeebb78cd",
   "metadata": {},
   "outputs": [],
   "source": [
    "%cd sp23-student/lab/lab02/data\n",
    "!pwd"
   ]
  },
  {
   "cell_type": "code",
   "execution_count": null,
   "id": "ed1f4ce7-67f8-4fd9-a256-2b953c2d103d",
   "metadata": {},
   "outputs": [],
   "source": [
    "!cd "
   ]
  },
  {
   "cell_type": "code",
   "execution_count": null,
   "id": "2f350c66-736f-42c2-ade3-fba485b5196d",
   "metadata": {},
   "outputs": [],
   "source": [
    "!pwd"
   ]
  },
  {
   "cell_type": "code",
   "execution_count": null,
   "id": "9a4cd96e-70f1-4dee-aa86-35bacbaa444f",
   "metadata": {},
   "outputs": [],
   "source": [
    "%ls"
   ]
  },
  {
   "cell_type": "code",
   "execution_count": null,
   "id": "3063cf88-7d88-4fbd-88b8-417fe471b8ff",
   "metadata": {},
   "outputs": [],
   "source": [
    "%cd ~"
   ]
  },
  {
   "cell_type": "code",
   "execution_count": null,
   "id": "cc59557a-805f-4a92-b8e9-425ab78c567e",
   "metadata": {},
   "outputs": [],
   "source": [
    "!pip"
   ]
  },
  {
   "cell_type": "code",
   "execution_count": null,
   "id": "e61c2fd4-66b9-4712-ab15-a87ee0a005c3",
   "metadata": {},
   "outputs": [],
   "source": []
  },
  {
   "cell_type": "code",
   "execution_count": null,
   "id": "9f234f2d-b34d-421f-b894-6ccf4d9635fe",
   "metadata": {},
   "outputs": [],
   "source": [
    "!pip show pandas"
   ]
  },
  {
   "cell_type": "code",
   "execution_count": null,
   "id": "67507bba-e1dd-4f5f-92d4-4fac67d4f5d6",
   "metadata": {},
   "outputs": [],
   "source": [
    "import pandas as pd"
   ]
  },
  {
   "cell_type": "code",
   "execution_count": null,
   "id": "41bed7df-0b07-4a4e-bcda-0a1f497e3eea",
   "metadata": {},
   "outputs": [],
   "source": [
    "ipums_raw = pd.read_csv(\"sp23-student/lab/lab02/data/ipums-acs-sample.csv\")\n"
   ]
  },
  {
   "cell_type": "code",
   "execution_count": null,
   "id": "2ffb40d3-707d-4c40-88fc-e674e06c427c",
   "metadata": {},
   "outputs": [],
   "source": [
    "ipums_raw.head()\n"
   ]
  },
  {
   "cell_type": "code",
   "execution_count": null,
   "id": "7a946b88-da10-4154-9830-df252b9ce85f",
   "metadata": {},
   "outputs": [],
   "source": [
    "ipums_raw.dtypes"
   ]
  },
  {
   "cell_type": "code",
   "execution_count": null,
   "id": "631da70b-3790-4872-9abc-2ed0f5fa16fa",
   "metadata": {},
   "outputs": [],
   "source": [
    "ipums_raw.isna()"
   ]
  },
  {
   "cell_type": "code",
   "execution_count": null,
   "id": "81ef8ff4-60e9-439b-8e8b-1893f9ce5a16",
   "metadata": {},
   "outputs": [],
   "source": [
    "ipums_raw.dropna()"
   ]
  },
  {
   "cell_type": "code",
   "execution_count": null,
   "id": "d12cee7c-7257-41f4-b250-b78a8d6bfa61",
   "metadata": {},
   "outputs": [],
   "source": [
    "ipums_raw.fillna(0)"
   ]
  },
  {
   "cell_type": "code",
   "execution_count": null,
   "id": "051d11f9-93e8-4275-818a-7e15f578285c",
   "metadata": {},
   "outputs": [],
   "source": []
  },
  {
   "cell_type": "code",
   "execution_count": null,
   "id": "dd4024c6-c70e-4dd5-89b2-081735995b30",
   "metadata": {},
   "outputs": [],
   "source": []
  }
 ],
 "metadata": {
  "kernelspec": {
   "display_name": "Python 3 (ipykernel)",
   "language": "python",
   "name": "python3"
  },
  "language_info": {
   "codemirror_mode": {
    "name": "ipython",
    "version": 3
   },
   "file_extension": ".py",
   "mimetype": "text/x-python",
   "name": "python",
   "nbconvert_exporter": "python",
   "pygments_lexer": "ipython3",
   "version": "3.9.15"
  }
 },
 "nbformat": 4,
 "nbformat_minor": 5
}
