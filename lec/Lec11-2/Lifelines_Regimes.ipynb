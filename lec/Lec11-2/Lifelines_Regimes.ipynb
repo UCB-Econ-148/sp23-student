{
 "cells": [
  {
   "cell_type": "markdown",
   "id": "d50cc4a0-47f5-47b0-982f-ecaff5497fbb",
   "metadata": {},
   "source": [
    "## Demo notebook from Lifelines documentation\n",
    "https://lifelines.readthedocs.io/en/latest/Survival%20analysis%20with%20lifelines.html"
   ]
  },
  {
   "cell_type": "code",
   "execution_count": null,
   "id": "166735d2-8800-48ed-b0f5-857a6d4d8b0f",
   "metadata": {},
   "outputs": [],
   "source": [
    "# Lifeline package for the Survival Analysis\n",
    "try: \n",
    "    from lifelines.datasets import load_dd\n",
    "except:\n",
    "    !pip install lifelines\n",
    "    from lifelines.datasets import load_dd\n"
   ]
  },
  {
   "cell_type": "code",
   "execution_count": null,
   "id": "ab9cbe49-b991-432f-b6d6-5e050276288b",
   "metadata": {},
   "outputs": [],
   "source": [
    "import pandas as pd"
   ]
  },
  {
   "cell_type": "markdown",
   "id": "3b19e52d-66b3-4162-a535-0edb94ed5b9c",
   "metadata": {},
   "source": [
    "https://lifelines.readthedocs.io/en/latest/lifelines.datasets.html\n",
    "\n",
    "Cheibub, José Antonio, Jennifer Gandhi, and James Raymond Vreeland. 2010. “Democracy and Dictatorship Revisited.” Public Choice, vol. 143, no. 2-1, pp. 67-101."
   ]
  },
  {
   "cell_type": "code",
   "execution_count": null,
   "id": "70df138e-7c1e-48f1-ae42-736428bf1a4d",
   "metadata": {},
   "outputs": [],
   "source": [
    "data = load_dd()\n",
    "data.head()"
   ]
  },
  {
   "cell_type": "code",
   "execution_count": null,
   "id": "2fc8ed27-7687-4cbc-870b-9997348c8874",
   "metadata": {},
   "outputs": [],
   "source": [
    "regime_pivot = pd.pivot_table(data, index='regime', aggfunc='count')\n",
    "regime_pivot"
   ]
  },
  {
   "cell_type": "code",
   "execution_count": null,
   "id": "5d9efc93-edc7-44c8-a58a-c4c88fd9df23",
   "metadata": {},
   "outputs": [],
   "source": [
    "democracy_pivot = pd.pivot_table( data, index='democracy', aggfunc='count')\n",
    "democracy_pivot "
   ]
  },
  {
   "cell_type": "code",
   "execution_count": null,
   "id": "cd6cf827-eeca-40c4-9407-84e50ddbf784",
   "metadata": {},
   "outputs": [],
   "source": [
    "from lifelines import KaplanMeierFitter\n",
    "kmf = KaplanMeierFitter()"
   ]
  },
  {
   "cell_type": "code",
   "execution_count": null,
   "id": "d529da33-78e9-421e-99a4-831290d46ba0",
   "metadata": {},
   "outputs": [],
   "source": [
    "T = data[\"duration\"]\n",
    "E = data[\"observed\"]\n",
    "\n",
    "kmf.fit(T, event_observed=E)"
   ]
  },
  {
   "cell_type": "code",
   "execution_count": null,
   "id": "e648fc89-97fa-4c0c-a907-080f758770ca",
   "metadata": {},
   "outputs": [],
   "source": [
    "kmf.survival_function_.head(10)"
   ]
  },
  {
   "cell_type": "code",
   "execution_count": null,
   "id": "358d64ff-85fc-4cb2-86a4-ce35e8804eee",
   "metadata": {},
   "outputs": [],
   "source": [
    "from matplotlib import pyplot as plt\n",
    "\n",
    "\n",
    "kmf.survival_function_.plot()\n",
    "plt.title('Survival function of political regimes');"
   ]
  },
  {
   "cell_type": "code",
   "execution_count": null,
   "id": "69416b51-05ca-4305-9f73-8f9c46b539cb",
   "metadata": {},
   "outputs": [],
   "source": [
    "kmf.plot_survival_function()\n"
   ]
  },
  {
   "cell_type": "code",
   "execution_count": null,
   "id": "75b1b11b-b329-42ac-b8a8-2fcc3d4b4af4",
   "metadata": {},
   "outputs": [],
   "source": [
    "kmf.median_survival_time_\n"
   ]
  },
  {
   "cell_type": "code",
   "execution_count": null,
   "id": "730581b5-cec5-4ada-a485-0aaa788c563c",
   "metadata": {},
   "outputs": [],
   "source": [
    "from lifelines.utils import median_survival_times\n",
    "median_ci = median_survival_times(kmf.confidence_interval_)\n",
    "median_ci"
   ]
  },
  {
   "cell_type": "code",
   "execution_count": null,
   "id": "424f600a-1613-4388-a336-e105cad0e36f",
   "metadata": {},
   "outputs": [],
   "source": []
  },
  {
   "cell_type": "code",
   "execution_count": null,
   "id": "653f3174-cc15-4747-ba63-ea33566493d3",
   "metadata": {},
   "outputs": [],
   "source": [
    "dem = (data[\"democracy\"] == \"Democracy\")\n",
    "\n",
    "dem.head()"
   ]
  },
  {
   "cell_type": "code",
   "execution_count": null,
   "id": "441e001f-31aa-4858-a1ac-62e8edfb1383",
   "metadata": {},
   "outputs": [],
   "source": [
    "dem.mean()"
   ]
  },
  {
   "cell_type": "code",
   "execution_count": null,
   "id": "530768b9-b91e-4b8f-a20a-bb13598ba2f3",
   "metadata": {},
   "outputs": [],
   "source": []
  },
  {
   "cell_type": "code",
   "execution_count": null,
   "id": "f04d2716-766f-4558-8b58-d679c9c439d6",
   "metadata": {},
   "outputs": [],
   "source": [
    "ax = plt.subplot(111)\n",
    "\n",
    "kmf.fit(T[dem], event_observed=E[dem], label=\"Democratic Regimes\")\n",
    "kmf.plot_survival_function(ax=ax)\n",
    "\n",
    "kmf.fit(T[~dem], event_observed=E[~dem], label=\"Non-democratic Regimes\")\n",
    "kmf.plot_survival_function(ax=ax)\n",
    "\n",
    "plt.title(\"Lifespans of different global regimes\");"
   ]
  },
  {
   "cell_type": "code",
   "execution_count": null,
   "id": "e56f9b00-9ebe-46bd-9dc1-ceada5aa65e8",
   "metadata": {},
   "outputs": [],
   "source": [
    "regime_types = data['regime'].unique()\n",
    "\n",
    "for i, regime_type in enumerate(regime_types):\n",
    "    ax = plt.subplot(2, 3, i + 1)\n",
    "\n",
    "    ix = data['regime'] == regime_type\n",
    "    kmf.fit(T[ix], E[ix], label=regime_type)\n",
    "    kmf.plot_survival_function(ax=ax, legend=False)\n",
    "\n",
    "    plt.title(regime_type)\n",
    "    plt.xlim(0, 50)\n",
    "\n",
    "    if i==0:\n",
    "        plt.ylabel('Frac. in power after $n$ years')\n",
    "\n",
    "plt.tight_layout()"
   ]
  },
  {
   "cell_type": "code",
   "execution_count": null,
   "id": "3085054e-6bb1-4a11-9eb3-9e796866e504",
   "metadata": {},
   "outputs": [],
   "source": []
  }
 ],
 "metadata": {
  "kernelspec": {
   "display_name": "Python 3 (ipykernel)",
   "language": "python",
   "name": "python3"
  },
  "language_info": {
   "codemirror_mode": {
    "name": "ipython",
    "version": 3
   },
   "file_extension": ".py",
   "mimetype": "text/x-python",
   "name": "python",
   "nbconvert_exporter": "python",
   "pygments_lexer": "ipython3",
   "version": "3.8.15"
  }
 },
 "nbformat": 4,
 "nbformat_minor": 5
}
