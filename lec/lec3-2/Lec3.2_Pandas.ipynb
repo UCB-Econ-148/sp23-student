{
 "cells": [
  {
   "cell_type": "code",
   "execution_count": null,
   "id": "dcac7a94-e76a-47cb-8f12-c1cc9a6db243",
   "metadata": {},
   "outputs": [],
   "source": [
    "import pandas as pd \n",
    "import numpy as np"
   ]
  },
  {
   "cell_type": "code",
   "execution_count": null,
   "id": "cdf7ae35-c644-45c6-b27f-2e8146744955",
   "metadata": {},
   "outputs": [],
   "source": [
    "ratings = pd.DataFrame({\n",
    "    'Kind': ['strawberry', 'chocolate', 'vanilla'],\n",
    "    'Stars': [2.5, 3.5, 4],\n",
    "    'No. of Reviewers': [10, 15, 12]}\n",
    ")\n",
    "ratings"
   ]
  },
  {
   "cell_type": "code",
   "execution_count": null,
   "id": "70328f93-1177-47b0-ab21-2aff53be0108",
   "metadata": {},
   "outputs": [],
   "source": []
  },
  {
   "cell_type": "code",
   "execution_count": null,
   "id": "b5db00af-6191-43f7-8f64-bbf0181f8e06",
   "metadata": {},
   "outputs": [],
   "source": [
    "cones_df = pd.read_csv('https://raw.githubusercontent.com/ds-modules/DATA-198-SP21/main/module_3/cones.csv')\n",
    "cones_df"
   ]
  },
  {
   "cell_type": "code",
   "execution_count": null,
   "id": "fcf5a10e-feda-48e9-a027-b0734d6094f2",
   "metadata": {},
   "outputs": [],
   "source": [
    "cones_df.merge(ratings, how = 'inner', left_on = 'Flavor', right_on = 'Kind')\n"
   ]
  },
  {
   "cell_type": "code",
   "execution_count": null,
   "id": "dfcb5513-373e-4b2c-b7c5-cd1875ec7d00",
   "metadata": {},
   "outputs": [],
   "source": [
    "cones_df.merge(ratings, how = 'outer', left_on = 'Flavor', right_on = 'Kind')\n"
   ]
  },
  {
   "cell_type": "code",
   "execution_count": null,
   "id": "36bd6061-a020-443a-a2f9-72709f1c36bd",
   "metadata": {},
   "outputs": [],
   "source": [
    "cones_df[['Flavor', 'Price']].groupby('Flavor')"
   ]
  },
  {
   "cell_type": "code",
   "execution_count": null,
   "id": "ea81a078-61a7-4c53-8227-c50c5efac7a8",
   "metadata": {},
   "outputs": [],
   "source": [
    "cones_df[['Flavor', 'Price']].groupby('Flavor').sum()\n"
   ]
  },
  {
   "cell_type": "code",
   "execution_count": null,
   "id": "546a805c-29f7-4f27-bf4c-b350fe3797ce",
   "metadata": {},
   "outputs": [],
   "source": [
    "cones_df[['Flavor', 'Price']].groupby('Flavor').mean()\n"
   ]
  },
  {
   "cell_type": "code",
   "execution_count": null,
   "id": "d9599c9f-d76d-4d03-812a-7ad32ca8a371",
   "metadata": {},
   "outputs": [],
   "source": [
    "cones_df[['Flavor', 'Price']].groupby('Flavor').max()\n"
   ]
  },
  {
   "cell_type": "code",
   "execution_count": null,
   "id": "e03b6ec1-c88e-43e7-9a95-e0afe51ac74e",
   "metadata": {},
   "outputs": [],
   "source": [
    "pd.pivot_table(cones_df, values='Price', index = 'Flavor', columns = 'Color', aggfunc = sum)\n"
   ]
  },
  {
   "cell_type": "code",
   "execution_count": null,
   "id": "766cc85f-8d38-417d-a8fc-44078654484e",
   "metadata": {},
   "outputs": [],
   "source": []
  }
 ],
 "metadata": {
  "kernelspec": {
   "display_name": "Python 3 (ipykernel)",
   "language": "python",
   "name": "python3"
  },
  "language_info": {
   "codemirror_mode": {
    "name": "ipython",
    "version": 3
   },
   "file_extension": ".py",
   "mimetype": "text/x-python",
   "name": "python",
   "nbconvert_exporter": "python",
   "pygments_lexer": "ipython3",
   "version": "3.8.15"
  }
 },
 "nbformat": 4,
 "nbformat_minor": 5
}
