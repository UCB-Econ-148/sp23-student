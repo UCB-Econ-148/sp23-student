{
 "cells": [
  {
   "cell_type": "markdown",
   "id": "d09ebb75",
   "metadata": {},
   "source": [
    "# SQL Soda Notebook"
   ]
  },
  {
   "cell_type": "markdown",
   "id": "c5bfdb5c",
   "metadata": {},
   "source": [
    "## Introduction"
   ]
  },
  {
   "cell_type": "markdown",
   "id": "005aafe5",
   "metadata": {},
   "source": [
    "This notebook is an introduction to SQL. We will be working with a SQLite dataset: The WSDR Database. From the WSDR Database, we will be working with the soda table that includes 8 columns and 1048575 rows. The soda table will allow us to create queries to produce Pandas dataframes. "
   ]
  },
  {
   "cell_type": "code",
   "execution_count": 1,
   "id": "3e5142c4",
   "metadata": {},
   "outputs": [],
   "source": [
    "import sqlalchemy\n",
    "import sqlite3\n",
    "import pandas as pd\n",
    "import numpy as np"
   ]
  },
  {
   "cell_type": "code",
   "execution_count": 2,
   "id": "7da987cf",
   "metadata": {},
   "outputs": [],
   "source": [
    "%load_ext sql"
   ]
  },
  {
   "cell_type": "code",
   "execution_count": 3,
   "id": "f4c44bdd-04c8-4066-863b-f517e8c51fa5",
   "metadata": {},
   "outputs": [],
   "source": [
    "# create a SQL Alchemy connection to the database\n",
    "\n",
    "%sql sqlite:///wsdr.db\n",
    "conn = sqlite3.connect(\"wsdr.db\")\n",
    "engine = sqlalchemy.create_engine(\"sqlite:///wsdr.db\")"
   ]
  },
  {
   "cell_type": "markdown",
   "id": "bc90bd3c",
   "metadata": {},
   "source": [
    "## The WSDR Database"
   ]
  },
  {
   "cell_type": "markdown",
   "id": "30dfefb7",
   "metadata": {},
   "source": [
    "Let's load in the database by using cell magic so that we can explore the database. "
   ]
  },
  {
   "cell_type": "code",
   "execution_count": 4,
   "id": "63e0b94f",
   "metadata": {},
   "outputs": [
    {
     "name": "stdout",
     "output_type": "stream",
     "text": [
      " * sqlite:///wsdr.db\n",
      "Done.\n"
     ]
    },
    {
     "data": {
      "text/html": [
       "<table>\n",
       "    <tr>\n",
       "        <th>type</th>\n",
       "        <th>name</th>\n",
       "        <th>tbl_name</th>\n",
       "        <th>rootpage</th>\n",
       "        <th>sql</th>\n",
       "    </tr>\n",
       "    <tr>\n",
       "        <td>table</td>\n",
       "        <td>soda</td>\n",
       "        <td>soda</td>\n",
       "        <td>9801</td>\n",
       "        <td>CREATE TABLE soda (STORE, UPC REFERENCES upc (UPC), WEEK, MOVE, PRICE, SALE, PROFIT, OK)</td>\n",
       "    </tr>\n",
       "    <tr>\n",
       "        <td>table</td>\n",
       "        <td>upc</td>\n",
       "        <td>upc</td>\n",
       "        <td>9159</td>\n",
       "        <td>CREATE TABLE upc (COM_CODE, UPC REFERENCES cereal (UPC), DESCRIP, SIZE, &quot;CASE&quot;, NITEM)</td>\n",
       "    </tr>\n",
       "</table>"
      ],
      "text/plain": [
       "[('table', 'soda', 'soda', 9801, 'CREATE TABLE soda (STORE, UPC REFERENCES upc (UPC), WEEK, MOVE, PRICE, SALE, PROFIT, OK)'),\n",
       " ('table', 'upc', 'upc', 9159, 'CREATE TABLE upc (COM_CODE, UPC REFERENCES cereal (UPC), DESCRIP, SIZE, \"CASE\", NITEM)')]"
      ]
     },
     "execution_count": 4,
     "metadata": {},
     "output_type": "execute_result"
    }
   ],
   "source": [
    "%%sql\n",
    "SELECT * FROM sqlite_master WHERE type='table';"
   ]
  },
  {
   "cell_type": "markdown",
   "id": "52bba7a0",
   "metadata": {},
   "source": [
    "From running the above cell, we see the database has 2 tables: soda, upc."
   ]
  },
  {
   "cell_type": "markdown",
   "id": "5c90a30b",
   "metadata": {},
   "source": [
    "### Part 1: Exploring the Data"
   ]
  },
  {
   "cell_type": "markdown",
   "id": "c94f56d1",
   "metadata": {},
   "source": [
    "We want to read the data from SQL using a SQL query. When writing a SQLite database, only SQL queries are accepted.\n",
    "\n",
    "Using SQL Alchemy - we can write SQL commands to pass into Python functions - that can yield us Pandas Dataframes\n",
    "\n",
    "SQL queries will be written within \"\"\" in the beginning and end of the code. After the query is written, we will use pd.read_sql(query, engine) to return a Pandas dataframe of the outputted data. An outline of a written query with the corresponding pandas function is shown below."
   ]
  },
  {
   "cell_type": "markdown",
   "id": "7b65c95e",
   "metadata": {},
   "source": [
    "`query = \"\"\"SELECT ...\"\"\"`\n",
    "\n",
    "`output = pd.read_sql(query, engine)`\n",
    "\n",
    "`output`"
   ]
  },
  {
   "cell_type": "markdown",
   "id": "95056d49",
   "metadata": {},
   "source": [
    "#### What does the soda table look like? Let's create a query below to select all the values from the soda table."
   ]
  },
  {
   "cell_type": "code",
   "execution_count": 8,
   "id": "4b41f593",
   "metadata": {},
   "outputs": [
    {
     "data": {
      "text/html": [
       "<div>\n",
       "<style scoped>\n",
       "    .dataframe tbody tr th:only-of-type {\n",
       "        vertical-align: middle;\n",
       "    }\n",
       "\n",
       "    .dataframe tbody tr th {\n",
       "        vertical-align: top;\n",
       "    }\n",
       "\n",
       "    .dataframe thead th {\n",
       "        text-align: right;\n",
       "    }\n",
       "</style>\n",
       "<table border=\"1\" class=\"dataframe\">\n",
       "  <thead>\n",
       "    <tr style=\"text-align: right;\">\n",
       "      <th></th>\n",
       "      <th>STORE</th>\n",
       "      <th>UPC</th>\n",
       "      <th>WEEK</th>\n",
       "      <th>MOVE</th>\n",
       "      <th>PRICE</th>\n",
       "      <th>SALE</th>\n",
       "      <th>PROFIT</th>\n",
       "      <th>OK</th>\n",
       "    </tr>\n",
       "  </thead>\n",
       "  <tbody>\n",
       "    <tr>\n",
       "      <th>0</th>\n",
       "      <td>2</td>\n",
       "      <td>179</td>\n",
       "      <td>1</td>\n",
       "      <td>1</td>\n",
       "      <td>10</td>\n",
       "      <td></td>\n",
       "      <td>99.9</td>\n",
       "      <td>1</td>\n",
       "    </tr>\n",
       "    <tr>\n",
       "      <th>1</th>\n",
       "      <td>2</td>\n",
       "      <td>179</td>\n",
       "      <td>2</td>\n",
       "      <td>0</td>\n",
       "      <td>0</td>\n",
       "      <td></td>\n",
       "      <td>0</td>\n",
       "      <td>1</td>\n",
       "    </tr>\n",
       "    <tr>\n",
       "      <th>2</th>\n",
       "      <td>2</td>\n",
       "      <td>179</td>\n",
       "      <td>3</td>\n",
       "      <td>0</td>\n",
       "      <td>0</td>\n",
       "      <td></td>\n",
       "      <td>0</td>\n",
       "      <td>1</td>\n",
       "    </tr>\n",
       "    <tr>\n",
       "      <th>3</th>\n",
       "      <td>2</td>\n",
       "      <td>179</td>\n",
       "      <td>4</td>\n",
       "      <td>2</td>\n",
       "      <td>10</td>\n",
       "      <td></td>\n",
       "      <td>99.9</td>\n",
       "      <td>1</td>\n",
       "    </tr>\n",
       "    <tr>\n",
       "      <th>4</th>\n",
       "      <td>2</td>\n",
       "      <td>179</td>\n",
       "      <td>5</td>\n",
       "      <td>0</td>\n",
       "      <td>0</td>\n",
       "      <td></td>\n",
       "      <td>0</td>\n",
       "      <td>1</td>\n",
       "    </tr>\n",
       "    <tr>\n",
       "      <th>...</th>\n",
       "      <td>...</td>\n",
       "      <td>...</td>\n",
       "      <td>...</td>\n",
       "      <td>...</td>\n",
       "      <td>...</td>\n",
       "      <td>...</td>\n",
       "      <td>...</td>\n",
       "      <td>...</td>\n",
       "    </tr>\n",
       "    <tr>\n",
       "      <th>1048570</th>\n",
       "      <td>112</td>\n",
       "      <td>1200000878</td>\n",
       "      <td>137</td>\n",
       "      <td>0</td>\n",
       "      <td>0</td>\n",
       "      <td></td>\n",
       "      <td>0</td>\n",
       "      <td>1</td>\n",
       "    </tr>\n",
       "    <tr>\n",
       "      <th>1048571</th>\n",
       "      <td>112</td>\n",
       "      <td>1200000878</td>\n",
       "      <td>138</td>\n",
       "      <td>0</td>\n",
       "      <td>0</td>\n",
       "      <td></td>\n",
       "      <td>0</td>\n",
       "      <td>1</td>\n",
       "    </tr>\n",
       "    <tr>\n",
       "      <th>1048572</th>\n",
       "      <td>112</td>\n",
       "      <td>1200000878</td>\n",
       "      <td>139</td>\n",
       "      <td>0</td>\n",
       "      <td>0</td>\n",
       "      <td></td>\n",
       "      <td>0</td>\n",
       "      <td>1</td>\n",
       "    </tr>\n",
       "    <tr>\n",
       "      <th>1048573</th>\n",
       "      <td>112</td>\n",
       "      <td>1200000878</td>\n",
       "      <td>140</td>\n",
       "      <td>0</td>\n",
       "      <td>0</td>\n",
       "      <td></td>\n",
       "      <td>0</td>\n",
       "      <td>1</td>\n",
       "    </tr>\n",
       "    <tr>\n",
       "      <th>1048574</th>\n",
       "      <td>112</td>\n",
       "      <td>1200000878</td>\n",
       "      <td>141</td>\n",
       "      <td>0</td>\n",
       "      <td>0</td>\n",
       "      <td></td>\n",
       "      <td>0</td>\n",
       "      <td>1</td>\n",
       "    </tr>\n",
       "  </tbody>\n",
       "</table>\n",
       "<p>1048575 rows × 8 columns</p>\n",
       "</div>"
      ],
      "text/plain": [
       "        STORE         UPC WEEK MOVE PRICE SALE PROFIT OK\n",
       "0           2         179    1    1    10        99.9  1\n",
       "1           2         179    2    0     0           0  1\n",
       "2           2         179    3    0     0           0  1\n",
       "3           2         179    4    2    10        99.9  1\n",
       "4           2         179    5    0     0           0  1\n",
       "...       ...         ...  ...  ...   ...  ...    ... ..\n",
       "1048570   112  1200000878  137    0     0           0  1\n",
       "1048571   112  1200000878  138    0     0           0  1\n",
       "1048572   112  1200000878  139    0     0           0  1\n",
       "1048573   112  1200000878  140    0     0           0  1\n",
       "1048574   112  1200000878  141    0     0           0  1\n",
       "\n",
       "[1048575 rows x 8 columns]"
      ]
     },
     "execution_count": 8,
     "metadata": {},
     "output_type": "execute_result"
    }
   ],
   "source": [
    "example1 = \"\"\"\n",
    "SELECT * FROM soda;\n",
    "\"\"\"\n",
    "\n",
    "result1 = pd.read_sql(example1, engine)\n",
    "result1"
   ]
  },
  {
   "cell_type": "markdown",
   "id": "28de8592",
   "metadata": {},
   "source": [
    "#### How many unique stores are there? Write a query to display the result."
   ]
  },
  {
   "cell_type": "code",
   "execution_count": 9,
   "id": "1d65f6a9",
   "metadata": {},
   "outputs": [
    {
     "data": {
      "text/html": [
       "<div>\n",
       "<style scoped>\n",
       "    .dataframe tbody tr th:only-of-type {\n",
       "        vertical-align: middle;\n",
       "    }\n",
       "\n",
       "    .dataframe tbody tr th {\n",
       "        vertical-align: top;\n",
       "    }\n",
       "\n",
       "    .dataframe thead th {\n",
       "        text-align: right;\n",
       "    }\n",
       "</style>\n",
       "<table border=\"1\" class=\"dataframe\">\n",
       "  <thead>\n",
       "    <tr style=\"text-align: right;\">\n",
       "      <th></th>\n",
       "      <th>total_store</th>\n",
       "    </tr>\n",
       "  </thead>\n",
       "  <tbody>\n",
       "    <tr>\n",
       "      <th>0</th>\n",
       "      <td>86</td>\n",
       "    </tr>\n",
       "  </tbody>\n",
       "</table>\n",
       "</div>"
      ],
      "text/plain": [
       "   total_store\n",
       "0           86"
      ]
     },
     "execution_count": 9,
     "metadata": {},
     "output_type": "execute_result"
    }
   ],
   "source": [
    "example2 = \"\"\"\n",
    "SELECT count(DISTINCT store) \n",
    "        AS total_store\n",
    "FROM soda;\n",
    "\"\"\"\n",
    "\n",
    "result2 = pd.read_sql(example2, engine)\n",
    "result2"
   ]
  },
  {
   "cell_type": "markdown",
   "id": "f3e423d0",
   "metadata": {},
   "source": [
    "### Part 2: Sample Query "
   ]
  },
  {
   "cell_type": "markdown",
   "id": "7a100f58",
   "metadata": {},
   "source": [
    "#### Exercise 1: How many distinct UPCs (universal product codes) are there? Write a query to display the result."
   ]
  },
  {
   "cell_type": "code",
   "execution_count": 11,
   "id": "451178f6",
   "metadata": {},
   "outputs": [
    {
     "data": {
      "text/html": [
       "<div>\n",
       "<style scoped>\n",
       "    .dataframe tbody tr th:only-of-type {\n",
       "        vertical-align: middle;\n",
       "    }\n",
       "\n",
       "    .dataframe tbody tr th {\n",
       "        vertical-align: top;\n",
       "    }\n",
       "\n",
       "    .dataframe thead th {\n",
       "        text-align: right;\n",
       "    }\n",
       "</style>\n",
       "<table border=\"1\" class=\"dataframe\">\n",
       "  <thead>\n",
       "    <tr style=\"text-align: right;\">\n",
       "      <th></th>\n",
       "      <th>distinct_upc</th>\n",
       "    </tr>\n",
       "  </thead>\n",
       "  <tbody>\n",
       "    <tr>\n",
       "      <th>0</th>\n",
       "      <td>1060810005</td>\n",
       "    </tr>\n",
       "    <tr>\n",
       "      <th>1</th>\n",
       "      <td>1060810010</td>\n",
       "    </tr>\n",
       "    <tr>\n",
       "      <th>2</th>\n",
       "      <td>1060820016</td>\n",
       "    </tr>\n",
       "    <tr>\n",
       "      <th>3</th>\n",
       "      <td>1060830015</td>\n",
       "    </tr>\n",
       "    <tr>\n",
       "      <th>4</th>\n",
       "      <td>1060870001</td>\n",
       "    </tr>\n",
       "    <tr>\n",
       "      <th>...</th>\n",
       "      <td>...</td>\n",
       "    </tr>\n",
       "    <tr>\n",
       "      <th>136</th>\n",
       "      <td>461</td>\n",
       "    </tr>\n",
       "    <tr>\n",
       "      <th>137</th>\n",
       "      <td>462</td>\n",
       "    </tr>\n",
       "    <tr>\n",
       "      <th>138</th>\n",
       "      <td>463</td>\n",
       "    </tr>\n",
       "    <tr>\n",
       "      <th>139</th>\n",
       "      <td>464</td>\n",
       "    </tr>\n",
       "    <tr>\n",
       "      <th>140</th>\n",
       "      <td>470</td>\n",
       "    </tr>\n",
       "  </tbody>\n",
       "</table>\n",
       "<p>141 rows × 1 columns</p>\n",
       "</div>"
      ],
      "text/plain": [
       "    distinct_upc\n",
       "0     1060810005\n",
       "1     1060810010\n",
       "2     1060820016\n",
       "3     1060830015\n",
       "4     1060870001\n",
       "..           ...\n",
       "136          461\n",
       "137          462\n",
       "138          463\n",
       "139          464\n",
       "140          470\n",
       "\n",
       "[141 rows x 1 columns]"
      ]
     },
     "execution_count": 11,
     "metadata": {},
     "output_type": "execute_result"
    }
   ],
   "source": [
    "# answer\n",
    "\n",
    "exercise1 = \"\"\"\n",
    "SELECT DISTINCT upc\n",
    "        AS distinct_upc\n",
    "FROM soda\n",
    "ORDER BY distinct_upc;\n",
    "\"\"\"\n",
    "\n",
    "res1 = pd.read_sql(exercise1, engine)\n",
    "res1"
   ]
  },
  {
   "cell_type": "markdown",
   "id": "86bed75b",
   "metadata": {},
   "source": [
    "#### Exercise 2a: Display the stores and their total sales from highest to lowest. Write a query to display the result. (MOVE is the # units sold)"
   ]
  },
  {
   "cell_type": "code",
   "execution_count": 13,
   "id": "7fd89847",
   "metadata": {},
   "outputs": [
    {
     "data": {
      "text/html": [
       "<div>\n",
       "<style scoped>\n",
       "    .dataframe tbody tr th:only-of-type {\n",
       "        vertical-align: middle;\n",
       "    }\n",
       "\n",
       "    .dataframe tbody tr th {\n",
       "        vertical-align: top;\n",
       "    }\n",
       "\n",
       "    .dataframe thead th {\n",
       "        text-align: right;\n",
       "    }\n",
       "</style>\n",
       "<table border=\"1\" class=\"dataframe\">\n",
       "  <thead>\n",
       "    <tr style=\"text-align: right;\">\n",
       "      <th></th>\n",
       "      <th>store</th>\n",
       "      <th>SUM(MOVE)</th>\n",
       "    </tr>\n",
       "  </thead>\n",
       "  <tbody>\n",
       "    <tr>\n",
       "      <th>0</th>\n",
       "      <td>102</td>\n",
       "      <td>731351</td>\n",
       "    </tr>\n",
       "    <tr>\n",
       "      <th>1</th>\n",
       "      <td>98</td>\n",
       "      <td>622856</td>\n",
       "    </tr>\n",
       "    <tr>\n",
       "      <th>2</th>\n",
       "      <td>73</td>\n",
       "      <td>556304</td>\n",
       "    </tr>\n",
       "    <tr>\n",
       "      <th>3</th>\n",
       "      <td>132</td>\n",
       "      <td>553740</td>\n",
       "    </tr>\n",
       "    <tr>\n",
       "      <th>4</th>\n",
       "      <td>122</td>\n",
       "      <td>548409</td>\n",
       "    </tr>\n",
       "    <tr>\n",
       "      <th>...</th>\n",
       "      <td>...</td>\n",
       "      <td>...</td>\n",
       "    </tr>\n",
       "    <tr>\n",
       "      <th>81</th>\n",
       "      <td>118</td>\n",
       "      <td>188656</td>\n",
       "    </tr>\n",
       "    <tr>\n",
       "      <th>82</th>\n",
       "      <td>62</td>\n",
       "      <td>174278</td>\n",
       "    </tr>\n",
       "    <tr>\n",
       "      <th>83</th>\n",
       "      <td>133</td>\n",
       "      <td>167099</td>\n",
       "    </tr>\n",
       "    <tr>\n",
       "      <th>84</th>\n",
       "      <td>139</td>\n",
       "      <td>154064</td>\n",
       "    </tr>\n",
       "    <tr>\n",
       "      <th>85</th>\n",
       "      <td>136</td>\n",
       "      <td>128989</td>\n",
       "    </tr>\n",
       "  </tbody>\n",
       "</table>\n",
       "<p>86 rows × 2 columns</p>\n",
       "</div>"
      ],
      "text/plain": [
       "   store  SUM(MOVE)\n",
       "0    102     731351\n",
       "1     98     622856\n",
       "2     73     556304\n",
       "3    132     553740\n",
       "4    122     548409\n",
       "..   ...        ...\n",
       "81   118     188656\n",
       "82    62     174278\n",
       "83   133     167099\n",
       "84   139     154064\n",
       "85   136     128989\n",
       "\n",
       "[86 rows x 2 columns]"
      ]
     },
     "execution_count": 13,
     "metadata": {},
     "output_type": "execute_result"
    }
   ],
   "source": [
    "# make an sql query to pass in to the python command to yield pandas df\n",
    "\n",
    "exercise2 = \"\"\"\n",
    "SELECT * FROM (SELECT store, SUM(MOVE) \n",
    "FROM soda \n",
    "GROUP BY store \n",
    "ORDER BY SUM(MOVE) DESC);\n",
    "\"\"\"\n",
    "\n",
    "res2 = pd.read_sql(exercise2, engine)\n",
    "res2"
   ]
  },
  {
   "cell_type": "markdown",
   "id": "5a7497eb",
   "metadata": {},
   "source": [
    "#### Exercise 2c: Create a plot with the store number and their total profits.\n",
    "\n",
    "Becuase this already in a Pandas DF we can call pandas plotting commands"
   ]
  },
  {
   "cell_type": "code",
   "execution_count": 14,
   "id": "08116a55",
   "metadata": {},
   "outputs": [
    {
     "data": {
      "text/plain": [
       "<AxesSubplot:xlabel='store', ylabel='SUM(MOVE)'>"
      ]
     },
     "execution_count": 14,
     "metadata": {},
     "output_type": "execute_result"
    },
    {
     "data": {
      "image/png": "[encoded data removed]",
      "text/plain": [
       "<Figure size 640x480 with 1 Axes>"
      ]
     },
     "metadata": {},
     "output_type": "display_data"
    }
   ],
   "source": [
    "\n",
    "\n",
    "res2.plot.scatter(x = 'store', y = 'SUM(MOVE)')"
   ]
  },
  {
   "cell_type": "markdown",
   "id": "0322d486",
   "metadata": {},
   "source": [
    "#### Exercise 2d: What are some observations that you notice from the graph?"
   ]
  },
  {
   "cell_type": "markdown",
   "id": "3d62b60a",
   "metadata": {},
   "source": [
    "*insert answer here*\n",
    "\n",
    "Possible answer: The highest number of units sold is over 700,000 while the lowest number of units sold is around 100,000."
   ]
  },
  {
   "cell_type": "markdown",
   "id": "03bc8c54",
   "metadata": {},
   "source": [
    "#### Exercise 3: Display a dataframe that shows the singular store and the number of units it sold. Write a query to display the result."
   ]
  },
  {
   "cell_type": "code",
   "execution_count": 15,
   "id": "34e12d6c",
   "metadata": {},
   "outputs": [
    {
     "data": {
      "text/html": [
       "<div>\n",
       "<style scoped>\n",
       "    .dataframe tbody tr th:only-of-type {\n",
       "        vertical-align: middle;\n",
       "    }\n",
       "\n",
       "    .dataframe tbody tr th {\n",
       "        vertical-align: top;\n",
       "    }\n",
       "\n",
       "    .dataframe thead th {\n",
       "        text-align: right;\n",
       "    }\n",
       "</style>\n",
       "<table border=\"1\" class=\"dataframe\">\n",
       "  <thead>\n",
       "    <tr style=\"text-align: right;\">\n",
       "      <th></th>\n",
       "      <th>store</th>\n",
       "      <th>SUM(MOVE)</th>\n",
       "    </tr>\n",
       "  </thead>\n",
       "  <tbody>\n",
       "    <tr>\n",
       "      <th>0</th>\n",
       "      <td>102</td>\n",
       "      <td>731351</td>\n",
       "    </tr>\n",
       "  </tbody>\n",
       "</table>\n",
       "</div>"
      ],
      "text/plain": [
       "  store  SUM(MOVE)\n",
       "0   102     731351"
      ]
     },
     "execution_count": 15,
     "metadata": {},
     "output_type": "execute_result"
    }
   ],
   "source": [
    "# answer\n",
    "\n",
    "exercise3 = \"\"\"\n",
    "SELECT * FROM (SELECT store, SUM(MOVE) \n",
    "FROM soda \n",
    "GROUP BY store \n",
    "ORDER BY SUM(MOVE) DESC) LIMIT 1;\n",
    "\"\"\"\n",
    "\n",
    "res3 = pd.read_sql(exercise3, engine)\n",
    "res3"
   ]
  }
 ],
 "metadata": {
  "kernelspec": {
   "display_name": "Python 3 (ipykernel)",
   "language": "python",
   "name": "python3"
  },
  "language_info": {
   "codemirror_mode": {
    "name": "ipython",
    "version": 3
   },
   "file_extension": ".py",
   "mimetype": "text/x-python",
   "name": "python",
   "nbconvert_exporter": "python",
   "pygments_lexer": "ipython3",
   "version": "3.9.15"
  }
 },
 "nbformat": 4,
 "nbformat_minor": 5
}
