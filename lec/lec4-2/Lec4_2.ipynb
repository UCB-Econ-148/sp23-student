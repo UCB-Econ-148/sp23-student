{
 "cells": [
  {
   "cell_type": "code",
   "execution_count": null,
   "id": "c8627ff6-48a5-4fe2-8abe-3ed2ce29bbcf",
   "metadata": {},
   "outputs": [],
   "source": [
    "import pandas as pd\n",
    "import numpy as np\n",
    "%matplotlib inline\n",
    "import matplotlib.pyplot as plt\n",
    "import plotly.express as px\n",
    "import plotly.graph_objects as go\n",
    "import statsmodels.api as sm\n",
    "from statsmodels.api import OLS\n",
    "import warnings\n",
    "warnings.filterwarnings('ignore')"
   ]
  },
  {
   "cell_type": "code",
   "execution_count": null,
   "id": "78384d7a-8a91-42fc-8425-f99bf326e841",
   "metadata": {},
   "outputs": [],
   "source": [
    "BWM_child_df = pd.read_stata('BWM_child_EVDvars.dta')"
   ]
  },
  {
   "cell_type": "code",
   "execution_count": null,
   "id": "64fd550b-4b98-4f5a-9180-06d5fbc741ab",
   "metadata": {},
   "outputs": [],
   "source": [
    "BWM_child_df.groupby('bwm_round')[['a1_hh_id']].count()"
   ]
  },
  {
   "cell_type": "code",
   "execution_count": null,
   "id": "d9a148ec-efd1-4753-843d-6d1962bd1910",
   "metadata": {},
   "outputs": [],
   "source": [
    "Count_round = BWM_child_df.groupby('bwm_round')[['a1_hh_id']].count()"
   ]
  },
  {
   "cell_type": "code",
   "execution_count": null,
   "id": "2b5e8697-be6e-4013-a900-0d213188573d",
   "metadata": {},
   "outputs": [],
   "source": [
    "Count_round"
   ]
  },
  {
   "cell_type": "code",
   "execution_count": null,
   "id": "ce6f48eb-6e5f-4d1c-a14c-78563a49de40",
   "metadata": {
    "tags": []
   },
   "outputs": [],
   "source": [
    "BWM_child_df.to_csv('BWM_Child.csv') "
   ]
  },
  {
   "cell_type": "code",
   "execution_count": null,
   "id": "76813574-4fe4-48e3-b232-355ac67415e8",
   "metadata": {
    "tags": []
   },
   "outputs": [],
   "source": [
    "BWM_child_df.groupby('bwm_round')[['a2_spring_id']].nunique()"
   ]
  },
  {
   "cell_type": "code",
   "execution_count": null,
   "id": "53759f73-abf3-43cf-9b89-0afafffd81d9",
   "metadata": {
    "tags": []
   },
   "outputs": [],
   "source": [
    "BWM_child_df.groupby('bwm_round')[['a1_hh_id']].nunique()"
   ]
  },
  {
   "cell_type": "code",
   "execution_count": null,
   "id": "bd767286-e42d-45f7-817c-fddf7c8c3caf",
   "metadata": {},
   "outputs": [],
   "source": [
    "BWM_child_df.groupby('bwm_round')[['a1_hh_id']].nunique()"
   ]
  },
  {
   "cell_type": "code",
   "execution_count": null,
   "id": "9b3a5eb8-c122-4bd3-b809-48bf617afdc9",
   "metadata": {},
   "outputs": [],
   "source": [
    "BWM_child_df.groupby('trtmnt')[['a1_hh_id']].nunique()"
   ]
  },
  {
   "cell_type": "code",
   "execution_count": null,
   "id": "a4ef589b-f258-4b07-9b42-89fdbc1f7ee1",
   "metadata": {},
   "outputs": [],
   "source": [
    "BWM_child_df.groupby('bwm_round')[['trtmnt']].nunique()"
   ]
  },
  {
   "cell_type": "code",
   "execution_count": null,
   "id": "7800f10c-4c35-48d5-a9b7-d6479ea94ff8",
   "metadata": {},
   "outputs": [],
   "source": [
    "BWM_child_df.groupby('bwm_round')[['tcgrp']].count()"
   ]
  },
  {
   "cell_type": "code",
   "execution_count": null,
   "id": "2d79ea17-6dc9-4120-b640-b74b72391988",
   "metadata": {},
   "outputs": [],
   "source": [
    "#BWM_child_df['bwm_round','trtmnt'].groupby('bwm_round').value_counts()\n",
    "BWM_child_df[['bwm_round','trtmnt']].groupby('bwm_round').value_counts()\n"
   ]
  },
  {
   "cell_type": "code",
   "execution_count": null,
   "id": "81660dc9-3a3d-459a-bcdb-de78e59fb19c",
   "metadata": {},
   "outputs": [],
   "source": [
    "BWM_child_df[['bwm_round','trtmnt']].groupby('bwm_round').nunique()\n"
   ]
  },
  {
   "cell_type": "code",
   "execution_count": null,
   "id": "d73b84b7-e49f-4a6f-99a0-736420ca80f7",
   "metadata": {},
   "outputs": [],
   "source": [
    "BWM_child_df[['bwm_round','trtmnt','d6a1_7dd_n']].groupby('bwm_round').mean('d6a1_7dd_n')\n"
   ]
  },
  {
   "cell_type": "code",
   "execution_count": null,
   "id": "d53dd220-d431-41e6-bd40-dc2a88b8ac7c",
   "metadata": {},
   "outputs": [],
   "source": [
    "BWM_child_df[['bwm_round','trtmnt','d6a1_7dd_n']].groupby(['bwm_round','trtmnt']).mean('d6a1_7dd_n')\n"
   ]
  },
  {
   "cell_type": "code",
   "execution_count": null,
   "id": "9c3b46e2-89fe-47f6-a2d6-5c38b2e3b5da",
   "metadata": {},
   "outputs": [],
   "source": [
    "BWM_HH_df = pd.read_stata('BWM_HH_EVDvars.dta')"
   ]
  },
  {
   "cell_type": "code",
   "execution_count": null,
   "id": "cdd50f1a-cd68-44af-820c-8ce53c993689",
   "metadata": {},
   "outputs": [],
   "source": [
    "BWM_HH_df.groupby('bwm_round')[['a1_hh_id']].count()"
   ]
  },
  {
   "cell_type": "code",
   "execution_count": null,
   "id": "4333d6bc-a46e-4fa4-bc7a-ed725c98b47c",
   "metadata": {},
   "outputs": [],
   "source": [
    "BWM_HH_df.to_csv('BWM_HH.csv') "
   ]
  },
  {
   "cell_type": "code",
   "execution_count": null,
   "id": "2f206d29-ac5e-419b-b6bf-8911be168589",
   "metadata": {},
   "outputs": [],
   "source": [
    "BWM_HH_df[['bwm_round','assign_wg']].groupby('bwm_round').value_counts()\n"
   ]
  },
  {
   "cell_type": "code",
   "execution_count": null,
   "id": "f2b61636-89db-42b2-ac36-fcf823116779",
   "metadata": {},
   "outputs": [],
   "source": [
    "BWM_Cross = BWM_HH_df[['bwm_round','assign_wg','trtmnt']].groupby('bwm_round').value_counts()\n",
    "BWM_Cross.head(15)"
   ]
  },
  {
   "cell_type": "code",
   "execution_count": null,
   "id": "df8e5ec9-3d85-4df0-b7b4-94b3728b707c",
   "metadata": {},
   "outputs": [],
   "source": [
    "BWM_child_small = BWM_child_df[['quiz_id','a1_hh_id','bwm_round', 'd6a1_7dd_n']]\n",
    "BWM_child_small"
   ]
  },
  {
   "cell_type": "code",
   "execution_count": null,
   "id": "d6f248b2-5e06-47ed-9eac-b3f1c6a2bf0a",
   "metadata": {},
   "outputs": [],
   "source": [
    "BWM_HH_small = BWM_HH_df[['quiz_id','a1_hh_id', 'trtmnt','G5XH5']]\n",
    "BWM_HH_small"
   ]
  },
  {
   "cell_type": "code",
   "execution_count": null,
   "id": "32feb57c-3382-4095-9318-100af3b5e109",
   "metadata": {},
   "outputs": [],
   "source": [
    "#cones_df.merge(ratings, how = 'inner', left_on = 'Flavor', right_on = 'Kind')\n",
    "\n",
    "BWM_merged = BWM_child_small.merge(BWM_HH_small, how='inner', left_on = 'quiz_id', right_on = 'quiz_id')\n",
    "BWM_merged"
   ]
  },
  {
   "cell_type": "code",
   "execution_count": null,
   "id": "f991baac-8045-46f3-8df6-fb1156c55644",
   "metadata": {},
   "outputs": [],
   "source": [
    "pd.pivot_table(BWM_merged, values='d6a1_7dd_n', index = 'bwm_round', columns='trtmnt', aggfunc = np.mean) "
   ]
  },
  {
   "cell_type": "code",
   "execution_count": null,
   "id": "c5de586b-012e-4a9a-9dd4-3671b2de7420",
   "metadata": {},
   "outputs": [],
   "source": [
    "pd.pivot_table(BWM_merged, values='d6a1_7dd_n', index = 'bwm_round', columns='G5XH5', aggfunc = np.mean) "
   ]
  },
  {
   "cell_type": "code",
   "execution_count": null,
   "id": "a6be2e14-aa97-49aa-867c-4e73e04086ce",
   "metadata": {},
   "outputs": [],
   "source": []
  },
  {
   "cell_type": "code",
   "execution_count": null,
   "id": "2545f431-6be6-44ed-afc5-e95d12990fd0",
   "metadata": {},
   "outputs": [],
   "source": []
  },
  {
   "cell_type": "code",
   "execution_count": null,
   "id": "a1f019ef-b0c2-4cb0-9627-35f2c757ff70",
   "metadata": {},
   "outputs": [],
   "source": []
  }
 ],
 "metadata": {
  "kernelspec": {
   "display_name": "Python 3 (ipykernel)",
   "language": "python",
   "name": "python3"
  },
  "language_info": {
   "codemirror_mode": {
    "name": "ipython",
    "version": 3
   },
   "file_extension": ".py",
   "mimetype": "text/x-python",
   "name": "python",
   "nbconvert_exporter": "python",
   "pygments_lexer": "ipython3",
   "version": "3.8.15"
  }
 },
 "nbformat": 4,
 "nbformat_minor": 5
}
