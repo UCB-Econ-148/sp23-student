{
 "cells": [
  {
   "cell_type": "markdown",
   "id": "80e8d249-7e41-421d-8255-cb17a667f148",
   "metadata": {},
   "source": [
    "Adapted from Tetsu Haruyama - https://py4etrics.github.io/index.html\n",
    "\n",
    "Professor Haruyama has made the Python version of the Wooldridge datasets\n",
    "\n",
    "Data sets from Introductory Econometrics: A Modern Approach (7th ed, J.M. Wooldridge)"
   ]
  },
  {
   "cell_type": "code",
   "execution_count": null,
   "id": "3b2a8362-331b-410a-b8e7-75dc32e6a93b",
   "metadata": {},
   "outputs": [],
   "source": [
    "!pip install wooldridge\n",
    "!pip install see"
   ]
  },
  {
   "cell_type": "code",
   "execution_count": null,
   "id": "30a027e8-f2c8-4b3c-8481-9948d16e4432",
   "metadata": {},
   "outputs": [],
   "source": [
    "!pip show statsmodels"
   ]
  },
  {
   "cell_type": "code",
   "execution_count": null,
   "id": "89bd2c30-6160-4eaf-a371-c71a61ba38bc",
   "metadata": {},
   "outputs": [],
   "source": [
    "import wooldridge\n",
    "import matplotlib.pyplot as plt\n",
    "from see import see\n",
    "import numpy as np"
   ]
  },
  {
   "cell_type": "code",
   "execution_count": null,
   "id": "6f2107fe-48b1-4110-94be-dc11b6ab4cf7",
   "metadata": {},
   "outputs": [],
   "source": [
    "wooldridge.data()\n"
   ]
  },
  {
   "cell_type": "code",
   "execution_count": null,
   "id": "f411621a-851e-4b17-adba-9b682a9a9bbc",
   "metadata": {},
   "outputs": [],
   "source": [
    "wage1_df = wooldridge.data('wage1')\n"
   ]
  },
  {
   "cell_type": "code",
   "execution_count": null,
   "id": "1f607512-5bbb-4188-8cf1-0e6359b35c81",
   "metadata": {},
   "outputs": [],
   "source": [
    "wooldridge.data('wage1',description=True)\n"
   ]
  },
  {
   "cell_type": "code",
   "execution_count": null,
   "id": "3d032575-e657-4ac7-bff0-bde51ca18119",
   "metadata": {},
   "outputs": [],
   "source": [
    "wage_df = wage1_df.loc[:,['wage','educ']]\n"
   ]
  },
  {
   "cell_type": "code",
   "execution_count": null,
   "id": "88ebc46c-cb13-4cf9-91f3-e4ba6866c1a6",
   "metadata": {},
   "outputs": [],
   "source": [
    "wage_df.head()"
   ]
  },
  {
   "cell_type": "code",
   "execution_count": null,
   "id": "a4d098af-41e5-48ed-9abe-85988cd417ea",
   "metadata": {},
   "outputs": [],
   "source": [
    "from statsmodels.formula.api import ols\n"
   ]
  },
  {
   "cell_type": "code",
   "execution_count": null,
   "id": "37785f5c-cf69-4d00-8369-0c626bad3cac",
   "metadata": {},
   "outputs": [],
   "source": [
    "formula = 'wage ~ educ'\n"
   ]
  },
  {
   "cell_type": "code",
   "execution_count": null,
   "id": "dafd1cd8-22b9-4438-a0ee-8d27419ee3bf",
   "metadata": {},
   "outputs": [],
   "source": [
    "model1 = ols(formula, data=wage_df)\n"
   ]
  },
  {
   "cell_type": "code",
   "execution_count": null,
   "id": "88a1f74d-0f59-494d-b09d-21eeb1e46433",
   "metadata": {},
   "outputs": [],
   "source": [
    "see(model1) "
   ]
  },
  {
   "cell_type": "code",
   "execution_count": null,
   "id": "d1c63493-913e-4eae-9422-2ad89d90a339",
   "metadata": {},
   "outputs": [],
   "source": [
    "res = model1.fit()\n"
   ]
  },
  {
   "cell_type": "code",
   "execution_count": null,
   "id": "681e7005-73bc-48cf-835b-aef81d178d3c",
   "metadata": {},
   "outputs": [],
   "source": [
    "res.params"
   ]
  },
  {
   "cell_type": "code",
   "execution_count": null,
   "id": "00b7b07a-5fc3-4a9e-a1da-3f3001aed844",
   "metadata": {},
   "outputs": [],
   "source": [
    "help(model1) "
   ]
  },
  {
   "cell_type": "code",
   "execution_count": null,
   "id": "01fbdc69-8f98-4999-b44a-f9a3c3ed1a3e",
   "metadata": {},
   "outputs": [],
   "source": [
    "help(res)"
   ]
  },
  {
   "cell_type": "code",
   "execution_count": null,
   "id": "5c474239-02d5-42ea-acae-c287e3928422",
   "metadata": {},
   "outputs": [],
   "source": [
    "see(res) "
   ]
  },
  {
   "cell_type": "code",
   "execution_count": null,
   "id": "86b50254-d0d5-472d-bcb7-066824218069",
   "metadata": {},
   "outputs": [],
   "source": [
    "print(res.summary())\n"
   ]
  },
  {
   "cell_type": "code",
   "execution_count": null,
   "id": "05812d81-eea5-4b1a-aded-fca91bf4bf21",
   "metadata": {},
   "outputs": [],
   "source": [
    "res.summary().tables[0]\n"
   ]
  },
  {
   "cell_type": "code",
   "execution_count": null,
   "id": "48f0994e-c875-4291-bf55-da7685da1c5d",
   "metadata": {},
   "outputs": [],
   "source": [
    "res.summary().tables[1]\n"
   ]
  },
  {
   "cell_type": "code",
   "execution_count": null,
   "id": "0432e3de-e0c7-41b0-be40-d0b972f8a1e8",
   "metadata": {},
   "outputs": [],
   "source": [
    "res.summary().tables[2]"
   ]
  },
  {
   "cell_type": "markdown",
   "id": "b4c28d60-7a2f-4082-aef6-8e8a8289f313",
   "metadata": {},
   "source": [
    "Both Skew and Kurtosis!"
   ]
  },
  {
   "cell_type": "code",
   "execution_count": null,
   "id": "37673636-f0fe-4238-9c8a-3f302992ddd5",
   "metadata": {},
   "outputs": [],
   "source": [
    "res.summary()\n"
   ]
  },
  {
   "cell_type": "code",
   "execution_count": null,
   "id": "423952e5-fee3-440f-bcfa-bd166357caa7",
   "metadata": {},
   "outputs": [],
   "source": [
    "wage_hat = res.fittedvalues\n"
   ]
  },
  {
   "cell_type": "code",
   "execution_count": null,
   "id": "d7abe912-8e37-4d3f-a1cc-378af81f7f20",
   "metadata": {},
   "outputs": [],
   "source": [
    "wage_hat = res.fittedvalues\n",
    "plt.scatter('educ', 'wage', data=wage_df)\n",
    "plt.plot(wage_df['educ'],wage_hat, 'r')\n",
    "plt.xlabel('Education')\n",
    "plt.ylabel('Wage')\n",
    "pass"
   ]
  },
  {
   "cell_type": "code",
   "execution_count": null,
   "id": "83ed9c7f-0a55-4acf-ac41-47bd2c25a615",
   "metadata": {},
   "outputs": [],
   "source": [
    "wage_df['wage_log'] = np.log(wage_df['wage'])\n",
    "wage_df.head()"
   ]
  },
  {
   "cell_type": "code",
   "execution_count": null,
   "id": "242e0910-a8ed-4cc0-a48f-22ef7cbea52b",
   "metadata": {},
   "outputs": [],
   "source": [
    "formula2 = 'wage_log ~ educ'\n"
   ]
  },
  {
   "cell_type": "code",
   "execution_count": null,
   "id": "33d03924-9fc7-45ee-bc94-cc1865c1c48f",
   "metadata": {},
   "outputs": [],
   "source": [
    "res2 = ols(formula2, data=wage_df).fit()\n"
   ]
  },
  {
   "cell_type": "code",
   "execution_count": null,
   "id": "6bdda863-e84e-4bbe-9d81-fb3ae9b2b850",
   "metadata": {},
   "outputs": [],
   "source": [
    "res2.summary()"
   ]
  },
  {
   "cell_type": "markdown",
   "id": "9e515a49-4bf2-48b7-a0e6-f6b7b070beb4",
   "metadata": {},
   "source": [
    "## on to Mutivariable Regression"
   ]
  },
  {
   "cell_type": "code",
   "execution_count": null,
   "id": "a3ee5345-f263-4e7a-aeb1-cc5d37cbc238",
   "metadata": {},
   "outputs": [],
   "source": [
    "wage1_df['wage_log'] = np.log(wage1_df['wage'])\n"
   ]
  },
  {
   "cell_type": "code",
   "execution_count": null,
   "id": "57348647-f12d-4bb3-9ee5-04f869e1308f",
   "metadata": {},
   "outputs": [],
   "source": [
    "formula3 = 'wage_log ~ educ + tenure + exper'\n"
   ]
  },
  {
   "cell_type": "code",
   "execution_count": null,
   "id": "7ca223d4-c4b7-49a7-8a98-a6a30d0ced3d",
   "metadata": {},
   "outputs": [],
   "source": [
    "res3 = ols(formula3, data=wage1_df).fit()\n"
   ]
  },
  {
   "cell_type": "code",
   "execution_count": null,
   "id": "283a4829-7de1-4173-9919-5ef70afab480",
   "metadata": {},
   "outputs": [],
   "source": [
    "res3.summary()"
   ]
  },
  {
   "cell_type": "code",
   "execution_count": null,
   "id": "0b498723-7340-4348-b59c-277fa9dc71ec",
   "metadata": {},
   "outputs": [],
   "source": []
  }
 ],
 "metadata": {
  "kernelspec": {
   "display_name": "Python 3 (ipykernel)",
   "language": "python",
   "name": "python3"
  },
  "language_info": {
   "codemirror_mode": {
    "name": "ipython",
    "version": 3
   },
   "file_extension": ".py",
   "mimetype": "text/x-python",
   "name": "python",
   "nbconvert_exporter": "python",
   "pygments_lexer": "ipython3",
   "version": "3.8.15"
  }
 },
 "nbformat": 4,
 "nbformat_minor": 5
}
