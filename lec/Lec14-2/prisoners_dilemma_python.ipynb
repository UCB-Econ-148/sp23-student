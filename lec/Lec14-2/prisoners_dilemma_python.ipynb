{
 "cells": [
  {
   "cell_type": "code",
   "execution_count": 1,
   "metadata": {
    "tags": []
   },
   "outputs": [],
   "source": [
    "import pandas as pd, numpy as np, ipywidgets as widgets, random, dilemma\n",
    "from ipywidgets import *"
   ]
  },
  {
   "cell_type": "markdown",
   "metadata": {},
   "source": [
    "# Prisoner's Dilemma"
   ]
  },
  {
   "cell_type": "markdown",
   "metadata": {},
   "source": [
    "## Part 1: The Iterated Prisoner's Dilemma\n",
    "\n",
    "The [prisoner's dilemma](https://en.wikipedia.org/wiki/Prisoner%27s_dilemma) is a classic game first discussed by Merrill Flood and Melvin Dresher in 1950. In this game, there are two prisoners who have been captured and are being interrogated. The prisoners cannot contact each other in any way. They have two options: they can **defect** (betray the other prisoner to the police) or they can **cooperate** (maintain their silence). If both defect, both receive 4 years in prison. If one defects and the other does not, the defector goes free and the cooperator receives 5 years in prison. If both cooperate (meaning neither talks to the police), then they each receive 2 years in prison. We define **mutual defection** as the case when both prisoners defect and **mutual cooperation** as the case when both cooperate. The purpose of this game is to consider how a completely rational person would be best advised to proceed, and how different strategies for playing this game can be more or less effective.\n",
    "\n",
    "<table>\n",
    "    \n",
    "<tr style=\"background-color: white;\"><td></td><td></td><td colspan=\"2\">Prisoner A</td></tr>\n",
    "<tr><td></td><td></td><td>Cooperate</td><td>Defect</td></tr>\n",
    "<tr style=\"background-color: white;\"><td rowspan=\"2\">Prisoner B</td><td>Cooperate</td><td style=\"background-color: #F5F5F5;\">A: 3, B: 3</td><td>A: 1, B: 4</td></tr>\n",
    "<tr><td>Defect</td><td>A: 4, B: 1</td><td style=\"background-color: #F5F5F5;\">A: 2, B: 2</td></tr>\n",
    "    \n",
    "</table>\n",
    "\n",
    "In this project, we will study the **iterated prisoner's dilemma**, a game paradigm in which the prisoner's dilemma is played over multiple rounds and in tournaments to determine the best strategy for playing the game. In this way, we define strategies as methods for determining whether a play will cooperate or defect at any single round based on this history of past moves. This differs from the normal prisoner's dilemma in that we play the game multiple times and incorporate strategies going beyond any single iteration.\n",
    "\n",
    "This paradigm was introduced by [Robert Axelrod](https://en.wikipedia.org/wiki/Robert_Axelrod) to use the prisoner's dilemma as a lens through which to study the Cold War during the Cuban Missile Crisis. Axelrod created a tournament out of an iterated prisoner's dilemma and invited theoreticians to write programs that could strategically play the game, and then pitted them one against another in a round-robin-style tournament."
   ]
  },
  {
   "cell_type": "markdown",
   "metadata": {},
   "source": [
    "To play Prisoner's Dilemma, you can choose strategies including \"Cooperate\" or \"Defect\" using the dropdown menus. For Player 2, you can also pick to have Player 2 copy what Player 1 does by selecting \"Copy\". You can also select \"Random\" to get a random strategy for Player 2.\n",
    "\n",
    "To have the game play, hit the button to start/stop play. The result for the round will automatically appear in the table below. Summary statistics for all rounds of the game will appear below the table with each round. \n",
    "\n",
    "To reset the game, re-run the cell by clicking on it and hitting `Ctrl + Enter` (Windows) or `Command + Return` (Mac)"
   ]
  },
  {
   "cell_type": "code",
   "execution_count": 2,
   "metadata": {
    "tags": []
   },
   "outputs": [
    {
     "data": {
      "application/vnd.jupyter.widget-view+json": {
       "model_id": "e81f3f7dcbd44b14a9dea4922fc91cfa",
       "version_major": 2,
       "version_minor": 0
      },
      "text/plain": [
       "interactive(children=(Dropdown(description='Player 1', options=('Cooperate', 'Defect'), value='Cooperate'), Dr…"
      ]
     },
     "metadata": {},
     "output_type": "display_data"
    }
   ],
   "source": [
    "@interact(p1 = dilemma.p1, p2 = dilemma.p2, play_flag = dilemma.play_flag)\n",
    "def play_prisioners_dilemma(p1, p2, play_flag):\n",
    "    return dilemma.play_pd(p1, p2, play_flag)"
   ]
  },
  {
   "cell_type": "code",
   "execution_count": null,
   "metadata": {},
   "outputs": [],
   "source": []
  }
 ],
 "metadata": {
  "kernelspec": {
   "display_name": "Python 3",
   "language": "python",
   "name": "python3"
  },
  "language_info": {
   "codemirror_mode": {
    "name": "ipython",
    "version": 3
   },
   "file_extension": ".py",
   "mimetype": "text/x-python",
   "name": "python",
   "nbconvert_exporter": "python",
   "pygments_lexer": "ipython3",
   "version": "3.7.6"
  },
  "widgets": {
   "application/vnd.jupyter.widget-state+json": {
    "state": {
     "0078e56f096348029b38d8cbbe41a085": {
      "model_module": "@jupyter-widgets/base",
      "model_module_version": "1.2.0",
      "model_name": "LayoutModel",
      "state": {}
     },
     "275d5b50a71c44308e8bf5378a302da4": {
      "model_module": "@jupyter-widgets/base",
      "model_module_version": "1.2.0",
      "model_name": "LayoutModel",
      "state": {}
     },
     "3a1a39e773584d749a6f1e9c479487b1": {
      "model_module": "@jupyter-widgets/controls",
      "model_module_version": "1.5.0",
      "model_name": "DropdownModel",
      "state": {
       "_options_labels": [
        "Cooperate",
        "Defect",
        "Copy",
        "Random"
       ],
       "description": "Player 2",
       "index": 0,
       "layout": "IPY_MODEL_275d5b50a71c44308e8bf5378a302da4",
       "style": "IPY_MODEL_8abef28fda4344b7aca0ea5a433250c2"
      }
     },
     "3d083fd5880f46c3aa672cf14303ee2c": {
      "model_module": "@jupyter-widgets/controls",
      "model_module_version": "1.5.0",
      "model_name": "DescriptionStyleModel",
      "state": {
       "description_width": ""
      }
     },
     "4850efa0e1b040b89154240d633f5596": {
      "model_module": "@jupyter-widgets/base",
      "model_module_version": "1.2.0",
      "model_name": "LayoutModel",
      "state": {
       "height": "30px",
       "width": "30%"
      }
     },
     "5dfb1753be854a6d86e55504527a48ab": {
      "model_module": "@jupyter-widgets/controls",
      "model_module_version": "1.5.0",
      "model_name": "DescriptionStyleModel",
      "state": {
       "description_width": ""
      }
     },
     "6c43d49a153b46908190e3c2b672f667": {
      "model_module": "@jupyter-widgets/base",
      "model_module_version": "1.2.0",
      "model_name": "LayoutModel",
      "state": {}
     },
     "8abef28fda4344b7aca0ea5a433250c2": {
      "model_module": "@jupyter-widgets/controls",
      "model_module_version": "1.5.0",
      "model_name": "DescriptionStyleModel",
      "state": {
       "description_width": ""
      }
     },
     "9062ac79eb6f4ad6917a29945cda77e4": {
      "model_module": "@jupyter-widgets/output",
      "model_module_version": "1.0.0",
      "model_name": "OutputModel",
      "state": {
       "layout": "IPY_MODEL_bf05d671418141dbae1c5b42b8fea326",
       "outputs": [
        {
         "data": {
          "text/markdown": "<center><h2>Click the button above to play!</h2></center>",
          "text/plain": "<IPython.core.display.Markdown object>"
         },
         "metadata": {},
         "output_type": "display_data"
        },
        {
         "data": {
          "text/markdown": "<center><h2>To play another round with the same options for both player 1 and palyer 2, press the button twice!</h2></center>",
          "text/plain": "<IPython.core.display.Markdown object>"
         },
         "metadata": {},
         "output_type": "display_data"
        }
       ]
      }
     },
     "9bdd05d5098441368166fe16e6d8607c": {
      "model_module": "@jupyter-widgets/controls",
      "model_module_version": "1.5.0",
      "model_name": "DropdownModel",
      "state": {
       "_options_labels": [
        "Cooperate",
        "Defect"
       ],
       "description": "Player 1",
       "index": 0,
       "layout": "IPY_MODEL_0078e56f096348029b38d8cbbe41a085",
       "style": "IPY_MODEL_5dfb1753be854a6d86e55504527a48ab"
      }
     },
     "9ec5a078481344bbb453296179a97c78": {
      "model_module": "@jupyter-widgets/controls",
      "model_module_version": "1.5.0",
      "model_name": "ToggleButtonModel",
      "state": {
       "description": "Click to Start/Stop Play",
       "layout": "IPY_MODEL_4850efa0e1b040b89154240d633f5596",
       "style": "IPY_MODEL_3d083fd5880f46c3aa672cf14303ee2c",
       "tooltip": "Click to start/stop play"
      }
     },
     "ba9e39b2e97f48b8bacf5d7ceb9665c4": {
      "model_module": "@jupyter-widgets/controls",
      "model_module_version": "1.5.0",
      "model_name": "VBoxModel",
      "state": {
       "_dom_classes": [
        "widget-interact"
       ],
       "children": [
        "IPY_MODEL_9bdd05d5098441368166fe16e6d8607c",
        "IPY_MODEL_3a1a39e773584d749a6f1e9c479487b1",
        "IPY_MODEL_9ec5a078481344bbb453296179a97c78",
        "IPY_MODEL_9062ac79eb6f4ad6917a29945cda77e4"
       ],
       "layout": "IPY_MODEL_6c43d49a153b46908190e3c2b672f667"
      }
     },
     "bf05d671418141dbae1c5b42b8fea326": {
      "model_module": "@jupyter-widgets/base",
      "model_module_version": "1.2.0",
      "model_name": "LayoutModel",
      "state": {}
     }
    },
    "version_major": 2,
    "version_minor": 0
   }
  }
 },
 "nbformat": 4,
 "nbformat_minor": 4
}
