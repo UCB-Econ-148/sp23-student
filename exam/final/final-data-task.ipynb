{
 "cells": [
  {
   "cell_type": "code",
   "execution_count": null,
   "id": "1920e12a",
   "metadata": {
    "deletable": false,
    "editable": false
   },
   "outputs": [],
   "source": [
    "# Initialize Otter\n",
    "import otter\n",
    "grader = otter.Notebook(\"final-data-task.ipynb\")"
   ]
  },
  {
   "cell_type": "code",
   "execution_count": null,
   "id": "a9f4305d",
   "metadata": {},
   "outputs": [],
   "source": [
    "import numpy as np\n",
    "import pandas as pd\n",
    "import matplotlib.pyplot as plt\n",
    "import seaborn as sns\n",
    "%matplotlib inline\n",
    "plt.style.use(\"seaborn-muted\")\n",
    "import statsmodels.api as sm\n",
    "\n",
    "from sklearn.preprocessing import OrdinalEncoder, StandardScaler\n",
    "from sklearn.model_selection import train_test_split\n",
    "from sklearn.metrics import accuracy_score, confusion_matrix, classification_report\n",
    "\n",
    "pd.set_option('display.max_columns', None)"
   ]
  },
  {
   "cell_type": "markdown",
   "id": "39f6095d",
   "metadata": {},
   "source": [
    "# Econ 148 Final Data Task: Labor Compensation"
   ]
  },
  {
   "cell_type": "markdown",
   "id": "ec5c3d57",
   "metadata": {},
   "source": [
    "## Introduction\n",
    "\n",
    "Can local markets affect the labor compensation of public sector workers? In Rebecca Diamond's paper \"Housing Supply Elasticity and Rent Extraction by State and Local Governments\", the author studies how the slope of a city's housing supply curve could influence the city government's taxation decisions and government expenditure choices. The paper presents evidence that the slope of a city's housing supply curve, which measures the responsiveness of housing supply to changes in demand, plays a significant role in determining the government's ability to extract rent from its citizens. If you're curious on the motivation behind the data analysis below, see [here](http://www.stanford.edu/~diamondr/gov_housing_supply.pdf). Note that the analysis below is NOT the same at that found in the paper. The estimates you find will NOT match. \n",
    "\n",
    "In this data task, we wish to study how the wage difference between workers employed by local governments differs from the wages paid to similarly qualified workers employed in the private sector. The data you will use to measure workers' wages comes from the Consumer Population Survey Merged Outgoing Rotation Groups (CPS-MORG). This is a nationwide survey of US households conducted by the Bureau of Labor Statistics which asks a variety of questions, including information about wage earnings, employment, and many demographics (age, race...). This is also the same dataset as in Project 2 but with different variables and for a different time range. "
   ]
  },
  {
   "cell_type": "markdown",
   "id": "cecfab97",
   "metadata": {},
   "source": [
    "## Datasets\n",
    "In the files provided, `morg96_sample.csv` is a dataset containing the CPS-MORG data from the year 1996. The full documentation of the data can be found at: http://www.nber.org/morg/docs/cpsx.pdf. (This should look familiar!) This describes in detail all the variables in the data and exactly how each one is defined and coded. You will need to reference this documentation in order to understand the data in `morg96_sample.csv` and to do the coding challenge below. We are using a sample here due to the memory restriction of Datahub. \n",
    "\n",
    "The other dataset we will be using is `housing_supply.dta`. This records for each metropolitan area (msafips) a z-scored measure of land unavailability (`unaval`), which we will use as a proxy for housing market elasticity. Higher value (z-score) of land unavailability would imply the housing market is less elastic since there is not much land to build new housing. "
   ]
  },
  {
   "cell_type": "markdown",
   "id": "033761dc",
   "metadata": {},
   "source": [
    "**A Note on Collaboration:**  \n",
    "No collaboration is allowed for this final data task. Any collaboration on this assignment is an act of academic dishonesty and will result in an F for the class and a report sent to the [Center for Student Conduct](https://conduct.berkeley.edu/). However, you are allowed to refer to resources including the course materials in our class and documentations and tutorials found online. "
   ]
  },
  {
   "cell_type": "markdown",
   "id": "2e86a53f",
   "metadata": {},
   "source": [
    "**A Note on Grading:**  \n",
    "In this data task, the autograder only provides sanity checks. You will need to double check your answers even if you pass the tests. "
   ]
  },
  {
   "cell_type": "markdown",
   "id": "afa9a838",
   "metadata": {},
   "source": [
    "---\n",
    "## Part 0: Honor Code"
   ]
  },
  {
   "cell_type": "markdown",
   "id": "69f5c0b7",
   "metadata": {},
   "source": [
    "As a member of the UC Berkeley community, I act with honesty, integrity, and respect for others. I am the person whose name is on the exam and I completed this exam in accordance with the Honor Code. \n",
    "\n",
    "**Signature**: _Type in your name here_"
   ]
  },
  {
   "cell_type": "markdown",
   "id": "47755553",
   "metadata": {},
   "source": [
    "---\n",
    "## Part 1: Data Cleaning"
   ]
  },
  {
   "cell_type": "markdown",
   "id": "9df44379",
   "metadata": {},
   "source": [
    "**Question 1.1:** Read in the dataset `data/morg96_sample.csv` and store it as `morg`. \n",
    "\n",
    "_Points:_ 1"
   ]
  },
  {
   "cell_type": "code",
   "execution_count": null,
   "id": "fb31f752",
   "metadata": {
    "tags": []
   },
   "outputs": [],
   "source": [
    "morg = ...\n",
    "morg.head()"
   ]
  },
  {
   "cell_type": "code",
   "execution_count": null,
   "id": "1d99cb19",
   "metadata": {
    "deletable": false,
    "editable": false
   },
   "outputs": [],
   "source": [
    "grader.check(\"q1_1\")"
   ]
  },
  {
   "cell_type": "markdown",
   "id": "3fccb3f7",
   "metadata": {},
   "source": [
    "**Question 1.2:** We are only interested in workers ages 25 to 55 (inclusive) who reported working at least 35 hours during his last week of work. Do not include any worker who report being self employed. Filter `morg` based on these conditions.  \n",
    "\n",
    "_Points:_ 2"
   ]
  },
  {
   "cell_type": "code",
   "execution_count": null,
   "id": "2d9d0287",
   "metadata": {
    "tags": []
   },
   "outputs": [],
   "source": [
    "...\n",
    "morg.head()"
   ]
  },
  {
   "cell_type": "code",
   "execution_count": null,
   "id": "1b0c16ab",
   "metadata": {
    "deletable": false,
    "editable": false
   },
   "outputs": [],
   "source": [
    "grader.check(\"q1_2\")"
   ]
  },
  {
   "cell_type": "markdown",
   "id": "2a235869",
   "metadata": {},
   "source": [
    "**Question 1.3:** We want to include education as an explanatory variable. However, the only variable in our dataset that is related to education is `grade92`, which report the highest grade completed by an individual. Make a new column `eduyear` using the dictionary `grade2eduyear` provided below that contains estimates of the workers' years of schooling completed. \n",
    "\n",
    "Hint: You did this in Lab 7 and Lab 8. \n",
    "\n",
    "_Points:_ 1"
   ]
  },
  {
   "cell_type": "code",
   "execution_count": null,
   "id": "ebabca95",
   "metadata": {
    "tags": []
   },
   "outputs": [],
   "source": [
    "# grade92 -> eduyear\n",
    "grade2eduyear = {\n",
    "    31: 0,  32: 2.5, 33: 5.5, 34: 7.5, 35: 9,  36: 10, 37: 11, 38: 12, \n",
    "    39: 12, 40: 13,  41: 14,  42: 14,  43: 16, 44: 18, 45: 20, 46: 22\n",
    "}\n",
    "...\n",
    "morg.head()"
   ]
  },
  {
   "cell_type": "code",
   "execution_count": null,
   "id": "c4d143b2",
   "metadata": {
    "deletable": false,
    "editable": false
   },
   "outputs": [],
   "source": [
    "grader.check(\"q1_3\")"
   ]
  },
  {
   "cell_type": "markdown",
   "id": "9de98ec1",
   "metadata": {},
   "source": [
    "**Question 1.4:** Since we are concerned about the difference between public sector workers and private sector workers, let's make a new column `workertype`. `workertype` takes on the following values:\n",
    "\n",
    "| Type | `workertype` |\n",
    "| ----------- | ----------- |\n",
    "| federal government | \"federal\" |\n",
    "| state government | \"state\" |\n",
    "| local government | \"local\" |\n",
    "| private sector | \"private\" |\n",
    "\n",
    "Then drop all the rows if `workertype` is not in the list above or is NaN. \n",
    "\n",
    "Hint: `class94` may be useful. One way to do this is similar to question 1.3. \n",
    "\n",
    "_Points:_ 2"
   ]
  },
  {
   "cell_type": "code",
   "execution_count": null,
   "id": "4eadbdd2",
   "metadata": {
    "tags": []
   },
   "outputs": [],
   "source": [
    "...\n",
    "morg[\"workertype\"] = ...\n",
    "morg = morg[morg[\"workertype\"].isin([...])]\n",
    "morg = morg.dropna(subset=[\"workertype\"]) # drop rows if workertype is NaN\n",
    "morg[\"workertype\"] = morg[\"workertype\"].astype(str) # convert workertype to str\n",
    "morg.head()"
   ]
  },
  {
   "cell_type": "code",
   "execution_count": null,
   "id": "3fe0e77d",
   "metadata": {
    "deletable": false,
    "editable": false
   },
   "outputs": [],
   "source": [
    "grader.check(\"q1_4\")"
   ]
  },
  {
   "cell_type": "markdown",
   "id": "a20d69f8",
   "metadata": {},
   "source": [
    "---\n",
    "## Part 2: EDA"
   ]
  },
  {
   "cell_type": "markdown",
   "id": "6e3d13f1",
   "metadata": {},
   "source": [
    "**Question 2.1:** Report the mean, standard deviation, min value, and max value of workers' usual weekly earnings. Report the summary statistics separately for private sector workers, local government workers, state government workers, and federal government workers. \n",
    "\n",
    "The table should look like this:\n",
    "\n",
    "| workertype | mean | std | min | max |\n",
    "| ----------- | ----------- | ----------- | ----------- | ----------- |\n",
    "| private | 605.993831 | 373.231066 | 0.0 | 1923.0 |\n",
    "|  |  |  |  | (rows omitted) |\n",
    "\n",
    "Hint: [`describe`](https://pandas.pydata.org/docs/reference/api/pandas.DataFrame.describe.html) may be helpful as an aggregate function in `groupby`, but you may also hardcode the results. \n",
    "\n",
    "_Points:_ 2"
   ]
  },
  {
   "cell_type": "code",
   "execution_count": null,
   "id": "f8c69abc",
   "metadata": {
    "tags": []
   },
   "outputs": [],
   "source": [
    "summary_stats = ...\n",
    "summary_stats"
   ]
  },
  {
   "cell_type": "code",
   "execution_count": null,
   "id": "52635979",
   "metadata": {
    "deletable": false,
    "editable": false
   },
   "outputs": [],
   "source": [
    "grader.check(\"q2_1\")"
   ]
  },
  {
   "cell_type": "markdown",
   "id": "d5a74a97",
   "metadata": {},
   "source": [
    "<!-- BEGIN QUESTION -->\n",
    "\n",
    "**Question 2.2:** Now we want to explore the relationship between years of education and weekly earnings (for all individuals). Make a scatterplot. Label your plot properly. This question will be graded manually. \n",
    "\n",
    "_Points:_ 1"
   ]
  },
  {
   "cell_type": "code",
   "execution_count": null,
   "id": "9dbdc581",
   "metadata": {
    "tags": []
   },
   "outputs": [],
   "source": [
    "..."
   ]
  },
  {
   "cell_type": "markdown",
   "id": "38c7b806",
   "metadata": {},
   "source": [
    "<!-- END QUESTION -->\n",
    "\n",
    "<!-- BEGIN QUESTION -->\n",
    "\n",
    "**Question 2.3:** We also want to compare the level of education for private sector workers, local government workers, state government workers, and federal government workers. Replicate [this data visualization](https://www.econ148.org/sp23/resources/final/q2_3.png). This question will be graded manually.\n",
    "\n",
    "Note: A fully correct answer should replicate everything about the provided visualization except the figure size and the color scheme. \n",
    "\n",
    "_Points:_ 2"
   ]
  },
  {
   "cell_type": "code",
   "execution_count": null,
   "id": "1aed9dee",
   "metadata": {
    "tags": []
   },
   "outputs": [],
   "source": [
    "..."
   ]
  },
  {
   "cell_type": "markdown",
   "id": "6e8a995b",
   "metadata": {},
   "source": [
    "<!-- END QUESTION -->\n",
    "\n",
    "**Question 2.4:** Let's try using a classification model to predict whether a worker is a private sector worker, a local government worker, a state government worker, or a federal government worker based on the demographic variables. This is the most time-consuming question in the entire data task, so feel free to work on other parts first and then return to this question later. \n",
    "\n",
    "Relevant demographic variables: `grade92`, `age`, `marital`, `race`, `ethnic`, `penatvty`, `prcitshp`. \n",
    "\n",
    "**Use a classification model of your choice that is available in sklearn and classify `workertype` (private, local, state, or federal) using the demographic variables listed above. We will test if your classification model can achieve accuracy greater than 50\\%.** \n",
    "\n",
    "Note: There's no need to convert `workertype` column to numeric values since it is the label. \n",
    "\n",
    "Hint: use `.values` when assigning x and y if you get a warning that looks like `UserWarning: X does not have valid feature names, but ... was fitted with feature name`. For example, `df[\"x\"].values` or `df[[\"a\", \"b\"]].values`. \n",
    "\n",
    "_Points:_ 3"
   ]
  },
  {
   "cell_type": "code",
   "execution_count": null,
   "id": "64a9b016",
   "metadata": {
    "tags": []
   },
   "outputs": [],
   "source": [
    "morg_class = morg.copy().dropna(subset=[\"workertype\", \"grade92\", \"age\", \"marital\", \"race\", \"ethnic\", \"penatvty\", \"prcitshp\"])\n",
    "\n",
    "# preprocessing\n",
    "...\n",
    "\n",
    "# train-test split\n",
    "x = ... # see hint\n",
    "y = ... # see hint\n",
    "xtrain, xtest, ytrain, ytest = ...\n",
    "\n",
    "# import sklearn model of your choice\n",
    "...\n",
    "\n",
    "# fit the model\n",
    "model = ...\n",
    "...\n",
    "\n",
    "# make prediction on `xtest`\n",
    "ypred = ...\n",
    "\n",
    "# get training and testing accuracies\n",
    "train_accuracy = model.score(xtrain, ytrain)\n",
    "test_accuracy = model.score(xtest, ytest)\n",
    "print(\"Classification Report: \\n\", classification_report(ytest, ypred))\n",
    "print(f'Training Accuracy: {train_accuracy}\\nTesting Accuracy: {test_accuracy}')"
   ]
  },
  {
   "cell_type": "code",
   "execution_count": null,
   "id": "bb61dc18",
   "metadata": {
    "deletable": false,
    "editable": false
   },
   "outputs": [],
   "source": [
    "grader.check(\"q2_4\")"
   ]
  },
  {
   "cell_type": "markdown",
   "id": "23b787d7",
   "metadata": {},
   "source": [
    "---\n",
    "## Part 3: Regression"
   ]
  },
  {
   "cell_type": "markdown",
   "id": "060abbfe",
   "metadata": {},
   "source": [
    "**Question 3.1:** Now you need to merge in data on the amount of land within an MSA unavailable for real-estate development due to presence of topographical constraints (water, steep grades, swamps..) that are stored in `data/housing_supply.dta`. Merge this into `morg`. You need to inner merge these together on MSA. Call the merged dataset `morg_housing`. \n",
    "\n",
    "_Points:_ 1"
   ]
  },
  {
   "cell_type": "code",
   "execution_count": null,
   "id": "8f31c31e",
   "metadata": {
    "tags": []
   },
   "outputs": [],
   "source": [
    "morg_housing = ...\n",
    "morg_housing"
   ]
  },
  {
   "cell_type": "code",
   "execution_count": null,
   "id": "2f85c130",
   "metadata": {
    "deletable": false,
    "editable": false
   },
   "outputs": [],
   "source": [
    "grader.check(\"q3_1\")"
   ]
  },
  {
   "cell_type": "markdown",
   "id": "1fa57e4a",
   "metadata": {},
   "source": [
    "**Question 3.2:** Create a variable for ln(weekly earnings) for each worker and name it `lnearnwke`. We now want to analyze the wage gap between local government workers and private sector workers. Run a regression of `lnearnwke` (with a constant term) on a 0/1 binary variable of whether the worker is employed by the local government or not. Do not include federal government workers or state government workers in this regression.\n",
    "\n",
    "Note: You need to use `missing=\"drop\"` in `sm.OLS` for all regressions in this notebook. \n",
    "\n",
    "_Points:_ 3"
   ]
  },
  {
   "cell_type": "code",
   "execution_count": null,
   "id": "6b00b19b",
   "metadata": {
    "tags": []
   },
   "outputs": [],
   "source": [
    "# generate ln(weekly earnings)\n",
    "morg_housing[\"lnearnwke\"] = np.log(morg_housing[\"earnwke\"] + 10e-8) # adding 10e-8 to avoid log(0)\n",
    "\n",
    "q3_2 = ... # filter `morg_housing`\n",
    "\n",
    "# generate 0/1 binary variable of whether the worker is employed by the local government or not\n",
    "# name this new column `local`\n",
    "q3_2[\"local\"] = ...\n",
    "\n",
    "# run regression\n",
    "...\n",
    "model_1 = ...\n",
    "model_1.summary()"
   ]
  },
  {
   "cell_type": "code",
   "execution_count": null,
   "id": "84249c99",
   "metadata": {
    "deletable": false,
    "editable": false
   },
   "outputs": [],
   "source": [
    "grader.check(\"q3_2\")"
   ]
  },
  {
   "cell_type": "markdown",
   "id": "c2b9a031",
   "metadata": {},
   "source": [
    "Following the analysis done by Rebecca Diamond, now you will add controls for workers' demographics to the regressions. Add controls for whether the worker is male, whether the worker is black, whether the worker is hispanic, the age of the worker, the square of the age of the worker, years of education of the worker. "
   ]
  },
  {
   "cell_type": "markdown",
   "id": "6420d8b1",
   "metadata": {},
   "source": [
    "**Question 3.3:** Generate the required columns and run the regression adding the above variables as controls. Name the new columns `male`, `black`, `hispanic`, `age_sq`. \n",
    "\n",
    "Hint: relevant columns are `sex`, `race`, `ethnic`, and `age`. \n",
    "\n",
    "_Points:_ 3"
   ]
  },
  {
   "cell_type": "code",
   "execution_count": null,
   "id": "b2d3bf94",
   "metadata": {
    "tags": []
   },
   "outputs": [],
   "source": [
    "# generate relevant variables\n",
    "q3_3 = q3_2.copy()\n",
    "...\n",
    "\n",
    "# run regression\n",
    "...\n",
    "model_2 = ...\n",
    "model_2.summary()"
   ]
  },
  {
   "cell_type": "code",
   "execution_count": null,
   "id": "ce6d97c8",
   "metadata": {
    "deletable": false,
    "editable": false
   },
   "outputs": [],
   "source": [
    "grader.check(\"q3_3\")"
   ]
  },
  {
   "cell_type": "markdown",
   "id": "79b98995",
   "metadata": {},
   "source": [
    "Finally, we want to analyze how the local government worker-private sector wage gap differs across metropolitan statistical areas based on the amount of land available for real estate development in that area. "
   ]
  },
  {
   "cell_type": "markdown",
   "id": "cfb3ee07",
   "metadata": {},
   "source": [
    "**Question 3.4:** Run the previous regression with the worker controls, adding a control for the amount of land available for real estate development, and a variable measuring the interaction between the amount of land available for real estate development with the 0/1 binary variable of whether the worker is employed by the local government. \n",
    "\n",
    "Note: the interaction term ($x_1 \\times x_2$) of variables $x_1$ and $x_2$ is given by $$ x_1 \\times x_2 = x_1 \\cdot x_2$$\n",
    "\n",
    "_Points:_ 2"
   ]
  },
  {
   "cell_type": "code",
   "execution_count": null,
   "id": "65f5a8b4",
   "metadata": {
    "tags": []
   },
   "outputs": [],
   "source": [
    "# generate relevant variables\n",
    "q3_4 = q3_3.copy()\n",
    "q3_4[\"unaval_x_local\"] = ... # interaction term\n",
    "\n",
    "# run regression\n",
    "...\n",
    "model_3 = ...\n",
    "model_3.summary()"
   ]
  },
  {
   "cell_type": "code",
   "execution_count": null,
   "id": "b7faadba",
   "metadata": {
    "deletable": false,
    "editable": false
   },
   "outputs": [],
   "source": [
    "grader.check(\"q3_4\")"
   ]
  },
  {
   "cell_type": "markdown",
   "id": "82d6289f",
   "metadata": {},
   "source": [
    "In Rebecca Diamond's paper, she claims that \n",
    "\n",
    "> \"While the decision to regulate real-estate development and population expansion has many costs and benefits not studied in this paper, decreasing a city's housing supply elasticity through regulation gives the local government more taxation market power. Thus, the rise in land-use regulations since the 1970s may have had an unintended consequence of increasing rent seeking by governments and **leading to overpaid government workers and more corruption**.\"\n",
    "\n",
    "Additional context: imposing more land-use regulations may increase `unaval` variable in our data. "
   ]
  },
  {
   "cell_type": "markdown",
   "id": "f41c5416",
   "metadata": {},
   "source": [
    "**Question 3.5:** Looking at the regression output from question 3.4, does our (overly simplified) analysis support the claim made by Diamond? If so, what is the value of the coefficient that support your reasoning? Use 90% as the confidence level. \n",
    "\n",
    "Assign True or False to `q3_5_1` for your answer to the first part. Assign a number to `q3_5_2` for your answer to the second part. If you don't think our analysis support the paper's claim, assign 0 to `q3_5_2`. \n",
    "\n",
    "_Points:_ 2"
   ]
  },
  {
   "cell_type": "code",
   "execution_count": null,
   "id": "863d2e38",
   "metadata": {
    "tags": []
   },
   "outputs": [],
   "source": [
    "q3_5_1 = ...\n",
    "q3_5_2 = ..."
   ]
  },
  {
   "cell_type": "code",
   "execution_count": null,
   "id": "1db627d7",
   "metadata": {
    "deletable": false,
    "editable": false
   },
   "outputs": [],
   "source": [
    "grader.check(\"q3_5\")"
   ]
  },
  {
   "cell_type": "markdown",
   "id": "1683e1a3",
   "metadata": {},
   "source": [
    "---\n",
    "**Congratulations!** You're done with the final data task!\n",
    "\n",
    "**NOW SAVE THE NOTEBOOK BEFORE YOU CONTINUE!**"
   ]
  },
  {
   "cell_type": "markdown",
   "id": "7483426c",
   "metadata": {
    "deletable": false,
    "editable": false
   },
   "source": [
    "---\n",
    "\n",
    "To double-check your work, the cell below will rerun all of the autograder tests."
   ]
  },
  {
   "cell_type": "code",
   "execution_count": null,
   "id": "31b32586",
   "metadata": {
    "deletable": false,
    "editable": false
   },
   "outputs": [],
   "source": [
    "grader.check_all()"
   ]
  },
  {
   "cell_type": "markdown",
   "id": "0d863821",
   "metadata": {
    "deletable": false,
    "editable": false
   },
   "source": [
    "## Submission\n",
    "\n",
    "Make sure you have run all cells in your notebook in order before running the cell below, so that all images/graphs appear in the output. The cell below will generate a zip file for you to submit. **Please save before exporting!**"
   ]
  },
  {
   "cell_type": "code",
   "execution_count": null,
   "id": "016c3d37",
   "metadata": {
    "deletable": false,
    "editable": false
   },
   "outputs": [],
   "source": [
    "# Save your notebook first, then run this cell to export your submission.\n",
    "grader.export()"
   ]
  },
  {
   "cell_type": "markdown",
   "id": "2c20fbd6",
   "metadata": {},
   "source": [
    " "
   ]
  }
 ],
 "metadata": {
  "kernelspec": {
   "display_name": "Python 3 (ipykernel)",
   "language": "python",
   "name": "python3"
  },
  "language_info": {
   "codemirror_mode": {
    "name": "ipython",
    "version": 3
   },
   "file_extension": ".py",
   "mimetype": "text/x-python",
   "name": "python",
   "nbconvert_exporter": "python",
   "pygments_lexer": "ipython3",
   "version": "3.8.10"
  },
  "otter": {
   "OK_FORMAT": true,
   "assignment_name": "final",
   "tests": {
    "q1_1": {
     "name": "q1_1",
     "points": 1,
     "suites": [
      {
       "cases": [
        {
         "code": ">>> morg.shape == (66072, 71)\nTrue",
         "hidden": false,
         "locked": false
        }
       ],
       "scored": true,
       "setup": "",
       "teardown": "",
       "type": "doctest"
      }
     ]
    },
    "q1_2": {
     "name": "q1_2",
     "points": 2,
     "suites": [
      {
       "cases": [
        {
         "code": ">>> (40000 < morg.shape[0] < 50000) and (morg.shape[1] == 71)\nTrue",
         "hidden": false,
         "locked": false,
         "points": 0
        }
       ],
       "scored": true,
       "setup": "",
       "teardown": "",
       "type": "doctest"
      }
     ]
    },
    "q1_3": {
     "name": "q1_3",
     "points": 1,
     "suites": [
      {
       "cases": [
        {
         "code": ">>> \"eduyear\" in morg.columns and (morg.shape[1] == 72)\nTrue",
         "hidden": false,
         "locked": false,
         "points": 0
        }
       ],
       "scored": true,
       "setup": "",
       "teardown": "",
       "type": "doctest"
      }
     ]
    },
    "q1_4": {
     "name": "q1_4",
     "points": 2,
     "suites": [
      {
       "cases": [
        {
         "code": ">>> \"workertype\" in morg.columns and (morg.shape[1] == 73)\nTrue",
         "hidden": false,
         "locked": false,
         "points": 0
        },
        {
         "code": ">>> (morg['workertype'] == 'private').any() \nTrue",
         "hidden": false,
         "locked": false,
         "points": 0
        },
        {
         "code": ">>> len(morg[\"workertype\"].unique()) == 4\nTrue",
         "hidden": false,
         "locked": false,
         "points": 0.5
        }
       ],
       "scored": true,
       "setup": "",
       "teardown": "",
       "type": "doctest"
      }
     ]
    },
    "q2_1": {
     "name": "q2_1",
     "points": 2,
     "suites": [
      {
       "cases": [
        {
         "code": ">>> summary_stats.shape == (4, 5)\nTrue",
         "hidden": false,
         "locked": false,
         "points": 0
        },
        {
         "code": ">>> np.all(summary_stats.columns == ['workertype', 'mean', 'std', 'min', 'max'])\nTrue",
         "hidden": false,
         "locked": false,
         "points": 0
        }
       ],
       "scored": true,
       "setup": "",
       "teardown": "",
       "type": "doctest"
      }
     ]
    },
    "q2_4": {
     "name": "q2_4",
     "points": 3,
     "suites": [
      {
       "cases": [
        {
         "code": ">>> x.shape[1] == 7 and y.ndim == 1\nTrue",
         "hidden": false,
         "locked": false,
         "points": 0
        },
        {
         "code": ">>> np.isclose(xtrain.shape[0], 0.75 * x.shape[0])\nTrue",
         "hidden": false,
         "locked": false,
         "points": 0
        },
        {
         "code": ">>> np.random.seed(42)\n>>> idx = np.random.randint(100, size=10)\n>>> rand_test_xtest_1 = xtest[idx,:]\n>>> output = model.predict(rand_test_xtest_1)\n>>> assert len(output) == 10, \"The model prediction output has different dimension than inputs. \"\n>>> assert np.all([e in morg[\"workertype\"].unique() for e in output]), \"Invalid output. \"\n",
         "hidden": false,
         "locked": false,
         "points": 1
        }
       ],
       "scored": true,
       "setup": "",
       "teardown": "",
       "type": "doctest"
      }
     ]
    },
    "q3_1": {
     "name": "q3_1",
     "points": 1,
     "suites": [
      {
       "cases": [
        {
         "code": ">>> morg_housing.shape[0] < 40000 and morg_housing.shape[1] == 74\nTrue",
         "hidden": false,
         "locked": false,
         "points": 0
        }
       ],
       "scored": true,
       "setup": "",
       "teardown": "",
       "type": "doctest"
      }
     ]
    },
    "q3_2": {
     "name": "q3_2",
     "points": 3,
     "suites": [
      {
       "cases": [
        {
         "code": ">>> len(model_1.params) == 2\nTrue",
         "hidden": false,
         "locked": false,
         "points": 0
        },
        {
         "code": ">>> params_idx = ['const', 'local']\n>>> np.all([c in params_idx for c in model_1.params.index])\nTrue",
         "hidden": false,
         "locked": false,
         "points": 0.5
        }
       ],
       "scored": true,
       "setup": "",
       "teardown": "",
       "type": "doctest"
      }
     ]
    },
    "q3_3": {
     "name": "q3_3",
     "points": 3,
     "suites": [
      {
       "cases": [
        {
         "code": ">>> len(model_2.params) == 8\nTrue",
         "hidden": false,
         "locked": false,
         "points": 0
        },
        {
         "code": ">>> np.all([var in model_2.params for var in [\"male\", \"black\", \"hispanic\", \"age_sq\"]])\nTrue",
         "hidden": false,
         "locked": false,
         "points": 0
        }
       ],
       "scored": true,
       "setup": "",
       "teardown": "",
       "type": "doctest"
      }
     ]
    },
    "q3_4": {
     "name": "q3_4",
     "points": 2,
     "suites": [
      {
       "cases": [
        {
         "code": ">>> len(model_3.params) == 10\nTrue",
         "hidden": false,
         "locked": false,
         "points": 0
        }
       ],
       "scored": true,
       "setup": "",
       "teardown": "",
       "type": "doctest"
      }
     ]
    },
    "q3_5": {
     "name": "q3_5",
     "points": 2,
     "suites": [
      {
       "cases": [
        {
         "code": ">>> isinstance(q3_5_1, bool)\nTrue",
         "hidden": false,
         "locked": false,
         "points": 0
        },
        {
         "code": ">>> isinstance(q3_5_2, float) or isinstance(q3_5_2, np.float32) or isinstance(q3_5_2, np.float64)\nTrue",
         "hidden": false,
         "locked": false,
         "points": 0
        }
       ],
       "scored": true,
       "setup": "",
       "teardown": "",
       "type": "doctest"
      }
     ]
    }
   }
  }
 },
 "nbformat": 4,
 "nbformat_minor": 5
}
