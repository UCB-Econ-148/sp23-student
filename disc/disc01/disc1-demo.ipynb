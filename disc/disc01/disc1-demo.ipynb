{
 "cells": [
  {
   "cell_type": "markdown",
   "id": "e2ceffa0",
   "metadata": {},
   "source": [
    "# Discussion 1 Demo\n",
    "### Pandas Basics"
   ]
  },
  {
   "cell_type": "code",
   "execution_count": null,
   "id": "e558d143",
   "metadata": {},
   "outputs": [],
   "source": [
    "import pandas as pd"
   ]
  },
  {
   "cell_type": "code",
   "execution_count": null,
   "id": "e7fa1992",
   "metadata": {},
   "outputs": [],
   "source": []
  },
  {
   "cell_type": "markdown",
   "id": "1efa7fb6",
   "metadata": {},
   "source": [
    "# Dataframe"
   ]
  },
  {
   "cell_type": "code",
   "execution_count": null,
   "id": "fdc35673",
   "metadata": {},
   "outputs": [],
   "source": [
    "# stardew valley\n",
    "farm = pd.DataFrame(\n",
    "    {\n",
    "        \"Crop\": [\"Starfruit\", \"Sweet Gem Berry\", \"Red Cabbage\", \"Parsnip\", \"Pumpkin\"], \n",
    "        \"Price\": [750, 3000, 260, 35, 320], \n",
    "        \"Type\": [\"Fruit\", \"Fruit\", \"Vegetable\", \"Vegetable\", \"Vegetable\"], \n",
    "        \"Is red?\": [False, True, True, True, False]\n",
    "    }\n",
    ")\n",
    "farm"
   ]
  },
  {
   "cell_type": "code",
   "execution_count": null,
   "id": "2e4f90ca",
   "metadata": {},
   "outputs": [],
   "source": [
    "# exporting dataframe\n",
    "farm.to_csv(\"farm.csv\", index=False)"
   ]
  },
  {
   "cell_type": "code",
   "execution_count": null,
   "id": "50fb6678",
   "metadata": {},
   "outputs": [],
   "source": [
    "# importing dataframe\n",
    "farm = pd.read_csv(\"farm.csv\")\n",
    "farm"
   ]
  },
  {
   "cell_type": "markdown",
   "id": "13131773",
   "metadata": {},
   "source": [
    "# Series"
   ]
  },
  {
   "cell_type": "code",
   "execution_count": null,
   "id": "b76a321a",
   "metadata": {},
   "outputs": [],
   "source": [
    "farm[\"Crop\"]"
   ]
  },
  {
   "cell_type": "code",
   "execution_count": null,
   "id": "f5d6dc79",
   "metadata": {},
   "outputs": [],
   "source": [
    "farm[\"Is red?\"]"
   ]
  },
  {
   "cell_type": "code",
   "execution_count": null,
   "id": "75fa7d15",
   "metadata": {},
   "outputs": [],
   "source": [
    "farm[\"Price\"]"
   ]
  },
  {
   "cell_type": "code",
   "execution_count": null,
   "id": "12636129",
   "metadata": {},
   "outputs": [],
   "source": [
    "# series work like arrays\n",
    "farm[\"Price\"] * 148"
   ]
  },
  {
   "cell_type": "code",
   "execution_count": null,
   "id": "3e92d47f",
   "metadata": {},
   "outputs": [],
   "source": []
  },
  {
   "cell_type": "markdown",
   "id": "c764bcf5",
   "metadata": {},
   "source": [
    "# Select Columns"
   ]
  },
  {
   "cell_type": "code",
   "execution_count": null,
   "id": "42260e08",
   "metadata": {},
   "outputs": [],
   "source": [
    "farm[[\"Crop\"]]"
   ]
  },
  {
   "cell_type": "code",
   "execution_count": null,
   "id": "32a67c7f",
   "metadata": {},
   "outputs": [],
   "source": [
    "farm[[\"Crop\", \"Price\"]]"
   ]
  },
  {
   "cell_type": "code",
   "execution_count": null,
   "id": "c9ac7132",
   "metadata": {},
   "outputs": [],
   "source": []
  },
  {
   "cell_type": "markdown",
   "id": "09f9c71f",
   "metadata": {},
   "source": [
    "# loc"
   ]
  },
  {
   "cell_type": "code",
   "execution_count": null,
   "id": "4035ad29",
   "metadata": {},
   "outputs": [],
   "source": [
    "farm"
   ]
  },
  {
   "cell_type": "code",
   "execution_count": null,
   "id": "7f967989",
   "metadata": {},
   "outputs": [],
   "source": [
    "farm.loc[1:2]"
   ]
  },
  {
   "cell_type": "code",
   "execution_count": null,
   "id": "e415f078",
   "metadata": {},
   "outputs": [],
   "source": [
    "farm.loc[1:2, :]"
   ]
  },
  {
   "cell_type": "code",
   "execution_count": null,
   "id": "135dfb5f",
   "metadata": {},
   "outputs": [],
   "source": [
    "farm.loc[:, [\"Crop\",\"Price\"]]"
   ]
  },
  {
   "cell_type": "code",
   "execution_count": null,
   "id": "f848dc71",
   "metadata": {},
   "outputs": [],
   "source": [
    "farm.loc[1:2, [\"Crop\",\"Price\"]]"
   ]
  },
  {
   "cell_type": "code",
   "execution_count": null,
   "id": "3eadb4bd",
   "metadata": {},
   "outputs": [],
   "source": [
    "farm.loc[1:2, \"Crop\":\"Type\"]"
   ]
  },
  {
   "cell_type": "code",
   "execution_count": null,
   "id": "0b6bcc29",
   "metadata": {},
   "outputs": [],
   "source": [
    "farm_sorted = farm.sort_values(\"Price\")\n",
    "farm_sorted"
   ]
  },
  {
   "cell_type": "code",
   "execution_count": null,
   "id": "d26fc099",
   "metadata": {},
   "outputs": [],
   "source": [
    "farm_sorted.loc[0:2]"
   ]
  },
  {
   "cell_type": "code",
   "execution_count": null,
   "id": "8f8aef09",
   "metadata": {},
   "outputs": [],
   "source": []
  },
  {
   "cell_type": "markdown",
   "id": "7b9b87c3",
   "metadata": {},
   "source": [
    "# iloc"
   ]
  },
  {
   "cell_type": "code",
   "execution_count": null,
   "id": "1b98eead",
   "metadata": {},
   "outputs": [],
   "source": [
    "farm_sorted"
   ]
  },
  {
   "cell_type": "code",
   "execution_count": null,
   "id": "c744cb13",
   "metadata": {},
   "outputs": [],
   "source": [
    "farm_sorted.iloc[0:2] # iloc is right-end exclusive!"
   ]
  },
  {
   "cell_type": "code",
   "execution_count": null,
   "id": "2900f2ac",
   "metadata": {},
   "outputs": [],
   "source": [
    "farm_sorted.iloc[1:3, 1:3]"
   ]
  },
  {
   "cell_type": "code",
   "execution_count": null,
   "id": "bb2db091",
   "metadata": {},
   "outputs": [],
   "source": []
  },
  {
   "cell_type": "markdown",
   "id": "5a139252",
   "metadata": {},
   "source": [
    "# Boolean filtering"
   ]
  },
  {
   "cell_type": "code",
   "execution_count": null,
   "id": "5d4f762d",
   "metadata": {},
   "outputs": [],
   "source": [
    "farm"
   ]
  },
  {
   "cell_type": "code",
   "execution_count": null,
   "id": "1ac86678",
   "metadata": {},
   "outputs": [],
   "source": [
    "farm[farm[\"Price\"] > 300]"
   ]
  },
  {
   "cell_type": "code",
   "execution_count": null,
   "id": "9b184260",
   "metadata": {},
   "outputs": [],
   "source": [
    "farm[farm[\"Type\"] == \"Vegetable\"]"
   ]
  },
  {
   "cell_type": "code",
   "execution_count": null,
   "id": "ed96262e",
   "metadata": {},
   "outputs": [],
   "source": [
    "farm[(farm[\"Price\"] > 300) & (farm[\"Type\"] == \"Vegetable\")] # '&' means AND, '|' means OR"
   ]
  },
  {
   "cell_type": "code",
   "execution_count": null,
   "id": "df81fe69",
   "metadata": {},
   "outputs": [],
   "source": []
  },
  {
   "cell_type": "code",
   "execution_count": null,
   "id": "57c32e0b",
   "metadata": {},
   "outputs": [],
   "source": [
    "farm"
   ]
  },
  {
   "cell_type": "code",
   "execution_count": null,
   "id": "6ad5c3fe",
   "metadata": {},
   "outputs": [],
   "source": [
    "my_fav_produce = [\"Radish\", \"Tomato\", \"Pumpkin\", \"Starfruit\"]\n",
    "farm[farm[\"Crop\"].isin(my_fav_produce)]"
   ]
  },
  {
   "cell_type": "code",
   "execution_count": null,
   "id": "b3ae7bfc",
   "metadata": {},
   "outputs": [],
   "source": []
  },
  {
   "cell_type": "markdown",
   "id": "b166138c",
   "metadata": {},
   "source": [
    "# Merge"
   ]
  },
  {
   "cell_type": "code",
   "execution_count": null,
   "id": "4ef1d06e",
   "metadata": {},
   "outputs": [],
   "source": [
    "shop = pd.DataFrame(\n",
    "    {\n",
    "        \"Type\": [\"Vegetable\", \"Egg\"], \n",
    "        \"On sale\": [True, False]\n",
    "    }\n",
    ")\n",
    "shop"
   ]
  },
  {
   "cell_type": "code",
   "execution_count": null,
   "id": "7a38985f",
   "metadata": {},
   "outputs": [],
   "source": [
    "farm.merge(shop)"
   ]
  },
  {
   "cell_type": "code",
   "execution_count": null,
   "id": "fa948874",
   "metadata": {},
   "outputs": [],
   "source": [
    "# retain the rows that are available in both dataframes\n",
    "farm.merge(shop, on=\"Type\", how=\"inner\")"
   ]
  },
  {
   "cell_type": "code",
   "execution_count": null,
   "id": "f86eea09",
   "metadata": {},
   "outputs": [],
   "source": [
    "# retain all the rows\n",
    "farm.merge(shop, on=\"Type\", how=\"outer\")"
   ]
  },
  {
   "cell_type": "code",
   "execution_count": null,
   "id": "561f0b60",
   "metadata": {},
   "outputs": [],
   "source": [
    "# retain all the rows that are available in the left dataframe\n",
    "farm.merge(shop, on=\"Type\", how=\"left\")"
   ]
  },
  {
   "cell_type": "code",
   "execution_count": null,
   "id": "15a76325",
   "metadata": {},
   "outputs": [],
   "source": [
    "# retain all the rows that are available in the right dataframe\n",
    "farm.merge(shop, on=\"Type\", how=\"right\")"
   ]
  },
  {
   "cell_type": "code",
   "execution_count": null,
   "id": "0c8d552e",
   "metadata": {},
   "outputs": [],
   "source": []
  },
  {
   "cell_type": "code",
   "execution_count": null,
   "id": "7dcfd644",
   "metadata": {},
   "outputs": [],
   "source": [
    "another_shop = pd.DataFrame(\n",
    "    {\n",
    "        \"goods\": [\"Fruit\", \"Vegetable\", \"Egg\", \"Fish\"], \n",
    "        \"On sale\": [True, False, False, False]\n",
    "    }\n",
    ")\n",
    "another_shop"
   ]
  },
  {
   "cell_type": "code",
   "execution_count": null,
   "id": "d368226d",
   "metadata": {},
   "outputs": [],
   "source": [
    "# use left_on right_on when the column names are not the same\n",
    "farm.merge(another_shop, left_on=\"Type\", right_on=\"goods\", how=\"inner\")"
   ]
  },
  {
   "cell_type": "code",
   "execution_count": null,
   "id": "ed238e08",
   "metadata": {},
   "outputs": [],
   "source": []
  },
  {
   "cell_type": "code",
   "execution_count": null,
   "id": "1936629a",
   "metadata": {},
   "outputs": [],
   "source": []
  },
  {
   "cell_type": "code",
   "execution_count": null,
   "id": "61c3deb3",
   "metadata": {},
   "outputs": [],
   "source": [
    "## The following will NOT be needed for lab 1"
   ]
  },
  {
   "cell_type": "markdown",
   "id": "3a0bfa27",
   "metadata": {},
   "source": [
    "# Groupby"
   ]
  },
  {
   "cell_type": "code",
   "execution_count": null,
   "id": "9f9dd822",
   "metadata": {},
   "outputs": [],
   "source": [
    "farm"
   ]
  },
  {
   "cell_type": "code",
   "execution_count": null,
   "id": "046a8d50",
   "metadata": {},
   "outputs": [],
   "source": [
    "farm.groupby(\"Type\").mean()"
   ]
  },
  {
   "cell_type": "code",
   "execution_count": null,
   "id": "d34094f4",
   "metadata": {},
   "outputs": [],
   "source": [
    "farm.groupby(\"Type\")[[\"Price\"]].mean()"
   ]
  },
  {
   "cell_type": "code",
   "execution_count": null,
   "id": "2db44888",
   "metadata": {},
   "outputs": [],
   "source": [
    "farm.groupby(\"Type\")[[\"Price\"]].mean().reset_index()"
   ]
  },
  {
   "cell_type": "code",
   "execution_count": null,
   "id": "b11cf84a",
   "metadata": {},
   "outputs": [],
   "source": [
    "farm.groupby(\"Type\")[[\"Price\"]].median().reset_index()"
   ]
  },
  {
   "cell_type": "code",
   "execution_count": null,
   "id": "cfa5a1ec",
   "metadata": {},
   "outputs": [],
   "source": [
    "farm.groupby(\"Type\")[[\"Price\"]].sum().reset_index()"
   ]
  },
  {
   "cell_type": "code",
   "execution_count": null,
   "id": "3ae0c7f8",
   "metadata": {},
   "outputs": [],
   "source": [
    "farm.groupby(\"Type\")[[\"Price\"]].first().reset_index()"
   ]
  },
  {
   "cell_type": "code",
   "execution_count": null,
   "id": "04c19894",
   "metadata": {},
   "outputs": [],
   "source": [
    "farm.groupby(\"Type\")[[\"Price\"]].min().reset_index()"
   ]
  },
  {
   "cell_type": "code",
   "execution_count": null,
   "id": "276316cc",
   "metadata": {},
   "outputs": [],
   "source": [
    "def my_agg_func(c):\n",
    "    return 42"
   ]
  },
  {
   "cell_type": "code",
   "execution_count": null,
   "id": "7da322da",
   "metadata": {},
   "outputs": [],
   "source": [
    "farm.groupby(\"Type\")[[\"Price\"]].agg(my_agg_func).reset_index()"
   ]
  },
  {
   "cell_type": "code",
   "execution_count": null,
   "id": "42162930",
   "metadata": {},
   "outputs": [],
   "source": []
  },
  {
   "cell_type": "code",
   "execution_count": null,
   "id": "9508176d",
   "metadata": {},
   "outputs": [],
   "source": [
    "farm"
   ]
  },
  {
   "cell_type": "code",
   "execution_count": null,
   "id": "b44a7109",
   "metadata": {},
   "outputs": [],
   "source": [
    "farm.groupby(\"Type\").filter(lambda df: df[\"Price\"].mean() > 500)"
   ]
  },
  {
   "cell_type": "code",
   "execution_count": null,
   "id": "22f45250",
   "metadata": {},
   "outputs": [],
   "source": []
  },
  {
   "cell_type": "markdown",
   "id": "01103daa",
   "metadata": {},
   "source": [
    "# Pivot table"
   ]
  },
  {
   "cell_type": "code",
   "execution_count": null,
   "id": "9d576ab8",
   "metadata": {},
   "outputs": [],
   "source": [
    "pt_farm = pd.pivot_table(data=farm, index=\"Type\", columns=\"Is red?\", values=\"Price\", aggfunc=sum)\n",
    "pt_farm"
   ]
  },
  {
   "cell_type": "code",
   "execution_count": null,
   "id": "31a0fcd0",
   "metadata": {},
   "outputs": [],
   "source": []
  },
  {
   "cell_type": "markdown",
   "id": "731f392c",
   "metadata": {},
   "source": [
    "# Melt"
   ]
  },
  {
   "cell_type": "code",
   "execution_count": null,
   "id": "952ea72e",
   "metadata": {},
   "outputs": [],
   "source": [
    "pt_farm = pt_farm.reset_index()\n",
    "pt_farm"
   ]
  },
  {
   "cell_type": "code",
   "execution_count": null,
   "id": "e7be11b5",
   "metadata": {},
   "outputs": [],
   "source": [
    "pd.melt(pt_farm, id_vars=['Type'], value_vars=[False, True])"
   ]
  },
  {
   "cell_type": "code",
   "execution_count": null,
   "id": "778b2ce5",
   "metadata": {},
   "outputs": [],
   "source": []
  }
 ],
 "metadata": {
  "kernelspec": {
   "display_name": "Python 3 (ipykernel)",
   "language": "python",
   "name": "python3"
  },
  "language_info": {
   "codemirror_mode": {
    "name": "ipython",
    "version": 3
   },
   "file_extension": ".py",
   "mimetype": "text/x-python",
   "name": "python",
   "nbconvert_exporter": "python",
   "pygments_lexer": "ipython3",
   "version": "3.9.15"
  }
 },
 "nbformat": 4,
 "nbformat_minor": 5
}
