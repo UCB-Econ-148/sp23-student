{
 "cells": [
  {
   "cell_type": "markdown",
   "id": "e2ceffa0",
   "metadata": {},
   "source": [
    "# Discussion 2 Demo\n",
    "### APIs"
   ]
  },
  {
   "cell_type": "code",
   "execution_count": null,
   "id": "e558d143",
   "metadata": {},
   "outputs": [],
   "source": [
    "import requests\n",
    "import pandas as pd\n",
    "import matplotlib.pyplot as plt\n",
    "from urllib.parse import urlencode"
   ]
  },
  {
   "cell_type": "code",
   "execution_count": null,
   "id": "e7fa1992",
   "metadata": {},
   "outputs": [],
   "source": []
  },
  {
   "cell_type": "markdown",
   "id": "73ca1966",
   "metadata": {},
   "source": [
    "## FRED API\n",
    "[Federal Reserve Economic Data (FRED)](https://fred.stlouisfed.org/) is the home to thousands of easily accessible economic data--a classical and very accessible data source for economists and business analysts. FRED's API provides a channel for researchers and analysts to use FRED's data easily. "
   ]
  },
  {
   "cell_type": "code",
   "execution_count": null,
   "id": "9b95f8db",
   "metadata": {},
   "outputs": [],
   "source": [
    "# demo: get the data for real GDP from FRED using their website"
   ]
  },
  {
   "cell_type": "code",
   "execution_count": null,
   "id": "7779b715",
   "metadata": {},
   "outputs": [],
   "source": []
  },
  {
   "cell_type": "markdown",
   "id": "225e474e",
   "metadata": {},
   "source": [
    "Now we will turn to using its API. \n",
    "\n",
    "[FRED API documentation](https://fred.stlouisfed.org/docs/api/fred/)"
   ]
  },
  {
   "cell_type": "code",
   "execution_count": null,
   "id": "6d244cb6",
   "metadata": {},
   "outputs": [],
   "source": [
    "# note: I'm leaving my API key here for demo purposes, but this is something that you should NEVER do. "
   ]
  },
  {
   "cell_type": "markdown",
   "id": "96e4a168",
   "metadata": {},
   "source": [
    "Case 1: We want to get real GDP data. "
   ]
  },
  {
   "cell_type": "markdown",
   "id": "e7161d37",
   "metadata": {},
   "source": [
    "https://api.stlouisfed.org/fred/series/observations?series_id=GDPC1&file_type=json&api_key=dab081fe5e028d7fc65114e0c7f2cf6b\n",
    "\n",
    "- Base URL: `https://api.stlouisfed.org`\n",
    "- Endpoint: `/fred/series/observations`\n",
    "- Parameters: \n",
    "    - `series_id=GDPC1`\n",
    "    - `file_type=json`\n",
    "    - `api_key=dab081fe5e028d7fc65114e0c7f2cf6b`"
   ]
  },
  {
   "cell_type": "code",
   "execution_count": null,
   "id": "b7b84f60",
   "metadata": {},
   "outputs": [],
   "source": []
  },
  {
   "cell_type": "markdown",
   "id": "72ce0a60",
   "metadata": {},
   "source": [
    "Case 2: We want to get real GDP data **starting from 2000 to 2010**. "
   ]
  },
  {
   "cell_type": "markdown",
   "id": "330231a0",
   "metadata": {},
   "source": [
    "https://api.stlouisfed.org/fred/series/observations?series_id=GDPC1&observation_start=2000-01-01&observation_end=2010-12-31&file_type=json&api_key=dab081fe5e028d7fc65114e0c7f2cf6b\n",
    "\n",
    "- Base URL: `https://api.stlouisfed.org`\n",
    "- Endpoint: `/fred/series/observations`\n",
    "- Parameters: \n",
    "    - `series_id=GDPC1`\n",
    "    - `file_type=json`\n",
    "    - `api_key=dab081fe5e028d7fc65114e0c7f2cf6b`\n",
    "    - **`observation_start=2000-01-01`**\n",
    "    - **`observation_end=2010-12-31`**"
   ]
  },
  {
   "cell_type": "code",
   "execution_count": null,
   "id": "f63bbeba",
   "metadata": {},
   "outputs": [],
   "source": []
  },
  {
   "cell_type": "markdown",
   "id": "21599385",
   "metadata": {},
   "source": [
    "Case 3: We want to get **quarterly** real GDP data starting from 2000 to 2010. "
   ]
  },
  {
   "cell_type": "markdown",
   "id": "dab0e509",
   "metadata": {},
   "source": [
    "https://api.stlouisfed.org/fred/series/observations?series_id=GDPC1&observation_start=2000-01-01&observation_end=2010-12-31&frequency=q&file_type=json&api_key=dab081fe5e028d7fc65114e0c7f2cf6b\n",
    "\n",
    "- Base URL: `https://api.stlouisfed.org`\n",
    "- Endpoint: `/fred/series/observations`\n",
    "- Parameters: \n",
    "    - `series_id=GDPC1`\n",
    "    - `file_type=json`\n",
    "    - `api_key=dab081fe5e028d7fc65114e0c7f2cf6b`\n",
    "    - `observation_start=2000-01-01`\n",
    "    - `observation_end=2010-12-31`\n",
    "    - **`frequency=q`**"
   ]
  },
  {
   "cell_type": "code",
   "execution_count": null,
   "id": "03097be3",
   "metadata": {},
   "outputs": [],
   "source": []
  },
  {
   "cell_type": "markdown",
   "id": "adc0138e",
   "metadata": {},
   "source": [
    "Case 4: We want to get quarterly **year-on-year real GDP growth** data starting from 2000 to 2010. "
   ]
  },
  {
   "cell_type": "markdown",
   "id": "098b1b64",
   "metadata": {},
   "source": [
    "https://api.stlouisfed.org/fred/series/observations?series_id=GDPC1&observation_start=2000-01-01&observation_end=2010-12-31&frequency=q&units=pc1&file_type=json&api_key=dab081fe5e028d7fc65114e0c7f2cf6b\n",
    "\n",
    "- Base URL: `https://api.stlouisfed.org`\n",
    "- Endpoint: `/fred/series/observations`\n",
    "- Parameters: \n",
    "    - `series_id=GDPC1`\n",
    "    - `file_type=json`\n",
    "    - `api_key=dab081fe5e028d7fc65114e0c7f2cf6b`\n",
    "    - `observation_start=2000-01-01`\n",
    "    - `observation_end=2010-12-31`\n",
    "    - `frequency=q`\n",
    "    - **`units=pc1`**"
   ]
  },
  {
   "cell_type": "code",
   "execution_count": null,
   "id": "72fe7020",
   "metadata": {},
   "outputs": [],
   "source": []
  },
  {
   "cell_type": "markdown",
   "id": "92111aa9",
   "metadata": {},
   "source": [
    "## How to write API queries"
   ]
  },
  {
   "cell_type": "markdown",
   "id": "785f7fda",
   "metadata": {},
   "source": [
    "### Encode the parameters\n",
    "Note: Using `urlencode` isn't a necessary step. It just makes the fetching looks more organized and systematic.  "
   ]
  },
  {
   "cell_type": "code",
   "execution_count": null,
   "id": "38de9224",
   "metadata": {},
   "outputs": [],
   "source": [
    "my_params = {\n",
    "    \"series_id\": \"GDPC1\", \n",
    "    \"file_type\": \"json\", \n",
    "}"
   ]
  },
  {
   "cell_type": "code",
   "execution_count": null,
   "id": "50d88c56",
   "metadata": {},
   "outputs": [],
   "source": [
    "urlencode(my_params)"
   ]
  },
  {
   "cell_type": "code",
   "execution_count": null,
   "id": "7d806882",
   "metadata": {},
   "outputs": [],
   "source": []
  },
  {
   "cell_type": "code",
   "execution_count": null,
   "id": "4bcead71",
   "metadata": {},
   "outputs": [],
   "source": [
    "params = {\n",
    "    \"series_id\": \"GDPC1\", \n",
    "    \"file_type\": \"json\", \n",
    "    \"api_key\": \"dab081fe5e028d7fc65114e0c7f2cf6b\", \n",
    "    \"observation_start\": \"2000-01-01\", \n",
    "    \"observation_end\": \"2010-12-31\", \n",
    "    \"frequency\": \"q\", \n",
    "    \"units\": \"pc1\"\n",
    "}"
   ]
  },
  {
   "cell_type": "code",
   "execution_count": null,
   "id": "1f1e5605",
   "metadata": {},
   "outputs": [],
   "source": [
    "urlencode(params)"
   ]
  },
  {
   "cell_type": "code",
   "execution_count": null,
   "id": "c2f83e54",
   "metadata": {},
   "outputs": [],
   "source": []
  },
  {
   "cell_type": "markdown",
   "id": "61d76846",
   "metadata": {},
   "source": [
    "### Forming URLs"
   ]
  },
  {
   "cell_type": "markdown",
   "id": "0f6e77a1",
   "metadata": {},
   "source": [
    "Now we want to get the URLs that we had before. "
   ]
  },
  {
   "cell_type": "code",
   "execution_count": null,
   "id": "00dd8de9",
   "metadata": {},
   "outputs": [],
   "source": [
    "base_url = \"https://api.stlouisfed.org\"\n",
    "endpoint = \"/fred/series/observations\"\n",
    "url_params = urlencode(params)"
   ]
  },
  {
   "cell_type": "code",
   "execution_count": null,
   "id": "c8332d77",
   "metadata": {},
   "outputs": [],
   "source": [
    "url = base_url + endpoint + \"?\" + url_params\n",
    "url"
   ]
  },
  {
   "cell_type": "code",
   "execution_count": null,
   "id": "a1b3dd54",
   "metadata": {},
   "outputs": [],
   "source": [
    "# or using f-strings\n",
    "url = f\"{base_url}{endpoint}?{url_params}\"\n",
    "url"
   ]
  },
  {
   "cell_type": "markdown",
   "id": "a13915d4",
   "metadata": {},
   "source": [
    "### Using `requests`"
   ]
  },
  {
   "cell_type": "code",
   "execution_count": null,
   "id": "5fea11ef",
   "metadata": {},
   "outputs": [],
   "source": [
    "res = requests.get(url)\n",
    "res"
   ]
  },
  {
   "cell_type": "code",
   "execution_count": null,
   "id": "9145b323",
   "metadata": {},
   "outputs": [],
   "source": [
    "# check if the request goes through\n",
    "res.status_code"
   ]
  },
  {
   "cell_type": "code",
   "execution_count": null,
   "id": "9291ccd2",
   "metadata": {},
   "outputs": [],
   "source": [
    "# 404: not found\n",
    "not_found_url = \"https://api.stlouisfed.org/ec148?series_id=GDPC1\"\n",
    "requests.get(not_found_url).status_code"
   ]
  },
  {
   "cell_type": "code",
   "execution_count": null,
   "id": "2ad1d916",
   "metadata": {},
   "outputs": [],
   "source": [
    "# 400: bad request\n",
    "bad_request_url = \"https://api.stlouisfed.org/fred/series/observations?ec148=GDPC1\"\n",
    "requests.get(bad_request_url).status_code"
   ]
  },
  {
   "cell_type": "markdown",
   "id": "ad76e741",
   "metadata": {},
   "source": [
    "A list of HTTP status codes is available [here](https://en.wikipedia.org/wiki/List_of_HTTP_status_codes). Generally, a status code within 200-299 indicates success. "
   ]
  },
  {
   "cell_type": "code",
   "execution_count": null,
   "id": "38b0e9a9",
   "metadata": {},
   "outputs": [],
   "source": []
  },
  {
   "cell_type": "code",
   "execution_count": null,
   "id": "af21b1e9",
   "metadata": {},
   "outputs": [],
   "source": [
    "res.json()"
   ]
  },
  {
   "cell_type": "code",
   "execution_count": null,
   "id": "72cddbdf",
   "metadata": {},
   "outputs": [],
   "source": [
    "res.json()[\"observations\"]"
   ]
  },
  {
   "cell_type": "code",
   "execution_count": null,
   "id": "92952715",
   "metadata": {},
   "outputs": [],
   "source": []
  },
  {
   "cell_type": "markdown",
   "id": "f0e23f3c",
   "metadata": {},
   "source": [
    "### Turning the json data into a dataframe"
   ]
  },
  {
   "cell_type": "code",
   "execution_count": null,
   "id": "bfdb869a",
   "metadata": {},
   "outputs": [],
   "source": [
    "pd.DataFrame(res.json()[\"observations\"])"
   ]
  },
  {
   "cell_type": "code",
   "execution_count": null,
   "id": "456319d7",
   "metadata": {},
   "outputs": [],
   "source": [
    "# we don't need the realtime_start and realtime_end columns\n",
    "pd.DataFrame(res.json()[\"observations\"])[[\"date\", \"value\"]]"
   ]
  },
  {
   "cell_type": "code",
   "execution_count": null,
   "id": "96dbf879",
   "metadata": {},
   "outputs": [],
   "source": []
  }
 ],
 "metadata": {
  "kernelspec": {
   "display_name": "Python 3 (ipykernel)",
   "language": "python",
   "name": "python3"
  },
  "language_info": {
   "codemirror_mode": {
    "name": "ipython",
    "version": 3
   },
   "file_extension": ".py",
   "mimetype": "text/x-python",
   "name": "python",
   "nbconvert_exporter": "python",
   "pygments_lexer": "ipython3",
   "version": "3.9.15"
  }
 },
 "nbformat": 4,
 "nbformat_minor": 5
}
