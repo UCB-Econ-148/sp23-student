{
 "cells": [
  {
   "cell_type": "markdown",
   "metadata": {},
   "source": [
    "# ECON 148 Final Project Template\n",
    "### Spring 2023\n",
    "\n",
    "\n",
    "Prof: Eric Van Dusen  \n",
    "TAs: Yiyang Chen, Peter Grinde-Hollevik"
   ]
  },
  {
   "cell_type": "markdown",
   "metadata": {},
   "source": [
    "### How to use this template: \n",
    "* Follow the format and sequencing of sections\n",
    "* Edit the markdown cells to be specific to your project\n",
    "* Put the code you use to accomplish the tasks of each section in between each markdown cell\n",
    "* Delete this cell before you hand in the notebook\n",
    "* As with homeworks, you'll hand in a `.ipynb` file and a `.pdf` file; we'll also ask you to make your data available "
   ]
  },
  {
   "cell_type": "markdown",
   "metadata": {
    "id": "a5j45okXqyhW"
   },
   "source": [
    "# YOUR TITLE HERE\n",
    "\n",
    "### Group Members: \n",
    "_Group member names here_\n",
    "\n",
    "In this cell, replace the text above with your project title.  Then give an alphabetical (by last name) list of student group members.  Beside each student's name, provide a description of each student's contribution to the project, and an estimate of the number of hours each student put into the effort.  "
   ]
  },
  {
   "cell_type": "markdown",
   "metadata": {
    "id": "Umm4luM_qyhX"
   },
   "source": [
    "## Project Requirements \n",
    "**(delete this markdown cell in your final submission)**\n",
    "\n",
    "**How to use this notebook**:  This notebook is the template for your final project (Project 3).  Each markdown cell provides instructions on what to do in order to complete a successful project.  The cell you're reading right now is the only one you can delete from what you eventually hand in.  For the other cells:\n",
    "1. You may replace the instructions in each cell with your own work but do not edit the cell titles (with the exception of the project title, above).  \n",
    "2. Follow the instructions in each section carefully.  For some sections you will enter only markdown text in the existing cells. For other sections, you'll accompany the markdown cells with additional code cells, and perhaps more markdown, before moving on to the next section.  \n",
    "\n",
    "**Deliverables**.  You'll see point allocations listed in each of the section titles below.  In addition, there are other categories for points: \n",
    "1. Abstract (5 points).\n",
    "2. Project background (5 points).\n",
    "3. Project objective (5 points).\n",
    "4. Data description (5 points).\n",
    "5. Data cleaning (5 points).\n",
    "6. Exploratory Data Analysis (20 points).\n",
    "7. Modeling (20 points).\n",
    "8. Interpretation and Conclusions (20 points).\n",
    "9. Post-Analysis Reproducibility (10 points). By the project deadline, you should have shared your Google Colab (or equivalent) link on this [sheet](https://docs.google.com/spreadsheets/d/15oNmFwpjSHifnyPvJJ8Gv3ECNOPKHsIWvvt0EbkyXVU/edit?usp=sharing). Each group will be randomly assigned another group's link to check and run without problems. This part is to make sure we're building replicable and reusable code. Please refer to [section 9](https://docs.google.com/presentation/d/12eIuPKYZ8PMysm0pSxoClnh4YOQFRqHO6qVv2SN23Xc/edit?usp=share_link) for best practices on how to do this.  \n",
    "10. Clarity, Style and Presentation (5 points). Note that clarity also supports points elsewhere, because if we can't understand what you're explaining, we'll assume you didn't understand what you were doing and give points accordingly!  \n",
    "\n",
    "**Grading**. For each section, we will award points according to the following percentage scale:\n",
    "1. Excellent (above 90%): Work that is free of all but the most minor errors and demonstrates creativity and/or a very deep understanding of what you are doing.\n",
    "2. Good (80-90%): Work that is free of fundamental errors and demonstrates a basic understanding of what you're doing.\n",
    "3. Fair (60-80%): Work with fundamental errors in analysis and/or conveys a lack of understanding of the basics of the work you are attempting to do.\n",
    "4. Lacking (below 60%): Work that is severely lacking or incomplete.  \n",
    "\n",
    "Note that we distinguish **mistakes** from **\"my idea didn't work\"**.  Sometimes you don't know if you can actually do the thing you're trying to do and as you dig in you find that you can't.  That doesn't necessarily mean you made a mistake; it might just mean you needed more information.  We'll still give high marks to ambitious projects that \"fail\" at their stated objective, as long as that objective was clear and you demonstrate an understanding of what you were doing and why it didn't work.\n",
    "\n",
    "**Number of prediction questions:**  Your group should work with **two** prediction questions in the project. Questions should be related, but have distinct work efforts, interpretation and analysis. See Modeling section for more detail. \n",
    "\n",
    "An example: for land use regression (see section notebook 11), you could have a core prediction question (what is pollution concentration on a fine spatial scale), a supporting question that explore how the degree of spatial aggregation influences prediction quality, plus a prediction model that explores *temporal* prediction at one point in space.  There is a lot of flexibility here; if you have any doubt about whether your questions are distinct, consult with Peter, Yiyang, or Prof. Van Dusen."
   ]
  },
  {
   "cell_type": "markdown",
   "metadata": {},
   "source": [
    "## Source Data - Opportunity Insights\n",
    "\n",
    "In order to make the project consistent across teams, we are limiting the project to a specific set of datasets that are linked to economics journal articles.  \n",
    "\n",
    "Browse and choose one of the datasets from Harvard Professor Raj Chetty's [Equality of Opportunity Project](http://www.equality-of-opportunity.org/data/). You will find them neatly presented (and mostly cleaned) together with the title of the corresponding research paper. \n",
    "\n",
    "You should start by reading the accompanying paper, and start your analysis by exploring some of the claims or analysis that you find in the paper (it is not your goal to fully replicate the analysis in the paper). You should then propose some new analysis that you can do with the dataset. \n"
   ]
  },
  {
   "cell_type": "markdown",
   "metadata": {
    "id": "pKWdINFZqyhY"
   },
   "source": [
    "## Abstract (5 points)\n",
    "Although this section comes first, you'll write it last.  It should be a ~150 word summary of your project.  1/3rd of the abstract should provide background, 1/3rd should explain what you did, and 1/3rd should explain what you learned."
   ]
  },
  {
   "cell_type": "markdown",
   "metadata": {
    "id": "2SmFenIhqyhY"
   },
   "source": [
    "## Project Background (5 points)\n",
    "In this section you will describe relevant background for your project. You are expected to identify and read the journal article that the dataset is supporting. You should review any claims in the article that you pursue in your analysis.   It should give enough information that a non-expert can understand in detail the history and / or context of the system or setting you wish to study, the need for quantitative analysis, and, broadly, what impact a quantitative analyses could have on the system.  Shoot for 350 words here."
   ]
  },
  {
   "cell_type": "markdown",
   "metadata": {
    "id": "Uu9JTpv-qyhZ"
   },
   "source": [
    "## Project Objective (5 points)\n",
    "In this section you will pose the central objective or objectives for your semester project.  Objectives should be extremely clear, well-defined and clearly cast as prediction or inference problems.  \n",
    "\n",
    "Some examples of prediction questions (from a wide range of topics, not only economics!)\n",
    "1. _\"The purpose of this project is to measure the impacts of location on innovation by a predition model on innovation based on geographic indicators.\"_ or\n",
    "2. _\"The purpose of this project is to train and evaluate different models to predict inter-generational mobility based on characteristics of where a person group up.\"_ or\n",
    "3. _\"The purpose of this project is to build a classifier for universities where a student has a high chance of social mobility.\"_\n",
    "\n",
    "If you have an inference problem, please state your regression specification in Latex or an equivalent here.\n",
    "\n",
    "You should reflect here on why it's important to answer these questions.  In most cases this will mean that you'll frame the answers to your questions as informing one or more economic decisions / questions. If you have done a good job of providing project background (in the cell above) then this reflection will be short and easy to write.\n",
    "\n",
    "**Comment on novelty:** You may start with an analysis that recreates some claim from the existing paper. However you should also seek to provide some new analysis that is not in the related paper. "
   ]
  },
  {
   "cell_type": "markdown",
   "metadata": {
    "id": "lhaahw4dqyhZ"
   },
   "source": [
    "## Data Description (5 points)\n",
    "Here you will provide an initial description of your data sets, including:\n",
    "1. The origins of your data.  What is the corresponding paper of your data?\n",
    "2. The structure, granularity, scope, temporality and faithfulness (SGSTF) of your data.  To discuss these attributes you should load the data into one or more data frames (so you'll start building code cells for the first time).  At a minimum, use some basic methods (`.head`, `.loc`, and so on) to provide support for the descriptions you provide for SGSTF. \n",
    "3. You should also describe which data fields you will use as your target variables (explained variables), and which you will use as features (explanatory variables).  \n",
    "\n",
    "You will want to read the paper carefully and summarize in your own words how the Opportunity Insights team has constructed the datasets.  "
   ]
  },
  {
   "cell_type": "markdown",
   "metadata": {
    "id": "0E4bGyOnqyha"
   },
   "source": [
    "## Data Cleaning (5 points)\n",
    "In this section you will walk through the data cleaning and merging process.  Explain how you make decisions to clean and merge the data.  Explain how you convince yourself that the data don't contain problems that will limit your ability to produce a meaningful analysis from them.   "
   ]
  },
  {
   "cell_type": "markdown",
   "metadata": {
    "id": "Q2kmDu5Sqyha"
   },
   "source": [
    "## Exploratory Data Analysis (20 points)\n",
    "\n",
    "In this section you should provide a tour through some of the basic trends and patterns in your data.  This includes providing initial plots to summarize the data, such as box plots, histograms, violin plots, trends over time, scatter plots relating one variable or another etc. Plots should be well organized, legible, labeled, and well-suited to the question they are being used to answer or explore.  \n",
    "\n",
    "Because so many of these datasets have a geographic component a strech goal would be to map some of the data with the variables of interest. This is not required though. "
   ]
  },
  {
   "cell_type": "markdown",
   "metadata": {
    "id": "I6qh5Pjcqyhb"
   },
   "source": [
    "## Modeling (20 points)\n",
    "\n",
    "This section is where the rubber meets the road. As a reminder: your group should work on **two** prediction questions in the project. Questions should be related, but have distinct work efforts, interpretation and analysis. \n",
    "\n",
    "In this section you must:\n",
    "1. Explore at least 2 modeling techniques for **each** prediction or inference question, ranging from the simple (e.g. simple linear regression like OLS) to the complex (e.g. Lasso, Ridge, or [more](https://scikit-learn.org/stable/index.html)). You may also work on classification and/or clustering as one of your model. It may be beneficial to compare a supervised model (e.g. regression, classification) to an unsupervised model (e.g. clustering).  \n",
    "2. Motivate all your modeling decisions.  This includes **feature choices** (e.g. why do you include these variables in the regression), **parameter choices** (e.g. how many folds in [k-fold cross validation](https://machinelearningmastery.com/k-fold-cross-validation/), what time window you use for averaging your data, how many clusters in clustering) as well as **model form** (e.g., If you use LASSO, why?  If you include nonlinear features in a regression model, why?). \n",
    "3. Carefully describe your [model selection](https://en.wikipedia.org/wiki/Model_selection) process (including [cross validation](https://scikit-learn.org/stable/modules/generated/sklearn.model_selection.cross_validate.html) if any). If you are working on forecasting and prediction models (e.g. classification, time series models), you should partition your data into [training and testing sets](https://en.wikipedia.org/wiki/Training,_validation,_and_test_data_sets). The training data set is what you use for cross-validation (i.e. you sample from within it to create folds, etc.).  The testing data set is held to the very end of your efforts, and used to compare different models. This is also a great place to visualize how you've used the bias-variance tradeoff plot in your decision behind the complexity of your models.\n",
    "4. Be very carefully documenting your workflow. Make sure to explain each basic step in your analysis. Include comments!   \n",
    "5. Seek opportunities to write functions that allow you to avoid doing things over and over, and that make your code more succinct and readable. This is especially helpful when you're deploying a multitude of models."
   ]
  },
  {
   "cell_type": "markdown",
   "metadata": {
    "id": "HSk4555Rqyhc"
   },
   "source": [
    "## Interpretation and Conclusions (20 points)\n",
    "In this section you must relate your modeling and forecasting results to your original prediction question.  You must:\n",
    "1. Address an economic question.  What do the answers mean? What advice would you give a decision maker on the basis of your results?  How might they allocate their resources differently or change their decisions with the results of your model?  Why should the reader care about your results?\n",
    "2. Discuss caveats and / or reasons your results might be flawed.  No model is perfect, and understanding a model's imperfections is extremely important for the purpose of knowing how to interpret your results.  Often, we know the model output is wrong but we can assign a direction for its bias.  This helps to understand whether or not your answers are conservative.  \n",
    "\n",
    "Shoot for 500 words for this section."
   ]
  },
  {
   "cell_type": "markdown",
   "metadata": {
    "id": "n7Uzby6q0ky9"
   },
   "source": [
    "## Post-Analysis Reproducibility (10 points)\n",
    "\n",
    "You will need to make sure that your code can be run by another team and by us.  This will mean making sure that all steps run in sequence, and hopefully that all the datasets are easily read via file paths.\n",
    "\n",
    "We are anticipating that the easiest way to share will be via Google Colab. You are welcome to work on Datahub, on your local install, or any way you like.  However you will be expected to make sure that your complete notebook can run on Colab at the end of the project.  Please keep this in mind and save time to fiddle with things so it works!\n",
    "\n",
    "\n",
    "Please share your Google Colab (or equivalent) link in this [sheet](https://docs.google.com/spreadsheets/d/15oNmFwpjSHifnyPvJJ8Gv3ECNOPKHsIWvvt0EbkyXVU/edit?usp=sharing). Each group will be assigned another group's link randomly (in the same sheet) to review and run without issues. Please confirm and leave comments about issues about this in the sheet as well.\n",
    "\n",
    "This part is to ensure that we're building replicable and reusable code. Please refer to [section 9](https://docs.google.com/presentation/d/12eIuPKYZ8PMysm0pSxoClnh4YOQFRqHO6qVv2SN23Xc/edit?usp=share_link) for best practices of this."
   ]
  },
  {
   "cell_type": "markdown",
   "metadata": {
    "id": "j80JankPqyhd"
   },
   "source": [
    "## Clarity, Style and Presentation (5 points)\n",
    "**(delete this markdown cell in your final submission)**\n",
    "\n",
    "The notebook should tell the story of your modeling and learning experience. Think about the overall arc of your project and use the notebook to explain the most important aspects of your thinking and what you’ve learned.  Make time to take a step back from the individual parts of the notebook to think about how it flows as a complete document.\n",
    " \n",
    " \n",
    "Markdown cells, not code cells, are where you convey your thinking and methodology.\n",
    " - We won’t read your code cells to understand your thinking or methods\n",
    " - We will only use your code cells to verify your workflow\n",
    " \n",
    "Less is more when it comes to code output and visualizations. Any output should serve a purpose for the reader of the notebook, and you should make that purpose clear in your markdown cells.  For example:\n",
    " - Don’t display every line of a dataframe; use `.head()` or printouts of specific parts of a dataframe judiciously. Display contents of a dataframe when you want to show the reader something specific, and explain your thinking in a markdown cell.\n",
    " - Use visualizations to tell your story, but make sure you explain in markdown cells what’s important about your visualizations. If you can’t tell the reader what’s important about the visualization, leave it out!\n",
    "- Suppress output of functions unless it is crucial to explain your thinking and demonstrate your workflow.\n",
    "- Generally, the notebook should not contain copious amounts of data, function outputs, plots. Think of your notebook as a giant function with a `verbose` argument… where want verbose = FALSE."
   ]
  },
  {
   "cell_type": "code",
   "execution_count": null,
   "metadata": {},
   "outputs": [],
   "source": []
  }
 ],
 "metadata": {
  "colab": {
   "provenance": []
  },
  "kernelspec": {
   "display_name": "Python 3 (ipykernel)",
   "language": "python",
   "name": "python3"
  },
  "language_info": {
   "codemirror_mode": {
    "name": "ipython",
    "version": 3
   },
   "file_extension": ".py",
   "mimetype": "text/x-python",
   "name": "python",
   "nbconvert_exporter": "python",
   "pygments_lexer": "ipython3",
   "version": "3.8.10"
  }
 },
 "nbformat": 4,
 "nbformat_minor": 4
}
