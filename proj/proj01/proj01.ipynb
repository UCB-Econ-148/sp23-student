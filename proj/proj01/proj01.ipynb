{
 "cells": [
  {
   "cell_type": "code",
   "execution_count": null,
   "id": "eebb3163",
   "metadata": {
    "deletable": false,
    "editable": false
   },
   "outputs": [],
   "source": [
    "# Initialize Otter\n",
    "import otter\n",
    "grader = otter.Notebook(\"proj01.ipynb\")"
   ]
  },
  {
   "cell_type": "code",
   "execution_count": null,
   "id": "66891626",
   "metadata": {},
   "outputs": [],
   "source": [
    "import numpy as np\n",
    "import pandas as pd\n",
    "import matplotlib.pyplot as plt\n",
    "\n",
    "import ipywidgets as widgets\n",
    "from ipywidgets import interact, interactive, fixed, interact_manual"
   ]
  },
  {
   "cell_type": "markdown",
   "id": "ceb8f3ce",
   "metadata": {},
   "source": [
    "# Project 1: Regional GDP\n",
    "### Regional Heterogeneity: Varying Economic Performance in US Counties\n",
    "In the first project of Econ 148, we will examine county-level economic performance as measured by real Gross Domestic Product (GDP) over the past two decades. As the most important macroeconomic indicator, GDP is often analyzed at the country level; however, regional heterogeneity is also a crucial source of variation in growth and business cycle analysis. Therefore, in this project we will use a county-level real GDP dataset from the Bureau of Economic Analysis (BEA) and try to find out the regional differences in economic performance, especially during recessions.\n",
    "\n",
    "You will use the data cleaning and data manipulation skills you have learned so far in this course to wrangle this rich, but rather complex, real-world dataset. \n",
    "\n",
    "#### Data sources: \n",
    "\n",
    "The main dataset we will use in this notebook is [\"CAGDP9: Real GDP in Chained Dollars by County and MSA\"](https://www.bea.gov/data/gdp/gdp-county-metro-and-other-areas) from the Bureau of Economic Analysis (BEA). It provides a comprehensive measure of the gross domestic product of counties, metropolitan statistical areas, and some other local areas in the United States from 2001 to the present. Accessed Jan 2023. **We use a subset of the full dataset (about 50%) that includes some of the industries available in the original dataset.**\n",
    "\n",
    "We will also use the [\"United States Counties Database\"](https://simplemaps.com/data/us-counties) from Simplemaps.com. Specifically, we will use the geographic data of U.S. counties (i.e., latitude and longitude) to create the visualizations in the last section. Accessed Jun 2022. "
   ]
  },
  {
   "cell_type": "markdown",
   "id": "2fd55233",
   "metadata": {},
   "source": [
    "**Learning Objectives:**   \n",
    "- Importing and exporting dataframes\n",
    "- Metadata of a dataframe\n",
    "- Recognizing and handling missing values and NaNs\n",
    "- String methods and type conversions\n",
    "- Grouping and aggregating\n",
    "- Calculating changes and percentage changes\n",
    "- Joining and merging two dataframes\n",
    "- A demo of using Jupyter widgets"
   ]
  },
  {
   "cell_type": "markdown",
   "id": "b57fd8d9",
   "metadata": {},
   "source": [
    "**A Note on Grading:**  \n",
    "In Project 1, the autograded questions will have hidden tests, and the text-based free response questions will be graded on correctness. "
   ]
  },
  {
   "cell_type": "code",
   "execution_count": null,
   "id": "9055203a",
   "metadata": {},
   "outputs": [],
   "source": []
  },
  {
   "cell_type": "markdown",
   "id": "bd0c96f1",
   "metadata": {},
   "source": [
    "---\n",
    "## Part 1: Importing dataset"
   ]
  },
  {
   "cell_type": "markdown",
   "id": "f29a8f13",
   "metadata": {},
   "source": [
    "Datasets are encoded in different codecs. In most cases, the default codex (utf-8) will be able to process the datasets. But in other cases, if we run into some issues with decoding (especially with datasets containing symbols or other languages), we can manually specify other codecs (e.g. ascii, latin-1). A complete list of codecs for Python 3.7 and newer can be found [here](https://docs.python.org/3.7/library/codecs.html#standard-encodings). \n",
    "\n",
    "As a side note, if we want to export the dataframe when we are done, we will also want to make sure that we are using the correct codecs."
   ]
  },
  {
   "cell_type": "markdown",
   "id": "fa7f7fa1",
   "metadata": {},
   "source": [
    "We have got an immediate example here. **Some of you** may not be able to import the real GDP dataset by BEA with the default codecs (utf-8). \n",
    "```python\n",
    ">>> rgdp = pd.read_csv(\"data/sample_CAGDP9__ALL_AREAS_2001_2021.csv\")\n",
    "UnicodeDecodeError: 'utf-8' codec can't decode byte 0xf1 in position 137852: invalid continuation byte\n",
    "```"
   ]
  },
  {
   "cell_type": "markdown",
   "id": "0c579fa4",
   "metadata": {},
   "source": [
    "**Question 1.1:** Import the dataset `data/sample_CAGDP9__ALL_AREAS_2001_2021.csv` using an alternative codec `latin-1`.\n",
    "\n",
    "Hint: Look up the [documentation](https://pandas.pydata.org/docs/reference/api/pandas.read_csv.html) for `pd.read_csv` and see if there is any argument related to codec or encoding. \n",
    "\n",
    "Note: It's totally fine if you see a warning after you successfully import the dataset. This has to do with the content of this dataset."
   ]
  },
  {
   "cell_type": "code",
   "execution_count": null,
   "id": "8e6744ad",
   "metadata": {
    "tags": []
   },
   "outputs": [],
   "source": [
    "rgdp_raw = ...\n",
    "rgdp_raw"
   ]
  },
  {
   "cell_type": "code",
   "execution_count": null,
   "id": "6ac37b7b",
   "metadata": {
    "deletable": false,
    "editable": false
   },
   "outputs": [],
   "source": [
    "grader.check(\"q1_1\")"
   ]
  },
  {
   "cell_type": "code",
   "execution_count": null,
   "id": "ef973ef9",
   "metadata": {},
   "outputs": [],
   "source": []
  },
  {
   "cell_type": "markdown",
   "id": "bbf48333",
   "metadata": {},
   "source": [
    "**Question 1.2:** We notice that the last four rows in `rgdp_raw` are just some footnotes, so we will drop them. To do so, we can either select the top 47666 rows for the data that we want, or we can drop the bottom 4 rows with [`pandas.DataFrame.drop`](https://pandas.pydata.org/docs/reference/api/pandas.DataFrame.drop.html). Assign the modified dataframe to `rdgp`. "
   ]
  },
  {
   "cell_type": "code",
   "execution_count": null,
   "id": "c00f97e2",
   "metadata": {
    "tags": []
   },
   "outputs": [],
   "source": [
    "rgdp = ...\n",
    "rgdp"
   ]
  },
  {
   "cell_type": "code",
   "execution_count": null,
   "id": "7f2fab00",
   "metadata": {
    "deletable": false,
    "editable": false
   },
   "outputs": [],
   "source": [
    "grader.check(\"q1_2\")"
   ]
  },
  {
   "cell_type": "markdown",
   "id": "23b89053",
   "metadata": {},
   "source": [
    "---\n",
    "## Part 2: Learn about the dataset"
   ]
  },
  {
   "cell_type": "markdown",
   "id": "430d3ef1",
   "metadata": {},
   "source": [
    "Like we did in Lab 3, one of the first things that we will do with our dataset is to learn about its structure: how many rows and columns are there in the dataset? What values does each column store? What is the data type for each column (int, string, etc.)? For categorical variables, what are unique values? For numerical variables, what is the mean, median, min, and max? \n",
    "\n",
    "In this section, we will use the built-in functions in Pandas to quickly answer the question above. "
   ]
  },
  {
   "cell_type": "markdown",
   "id": "5a47aeb8",
   "metadata": {},
   "source": [
    "**Question 2.1:** How many rows and columns are there in this dataframe `rdgp`? Assign the number of rows to `N_rows` and the number of columns to `N_cols`. \n",
    "\n",
    "Hint: The first section of lab 3 can be a good reference. "
   ]
  },
  {
   "cell_type": "code",
   "execution_count": null,
   "id": "6574534f",
   "metadata": {
    "tags": []
   },
   "outputs": [],
   "source": [
    "N_rows = ...\n",
    "N_cols = ...\n",
    "N_rows, N_cols"
   ]
  },
  {
   "cell_type": "code",
   "execution_count": null,
   "id": "247d390e",
   "metadata": {
    "deletable": false,
    "editable": false
   },
   "outputs": [],
   "source": [
    "grader.check(\"q2_1\")"
   ]
  },
  {
   "cell_type": "code",
   "execution_count": null,
   "id": "76784e0b",
   "metadata": {},
   "outputs": [],
   "source": []
  },
  {
   "cell_type": "markdown",
   "id": "bf7cd42d",
   "metadata": {},
   "source": [
    "**Question 2.2:** How many unique counties are there in this dataframe `rdgp`? Assign the number of unique counties to `N_unique_counties`. "
   ]
  },
  {
   "cell_type": "code",
   "execution_count": null,
   "id": "8847cefd",
   "metadata": {
    "tags": []
   },
   "outputs": [],
   "source": [
    "N_unique_counties = ...\n",
    "N_unique_counties"
   ]
  },
  {
   "cell_type": "code",
   "execution_count": null,
   "id": "1862f5e8",
   "metadata": {
    "deletable": false,
    "editable": false
   },
   "outputs": [],
   "source": [
    "grader.check(\"q2_2\")"
   ]
  },
  {
   "cell_type": "code",
   "execution_count": null,
   "id": "c2826dce",
   "metadata": {},
   "outputs": [],
   "source": []
  },
  {
   "cell_type": "markdown",
   "id": "453f1c0e",
   "metadata": {},
   "source": [
    "**Question 2.3:** What do the values in the \"Description\" column represent? Are the categories in the \"Description\" column mutually exclusive, or are they potentially subsets of each other? Give an example to illustrate your point. "
   ]
  },
  {
   "cell_type": "markdown",
   "id": "4007cd80",
   "metadata": {},
   "source": [
    "_Type your answer here, replacing this text._"
   ]
  },
  {
   "cell_type": "code",
   "execution_count": null,
   "id": "c2add3e6",
   "metadata": {},
   "outputs": [],
   "source": []
  },
  {
   "cell_type": "markdown",
   "id": "9fb5d5b3",
   "metadata": {},
   "source": [
    "**Question 2.4:** What are the data types of columns `GeoFIPS`, `GeoName`, `Unit`, and `2021`? Are they integers, floats, strings, objects, or mixed types? Do you find any data types in these columns problematic? For example, they should be integers, but are instead coded as strings. \n",
    "\n",
    "Hint: you can find the data type by printing out a series (e.g. `rdgp[\"GeoFIPS\"]`) and then look at the last line in the output. There you can see the `dtype` of this column. Or you can checkout the data types for all the columns in the dataframe using `df.dtypes`. "
   ]
  },
  {
   "cell_type": "markdown",
   "id": "4c8861a0",
   "metadata": {},
   "source": [
    "_Type your answer here, replacing this text._"
   ]
  },
  {
   "cell_type": "markdown",
   "id": "46aec8f1",
   "metadata": {},
   "source": [
    "### (Optional) Exploratory Data Anaylsis with pandas-profiling"
   ]
  },
  {
   "cell_type": "markdown",
   "id": "37a30020",
   "metadata": {},
   "source": [
    "In addition, we can also rely on other wonderful python packages to get a big picture of our dataset. As an example, the [pandas-profiling](https://pandas-profiling.ydata.ai/docs/master/index.html) package \"generates profile reports from a pandas DataFrame. The pandas `df.describe()` function is handy yet a little basic for exploratory data analysis. pandas-profiling extends pandas DataFrame with `df.profile_report()`, which automatically generates a standardized univariate and multivariate report for data understanding.\" \n",
    "\n",
    "In a way, pandas-profiling can do most of the exploratory data analysis tasks and create a comprehensive and beautiful report for you within a minute. "
   ]
  },
  {
   "cell_type": "markdown",
   "id": "062d0325",
   "metadata": {},
   "source": [
    "Copy the following code to a code cell and run it to see the report generated by pandas-profiling if you have the package installed. \n",
    "\n",
    "```python\n",
    "from pandas_profiling import ProfileReport\n",
    "profile = ProfileReport(rgdp, title=\"Pandas Profiling Report\")\n",
    "profile.to_notebook_iframe()\n",
    "```"
   ]
  },
  {
   "cell_type": "code",
   "execution_count": null,
   "id": "ec4e4fdf",
   "metadata": {},
   "outputs": [],
   "source": []
  },
  {
   "cell_type": "markdown",
   "id": "3cab1491",
   "metadata": {},
   "source": [
    "---\n",
    "## Part 3: Missing Values and NaNs"
   ]
  },
  {
   "cell_type": "markdown",
   "id": "7cc29975",
   "metadata": {},
   "source": [
    "The difference between the data found in many tutorials and real-world data is that real-world data is rarely clean and homogeneous. In particular, many interesting datasets will have some amount of missing data. To complicate matters, different data sources may report missing data in different ways."
   ]
  },
  {
   "cell_type": "markdown",
   "id": "6885ffba",
   "metadata": {},
   "source": [
    "In our dataset, there are two types of \"missing values\": (D) and (NA). "
   ]
  },
  {
   "cell_type": "code",
   "execution_count": null,
   "id": "2b94ba22",
   "metadata": {},
   "outputs": [],
   "source": [
    "rgdp[rgdp[\"2001\"] == \"(D)\"][:5]"
   ]
  },
  {
   "cell_type": "code",
   "execution_count": null,
   "id": "b4fce4b0",
   "metadata": {},
   "outputs": [],
   "source": [
    "rgdp[rgdp[\"2001\"] == \"(NA)\"][:5]"
   ]
  },
  {
   "cell_type": "markdown",
   "id": "28fb57c8",
   "metadata": {},
   "source": [
    "**Question 3.1:** Look up the [footnote](https://www.econ148.org/sp23/resources/assets/supp_materials/proj01/CAGDP9__Footnotes.html) of this dataset, what does each of these two types of missing values represent? What do you think is a good way to handle these two types of missing values respectively? This is an open-ended question. "
   ]
  },
  {
   "cell_type": "markdown",
   "id": "eae82563",
   "metadata": {},
   "source": [
    "_Type your answer here, replacing this text._"
   ]
  },
  {
   "cell_type": "code",
   "execution_count": null,
   "id": "93cca30f",
   "metadata": {},
   "outputs": [],
   "source": []
  },
  {
   "cell_type": "markdown",
   "id": "12b8efcf",
   "metadata": {},
   "source": [
    "**Question 3.2:** We will not develop a strategy for replacing missing values in this project. For our purposes, simply drop all rows that contain missing values (either (D) or (NA)). \n",
    "\n",
    "Hint: One way to do this is to first replace all instances of (D) and (NA) with `np.nan` and then use `dropna` on the dataframe. [`pandas.DataFrame.replace`](https://pandas.pydata.org/docs/reference/api/pandas.DataFrame.replace.html) may be helpful in this case. But there are many other ways to do this, so free feel to use whichever method that makes the most sense to you. "
   ]
  },
  {
   "cell_type": "code",
   "execution_count": null,
   "id": "e3b544eb",
   "metadata": {
    "tags": []
   },
   "outputs": [],
   "source": [
    "rgdp_no_nans = rgdp.copy()\n",
    "# drop rows with missing values\n",
    "...\n",
    "rgdp_no_nans = ...\n",
    "rgdp_no_nans.head()"
   ]
  },
  {
   "cell_type": "code",
   "execution_count": null,
   "id": "27c6b2c8",
   "metadata": {
    "deletable": false,
    "editable": false
   },
   "outputs": [],
   "source": [
    "grader.check(\"q3_2\")"
   ]
  },
  {
   "cell_type": "markdown",
   "id": "27b495c5",
   "metadata": {},
   "source": [
    "---\n",
    "## Part 4: Type conversions and string methods"
   ]
  },
  {
   "cell_type": "markdown",
   "id": "18665bd0",
   "metadata": {},
   "source": [
    "In part 2, we noticed that the dataframe we are working with does not have the desired data types for many columns. For example, the real GDP data has some entries that are kept as strings. To convert these entries to the desired data types, the most common way is to use [`pandas.DataFrame.astype(type)`](https://pandas.pydata.org/docs/reference/api/pandas.DataFrame.astype.html). "
   ]
  },
  {
   "cell_type": "code",
   "execution_count": null,
   "id": "7edd6c0a",
   "metadata": {},
   "outputs": [],
   "source": [
    "# make a copy of the dataframe first\n",
    "rgdp_clean = rgdp_no_nans.copy()"
   ]
  },
  {
   "cell_type": "markdown",
   "id": "3f7562f2",
   "metadata": {},
   "source": [
    "For example, we can convert the column \"2001\" from strings to integers using `astype(\"int64\")`."
   ]
  },
  {
   "cell_type": "code",
   "execution_count": null,
   "id": "ddb4dfb4",
   "metadata": {},
   "outputs": [],
   "source": [
    "rgdp_no_nans[\"2001\"]"
   ]
  },
  {
   "cell_type": "code",
   "execution_count": null,
   "id": "ece9c498",
   "metadata": {},
   "outputs": [],
   "source": [
    "rgdp_no_nans[\"2001\"].astype(\"int64\")"
   ]
  },
  {
   "cell_type": "markdown",
   "id": "6456b080",
   "metadata": {},
   "source": [
    "**Question 4.1:** Write a for loop that converts all values in all columns from \"2001\" to \"2021\" in `rgdp_clean` to `int64`. \n",
    "\n",
    "Hint: the column labels (i.e. \"2001\", \"2002\", etc.) are strings. So when you access the columns, you may want to convert to the years to strings first using [`str(...)`](https://www.w3schools.com/python/ref_func_str.asp). "
   ]
  },
  {
   "cell_type": "code",
   "execution_count": null,
   "id": "6fc02248",
   "metadata": {
    "tags": []
   },
   "outputs": [],
   "source": [
    "for year in ...:\n",
    "    rgdp_clean[str(year)] = ..."
   ]
  },
  {
   "cell_type": "code",
   "execution_count": null,
   "id": "0eb105f7",
   "metadata": {
    "deletable": false,
    "editable": false
   },
   "outputs": [],
   "source": [
    "grader.check(\"q4_1\")"
   ]
  },
  {
   "cell_type": "code",
   "execution_count": null,
   "id": "fcad8af9",
   "metadata": {},
   "outputs": [],
   "source": []
  },
  {
   "cell_type": "code",
   "execution_count": null,
   "id": "f05f0745",
   "metadata": {},
   "outputs": [],
   "source": [
    "# check to see if the data types are correct now\n",
    "rgdp_clean.dtypes"
   ]
  },
  {
   "cell_type": "markdown",
   "id": "16d2f6bc",
   "metadata": {},
   "source": [
    "Now we can see the `dtype` for 2001-2021 are `int64`.  "
   ]
  },
  {
   "cell_type": "markdown",
   "id": "c83e8f25",
   "metadata": {},
   "source": [
    "We can also convert data type into `float`, `str`, etc. using the `astype` method on the entire dataframe or some specified data series. Pandas also provides a [`pandas.to_numeric()`](https://pandas.pydata.org/docs/reference/api/pandas.to_numeric.html) function to easier convert different data types into numeric. "
   ]
  },
  {
   "cell_type": "code",
   "execution_count": null,
   "id": "e0de1c4b",
   "metadata": {},
   "outputs": [],
   "source": [
    "rgdp_clean[\"LineCode\"] = rgdp_clean[\"LineCode\"].astype(\"int64\")"
   ]
  },
  {
   "cell_type": "markdown",
   "id": "f09c2c2f",
   "metadata": {},
   "source": [
    "### Regular Expressions and Strings"
   ]
  },
  {
   "cell_type": "markdown",
   "id": "5949981d",
   "metadata": {},
   "source": [
    "But sometimes the data entries require some manipulation before can be converted to the desirable data types easily. For example, entries in the `GeoFIPS` column in our dataset has the following form. "
   ]
  },
  {
   "cell_type": "code",
   "execution_count": null,
   "id": "9b4ce1e4",
   "metadata": {},
   "outputs": [],
   "source": [
    "rgdp_no_nans[\"GeoFIPS\"]"
   ]
  },
  {
   "cell_type": "markdown",
   "id": "7439dce1",
   "metadata": {},
   "source": [
    "Note that the parentheses are there in the data, so simple conversion like `astype(int)` will fail."
   ]
  },
  {
   "cell_type": "code",
   "execution_count": null,
   "id": "0a5c59b3",
   "metadata": {},
   "outputs": [],
   "source": [
    "# this will produce an error\n",
    "# rgdp_no_nans[\"GeoFIPS\"].astype(\"int64\")"
   ]
  },
  {
   "cell_type": "markdown",
   "id": "ec98f2a8",
   "metadata": {},
   "source": [
    "To extract relevant information, we will use regular expressions. A regular expression is a sequence of characters that specifies a search pattern in text. Usually such patterns are used by string-searching algorithms for \"find\" or \"find and replace\" operations on strings, or for input validation."
   ]
  },
  {
   "cell_type": "markdown",
   "id": "7bb6ba00",
   "metadata": {},
   "source": [
    "For example, we can extract student ID among a bunch of other texts. "
   ]
  },
  {
   "cell_type": "code",
   "execution_count": null,
   "id": "cae946f2",
   "metadata": {},
   "outputs": [],
   "source": [
    "import re\n",
    "some_text = \"Name: Oski, Age: 999, SID: 12345678\"\n",
    "re.findall(\"SID: (\\d*)\", some_text)"
   ]
  },
  {
   "cell_type": "markdown",
   "id": "98e43659",
   "metadata": {},
   "source": [
    "Or we can replace some text we want. "
   ]
  },
  {
   "cell_type": "code",
   "execution_count": null,
   "id": "cb7e0040",
   "metadata": {},
   "outputs": [],
   "source": [
    "some_other_text = \"Stanford is the No.1 university in California. \"\n",
    "re.sub(\"Stanford\", \"Berkeley\", some_other_text)"
   ]
  },
  {
   "cell_type": "markdown",
   "id": "d4ebfd68",
   "metadata": {},
   "source": [
    "Note that a common way to get rid of texts in a specified pattern is to use [`re.sub`](https://docs.python.org/3/library/re.html#re.sub) and replace the pattern with the empty strings. For example: "
   ]
  },
  {
   "cell_type": "code",
   "execution_count": null,
   "id": "cbd3b205",
   "metadata": {},
   "outputs": [],
   "source": [
    "some_messy_text = \"Beroskikeleoskiy oskiis oskitheoski No.1oski univoskiersioskity ioskin Calioskifooskirnia.\"\n",
    "re.sub(\"oski\", \"\", some_messy_text) # substitute with the empty string"
   ]
  },
  {
   "cell_type": "markdown",
   "id": "da395138",
   "metadata": {},
   "source": [
    "Regular expression is a deep topic and it requires practice to be able to use it well. A well-known website to test if your regular expression works or not is [regex101](https://regex101.com/). It will be very helpful skill in terms of data cleaning. But for now, we will just use it to get rid of the parentheses in data entries in the `GeoFIPS` column. "
   ]
  },
  {
   "cell_type": "markdown",
   "id": "634c168f",
   "metadata": {},
   "source": [
    "**Question 4.2:** Remove all instances of quotation marks from `too_many_quotation_marks` using regular expressions. "
   ]
  },
  {
   "cell_type": "code",
   "execution_count": null,
   "id": "d7af1928",
   "metadata": {
    "tags": []
   },
   "outputs": [],
   "source": [
    "too_many_quotation_marks = 'B\"er\"kel\"ey i\"s t\"he\" No\".1 u\"niv\"ersity i\"n C\"ali\"fo\"rn\"i\"a.'\n",
    "no_quotation_marks = ...\n",
    "no_quotation_marks"
   ]
  },
  {
   "cell_type": "code",
   "execution_count": null,
   "id": "d750976a",
   "metadata": {
    "deletable": false,
    "editable": false
   },
   "outputs": [],
   "source": [
    "grader.check(\"q4_2\")"
   ]
  },
  {
   "cell_type": "markdown",
   "id": "8b91c7b9",
   "metadata": {},
   "source": [
    "To apply regex and many other string method to a dataframe, we can use `pandas.Series.str` methods, and apply a string function. In our case [`pandas.Series.str.replace`](https://pandas.pydata.org/docs/reference/api/pandas.Series.str.replace.html) that can replace each occurrence of pattern/regex in the Series/Index. \n"
   ]
  },
  {
   "cell_type": "markdown",
   "id": "02d65443",
   "metadata": {},
   "source": [
    "**Question 4.3:** Write the code below that first delete all the quotation marks in values in the `GeoFIPS` column in `rgdp_clean` with [`pandas.Series.str.replace`](https://pandas.pydata.org/docs/reference/api/pandas.Series.str.replace.html) and then convert all strings into integers using `astype('int64')`."
   ]
  },
  {
   "cell_type": "code",
   "execution_count": null,
   "id": "7889188c",
   "metadata": {
    "tags": []
   },
   "outputs": [],
   "source": [
    "...\n",
    "rgdp_clean"
   ]
  },
  {
   "cell_type": "code",
   "execution_count": null,
   "id": "fb982e0b",
   "metadata": {
    "deletable": false,
    "editable": false
   },
   "outputs": [],
   "source": [
    "grader.check(\"q4_3\")"
   ]
  },
  {
   "cell_type": "code",
   "execution_count": null,
   "id": "3b431f2a",
   "metadata": {},
   "outputs": [],
   "source": [
    "rgdp_clean.dtypes"
   ]
  },
  {
   "cell_type": "markdown",
   "id": "62e7bb7e",
   "metadata": {},
   "source": [
    "Now everything is in the correct data type."
   ]
  },
  {
   "cell_type": "markdown",
   "id": "ff8a8a9b",
   "metadata": {},
   "source": [
    "---\n",
    "## Part 5: Pivot tables and melt"
   ]
  },
  {
   "cell_type": "markdown",
   "id": "ac829b0a",
   "metadata": {},
   "source": [
    "Pivot table and melt are inverses of each other. \n",
    "\n",
    "Many economic datasets are in \"spreadsheet\" formats, which have groups of columns representing the same type of information. For example, in our real GDP dataframe, columns like \"2001\", \"2002\" simply give the real GDP values in the given year. To make our lives easier when working with the data later, we can convert the dataframe to a more traditional dataframe, where all data are in just one column. So, [`pandas.melt`](https://pandas.pydata.org/docs/reference/api/pandas.melt.html) gives us a way to unpivot a DataFrame from wide to long format."
   ]
  },
  {
   "cell_type": "markdown",
   "id": "e25bd004",
   "metadata": {},
   "source": [
    "**Question 5.1:** Convert the dataframe using [`pandas.melt`](https://pandas.pydata.org/docs/reference/api/pandas.melt.html) so that it contains seven columns: `GeoFIPS`, `GeoName`, `Region`, `LineCode`, `Description`, `year`, and `value`. The `value` is the real GDP value for the given region, industry, and year on that row."
   ]
  },
  {
   "cell_type": "code",
   "execution_count": null,
   "id": "c04550ab",
   "metadata": {
    "tags": []
   },
   "outputs": [],
   "source": [
    "rgdp_melted = pd.melt(rgdp_clean, \n",
    "                      id_vars=[...], \n",
    "                      value_vars=[...]\n",
    "                     ).rename(columns={\"variable\": \"year\"})\n",
    "rgdp_melted"
   ]
  },
  {
   "cell_type": "code",
   "execution_count": null,
   "id": "eaa4feaa",
   "metadata": {
    "deletable": false,
    "editable": false
   },
   "outputs": [],
   "source": [
    "grader.check(\"q5_1\")"
   ]
  },
  {
   "cell_type": "markdown",
   "id": "46e2f682",
   "metadata": {},
   "source": [
    "Now, all the real GDP values are in just one column. "
   ]
  },
  {
   "cell_type": "markdown",
   "id": "a09f4b94",
   "metadata": {},
   "source": [
    "**Question 5.2:** One issue remains: the `year` column has data type as strings. Convert the column into `int64` using your favorite method. "
   ]
  },
  {
   "cell_type": "code",
   "execution_count": null,
   "id": "ca372d74",
   "metadata": {
    "tags": []
   },
   "outputs": [],
   "source": [
    "...\n",
    "rgdp_melted[\"year\"]"
   ]
  },
  {
   "cell_type": "code",
   "execution_count": null,
   "id": "3f271b68",
   "metadata": {
    "deletable": false,
    "editable": false
   },
   "outputs": [],
   "source": [
    "grader.check(\"q5_2\")"
   ]
  },
  {
   "cell_type": "markdown",
   "id": "c27d7ed1",
   "metadata": {},
   "source": [
    "Before we start with the next section, since we will only concern about **county-level** GDP data of **all industries** for now, we will filter the dataframe for only the relevant data. **Some entries in the dataframe represent state aggregate or national aggregate, and these entries will have GeoFIPS ending in 000.** For example, 00000 represents the entire US; 01000 represents the Alabama state; 01001 represents Autauga--a county in Alabma. "
   ]
  },
  {
   "cell_type": "markdown",
   "id": "bf7192b4",
   "metadata": {},
   "source": [
    "**Question 5.3:** Filter the `rdgp_melted` dataframe for rows that contain real GDP data for **only counties (not aggregates)**. Assign the filtered dataframe to `rgdp_county`. So in the end `rgdp_county` dataframe should have seven columns: `GeoFIPS`, `GeoName`, `Region`, `LineCode`, `Description`, `year`, and `value`. \n",
    "\n",
    "Hint: You can get the remainder of a division using the modulo operator % in Python. "
   ]
  },
  {
   "cell_type": "code",
   "execution_count": null,
   "id": "afdafaac",
   "metadata": {
    "tags": []
   },
   "outputs": [],
   "source": [
    "rgdp_county = ... # filter for relevant rows\n",
    "\n",
    "rgdp_county = rgdp_county.drop(...) # drop `Description` column\n",
    "rgdp_county[\"Region\"] = rgdp_county[\"Region\"].astype(int) # we can finally do this!\n",
    "rgdp_county"
   ]
  },
  {
   "cell_type": "code",
   "execution_count": null,
   "id": "79506e38",
   "metadata": {
    "deletable": false,
    "editable": false
   },
   "outputs": [],
   "source": [
    "grader.check(\"q5_3\")"
   ]
  },
  {
   "cell_type": "markdown",
   "id": "37cf0f36",
   "metadata": {},
   "source": [
    "**Question 5.4** Now filter the `rgdp_county` dataframe for rows that contain **all industry total** real GDP data for only counties (not aggregates). Assign the filtered dataframe to `rgdp_county_allindustry`, then drop the column `Description`. So in the end `rgdp_county_allindustry` dataframe should have six columns: `GeoFIPS`, `GeoName`, `Region`, `LineCode`, `year`, and `value`. "
   ]
  },
  {
   "cell_type": "code",
   "execution_count": null,
   "id": "e086b5fa",
   "metadata": {
    "tags": []
   },
   "outputs": [],
   "source": [
    "rgdp_county_allindustry = ...\n",
    "rgdp_county_allindustry"
   ]
  },
  {
   "cell_type": "code",
   "execution_count": null,
   "id": "63834d5f",
   "metadata": {
    "deletable": false,
    "editable": false
   },
   "outputs": [],
   "source": [
    "grader.check(\"q5_4\")"
   ]
  },
  {
   "cell_type": "markdown",
   "id": "d087e23d",
   "metadata": {},
   "source": [
    "Now we have our dataframe consisting of county-level real GDP data of all industries total. "
   ]
  },
  {
   "cell_type": "markdown",
   "id": "1016fbc6",
   "metadata": {},
   "source": [
    "---\n",
    "## Part 6: Groupby and aggregate functions"
   ]
  },
  {
   "cell_type": "markdown",
   "id": "b463ed91",
   "metadata": {},
   "source": [
    "Pandas groupby is used for grouping the data according to the categories and apply a function to the categories. It also helps to aggregate data efficiently. Basically, with Pandas groupby, we can split Pandas data frame into smaller groups using one or more variables. After splitting, we can apply aggregating functions that reduce the dimension of the grouped object and give us the result that we want. Pandas offers several built-in aggregating functions as we have discussed in lectures and discussion sections. "
   ]
  },
  {
   "cell_type": "markdown",
   "id": "703ab089",
   "metadata": {},
   "source": [
    "As examples, now we will work with `groupby` and two aggregating functions to calculate mean and median. "
   ]
  },
  {
   "cell_type": "markdown",
   "id": "1ff251d7",
   "metadata": {},
   "source": [
    "**Question 6.1:** Find the annual average GDP for all indutries in all US counties. And assign the result to `rgdp_county_allindustry_mean`. This dataframe should only have two columns: `year` and `value`. \n",
    "\n",
    "Hint: `pandas.Dataframe.groupby` may be helpful. "
   ]
  },
  {
   "cell_type": "code",
   "execution_count": null,
   "id": "9b1a9727",
   "metadata": {
    "tags": []
   },
   "outputs": [],
   "source": [
    "rgdp_county_allindustry_mean = ...\n",
    "rgdp_county_allindustry_mean.head()"
   ]
  },
  {
   "cell_type": "code",
   "execution_count": null,
   "id": "c2bf0489",
   "metadata": {
    "deletable": false,
    "editable": false
   },
   "outputs": [],
   "source": [
    "grader.check(\"q6_1\")"
   ]
  },
  {
   "cell_type": "code",
   "execution_count": null,
   "id": "6faa9106",
   "metadata": {},
   "outputs": [],
   "source": [
    "plt.figure(figsize=(8, 6))\n",
    "plt.plot(rgdp_county_allindustry_mean[\"year\"], rgdp_county_allindustry_mean[\"value\"])\n",
    "plt.xticks(np.arange(2001, 2022, 3))\n",
    "plt.xlabel(\"Year\")\n",
    "plt.ylabel(\"Thousands of chained 2012 dollars\")\n",
    "plt.title(\"Mean Real GDP for All Industries in U.S. Counties (2001-2021)\");"
   ]
  },
  {
   "cell_type": "markdown",
   "id": "6b167da1",
   "metadata": {},
   "source": [
    "**Question 6.2:** Find the annual median GDP for all indutries in all US counties. And assign the result to `rgdp_county_allindustry_median`. This dataframe should only have two columns: `year` and `value`. \n",
    "\n",
    "Hint: `pandas.Dataframe.groupby` may be helpful. "
   ]
  },
  {
   "cell_type": "code",
   "execution_count": null,
   "id": "03d3eda7",
   "metadata": {
    "tags": []
   },
   "outputs": [],
   "source": [
    "rgdp_county_allindustry_median = ...\n",
    "rgdp_county_allindustry_median.head()"
   ]
  },
  {
   "cell_type": "code",
   "execution_count": null,
   "id": "5d6a0631",
   "metadata": {
    "deletable": false,
    "editable": false
   },
   "outputs": [],
   "source": [
    "grader.check(\"q6_2\")"
   ]
  },
  {
   "cell_type": "code",
   "execution_count": null,
   "id": "2e2a3804",
   "metadata": {},
   "outputs": [],
   "source": [
    "plt.figure(figsize=(8, 6))\n",
    "plt.plot(rgdp_county_allindustry_median[\"year\"], rgdp_county_allindustry_median[\"value\"])\n",
    "plt.xticks(np.arange(2001, 2022, 3))\n",
    "plt.xlabel(\"Year\")\n",
    "plt.ylabel(\"Thousands of chained 2012 dollars\")\n",
    "plt.title(\"Median Real GDP for All Industries in U.S. Counties (2001-2021)\");"
   ]
  },
  {
   "cell_type": "markdown",
   "id": "ad12506b",
   "metadata": {},
   "source": [
    "**Question 6.3:** Compare and contrast the annual mean and median real GDP for all US counties. What do they share in common? What differences do they have? Why do you think this is the case? "
   ]
  },
  {
   "cell_type": "markdown",
   "id": "04275fc8",
   "metadata": {},
   "source": [
    "_Type your answer here, replacing this text._"
   ]
  },
  {
   "cell_type": "code",
   "execution_count": null,
   "id": "43210e2c",
   "metadata": {},
   "outputs": [],
   "source": []
  },
  {
   "cell_type": "markdown",
   "id": "3ed10975",
   "metadata": {},
   "source": [
    "---\n",
    "## Part 7: Changes and percent changes"
   ]
  },
  {
   "cell_type": "markdown",
   "id": "28585005",
   "metadata": {},
   "source": [
    "Analyzing raw changes and percent changes of economic data is pertinent to many economic research and studies. Pandas also provides convenience methods for us to obtain raws changes and percent changes between rows of the dataframe easily. "
   ]
  },
  {
   "cell_type": "markdown",
   "id": "336c727a",
   "metadata": {},
   "source": [
    "In this part, we will use [`pd.DataFrame.diff`](https://pandas.pydata.org/docs/reference/api/pandas.DataFrame.diff.html) and [`pd.DataFrame.pct_change`](https://pandas.pydata.org/docs/reference/api/pandas.DataFrame.pct_change.html) methods to see how median county level real GDP has changed in each region in U.S. during the past 20 years. Bureau of Economic Analysis categorizes all states into eight big regions, and the eight regions are shown below. "
   ]
  },
  {
   "cell_type": "markdown",
   "id": "4ef39fae",
   "metadata": {},
   "source": [
    "<img src=\"assets/BEA_regions_iowa_state.jpg\" width=\"600\">\n",
    "</br>\n",
    "<center>U.S. Bureau of Economic Analysis Regions Reference Map</center>\n",
    "<center>Source: <a href=\"https://www.icip.iastate.edu/maps/refmaps/bea\">Iowa State University</a></center>"
   ]
  },
  {
   "cell_type": "code",
   "execution_count": null,
   "id": "1b5145b7",
   "metadata": {},
   "outputs": [],
   "source": [
    "bea_regions = {1: \"New England\", \n",
    "               2: \"Mideast\", \n",
    "               3: \"Great Lakes\", \n",
    "               4: \"Plains\", \n",
    "               5: \"Southeast\", \n",
    "               6: \"Southwest\", \n",
    "               7: \"Rocky Mountains\", \n",
    "               8: \"Far West\"}"
   ]
  },
  {
   "cell_type": "markdown",
   "id": "f1432404",
   "metadata": {},
   "source": [
    "**Question 7.1:** As an example, let's write the code that computes the **percent changes of median real GDP in the Far West region (coded as 8 in the dataset)** using [`pd.DataFrame.pct_change`](https://pandas.pydata.org/docs/reference/api/pandas.DataFrame.pct_change.html). Assign the result to `rgdp_far_west_pct_chg` which have two columns `year` and `value` (that stores the percent changes). \n",
    "\n",
    "Note: For example, in `rgdp_far_west_pct_chg`, a row with year 2002 should have a value on the same row that corresponds to the percent change in real GDP from 2001 to 2002. `rgdp_far_west_pct_chg` should not have any rows with NaN values. \n",
    "\n",
    "Hint: you may want to use `groupby`. "
   ]
  },
  {
   "cell_type": "code",
   "execution_count": null,
   "id": "d2b95cc9",
   "metadata": {
    "tags": []
   },
   "outputs": [],
   "source": [
    "rgdp_far_west = rgdp_county_allindustry[...] # select relevant rows\n",
    "rgdp_far_west = ... # find the median using groupby\n",
    "rgdp_far_west= rgdp_far_west.reset_index()\n",
    "rgdp_far_west_pct_chg[\"value\"] = ... # find the percent changes\n",
    "rgdp_far_west_pct_chg = ... # drop NaN values\n",
    "rgdp_far_west_pct_chg"
   ]
  },
  {
   "cell_type": "code",
   "execution_count": null,
   "id": "3d9ab9bc",
   "metadata": {
    "deletable": false,
    "editable": false
   },
   "outputs": [],
   "source": [
    "grader.check(\"q7_1\")"
   ]
  },
  {
   "cell_type": "markdown",
   "id": "50bc51b8",
   "metadata": {},
   "source": [
    "Here all columns are converted to percent changes. The column we are concerned about is the \"value\" column. Note that they are not in percentages (i.e. 0.01 represents 1%, not 0.01%), so if we want them in percentages, we will have to multiply the column by 100. "
   ]
  },
  {
   "cell_type": "markdown",
   "id": "7266ab92",
   "metadata": {},
   "source": [
    "Now we will make a plot for all regions. "
   ]
  },
  {
   "cell_type": "markdown",
   "id": "33f0b66e",
   "metadata": {},
   "source": [
    "<!-- BEGIN QUESTION -->\n",
    "\n",
    "**Question 7.2:** Now, we want to find the percent changes of median real GDP in each region with `pd.DataFrame.pct_change`. Similarly, let's write the code that computes the percent changes of median real GDP in each region. The dataframe `rgdp_region_pct_chg` which have two columns `year` and `value` (that stores the percent changes). \n",
    "\n",
    "Hint: start by copying your code from question 7.1."
   ]
  },
  {
   "cell_type": "code",
   "execution_count": null,
   "id": "8c931b6b",
   "metadata": {
    "tags": []
   },
   "outputs": [],
   "source": [
    "plt.figure(figsize=(8, 6))\n",
    "for region in np.sort(rgdp_county_allindustry[\"Region\"].unique()):\n",
    "    rgdp_region = rgdp_county_allindustry[...] # select relevant rows\n",
    "    rgdp_region = ... # find the median using groupby\n",
    "    rgdp_region= rgdp_region.reset_index()\n",
    "    rgdp_region_pct_chg[\"value\"] = ... # find the percent changes\n",
    "    rgdp_region_pct_chg = ... # drop NaN values\n",
    "    plt.plot(rgdp_region_pct_chg[\"year\"], \n",
    "             rgdp_region_pct_chg[\"value\"] * 100, # as percentages\n",
    "             label=bea_regions[region]\n",
    "            )\n",
    "    \n",
    "plt.xticks(np.arange(2001, 2022, 3))\n",
    "plt.xlabel(\"Year\")\n",
    "plt.ylabel(\"Percent\")\n",
    "plt.title(\"Percentage Changes of Median Real GDP for All Industries in U.S. Counties (2001-2021)\")\n",
    "plt.legend(title=\"Region\", loc=(1.03, 0.58));"
   ]
  },
  {
   "cell_type": "markdown",
   "id": "ad3729bc",
   "metadata": {},
   "source": [
    "<!-- END QUESTION -->\n",
    "\n"
   ]
  },
  {
   "cell_type": "code",
   "execution_count": null,
   "id": "b93069ef",
   "metadata": {},
   "outputs": [],
   "source": []
  },
  {
   "cell_type": "markdown",
   "id": "8d1f1c2a",
   "metadata": {},
   "source": [
    "---\n",
    "## Part 8: Merge"
   ]
  },
  {
   "cell_type": "markdown",
   "id": "042c7ed8",
   "metadata": {},
   "source": [
    "To combine data on common columns or indices, the first technique that we will learn is `merge`. We can use `merge` anytime we want to join two dataframe that has one or more common columns. With `merge`, we can combine dataframe based on one or more keys, similar to what we would do in a relational database. "
   ]
  },
  {
   "cell_type": "markdown",
   "id": "0ce39436",
   "metadata": {},
   "source": [
    "In this section, we will combine our real GDP dataframe with another dataframe that contains the geographical data of each county, so that we can make some beautiful and informative visualizations in the next section. "
   ]
  },
  {
   "cell_type": "markdown",
   "id": "2066c458",
   "metadata": {},
   "source": [
    "First, we will import the new dataset. "
   ]
  },
  {
   "cell_type": "code",
   "execution_count": null,
   "id": "740481b5",
   "metadata": {},
   "outputs": [],
   "source": [
    "county_geo = pd.read_csv(\"data/uscounties_geo.csv\")\n",
    "county_geo"
   ]
  },
  {
   "cell_type": "markdown",
   "id": "f57fda97",
   "metadata": {},
   "source": [
    "**Question 8.1:** Select only `county_fips`, `lat`, `lng`, `population` columns in the `county_geo` dataframe. "
   ]
  },
  {
   "cell_type": "code",
   "execution_count": null,
   "id": "7cf19d37",
   "metadata": {
    "tags": []
   },
   "outputs": [],
   "source": [
    "county_geo = ...\n",
    "county_geo"
   ]
  },
  {
   "cell_type": "code",
   "execution_count": null,
   "id": "50aee5e3",
   "metadata": {
    "deletable": false,
    "editable": false
   },
   "outputs": [],
   "source": [
    "grader.check(\"q8_1\")"
   ]
  },
  {
   "cell_type": "code",
   "execution_count": null,
   "id": "54ec4801",
   "metadata": {},
   "outputs": [],
   "source": []
  },
  {
   "cell_type": "markdown",
   "id": "30c558ad",
   "metadata": {},
   "source": [
    "Notice that the new dataset shares a common column \"county_fips\" with our real GDP dataframe \"GeoFIPS\". ([What is GeoFIPS?](https://en.wikipedia.org/wiki/FIPS_county_code)) So we will merge the two dataframe based on this key. "
   ]
  },
  {
   "cell_type": "markdown",
   "id": "8f5e3346",
   "metadata": {},
   "source": [
    "**Question 8.2:** Merge `rgdp_county_allindustry` with `county_geo` on GeoFIPS. No need to drop the duplicate GeoFIPS column. "
   ]
  },
  {
   "cell_type": "code",
   "execution_count": null,
   "id": "924d9b8d",
   "metadata": {
    "tags": []
   },
   "outputs": [],
   "source": [
    "rgdp_county_allindustry_geo = ...\n",
    "rgdp_county_allindustry_geo"
   ]
  },
  {
   "cell_type": "code",
   "execution_count": null,
   "id": "78d0902e",
   "metadata": {
    "deletable": false,
    "editable": false
   },
   "outputs": [],
   "source": [
    "grader.check(\"q8_2\")"
   ]
  },
  {
   "cell_type": "markdown",
   "id": "08b750b9",
   "metadata": {},
   "source": [
    "---\n",
    "## Part 9: Visualize the regional GDP!"
   ]
  },
  {
   "cell_type": "markdown",
   "id": "5a5ffc9a",
   "metadata": {},
   "source": [
    "Now we have cleaned up our dataset and computed the percent change of GDP for each county. It's time to use this data to show how economic performance vary across different regions! "
   ]
  },
  {
   "cell_type": "code",
   "execution_count": null,
   "id": "ffce5c23",
   "metadata": {},
   "outputs": [],
   "source": [
    "rgdp_county_allindustry_geo_chg = rgdp_county_allindustry_geo[rgdp_county_allindustry_geo[\"year\"] != 2001].copy()\n",
    "rgdp_county_allindustry_geo_chg[\"value\"] = rgdp_county_allindustry_geo[[\"value\"]].pct_change()\n",
    "rgdp_county_allindustry_geo_chg"
   ]
  },
  {
   "cell_type": "markdown",
   "id": "156e25e4",
   "metadata": {},
   "source": [
    "To eliminate some outliers--some have extreme values for changes between years--we will only work with the data with GDP changes from 10th percentile to 90th percentile. The following function will plot the changes for a given year and a given industry. "
   ]
  },
  {
   "cell_type": "code",
   "execution_count": null,
   "id": "49000a4f",
   "metadata": {},
   "outputs": [],
   "source": [
    "def plot_counties(data, year, industry=\"All Industries\"):\n",
    "    \n",
    "    MIN = np.nanpercentile(data[\"value\"], 10)\n",
    "    MAX = np.nanpercentile(data[\"value\"], 90)\n",
    "    \n",
    "    rgdp_county_year = data[data[\"year\"] == year] \n",
    "    rgdp_county_year = rgdp_county_year[(rgdp_county_year[\"value\"] < MAX) & (rgdp_county_year[\"value\"] > MIN)]\n",
    "    \n",
    "    plt.figure(figsize=(16, 9))\n",
    "    plt.xlim([-170, -50])\n",
    "    plt.ylim([10, 70])\n",
    "    plt.scatter(rgdp_county_year[\"lng\"], rgdp_county_year[\"lat\"], \n",
    "                c=rgdp_county_year[\"value\"], cmap=\"coolwarm\", s=20, alpha=0.8)\n",
    "    plt.colorbar()\n",
    "    plt.title(f\"Percentage Changes of Real GDP for {industry} in U.S. Counties ({year})\", size=14)\n",
    "    plt.tight_layout();"
   ]
  },
  {
   "cell_type": "code",
   "execution_count": null,
   "id": "c73011d9",
   "metadata": {},
   "outputs": [],
   "source": [
    "plot_counties(rgdp_county_allindustry_geo_chg, 2002)"
   ]
  },
  {
   "cell_type": "code",
   "execution_count": null,
   "id": "4ee31b3b",
   "metadata": {},
   "outputs": [],
   "source": [
    "plot_counties(rgdp_county_allindustry_geo_chg, 2008)"
   ]
  },
  {
   "cell_type": "code",
   "execution_count": null,
   "id": "0f5f9aab",
   "metadata": {},
   "outputs": [],
   "source": [
    "plot_counties(rgdp_county_allindustry_geo_chg, 2020)"
   ]
  },
  {
   "cell_type": "code",
   "execution_count": null,
   "id": "bd15845f",
   "metadata": {},
   "outputs": [],
   "source": []
  },
  {
   "cell_type": "markdown",
   "id": "1fd3b8b4",
   "metadata": {},
   "source": [
    "<!-- BEGIN QUESTION -->\n",
    "\n",
    "**Question 9.1:** Comment on the results above. Are the economic performance similar or different in each region? Do you find it surprising?"
   ]
  },
  {
   "cell_type": "markdown",
   "id": "c69afe21",
   "metadata": {},
   "source": [
    "_Type your answer here, replacing this text._"
   ]
  },
  {
   "cell_type": "markdown",
   "id": "a258793c",
   "metadata": {},
   "source": [
    "<!-- END QUESTION -->\n",
    "\n"
   ]
  },
  {
   "cell_type": "code",
   "execution_count": null,
   "id": "cf50a3ce",
   "metadata": {},
   "outputs": [],
   "source": []
  },
  {
   "cell_type": "markdown",
   "id": "11c3d2b1",
   "metadata": {},
   "source": [
    "<!-- BEGIN QUESTION -->\n",
    "\n",
    "**Question 9.2:** Let's look at the plot for 2008 that shows the regional economic performance in the midst of the Great Recession. The causes of the Great Recession include a combination of vulnerabilities that developed in the financial system, along with a series of triggering events that began with the bursting of the United States housing bubble in 2005–2012. As a sidenote, many empirical works suggest that housing crises usually accompany high levels of mortgage delinquencies (people default on their mortgage). \n",
    "\n",
    "Look at the [county-level change in mortgage delinquency figure](https://www.federalreserve.gov/images/bernanke20080505fig3.jpg) that was used in Ben Bernanke (the chairman of the Federal Reserve at that time) speech [_Mortgage Delinquencies and Foreclosures_](https://www.federalreserve.gov/newsevents/speech/bernanke20080505a.htm) at the Columbia Business School's 32nd Annual Dinner in May 2008. What is the association between this mortgage delinquency graph and the regional real GDP graph we have above? How can this result potentially inform us about the causes of the Great Recession?"
   ]
  },
  {
   "cell_type": "markdown",
   "id": "0eef66b4",
   "metadata": {},
   "source": [
    "_Type your answer here, replacing this text._"
   ]
  },
  {
   "cell_type": "markdown",
   "id": "422d561e",
   "metadata": {},
   "source": [
    "<!-- END QUESTION -->\n",
    "\n"
   ]
  },
  {
   "cell_type": "code",
   "execution_count": null,
   "id": "c711f4bc",
   "metadata": {},
   "outputs": [],
   "source": []
  },
  {
   "cell_type": "markdown",
   "id": "50dcf52e",
   "metadata": {},
   "source": [
    "We can also make some widgets!"
   ]
  },
  {
   "cell_type": "code",
   "execution_count": null,
   "id": "c5690729",
   "metadata": {},
   "outputs": [],
   "source": [
    "def plot_counties_widgets(industry, year):\n",
    "    rgdp_county_industry = rgdp_county[rgdp_county[\"Description\"] == industry].drop(\"Description\", axis=1)\n",
    "    rgdp_county_industry_geo = rgdp_county_industry.merge(county_geo, left_on=\"GeoFIPS\", right_on=\"county_fips\")\n",
    "    rgdp_county_industry_geo_chg = rgdp_county_industry_geo[rgdp_county_industry_geo[\"year\"] != 2001].copy()\n",
    "    \n",
    "    pct_chg_vals = rgdp_county_industry_geo[[\"value\"]].pct_change()\n",
    "    rgdp_county_industry_geo_chg[\"value\"] = pct_chg_vals.drop(index=np.arange(0, len(pct_chg_vals), 20), axis=0)\n",
    "    \n",
    "    plot_counties(rgdp_county_industry_geo_chg, year, re.sub(\"  \", \"\", industry))"
   ]
  },
  {
   "cell_type": "code",
   "execution_count": null,
   "id": "29a99cb1",
   "metadata": {},
   "outputs": [],
   "source": [
    "i = widgets.Dropdown(options=rgdp_county[\"Description\"].unique(),\n",
    "                     value=\"All industry total\", \n",
    "                     description=\"Industry\", \n",
    "                     layout={'width': 'max-content'})\n",
    "\n",
    "t = widgets.IntSlider(min=2002, max=2020, step=1, \n",
    "                      description=\"Year\", \n",
    "                      layout={'width': '300px'})\n",
    "\n",
    "interact(plot_counties_widgets, industry=i, year=t);"
   ]
  },
  {
   "cell_type": "code",
   "execution_count": null,
   "id": "4171578c",
   "metadata": {},
   "outputs": [],
   "source": []
  },
  {
   "cell_type": "code",
   "execution_count": null,
   "id": "6484ec37",
   "metadata": {},
   "outputs": [],
   "source": []
  },
  {
   "cell_type": "markdown",
   "id": "fae7c730",
   "metadata": {},
   "source": [
    "**Congratulations!** You're done with Econ 148 Project 1!"
   ]
  },
  {
   "cell_type": "markdown",
   "id": "8d19420d",
   "metadata": {},
   "source": [
    "---\n",
    "## Feedback"
   ]
  },
  {
   "cell_type": "markdown",
   "id": "0683466b",
   "metadata": {},
   "source": [
    "**Question 10:** Please fill out this short [feedback form](https://forms.gle/DzFCYCU8cVqPn2fCA) to let us know your thoughts about this project! We really appreciate your opinions and feedback! At the end of the Google form, you should see a codeword. Assign the codeword to the variable `codeword` below. "
   ]
  },
  {
   "cell_type": "code",
   "execution_count": null,
   "id": "58804efe",
   "metadata": {
    "tags": []
   },
   "outputs": [],
   "source": [
    "codeword = ..."
   ]
  },
  {
   "cell_type": "code",
   "execution_count": null,
   "id": "98805529",
   "metadata": {
    "deletable": false,
    "editable": false
   },
   "outputs": [],
   "source": [
    "grader.check(\"q10\")"
   ]
  },
  {
   "cell_type": "markdown",
   "id": "0284d6dc",
   "metadata": {
    "deletable": false,
    "editable": false
   },
   "source": [
    "## Submission\n",
    "\n",
    "Make sure you have run all cells in your notebook in order before running the cell below, so that all images/graphs appear in the output. The cell below will generate a zip file for you to submit. **Please save before exporting!**"
   ]
  },
  {
   "cell_type": "code",
   "execution_count": null,
   "id": "2dee2bbf",
   "metadata": {
    "deletable": false,
    "editable": false
   },
   "outputs": [],
   "source": [
    "# Save your notebook first, then run this cell to export your submission.\n",
    "grader.export(pdf=False)"
   ]
  },
  {
   "cell_type": "markdown",
   "id": "b1f63a0d",
   "metadata": {},
   "source": [
    " "
   ]
  }
 ],
 "metadata": {
  "kernelspec": {
   "display_name": "Python 3 (ipykernel)",
   "language": "python",
   "name": "python3"
  },
  "language_info": {
   "codemirror_mode": {
    "name": "ipython",
    "version": 3
   },
   "file_extension": ".py",
   "mimetype": "text/x-python",
   "name": "python",
   "nbconvert_exporter": "python",
   "pygments_lexer": "ipython3",
   "version": "3.8.10"
  },
  "otter": {
   "OK_FORMAT": true,
   "assignment_name": "proj01",
   "tests": {
    "q10": {
     "name": "q10",
     "points": null,
     "suites": [
      {
       "cases": [
        {
         "code": ">>> sum([ord(c) for c in codeword])^0xec148 == 967193\nTrue",
         "hidden": false,
         "locked": false
        }
       ],
       "scored": true,
       "setup": "",
       "teardown": "",
       "type": "doctest"
      }
     ]
    },
    "q1_1": {
     "name": "q1_1",
     "points": null,
     "suites": [
      {
       "cases": [
        {
         "code": ">>> rgdp_raw.shape == (47670, 29)\nTrue",
         "hidden": false,
         "locked": false
        }
       ],
       "scored": true,
       "setup": "",
       "teardown": "",
       "type": "doctest"
      }
     ]
    },
    "q1_2": {
     "name": "q1_2",
     "points": null,
     "suites": [
      {
       "cases": [
        {
         "code": ">>> rgdp.shape == (47666, 29)\nTrue",
         "hidden": false,
         "locked": false
        },
        {
         "code": ">>> rgdp.iloc[-1][\"GeoName\"] != np.nan\nTrue",
         "hidden": false,
         "locked": false
        },
        {
         "code": ">>> \"98000\" in rgdp.iloc[-1][\"GeoFIPS\"]\nTrue",
         "hidden": false,
         "locked": false
        }
       ],
       "scored": true,
       "setup": "",
       "teardown": "",
       "type": "doctest"
      }
     ]
    },
    "q2_1": {
     "name": "q2_1",
     "points": null,
     "suites": [
      {
       "cases": [
        {
         "code": ">>> isinstance(N_rows, int) and N_rows > 0\nTrue",
         "hidden": false,
         "locked": false
        },
        {
         "code": ">>> isinstance(N_cols, int) and N_cols > 0\nTrue",
         "hidden": false,
         "locked": false
        }
       ],
       "scored": true,
       "setup": "",
       "teardown": "",
       "type": "doctest"
      }
     ]
    },
    "q2_2": {
     "name": "q2_2",
     "points": null,
     "suites": [
      {
       "cases": [
        {
         "code": ">>> 100 < N_unique_counties < 10000\nTrue",
         "hidden": false,
         "locked": false
        }
       ],
       "scored": true,
       "setup": "",
       "teardown": "",
       "type": "doctest"
      }
     ]
    },
    "q3_2": {
     "name": "q3_2",
     "points": null,
     "suites": [
      {
       "cases": [
        {
         "code": ">>> rgdp_no_nans.shape == (34202, 29)\nTrue",
         "hidden": false,
         "locked": false
        },
        {
         "code": ">>> not rgdp_no_nans.isnull().values.any()\nTrue",
         "failure_message": "The dataframe should not contain any NaNs.",
         "hidden": false,
         "locked": false
        },
        {
         "code": ">>> not \"(D)\" in rgdp_no_nans.values\nTrue",
         "failure_message": "The dataframe should not contain any \"(D)\"s.",
         "hidden": false,
         "locked": false
        },
        {
         "code": ">>> not \"(NA)\" in rgdp_no_nans.values\nTrue",
         "failure_message": "The dataframe should not contain any \"(NA)\"s.",
         "hidden": false,
         "locked": false
        }
       ],
       "scored": true,
       "setup": "",
       "teardown": "",
       "type": "doctest"
      }
     ]
    },
    "q4_1": {
     "name": "q4_1",
     "points": null,
     "suites": [
      {
       "cases": [
        {
         "code": ">>> np.all([rgdp_clean[str(year)].dtype == \"int64\" for year in np.arange(2001, 2022)])\nTrue",
         "hidden": false,
         "locked": false
        }
       ],
       "scored": true,
       "setup": "",
       "teardown": "",
       "type": "doctest"
      }
     ]
    },
    "q4_2": {
     "name": "q4_2",
     "points": null,
     "suites": [
      {
       "cases": [
        {
         "code": ">>> no_quotation_marks == 'Berkeley is the No.1 university in California.'\nTrue",
         "hidden": false,
         "locked": false
        }
       ],
       "scored": true,
       "setup": "",
       "teardown": "",
       "type": "doctest"
      }
     ]
    },
    "q4_3": {
     "name": "q4_3",
     "points": null,
     "suites": [
      {
       "cases": [
        {
         "code": ">>> rgdp_clean[\"GeoFIPS\"].dtypes == \"int64\"\nTrue",
         "hidden": false,
         "locked": false
        },
        {
         "code": ">>> np.isclose(len(rgdp_clean[\"GeoFIPS\"].unique()), 3166)\nTrue",
         "hidden": false,
         "locked": false
        }
       ],
       "scored": true,
       "setup": "",
       "teardown": "",
       "type": "doctest"
      }
     ]
    },
    "q5_1": {
     "name": "q5_1",
     "points": null,
     "suites": [
      {
       "cases": [
        {
         "code": ">>> rgdp_melted.shape == (718242, 7)\nTrue",
         "hidden": false,
         "locked": false
        },
        {
         "code": ">>> np.all(rgdp_melted.columns == ['GeoFIPS', 'GeoName', 'Region', 'LineCode', 'Description', 'year', 'value'])\nTrue",
         "hidden": false,
         "locked": false
        },
        {
         "code": ">>> np.isclose(rgdp_melted[(rgdp_melted[\"year\"] == \"2001\") & (rgdp_melted[\"GeoFIPS\"] == 0) & (rgdp_melted[\"LineCode\"] == 1)][\"value\"][0], 13263417000)\nTrue",
         "hidden": false,
         "locked": false
        }
       ],
       "scored": true,
       "setup": "",
       "teardown": "",
       "type": "doctest"
      }
     ]
    },
    "q5_2": {
     "name": "q5_2",
     "points": null,
     "suites": [
      {
       "cases": [
        {
         "code": ">>> rgdp_melted[\"year\"].dtype == \"int64\"\nTrue",
         "hidden": false,
         "locked": false
        }
       ],
       "scored": true,
       "setup": "",
       "teardown": "",
       "type": "doctest"
      }
     ]
    },
    "q5_3": {
     "name": "q5_3",
     "points": null,
     "suites": [
      {
       "cases": [
        {
         "code": ">>> rgdp_county.shape == (699426, 7)\nTrue",
         "hidden": false,
         "locked": false
        },
        {
         "code": ">>> np.all(rgdp_county.columns == ['GeoFIPS', 'GeoName', 'Region', 'LineCode', 'Description', 'year', 'value'])\nTrue",
         "hidden": false,
         "locked": false
        },
        {
         "code": ">>> np.isclose(rgdp_county[(rgdp_county[\"year\"] == 2020) & (rgdp_county[\"GeoFIPS\"] == 56045)][\"value\"].iloc[0], 292568)\nTrue",
         "hidden": false,
         "locked": false
        }
       ],
       "scored": true,
       "setup": "",
       "teardown": "",
       "type": "doctest"
      }
     ]
    },
    "q5_4": {
     "name": "q5_4",
     "points": null,
     "suites": [
      {
       "cases": [
        {
         "code": ">>> rgdp_county_allindustry.shape == (65226, 6)\nTrue",
         "hidden": false,
         "locked": false
        },
        {
         "code": ">>> np.all(rgdp_county_allindustry.columns == ['GeoFIPS', 'GeoName', 'Region', 'LineCode', 'year', 'value'])\nTrue",
         "hidden": false,
         "locked": false
        },
        {
         "code": ">>> np.min(rgdp_county_allindustry[\"LineCode\"]) == np.max(rgdp_county_allindustry[\"LineCode\"])\nTrue",
         "hidden": false,
         "locked": false
        },
        {
         "code": ">>> np.isclose(rgdp_county_allindustry[(rgdp_county_allindustry[\"year\"] == 2020) & (rgdp_county_allindustry[\"GeoFIPS\"] == 56045)][\"value\"].iloc[0], 292568)\nTrue",
         "hidden": false,
         "locked": false
        }
       ],
       "scored": true,
       "setup": "",
       "teardown": "",
       "type": "doctest"
      }
     ]
    },
    "q6_1": {
     "name": "q6_1",
     "points": null,
     "suites": [
      {
       "cases": [
        {
         "code": ">>> rgdp_county_allindustry_mean.shape == (21, 2)\nTrue",
         "hidden": false,
         "locked": false
        },
        {
         "code": ">>> np.all(rgdp_county_allindustry_mean.columns == [\"year\", \"value\"])\nTrue",
         "hidden": false,
         "locked": false
        }
       ],
       "scored": true,
       "setup": "",
       "teardown": "",
       "type": "doctest"
      }
     ]
    },
    "q6_2": {
     "name": "q6_2",
     "points": null,
     "suites": [
      {
       "cases": [
        {
         "code": ">>> rgdp_county_allindustry_median.shape == (21, 2)\nTrue",
         "hidden": false,
         "locked": false
        },
        {
         "code": ">>> np.all(rgdp_county_allindustry_median.columns == [\"year\", \"value\"])\nTrue",
         "hidden": false,
         "locked": false
        }
       ],
       "scored": true,
       "setup": "",
       "teardown": "",
       "type": "doctest"
      }
     ]
    },
    "q7_1": {
     "name": "q7_1",
     "points": null,
     "suites": [
      {
       "cases": [
        {
         "code": ">>> rgdp_far_west_pct_chg.shape == (20, 2)\nTrue",
         "hidden": false,
         "locked": false
        },
        {
         "code": ">>> np.all(~rgdp_far_west_pct_chg[\"value\"].isnull())\nTrue",
         "hidden": false,
         "locked": false
        }
       ],
       "scored": true,
       "setup": "",
       "teardown": "",
       "type": "doctest"
      }
     ]
    },
    "q8_1": {
     "name": "q8_1",
     "points": null,
     "suites": [
      {
       "cases": [
        {
         "code": ">>> county_geo.shape == (3143, 4)\nTrue",
         "hidden": false,
         "locked": false
        },
        {
         "code": ">>> np.all(county_geo.columns == [\"county_fips\", \"lat\", \"lng\", \"population\"])\nTrue",
         "hidden": false,
         "locked": false
        },
        {
         "code": ">>> county_geo[county_geo[\"county_fips\"] == 17031][\"lat\"].iloc[0] == 41.8401\nTrue",
         "hidden": false,
         "locked": false
        }
       ],
       "scored": true,
       "setup": "",
       "teardown": "",
       "type": "doctest"
      }
     ]
    },
    "q8_2": {
     "name": "q8_2",
     "points": null,
     "suites": [
      {
       "cases": [
        {
         "code": ">>> rgdp_county_allindustry_geo.shape == (64722, 10)\nTrue",
         "hidden": false,
         "locked": false
        },
        {
         "code": ">>> np.all([c in rgdp_county_allindustry_geo.columns for c in ['GeoFIPS', 'GeoName', 'Region', 'LineCode', 'year', 'value', 'county_fips', 'lat', 'lng', 'population']])\nTrue",
         "hidden": false,
         "locked": false
        }
       ],
       "scored": true,
       "setup": "",
       "teardown": "",
       "type": "doctest"
      }
     ]
    }
   }
  }
 },
 "nbformat": 4,
 "nbformat_minor": 5
}
