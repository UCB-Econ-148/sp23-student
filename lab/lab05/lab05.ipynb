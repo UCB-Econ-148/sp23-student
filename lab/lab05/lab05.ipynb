{
 "cells": [
  {
   "cell_type": "code",
   "execution_count": null,
   "id": "faf19d34",
   "metadata": {
    "deletable": false,
    "editable": false
   },
   "outputs": [],
   "source": [
    "# Initialize Otter\n",
    "import otter\n",
    "grader = otter.Notebook(\"lab05.ipynb\")"
   ]
  },
  {
   "cell_type": "code",
   "execution_count": null,
   "id": "c7666053",
   "metadata": {},
   "outputs": [],
   "source": [
    "import pandas as pd\n",
    "import numpy as np\n",
    "%matplotlib inline\n",
    "import matplotlib.pyplot as plt\n",
    "plt.style.use('fivethirtyeight')\n",
    "\n",
    "import seaborn as sns\n",
    "import warnings\n",
    "warnings.filterwarnings('ignore')"
   ]
  },
  {
   "cell_type": "markdown",
   "id": "1187fd4e",
   "metadata": {},
   "source": [
    "# Lab 5: Intro to Visualization"
   ]
  },
  {
   "cell_type": "markdown",
   "id": "cb793e8b",
   "metadata": {},
   "source": [
    "#### Learning objects\n",
    "\n",
    "In this notebook, you will learn about:\n",
    "\n",
    "- How to explore datasets\n",
    "- How to prepare data to be visualizaed\n",
    "- The purpose of different visualizations \n",
    "- How to create and code visualizations\n",
    "- How to analyze and draw insights from visualizations"
   ]
  },
  {
   "cell_type": "markdown",
   "id": "1a2374ad",
   "metadata": {},
   "source": [
    "#### Helpful Data Science Resources \n",
    "Here are some resources you can check out while doing this notebook and to explore data visualization further!\n",
    "- [DATA 8 Textbook](https://inferentialthinking.com/chapters/07/Visualization.html) - Visualization chapter\n",
    "- [Reference Sheet for the datascience Module](http://data8.org/sp22/python-reference.html)\n",
    "- [Documentation for the datascience Modules](http://data8.org/datascience/index.html)\n",
    "- [Cool Data Visualizations](https://www.tableau.com/learn/articles/best-beautiful-data-visualization-examples)\n",
    "- [Statistica: Find Data on Interesting Topics](https://www.statista.com/)\n",
    "- [Exploratory Data Analysis](https://en.wikipedia.org/wiki/Exploratory_data_analysis)"
   ]
  },
  {
   "cell_type": "markdown",
   "id": "4113d781",
   "metadata": {},
   "source": [
    "**A note on the autograder for this lab:** The test cases in the autograder are not comprehensive -- you can create some completely incorrect graph while passing the autograder. So assure yourself that you are making the correct visualizations, we have provided a [list of reference images](https://www.econ148.org/sp23/resources/assets/supp_materials/lab05/reference_images/). Your score for this lab will still solely depend on the autograder provided. "
   ]
  },
  {
   "cell_type": "markdown",
   "id": "54d5ec92",
   "metadata": {
    "cell_id": "1de2459aa74e4df8bb7be8416cf03c83",
    "deepnote_cell_type": "text-cell-h2",
    "formattedRanges": [],
    "is_collapsed": false,
    "tags": []
   },
   "source": [
    "---\n",
    "## Part 1: Explorative Data Analysis (EDA)"
   ]
  },
  {
   "cell_type": "markdown",
   "id": "6d2fad97",
   "metadata": {},
   "source": [
    "### Unemployment rate and NaN values \n",
    "\n",
    "Let's start off with loading in the dataset. We will be using unemployment rate data from Fred. "
   ]
  },
  {
   "cell_type": "markdown",
   "id": "68feae01",
   "metadata": {
    "cell_id": "d149b7caacf646f4acbc553a297c867c",
    "deepnote_cell_type": "markdown",
    "tags": []
   },
   "source": [
    "**Question 1.1:** Load in the dataset `data/unemployment_rate.csv` and read it into a Pandas dataframe. Name it `unemployment_df`."
   ]
  },
  {
   "cell_type": "code",
   "execution_count": null,
   "id": "eeedb95d",
   "metadata": {
    "tags": []
   },
   "outputs": [],
   "source": [
    "unemployment_df = ...\n",
    "unemployment_df.head()"
   ]
  },
  {
   "cell_type": "code",
   "execution_count": null,
   "id": "e83928f8",
   "metadata": {
    "deletable": false,
    "editable": false
   },
   "outputs": [],
   "source": [
    "grader.check(\"q1_1\")"
   ]
  },
  {
   "attachments": {},
   "cell_type": "markdown",
   "id": "775f4833",
   "metadata": {},
   "source": [
    "**Question 1.2:** The dataset contains three columns: the overall unemployment rate, unemployment rate for male, and unemployment rate for female. See [Fed website](https://fred.stlouisfed.org/graph/?g=jXvf) and [Pandas Documentation](https://pandas.pydata.org/docs/refeence/api/pandas.DataFrame.rename.html) and change names of the columns to one of these : 'Date', 'Male', 'Female', and 'Unemployment rate'. "
   ]
  },
  {
   "cell_type": "code",
   "execution_count": null,
   "id": "2efe941f",
   "metadata": {
    "tags": []
   },
   "outputs": [],
   "source": [
    "unemployment_df = ...\n",
    "unemployment_df.head()"
   ]
  },
  {
   "cell_type": "code",
   "execution_count": null,
   "id": "15ec7735",
   "metadata": {
    "deletable": false,
    "editable": false
   },
   "outputs": [],
   "source": [
    "grader.check(\"q1_2\")"
   ]
  },
  {
   "cell_type": "markdown",
   "id": "06438946",
   "metadata": {},
   "source": [
    "Before plotting the data, it is important to determine if there are any nan values in the dataset. \n",
    "You can use [pd.isnull](https://pandas.pydata.org/docs/reference/api/pandas.isna.html) or [pd.isna](https://pandas.pydata.org/docs/reference/api/pandas.isna.html) to check the existence of nan value. \n",
    "\n",
    "Take a look at documentation and use the knowledge to determine whether our dataset contains any NaN value. "
   ]
  },
  {
   "cell_type": "markdown",
   "id": "c69b1526",
   "metadata": {},
   "source": [
    "<!-- BEGIN QUESTION -->\n",
    "\n",
    "**Question 1.3:**  Does the dataset contain any NaN values? Explain what you did to reach your conclusion. "
   ]
  },
  {
   "cell_type": "markdown",
   "id": "64b8ceb1",
   "metadata": {},
   "source": [
    "_Type your answer here, replacing this text._"
   ]
  },
  {
   "cell_type": "markdown",
   "id": "13102328",
   "metadata": {
    "cell_id": "b7752fad123a4d05832932de2b7d1612",
    "deepnote_cell_type": "text-cell-h2",
    "formattedRanges": [],
    "is_collapsed": false,
    "tags": []
   },
   "source": [
    "<!-- END QUESTION -->\n",
    "\n",
    "---\n",
    "## Part 2: Data Visualization"
   ]
  },
  {
   "cell_type": "markdown",
   "id": "ee58a7be",
   "metadata": {},
   "source": [
    "### Line Plots\n",
    "\n",
    "A line plot is used to display data as a series of points connected by a line. It's generally used to visualize how a variable changes over time (also known as [time series data](https://www.investopedia.com/terms/t/timeseries.asp)). It has a time-related variable on the x-axis (minutes, days, months, years, etc.) and a numerical variable on the y-axis.\n",
    "\n",
    "Let's create a line plot to see how the overall unemployment rate changes over the years.\n"
   ]
  },
  {
   "cell_type": "markdown",
   "id": "cf8c66ba",
   "metadata": {},
   "source": [
    "**Question 2.1:** Make a line plot for the overall unemployment rate over the entire sample period. Label your plot properly (both axes and title).  "
   ]
  },
  {
   "cell_type": "code",
   "execution_count": null,
   "id": "7b265c9b",
   "metadata": {
    "tags": []
   },
   "outputs": [],
   "source": [
    "def q2_1():\n",
    "    unemployment_df.plot(..., ..., figsize=(8,5), style='g-', linewidth= 1.5)\n",
    "    plt.ylabel(...)\n",
    "    plt.xlabel(...)\n",
    "    plt.title(...)\n",
    "q2_1()"
   ]
  },
  {
   "cell_type": "code",
   "execution_count": null,
   "id": "0911119c",
   "metadata": {
    "deletable": false,
    "editable": false
   },
   "outputs": [],
   "source": [
    "grader.check(\"q2_1\")"
   ]
  },
  {
   "cell_type": "markdown",
   "id": "71bf5cb8",
   "metadata": {},
   "source": [
    "<!-- BEGIN QUESTION -->\n",
    "\n",
    "**Question 2.2:** What kind of trend in unemployment rate can you find from the graph above? Please provide potential reasonings of the trend you find from the graph above. "
   ]
  },
  {
   "cell_type": "markdown",
   "id": "d61db7ce",
   "metadata": {},
   "source": [
    "_Type your answer here, replacing this text._"
   ]
  },
  {
   "cell_type": "markdown",
   "id": "53ae52ad",
   "metadata": {},
   "source": [
    "<!-- END QUESTION -->\n",
    "\n",
    "**Question 2.3:** Create similar line plots for the `unemployment_rate` dataset below **for each gender**. Label your plot properly (both axes and title).\n",
    "\n",
    "Hint : Take a look at documentation of [df.plot()](https://pandas.pydata.org/docs/reference/api/pandas.DataFrame.plot.html) method."
   ]
  },
  {
   "cell_type": "code",
   "execution_count": null,
   "id": "e6a4eb5a",
   "metadata": {
    "tags": []
   },
   "outputs": [],
   "source": [
    "def q2_3():\n",
    "    unemployment_df.plot(..., [..., ...], figsize=(8, 5), linewidth=2)\\\n",
    "    plt.ylabel(...)\n",
    "    plt.xlabel(...)\n",
    "    plt.title(...)\n",
    "q2_3()"
   ]
  },
  {
   "cell_type": "code",
   "execution_count": null,
   "id": "4c2265d6",
   "metadata": {
    "deletable": false,
    "editable": false
   },
   "outputs": [],
   "source": [
    "grader.check(\"q2_3\")"
   ]
  },
  {
   "cell_type": "markdown",
   "id": "3aed02d8",
   "metadata": {},
   "source": [
    "<!-- BEGIN QUESTION -->\n",
    "\n",
    "**Question 2.4:** What kind of difference between two genders can you see from the plot above? What could be the possible reasons behind this difference? "
   ]
  },
  {
   "cell_type": "markdown",
   "id": "f4882895",
   "metadata": {},
   "source": [
    "_Type your answer here, replacing this text._"
   ]
  },
  {
   "cell_type": "markdown",
   "id": "c7eb2c13",
   "metadata": {
    "jp-MarkdownHeadingCollapsed": true
   },
   "source": [
    "<!-- END QUESTION -->\n",
    "\n",
    "### Inflation and Unemployment rate"
   ]
  },
  {
   "cell_type": "markdown",
   "id": "349edfed",
   "metadata": {},
   "source": [
    "Now we will be using both Unemployment rate and Inflation rate at the same time to plot a graph. First let's create `inflation_df` using `inflation_rate.csv`. Let's import the dataframe and rename columns so we can use them to plot graph.  "
   ]
  },
  {
   "cell_type": "markdown",
   "id": "0e184aa1",
   "metadata": {},
   "source": [
    "**Question 2.5**: Load in the dataset `data/inflation_rate.csv` and read it into a Pandas dataframe. Name it `inflation_df`. Then rename the columns to `Date` and `Inflation rate`. "
   ]
  },
  {
   "cell_type": "code",
   "execution_count": null,
   "id": "155f8a9c",
   "metadata": {
    "tags": []
   },
   "outputs": [],
   "source": [
    "inflation_df = ...\n",
    "...\n",
    "inflation_df.head()"
   ]
  },
  {
   "cell_type": "code",
   "execution_count": null,
   "id": "9a791f4c",
   "metadata": {
    "deletable": false,
    "editable": false
   },
   "outputs": [],
   "source": [
    "grader.check(\"q2_5\")"
   ]
  },
  {
   "cell_type": "markdown",
   "id": "d7691b5c",
   "metadata": {},
   "source": [
    "### Merging datasets"
   ]
  },
  {
   "cell_type": "markdown",
   "id": "125635df",
   "metadata": {},
   "source": [
    "It makes easier to plot if we have a single dataframe to plot. There are many plotting libraries that require you to pass the dataframe of your interest as one of arguments. Threrefore, we will create a Dataframe that contains both `unemployment_rate` and `inflation_rate`. We can use `Date` column of both dataframe as a key to combine two tables. \n",
    "\n",
    "We want to create `merged_df` without any row containing NaN value. In other words, keep rows that only exsit in both dataframe."
   ]
  },
  {
   "cell_type": "markdown",
   "id": "010e5e79",
   "metadata": {},
   "source": [
    "**Question 2.6**: Create `merged_df` by inner merging `unemployment_df` and `inflation_df`. \n",
    "\n",
    "Hint: Read documentation of [pd.merge()](https://pandas.pydata.org/docs/reference/api/pandas.DataFrame.merge.html). Think about what type of merge you want to use. "
   ]
  },
  {
   "cell_type": "code",
   "execution_count": null,
   "id": "bb01885b",
   "metadata": {
    "tags": []
   },
   "outputs": [],
   "source": [
    "merged_df = ...\n",
    "merged_df.head()"
   ]
  },
  {
   "cell_type": "code",
   "execution_count": null,
   "id": "7594c29a",
   "metadata": {
    "deletable": false,
    "editable": false
   },
   "outputs": [],
   "source": [
    "grader.check(\"q2_6\")"
   ]
  },
  {
   "cell_type": "markdown",
   "id": "79bc46e2",
   "metadata": {},
   "source": [
    "Now, lets create a plot using the dataframe we just created. This time we will be using `plt.plot()` method to plot multiple graphs into a single plot. Feel free to read documentatioon of [plt.plot()](https://matplotlib.org/stable/api/_as_gen/matplotlib.pyplot.plot.html) and fill in `...` to create the plot."
   ]
  },
  {
   "cell_type": "markdown",
   "id": "48d4ee27",
   "metadata": {},
   "source": [
    "**Question 2.7**: Fill in the blanks to plot two line graphs for both Inflation rate and Unemployment rate and label their names using respectively. Please set the name of x and y label to `Date` and `Percentage (%)`. Label your plot properly (both axes and title)."
   ]
  },
  {
   "cell_type": "code",
   "execution_count": null,
   "id": "969e91eb",
   "metadata": {
    "tags": []
   },
   "outputs": [],
   "source": [
    "def q2_7():\n",
    "    fig, ax = plt.subplots(figsize=(8,5), dpi=100)\n",
    "\n",
    "    ax.plot(..., ..., label=..., linewidth=2) # inflation\n",
    "    ax.plot(..., ..., label=..., linewidth=2) # unemployment\n",
    "\n",
    "    ticks = merged_df[\"Date\"].loc[range(0,len(merged_df[\"Date\"]), 15)].values # this will create ticks on the x-axis\n",
    "    plt.xticks(ticks)\n",
    "    \n",
    "    ... # label your plot\n",
    "\n",
    "    plt.legend()\n",
    "q2_7()"
   ]
  },
  {
   "cell_type": "code",
   "execution_count": null,
   "id": "0d513811",
   "metadata": {
    "deletable": false,
    "editable": false
   },
   "outputs": [],
   "source": [
    "grader.check(\"q2_7\")"
   ]
  },
  {
   "cell_type": "markdown",
   "id": "5b82f3a0",
   "metadata": {},
   "source": [
    "### Bar Charts\n",
    "\n",
    "Another visualization we can use to see how the time spent on each activity changes over the years is a bar chart. **A bar chart is used to visualize the distribution of a categorical variable.** The bar chart is a familiar way of visualizing categorical distributions. It displays a bar for each category where the bars are equally spaced and equally wide. The length of each bar is proportional to the frequency of the corresponding category. \n",
    "\n",
    "In this case, we don't have categorical variable in our both datasets. However, if we create an extra column that only takes integer value from both `inflation_rate` and `unemployment_rate` columns and plot a bar chart using the column, we can get the distribution that looks the same as the distribution of histogram. "
   ]
  },
  {
   "cell_type": "markdown",
   "id": "055fb9ba",
   "metadata": {},
   "source": [
    "### Histograms\n",
    "\n",
    "**A histogram allows you to visualize the distribution of a numerical variable.** It helps you understand how spread out the values in your table are. A histogram is a visualization of the distribution of a quantitative variable. It looks very much like a bar chart but there are some **important differences** that we will examine in this section.\n",
    "\n",
    "Histograms follow the **area principle** and have two defining properties:\n",
    "\n",
    "1. The bins are drawn to scale and are contiguous (though some might be empty), because the values on the horizontal axis are numerical and therefore have fixed positions on the number line.\n",
    "1. The area of each bar is proportional to the number of entries in the bin.\n",
    "\n",
    "The histogram is said to be drawn on the *density scale*. The area of each bar is equal to the percent of data values that are in the corresponding bin.\n",
    "\n",
    "> **`.hist`**: create a histogram (specify the name of the column, plus other optional arguments)\n",
    "\\"
   ]
  },
  {
   "cell_type": "markdown",
   "id": "7319a416",
   "metadata": {
    "jp-MarkdownHeadingCollapsed": true
   },
   "source": [
    "**Question 2.8**: Plot histogram for inflation rate using `.hist()` method. Create `bins` array for histogram from 3 to 15 with stepsize of 1.5. Label the axes to `Inflation rate (%)` and `Counts` and name the title of the plot `Distribution of Inflation rate (%)`. "
   ]
  },
  {
   "cell_type": "code",
   "execution_count": null,
   "id": "f8963ceb",
   "metadata": {
    "tags": []
   },
   "outputs": [],
   "source": [
    "def q2_8():\n",
    "    fig, ax = plt.subplots(figsize =(8, 5), dpi=100)\n",
    "\n",
    "    bins = ...\n",
    "    ax.hist(x=..., bins=..., rwidth=.75)\n",
    "    ... # label your plot\n",
    "q2_8()"
   ]
  },
  {
   "cell_type": "code",
   "execution_count": null,
   "id": "9b5eba0c",
   "metadata": {
    "deletable": false,
    "editable": false
   },
   "outputs": [],
   "source": [
    "grader.check(\"q2_8\")"
   ]
  },
  {
   "cell_type": "markdown",
   "id": "02d1f681",
   "metadata": {},
   "source": [
    "**Question 2.9**: Plot histogram for Unemployment rate using .hist() method. Create `bins` array for histogram from 3 to 11 with stepsize of 0.5. Label the axes `Unemployment rate (%)` and `Counts` and name the title of the plot as `Distribution of Unemployment rate (%)`."
   ]
  },
  {
   "cell_type": "code",
   "execution_count": null,
   "id": "c932bc1f",
   "metadata": {
    "tags": []
   },
   "outputs": [],
   "source": [
    "def q2_9():\n",
    "    fig, ax = plt.subplots(figsize =(8, 5), dpi=100)\n",
    "\n",
    "    bins = ...\n",
    "    ax.hist(x=..., bins=..., rwidth=.75)\n",
    "    ... # label your plot\n",
    "q2_9()"
   ]
  },
  {
   "cell_type": "code",
   "execution_count": null,
   "id": "08b89614",
   "metadata": {
    "deletable": false,
    "editable": false
   },
   "outputs": [],
   "source": [
    "grader.check(\"q2_9\")"
   ]
  },
  {
   "cell_type": "markdown",
   "id": "9738dfb2",
   "metadata": {
    "jp-MarkdownHeadingCollapsed": true
   },
   "source": [
    "### Scatter Plots\n",
    "\n",
    "Another type of data visualization that is really important in statistics is the scatter plot. **Scatter plots are used to visualize the relationship between two numerical variables.**\n",
    "\n",
    "Specifically, it allows us to infer the association between two variables. Association refers to how one variable (the y-variable) changes with respect to the other variable (the x-variable). See [this chapter](https://inferentialthinking.com/chapters/15/Prediction.html) in the DATA 8 textbook for reference.\n",
    "\n",
    "We can describe the association between two variables based on two factors:\n",
    "\n",
    "1. Magnitude: Is the association strong or weak? If the points on the scatter plot all line up along a straight line (in any direction) or \"blob\", it means that the association between the variables is strong. On the other hand, if the points are all spread out, it means that the association is weak.\n",
    "\n",
    "2. Direction (or sign): Is the association positive or negative? If the points on the scatter plot line up along an upward sloping line, it means that the association between the variable is positive. If they line up along a downward sloping line, the association is negative.\n",
    "\n",
    "Now that we understand what scatter plots are and how to interpret them, let's create one to visualize the association between Unemployment rate and Inflation rate.\n",
    "\n",
    "> **`.scatter`:** create a scatter plot (the first argument is the variable on the x-axis and the second argument is the variable on the y-axis)\n"
   ]
  },
  {
   "cell_type": "markdown",
   "id": "e7b829e5",
   "metadata": {},
   "source": [
    "**Question 2.10** Create a scatter plot using `Unemployment rate` for x-axis and `Inflation rate` for y-axis. Also draw a linear line of the best fit with color red using `slope` and `intercept` returned from [`np.polyfit()`](https://numpy.org/doc/stable/reference/generated/numpy.polyfit.html). "
   ]
  },
  {
   "cell_type": "code",
   "execution_count": null,
   "id": "b89ffc9a",
   "metadata": {
    "tags": []
   },
   "outputs": [],
   "source": [
    "def q2_10():\n",
    "    fig, ax = plt.subplots(figsize =(5, 5), dpi=100)\n",
    "\n",
    "    x = ...\n",
    "    y = ...\n",
    "\n",
    "    ax.scatter(..., ...)\n",
    "\n",
    "    #obtain m (slope) and b(intercept) of linear regression line\n",
    "    m, b = np.polyfit(..., ..., ...)\n",
    "\n",
    "    #use red as color for regression line (line of the best fit)\n",
    "    plt.plot(..., ..., ...)\n",
    "\n",
    "    ... # label your plot\n",
    "q2_10()"
   ]
  },
  {
   "cell_type": "code",
   "execution_count": null,
   "id": "c21822b3",
   "metadata": {
    "deletable": false,
    "editable": false
   },
   "outputs": [],
   "source": [
    "grader.check(\"q2_10\")"
   ]
  },
  {
   "cell_type": "markdown",
   "id": "3982e160",
   "metadata": {},
   "source": [
    "### Philips curve\n",
    "\n",
    "The ***Phillips Curve*** is an economic concept that shows the relationship between inflation and unemployment. It suggests that there is an inverse relationship between these two variables, meaning that as unemployment decreases, inflation increases, and vice versa. The curve is based on the idea that as the labor market tightens, employers must offer higher wages to attract workers, which increases production costs and leads to higher prices for goods and services. \n",
    "\n",
    "You can get more information about the Philips curve [here](https://en.wikipedia.org/wiki/Phillips_curve)\n",
    "\n"
   ]
  },
  {
   "cell_type": "markdown",
   "id": "43128484",
   "metadata": {},
   "source": [
    "One of reasons why our regrassion line above was not downward sloping is because we have too broad time frame with small number of data points for each year. Lets categorize each data point repective to decades. You can do this by simply creating extra column with column name `Decade` and assign the decade value calculated using `Date` column. "
   ]
  },
  {
   "cell_type": "markdown",
   "id": "5e5dd17f",
   "metadata": {},
   "source": [
    "**Question 2.11**: Create `Decade` column in `merged_df` that store the decade. \n",
    "\n",
    "Note: For example, 1967 should have decade as 1960, and 2021 should have decade as 2020.   \n",
    "Hint: You can get part of a string by slicing a string. We can do this on a column in a dataframe using the string method. This [tutorial](https://note.nkmk.me/en/python-pandas-str-slice/) may be helpful."
   ]
  },
  {
   "cell_type": "code",
   "execution_count": null,
   "id": "e95a7887",
   "metadata": {
    "tags": []
   },
   "outputs": [],
   "source": [
    "merged_df[\"Decade\"] = ... + '0' # hint: for example, '195' + '0'\n",
    "merged_df.head()"
   ]
  },
  {
   "cell_type": "code",
   "execution_count": null,
   "id": "34758363",
   "metadata": {
    "deletable": false,
    "editable": false
   },
   "outputs": [],
   "source": [
    "grader.check(\"q2_11\")"
   ]
  },
  {
   "cell_type": "markdown",
   "id": "440d91f2",
   "metadata": {},
   "source": [
    "Now we will use the [seaborn](https://seaborn.pydata.org/index.html) package to create a scatter plot using the same data above but with different colors based on the `Decade` column. Read documentation of [`sns.scatterplot()`](https://seaborn.pydata.org/generated/seaborn.scatterplot.html) to create a scatter plot with different colors based on `Deceade`. Still we want to have unemployment rate on the x-axis and inflation rate on the y-axis."
   ]
  },
  {
   "cell_type": "markdown",
   "id": "41bdc4dc",
   "metadata": {},
   "source": [
    "**Question 2.12**: Fill in the `...` to create a scatter plot of our interest. Also, label your plot properly (both axes and title). "
   ]
  },
  {
   "cell_type": "code",
   "execution_count": null,
   "id": "c1c1760e",
   "metadata": {
    "tags": []
   },
   "outputs": [],
   "source": [
    "def q2_12():\n",
    "    fig, ax = plt.subplots(figsize=(5, 5), dpi=100)\n",
    "\n",
    "    sns.scatterplot(x=..., y=..., data=..., hue=..., palette=\"bright\", alpha=0.75)\n",
    "\n",
    "    ... # label your plot\n",
    "q2_12()"
   ]
  },
  {
   "cell_type": "code",
   "execution_count": null,
   "id": "7dbebc80",
   "metadata": {
    "deletable": false,
    "editable": false
   },
   "outputs": [],
   "source": [
    "grader.check(\"q2_12\")"
   ]
  },
  {
   "cell_type": "markdown",
   "id": "3730684b",
   "metadata": {},
   "source": [
    "Although it is possible to use the `np.polyfit()` and `plt.plot()` to graph the regression line, we will be introducing new plot `sns.lmplot` from Seabon library. This is a powerful tool in the sense that use can create and color the scatter plot and regression lines based on the categorical column of your choice at the same time. Read the documentation of [`sns.lmplot`](https://seaborn.pydata.org/generated/seaborn.lmplot.html) for more information."
   ]
  },
  {
   "cell_type": "markdown",
   "id": "e057784e",
   "metadata": {},
   "source": [
    "**Question 2.13**: Fill in the `...` to create a `lmplot` of our interest. Use `Unemployment rate` and `Inflation rate` from `merged_df_without_20s` to create a plot with their color based on `Decade` column. Also, label both x-axis and y-axis of the plot and title the plot as same as above. \n",
    "\n",
    "Note: As the decade `2020` has only three data points, please create `merged_df_without_20s` filtering out data in the decade `2020`.  "
   ]
  },
  {
   "cell_type": "code",
   "execution_count": null,
   "id": "f2cae80e",
   "metadata": {
    "tags": []
   },
   "outputs": [],
   "source": [
    "def q2_13():\n",
    "    merged_df_without_20s = ...\n",
    "\n",
    "    sns.lmplot(x=..., y=..., data=..., hue=..., \n",
    "            palette=\"bright\", ci=None, line_kws={'lw': 2}, lowess =True)\n",
    "\n",
    "    ... # label your plot\n",
    "    return merged_df_without_20s\n",
    "_ = q2_13()"
   ]
  },
  {
   "cell_type": "code",
   "execution_count": null,
   "id": "cb014e35",
   "metadata": {
    "deletable": false,
    "editable": false
   },
   "outputs": [],
   "source": [
    "grader.check(\"q2_13\")"
   ]
  },
  {
   "cell_type": "markdown",
   "id": "e15a3e1e",
   "metadata": {},
   "source": [
    "---\n",
    "## Part 3. More Plots with Seaborn"
   ]
  },
  {
   "cell_type": "markdown",
   "id": "def17495",
   "metadata": {
    "jp-MarkdownHeadingCollapsed": true
   },
   "source": [
    "### Boxplot\n",
    "\n",
    "A boxplot is similar to a histogram as it also **visualizes the distribution of a numerical variable, but it gives you more specific statistics about the distribution**: the minimum, lower quartile (value at the bottom 25th percentile), median (value at the 50th percentile), upper quartile (value at the top 25th percentile) and maximum. [Read here](https://seaborn.pydata.org/generated/seaborn.boxplot.html) for information about box plots.\n"
   ]
  },
  {
   "cell_type": "markdown",
   "id": "cde839c2",
   "metadata": {},
   "source": [
    "**Question 3.1**: Use [`sns.boxplot()`](https://seaborn.pydata.org/generated/seaborn.boxplot.html) on `unemployment_df` to create a box plot of three different unemployment rates: `Male`, `Unemployment rate`, and `Female`. Title the plot as `Distribution of Unemployment rates (%)` and label y-axs as `Unemployment rate (%)`"
   ]
  },
  {
   "cell_type": "code",
   "execution_count": null,
   "id": "5e26f503",
   "metadata": {
    "tags": []
   },
   "outputs": [],
   "source": [
    "def q3_1():\n",
    "    sns.boxplot(...)\n",
    "    ... # label your plot\n",
    "q3_1()"
   ]
  },
  {
   "cell_type": "code",
   "execution_count": null,
   "id": "d6857502",
   "metadata": {
    "deletable": false,
    "editable": false
   },
   "outputs": [],
   "source": [
    "grader.check(\"q3_1\")"
   ]
  },
  {
   "cell_type": "markdown",
   "id": "2c1e9c96",
   "metadata": {},
   "source": [
    "<!-- BEGIN QUESTION -->\n",
    "\n",
    "**Question 3.2**: Use the boxplot above to find *approximate* values for the following statistics for the Unemployment rate (overall, female, and male). \n",
    "- **Minimum**: ...\n",
    "- **Lower quartile**: ...\n",
    "- **Median**: ...\n",
    "- **Upper quartile**: ...\n",
    "- **Maximum**: ..."
   ]
  },
  {
   "cell_type": "markdown",
   "id": "bc925e34",
   "metadata": {},
   "source": [
    "_Type your answer here, replacing this text._"
   ]
  },
  {
   "cell_type": "markdown",
   "id": "0a15f3b4",
   "metadata": {
    "jp-MarkdownHeadingCollapsed": true
   },
   "source": [
    "<!-- END QUESTION -->\n",
    "\n",
    "### Violin Plot\n",
    "\n",
    "A violin plot is a combination of a histogram and boxplot. **It shows you the general distribution of the data (by creating a histogram and drawing a line to capture its general shape) as well as specific statistics (same as the ones a boxplot shows).** [Read here](https://chartio.com/learn/charts/violin-plot-complete-guide/) for information about violin plots."
   ]
  },
  {
   "cell_type": "markdown",
   "id": "29ddda5d",
   "metadata": {},
   "source": [
    "**Question 3.3**: Use [`sns.violinplot()`](https://seaborn.pydata.org/generated/seaborn.violinplot.html) on `merged_df` to create a violin plot of `Unemploymnet rate` and `Inflation rate`.  Set the palette argument of the violin plot to `prism`. Also, title the plot as `Distribution of Inflation rate & Unemployment rate` and label y-axis as `Percentage (%)`."
   ]
  },
  {
   "cell_type": "code",
   "execution_count": null,
   "id": "7b3f3943",
   "metadata": {
    "tags": []
   },
   "outputs": [],
   "source": [
    "def q3_3():\n",
    "    sns.violinplot(...)\n",
    "    plt.title(...)\n",
    "    plt.ylabel(...)\n",
    "q3_3()"
   ]
  },
  {
   "cell_type": "code",
   "execution_count": null,
   "id": "72e629e6",
   "metadata": {
    "deletable": false,
    "editable": false
   },
   "outputs": [],
   "source": [
    "grader.check(\"q3_3\")"
   ]
  },
  {
   "cell_type": "markdown",
   "id": "1dc3047c",
   "metadata": {
    "jp-MarkdownHeadingCollapsed": true,
    "tags": []
   },
   "source": [
    "<!-- BEGIN QUESTION -->\n",
    "\n",
    "**Question 3.4**: What did you notice from the violin plot above? (Distribution, skewness, etc.) Please give the reasoning to your answer.   "
   ]
  },
  {
   "cell_type": "markdown",
   "id": "595cb17c",
   "metadata": {},
   "source": [
    "_Type your answer here, replacing this text._"
   ]
  },
  {
   "cell_type": "markdown",
   "id": "31628786",
   "metadata": {},
   "source": [
    "<!-- END QUESTION -->\n",
    "\n",
    "---\n",
    "## Conclusion\n",
    "\n",
    "Over the course of this notebook, you were introduced to basic manipulation and analysis of data tables that is frequently necessary in order to create visualizations. Now you've learned about different types of visualizations, practiced creating various plots, and know what visualizations are best for each goal. Feel free to reference this notebook for your Survey Analysis project.\n",
    "\n",
    "**Congratulations!** You have finished the notebook!"
   ]
  },
  {
   "cell_type": "markdown",
   "id": "716952cd",
   "metadata": {},
   "source": [
    "---\n",
    "## Feedback"
   ]
  },
  {
   "cell_type": "markdown",
   "id": "a273dfcd",
   "metadata": {},
   "source": [
    "**Question 4:** Please fill out this short [feedback form](https://forms.gle/4PgR9FmW37w36dR48) to let us know your thoughts about this lab! We really appreciate your opinions and feedback! At the end of the Google form, you should see a codeword. Assign the codeword to the variable `codeword` below. "
   ]
  },
  {
   "cell_type": "code",
   "execution_count": null,
   "id": "f6861748",
   "metadata": {
    "tags": []
   },
   "outputs": [],
   "source": [
    "codeword = ..."
   ]
  },
  {
   "cell_type": "code",
   "execution_count": null,
   "id": "255f3a88",
   "metadata": {
    "deletable": false,
    "editable": false
   },
   "outputs": [],
   "source": [
    "grader.check(\"q4\")"
   ]
  },
  {
   "cell_type": "markdown",
   "id": "7f8bcfe6",
   "metadata": {
    "deletable": false,
    "editable": false
   },
   "source": [
    "## Submission\n",
    "\n",
    "Make sure you have run all cells in your notebook in order before running the cell below, so that all images/graphs appear in the output. The cell below will generate a zip file for you to submit. **Please save before exporting!**"
   ]
  },
  {
   "cell_type": "code",
   "execution_count": null,
   "id": "763b6da4",
   "metadata": {
    "deletable": false,
    "editable": false
   },
   "outputs": [],
   "source": [
    "# Save your notebook first, then run this cell to export your submission.\n",
    "grader.export(pdf=False, run_tests=True)"
   ]
  },
  {
   "cell_type": "markdown",
   "id": "d749d664",
   "metadata": {},
   "source": [
    " "
   ]
  }
 ],
 "metadata": {
  "kernelspec": {
   "display_name": "Python 3 (ipykernel)",
   "language": "python",
   "name": "python3"
  },
  "language_info": {
   "codemirror_mode": {
    "name": "ipython",
    "version": 3
   },
   "file_extension": ".py",
   "mimetype": "text/x-python",
   "name": "python",
   "nbconvert_exporter": "python",
   "pygments_lexer": "ipython3",
   "version": "3.8.10"
  },
  "otter": {
   "OK_FORMAT": true,
   "assignment_name": "lab05",
   "tests": {
    "q1_1": {
     "name": "q1_1",
     "points": null,
     "suites": [
      {
       "cases": [
        {
         "code": ">>> unemployment_df.shape == (826, 4)\nTrue",
         "hidden": false,
         "locked": false
        }
       ],
       "scored": true,
       "setup": "",
       "teardown": "",
       "type": "doctest"
      }
     ]
    },
    "q1_2": {
     "name": "q1_2",
     "points": null,
     "suites": [
      {
       "cases": [
        {
         "code": ">>> unemployment_df.shape == (826, 4)\nTrue",
         "hidden": false,
         "locked": false
        },
        {
         "code": ">>> np.all(unemployment_df.columns == ['Date', 'Male', 'Female', 'Unemployment rate'])\nTrue",
         "hidden": false,
         "locked": false
        }
       ],
       "scored": true,
       "setup": "",
       "teardown": "",
       "type": "doctest"
      }
     ]
    },
    "q2_1": {
     "name": "q2_1",
     "points": null,
     "suites": [
      {
       "cases": [
        {
         "code": ">>> q2_1()\n>>> ax = plt.gca()\n>>> plt.close()\n>>> data = ax.lines[0].get_xydata().T\n>>> \n>>> assert data.shape == (2, 826)\n>>> assert np.isclose(np.sum(data[0]), 340725.0)\n>>> assert np.isclose(np.sum(data[1]), 4856.3)\n>>> assert len(ax.get_title()) > 0\n>>> assert len(ax.get_xlabel()) > 0\n>>> assert len(ax.get_ylabel()) > 0\n",
         "hidden": false,
         "locked": false
        }
       ],
       "scored": true,
       "setup": "",
       "teardown": "",
       "type": "doctest"
      }
     ]
    },
    "q2_10": {
     "name": "q2_10",
     "points": null,
     "suites": [
      {
       "cases": [
        {
         "code": ">>> q2_10()\n>>> ax = plt.gca()\n>>> plt.close()\n>>> data = ax.lines[0].get_xydata().T\n>>> \n>>> assert data.shape == (2, 68)\n>>> assert np.isclose(np.sum(data[0]), 397.6)\n>>> assert np.isclose(np.sum(data[1]), 245.43425)\n>>> assert len(ax.get_title()) > 0\n>>> assert len(ax.get_xlabel()) > 0\n>>> assert len(ax.get_ylabel()) > 0\n",
         "hidden": false,
         "locked": false
        }
       ],
       "scored": true,
       "setup": "",
       "teardown": "",
       "type": "doctest"
      }
     ]
    },
    "q2_11": {
     "name": "q2_11",
     "points": null,
     "suites": [
      {
       "cases": [
        {
         "code": ">>> len(merged_df[merged_df[\"Decade\"] == '1950']) == 5\nTrue",
         "hidden": false,
         "locked": false
        },
        {
         "code": ">>> len(merged_df[merged_df[\"Decade\"] == '2020']) == 3\nTrue",
         "hidden": false,
         "locked": false
        }
       ],
       "scored": true,
       "setup": "",
       "teardown": "",
       "type": "doctest"
      }
     ]
    },
    "q2_12": {
     "name": "q2_12",
     "points": null,
     "suites": [
      {
       "cases": [
        {
         "code": ">>> q2_12()\n>>> ax = plt.gca()\n>>> plt.close()\n>>> cs = ax.collections[0]\n>>> data = cs.get_offsets().T\n>>> assert data.shape == (2, 68)\n>>> assert np.isclose(np.sum(data[0]), 397.6)\n>>> assert np.isclose(np.sum(data[1]), 245.43425)\n>>> assert len(ax.get_title()) > 0\n>>> assert len(ax.get_xlabel()) > 0\n>>> assert len(ax.get_ylabel()) > 0\n",
         "hidden": false,
         "locked": false
        }
       ],
       "scored": true,
       "setup": "",
       "teardown": "",
       "type": "doctest"
      }
     ]
    },
    "q2_13": {
     "name": "q2_13",
     "points": null,
     "suites": [
      {
       "cases": [
        {
         "code": ">>> df_output = q2_13()\n>>> assert df_output.shape == (65, 6)\n>>> \n>>> ax = plt.gca()\n>>> plt.close()\n>>> cs = ax.collections[0]\n>>> data = cs.get_offsets().T\n>>> assert data.shape[0] > 0\n>>> assert data.shape[1] > 0\n>>> assert len(ax.get_title()) > 0\n>>> assert len(ax.get_xlabel()) > 0\n>>> assert len(ax.get_ylabel()) > 0\n",
         "hidden": false,
         "locked": false
        }
       ],
       "scored": true,
       "setup": "",
       "teardown": "",
       "type": "doctest"
      }
     ]
    },
    "q2_3": {
     "name": "q2_3",
     "points": null,
     "suites": [
      {
       "cases": [
        {
         "code": ">>> q2_3()\n>>> ax = plt.gca()\n>>> plt.close()\n>>> data = ax.lines[0].get_xydata().T\n>>> \n>>> assert data.shape == (2, 826)\n>>> assert np.isclose(np.sum(data[0]), 340725.0)\n>>> assert np.sum(data[1]) > 0\n>>> assert len(ax.get_title()) > 0\n>>> assert len(ax.get_xlabel()) > 0\n>>> assert len(ax.get_ylabel()) > 0\n",
         "hidden": false,
         "locked": false
        }
       ],
       "scored": true,
       "setup": "",
       "teardown": "",
       "type": "doctest"
      }
     ]
    },
    "q2_5": {
     "name": "q2_5",
     "points": null,
     "suites": [
      {
       "cases": [
        {
         "code": ">>> inflation_df.shape == (75, 2)\nTrue",
         "hidden": false,
         "locked": false
        },
        {
         "code": ">>> np.all(inflation_df.columns == ['Date', 'Inflation rate'])\nTrue",
         "hidden": false,
         "locked": false
        }
       ],
       "scored": true,
       "setup": "",
       "teardown": "",
       "type": "doctest"
      }
     ]
    },
    "q2_6": {
     "name": "q2_6",
     "points": null,
     "suites": [
      {
       "cases": [
        {
         "code": ">>> merged_df.shape == (68, 5)\nTrue",
         "hidden": false,
         "locked": false
        },
        {
         "code": ">>> np.allclose(merged_df[merged_df[\"Date\"] == \"1959/1/1\"][\"Unemployment rate\"], 6.0)\nTrue",
         "hidden": false,
         "locked": false
        },
        {
         "code": ">>> np.allclose(merged_df[merged_df[\"Date\"] == \"1959/1/1\"][\"Inflation rate\"], 0.93199)\nTrue",
         "hidden": false,
         "locked": false
        }
       ],
       "scored": true,
       "setup": "",
       "teardown": "",
       "type": "doctest"
      }
     ]
    },
    "q2_7": {
     "name": "q2_7",
     "points": null,
     "suites": [
      {
       "cases": [
        {
         "code": ">>> q2_7()\n>>> ax = plt.gca()\n>>> plt.close()\n>>> data = ax.lines[0].get_xydata().T\n>>> \n>>> assert data.shape == (2, 68)\n>>> assert np.isclose(np.sum(data[0]), 2278.0)\n>>> assert np.isclose(np.sum(data[1]), 245.43425000000002)\n>>> assert len(ax.get_title()) > 0\n>>> assert ax.get_xlabel() == 'Date'\n>>> assert ax.get_ylabel() == 'Percentage (%)'\n",
         "hidden": false,
         "locked": false
        }
       ],
       "scored": true,
       "setup": "",
       "teardown": "",
       "type": "doctest"
      }
     ]
    },
    "q2_8": {
     "name": "q2_8",
     "points": null,
     "suites": [
      {
       "cases": [
        {
         "code": ">>> q2_8()\n>>> ax = plt.gca()\n>>> plt.close()\n>>> p = ax.patches\n>>> assert p[0].get_xy() == (3.1875, 0.0)\n>>> assert p[0].get_height() == 16\n>>> assert ax.get_title() == 'Distribution of Inflation rate (%)'\n>>> assert ax.get_xlabel() == 'Inflation rate (%)'\n>>> assert ax.get_ylabel() == 'Counts'\n",
         "hidden": false,
         "locked": false
        }
       ],
       "scored": true,
       "setup": "",
       "teardown": "",
       "type": "doctest"
      }
     ]
    },
    "q2_9": {
     "name": "q2_9",
     "points": null,
     "suites": [
      {
       "cases": [
        {
         "code": ">>> q2_9()\n>>> ax = plt.gca()\n>>> plt.close()\n>>> p = ax.patches\n>>> assert p[0].get_xy() == (3.0625, 0.0)\n>>> assert p[0].get_height() == 1\n>>> assert ax.get_title() == 'Distribution of Unemployment rate (%)'\n>>> assert ax.get_xlabel() == 'Unemployment rate (%)'\n>>> assert ax.get_ylabel() == 'Counts'\n",
         "hidden": false,
         "locked": false
        }
       ],
       "scored": true,
       "setup": "",
       "teardown": "",
       "type": "doctest"
      }
     ]
    },
    "q3_1": {
     "name": "q3_1",
     "points": null,
     "suites": [
      {
       "cases": [
        {
         "code": ">>> q3_1()\n>>> ax = plt.gca()\n>>> plt.close()\n>>> assert len(ax.lines) > 0\n>>> assert ax.get_title() == 'Distribution of Unemployment rates (%)'\n>>> assert ax.get_ylabel() == 'Unemployment rate (%)'\n",
         "hidden": false,
         "locked": false
        }
       ],
       "scored": true,
       "setup": "",
       "teardown": "",
       "type": "doctest"
      }
     ]
    },
    "q3_3": {
     "name": "q3_3",
     "points": null,
     "suites": [
      {
       "cases": [
        {
         "code": ">>> q3_3()\n>>> ax = plt.gca()\n>>> plt.close()\n>>> assert len(ax.lines) > 0\n>>> assert ax.get_title() == 'Distribution of Inflation rate & Unemployment rate'\n>>> assert ax.get_ylabel() == 'Percentage (%)'\n",
         "hidden": false,
         "locked": false
        }
       ],
       "scored": true,
       "setup": "",
       "teardown": "",
       "type": "doctest"
      }
     ]
    },
    "q4": {
     "name": "q4",
     "points": null,
     "suites": [
      {
       "cases": [
        {
         "code": ">>> sum([ord(c) for c in codeword])^0xec148 == 967586\nTrue",
         "hidden": false,
         "locked": false
        }
       ],
       "scored": true,
       "setup": "",
       "teardown": "",
       "type": "doctest"
      }
     ]
    }
   }
  }
 },
 "nbformat": 4,
 "nbformat_minor": 5
}
