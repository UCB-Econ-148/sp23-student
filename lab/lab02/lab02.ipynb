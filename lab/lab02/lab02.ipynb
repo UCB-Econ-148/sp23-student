{
 "cells": [
  {
   "cell_type": "code",
   "execution_count": null,
   "id": "50477ae3",
   "metadata": {
    "deletable": false,
    "editable": false
   },
   "outputs": [],
   "source": [
    "# Initialize Otter\n",
    "import otter\n",
    "grader = otter.Notebook(\"lab02.ipynb\")"
   ]
  },
  {
   "cell_type": "code",
   "execution_count": null,
   "id": "676e2704",
   "metadata": {},
   "outputs": [],
   "source": [
    "import numpy as np\n",
    "import pandas as pd\n",
    "import matplotlib.pyplot as plt\n",
    "import requests\n",
    "from urllib.parse import urlencode"
   ]
  },
  {
   "cell_type": "markdown",
   "id": "259c6b3d",
   "metadata": {},
   "source": [
    "# Lab 2: API and Data Cleaning"
   ]
  },
  {
   "cell_type": "markdown",
   "id": "315c541f",
   "metadata": {},
   "source": [
    "This lab consists of two sections: the first section will give you a practice in making a simple API call to fetch economic data using the general method; the rest of the lab takes a look at IPUMS census data and improves your ability to clean and manipulate data. "
   ]
  },
  {
   "cell_type": "markdown",
   "id": "4dc8e13c",
   "metadata": {},
   "source": [
    "#### Learning Objectives\n",
    "- How to make an API call to extract data in the basic settings. \n",
    "- How to postprocess the API response and convert the returned data into a dataframe. \n",
    "- Filter a dataset for relevant rows and columns. \n",
    "- Use groupby and common aggregation techniques. \n",
    "- Sort the dataframe by a column. "
   ]
  },
  {
   "cell_type": "markdown",
   "id": "2606ce2f",
   "metadata": {},
   "source": [
    "----\n",
    "## Section 1: Phillips Curve and FRED API\n",
    "In lab 1, we plotted an empirical Phillips curve using data that we had locally. This time, we will go one step further and use an API (Application Programming Interface) to get the data from FRED. In this section, we will introduce the general method of interacting with online data sources through an API, using [FRED API](https://fred.stlouisfed.org/docs/api/fred/) as a simple example. "
   ]
  },
  {
   "cell_type": "markdown",
   "id": "d3c29981",
   "metadata": {},
   "source": [
    "### Step 1: Get the API Key\n",
    "**In most cases, you will need to obtain an API key in order to access an API.** For many resources, this involves some paperwork to apply and/or have limited free usage, so it is good practice to keep your API keys private as long as it is possible. In this lecture notebook, we will use macroeconomic data from FRED, which is one of the most popular and convenient sources of economic data. For FRED, the process of obtaining an API key is simple. Request the API key [here](https://fred.stlouisfed.org/docs/api/api_key.html). "
   ]
  },
  {
   "cell_type": "markdown",
   "id": "2b0b32d1",
   "metadata": {},
   "source": [
    "**Question 1.1:** Request an API key at FRED and paste your API key below. \n",
    "\n",
    "Note: For submission, feel free to redact your API key (i.e. replace it with some arbitrary strings); our autograder is configured to not use your API key in testing. It is a good practice not to include your API keys in files that you will share with others. "
   ]
  },
  {
   "cell_type": "code",
   "execution_count": null,
   "id": "9c10722f",
   "metadata": {
    "tags": []
   },
   "outputs": [],
   "source": [
    "api_key = ..."
   ]
  },
  {
   "cell_type": "code",
   "execution_count": null,
   "id": "41af5d6c",
   "metadata": {
    "deletable": false,
    "editable": false
   },
   "outputs": [],
   "source": [
    "grader.check(\"q1_1\")"
   ]
  },
  {
   "cell_type": "markdown",
   "id": "acf23465",
   "metadata": {},
   "source": [
    "### Step 2: Learn to use the API\n",
    "Using an API is like ordering food at a restaurant with a menu. In order to have a delicious meal, we need to know what foods the restaurant offers, and any other additional information (for example, how would you like your steak). Similarly, it is very important for us to know what requests an API will make by reading the API documentation. **The API documentation will tell us about how to use specific commands to get the data that we want, and what the data returned will look like.** Check out the Fred API's documentation [here](https://fred.stlouisfed.org/docs/api/fred/series_observations.html). "
   ]
  },
  {
   "cell_type": "markdown",
   "id": "77ed2297",
   "metadata": {},
   "source": [
    "<!-- BEGIN QUESTION -->\n",
    "\n",
    "**Question 1.2:** Identify the parameters and their values you must use if you want to obtain year-over-year real GDP percentage changes (i.e. percent change from year ago values). \n",
    "\n",
    "Hint: You can look up the `series_id` of real GDP by searching it on Fred's website. It should be listed in parentheses next to the name of the series. "
   ]
  },
  {
   "cell_type": "markdown",
   "id": "a4a2f9dc",
   "metadata": {},
   "source": [
    "_Type your answer here, replacing this text._"
   ]
  },
  {
   "cell_type": "markdown",
   "id": "a9cfa7bc",
   "metadata": {},
   "source": [
    "<!-- END QUESTION -->\n",
    "\n",
    "### Step 3: Make the fetch!\n",
    "Now we are ready to start writing code to fetch the data we want through the API. "
   ]
  },
  {
   "cell_type": "markdown",
   "id": "9385ec7a",
   "metadata": {},
   "source": [
    "**Question 1.3:** Complete the function below that can fetch json data given `base_url`, `endpoint` and `params` using the [`requests`](https://pypi.org/project/requests/) module.  \n",
    "\n",
    "Hint 1: See Question 1.4 to find out how `base_url`, `endpoint` and `params`look like.\n",
    "\n",
    "Hint 2: Python has special strings called **f-strings** where it fills in the value of a variable for you. For example:\n",
    "\n",
    "```python\n",
    ">>> arr = np.array([1, 2, 3])\n",
    ">>> print(f\"The second element of arr is {arr[1]}\")\n",
    "The second element of arr is 2\n",
    "```\n",
    "You may want to use f-strings when you put together the query url from `base_url`, `endpoint` and `url_params`. "
   ]
  },
  {
   "cell_type": "code",
   "execution_count": null,
   "id": "9b8e7b71",
   "metadata": {
    "tags": []
   },
   "outputs": [],
   "source": [
    "def fetch(base_url, endpoint, params, url_only=False):\n",
    "    # forms API request\n",
    "    url_params = urlencode(params)\n",
    "    url = f\"...\"\n",
    "    \n",
    "    # For testing purposes only, do not delete\n",
    "    if url_only:\n",
    "        return url\n",
    "    \n",
    "    # fires off the request\n",
    "    res = ...\n",
    "    \n",
    "    # checks if the request encounters an error\n",
    "    if res.status_code not in range(200, 299):\n",
    "        raise Exception(f\"Fetch request failed (Error: {res.status_code})\")\n",
    "    \n",
    "    # return the content of the response\n",
    "    return res.json()"
   ]
  },
  {
   "cell_type": "code",
   "execution_count": null,
   "id": "08845f81",
   "metadata": {
    "deletable": false,
    "editable": false
   },
   "outputs": [],
   "source": [
    "grader.check(\"q1_3\")"
   ]
  },
  {
   "cell_type": "markdown",
   "id": "fdf68aee",
   "metadata": {},
   "source": [
    "**Question 1.4:** We want to get **quarterly** unemployment data (series id: **UNRATE**) **from the first quarter in 1958 (1958-01-01) to the last quarter in 2022 (2022-10-01)** from Fred API. Complete the code below to fetch and construct a dataframe with two columns, `date` and `unrate`. \n",
    "\n",
    "Note: Use observation period for dates. You don't need to sort the data--use the default ordering. If you need to aggregate the data, use the default averaging method.   "
   ]
  },
  {
   "cell_type": "code",
   "execution_count": null,
   "id": "e5db6ef7",
   "metadata": {
    "tags": []
   },
   "outputs": [],
   "source": [
    "base_url = \"https://api.stlouisfed.org\"\n",
    "endpoint = \"/...\"\n",
    "params_UNRATE = {\"series_id\": ..., \n",
    "                 ...\n",
    "                 \"units\": ...,\n",
    "                 \"api_key\": ..., \n",
    "                 \"file_type\": \"json\"\n",
    "                }\n",
    "\n",
    "# fetch data\n",
    "res_json_UNRATE = fetch(..., ..., ...)\n",
    "\n",
    "# process json data and store it as a dataframe\n",
    "unemployment = pd.DataFrame(res_json_UNRATE[...])[[...]] # hint: look at what's inside of `res_json_UNRATE`\n",
    "unemployment.rename(columns={\"value\": \"unrate\"}, inplace=True)\n",
    "unemployment"
   ]
  },
  {
   "cell_type": "code",
   "execution_count": null,
   "id": "dc5e7a9b",
   "metadata": {
    "deletable": false,
    "editable": false
   },
   "outputs": [],
   "source": [
    "grader.check(\"q1_4\")"
   ]
  },
  {
   "cell_type": "markdown",
   "id": "f100bf63",
   "metadata": {},
   "source": [
    "**Question 1.5:** Now we want to get the inflation data. This time we will be using **percent change from year ago** core CPI data (series id: **CPILFESL**) as our inflation measure. Get the **quarterly data from the first quarter in 1958 (1958-01-01) to the last quarter in 2022 (2022-10-01)** from Fred API. Complete the code below to fetch and construct a dataframe with two columns, `date` and `inflation`. \n",
    "\n",
    "Note: Use observation period for dates. You don't need to sort the data--use the default ordering. If you need to aggregate the data, use the default averaging method. "
   ]
  },
  {
   "cell_type": "code",
   "execution_count": null,
   "id": "e277af7e",
   "metadata": {
    "tags": []
   },
   "outputs": [],
   "source": [
    "params_INFLATION = {\"series_id\": ..., \n",
    "                    ...\n",
    "                    \"units\": ...,\n",
    "                    \"api_key\": ..., \n",
    "                    \"file_type\": \"json\"\n",
    "                   }\n",
    "\n",
    "# fetch data\n",
    "res_json_INFLATION = fetch(..., ..., ...)\n",
    "\n",
    "# process json data and store it as a dataframe\n",
    "inflation = pd.DataFrame(res_json_INFLATION[...])[[...]] # hint: look at what's inside of `res_json_INFLATION`\n",
    "inflation.rename(columns={\"value\": \"inflation\"}, inplace=True)\n",
    "inflation"
   ]
  },
  {
   "cell_type": "code",
   "execution_count": null,
   "id": "89a9abb9",
   "metadata": {
    "deletable": false,
    "editable": false
   },
   "outputs": [],
   "source": [
    "grader.check(\"q1_5\")"
   ]
  },
  {
   "cell_type": "markdown",
   "id": "149820c0",
   "metadata": {},
   "source": [
    "### Step 4: Plot empirical Phillips curve (again)\n",
    "And now we can graph our empirical Phillips curve!"
   ]
  },
  {
   "cell_type": "code",
   "execution_count": null,
   "id": "a4a1952e",
   "metadata": {},
   "outputs": [],
   "source": [
    "phillips_curve_df = unemployment.merge(inflation, how=\"inner\", on=\"date\")\n",
    "\n",
    "# convert data types from strings to floats\n",
    "phillips_curve_df['unrate'] = phillips_curve_df['unrate'].astype(float)\n",
    "phillips_curve_df['inflation'] = phillips_curve_df['inflation'].astype(float)\n",
    "\n",
    "phillips_curve_df.plot.scatter('unrate', 'inflation');"
   ]
  },
  {
   "cell_type": "markdown",
   "id": "a27c64ba",
   "metadata": {},
   "source": [
    "Check to see if this looks the same as in Lab 1!"
   ]
  },
  {
   "cell_type": "markdown",
   "id": "473dcfbf",
   "metadata": {},
   "source": [
    "----\n",
    "## Section 2: College Majors\n",
    "This section is inspired by [\"The Economic Guide To Picking A College Major\"](https://fivethirtyeight.com/features/the-economic-guide-to-picking-a-college-major/) by FiveThirtyEight. We won't be doing the full length of analysis here."
   ]
  },
  {
   "cell_type": "markdown",
   "id": "b7fa667f",
   "metadata": {},
   "source": [
    "### Import Data\n",
    "The dataset is a data extract from [IPUMS USA](https://usa.ipums.org/usa/) for the 2019 ACS and the 2009 ACS.  IPUMS USA collects, preserves and harmonizes U.S. census microdata and provides easy access to these data with enhanced documentation. Data include decennial censuses from 1790 to 2010 and American Community Surveys (ACS) from 2000 to the present. \n",
    "\n",
    "In this part of the lab, we will use a fraction (about 6\\%) of the data due to Datahub's memory limitation. Feel free to download the entire IPUMS data and play around with it on your local machine. \n",
    "\n",
    "First, we will import the data sample. "
   ]
  },
  {
   "cell_type": "code",
   "execution_count": null,
   "id": "65867430",
   "metadata": {},
   "outputs": [],
   "source": [
    "ipums_raw = pd.read_csv(\"data/ipums-acs-sample.csv\")\n",
    "ipums_raw"
   ]
  },
  {
   "cell_type": "markdown",
   "id": "2256fab2",
   "metadata": {},
   "source": [
    "**Question 2.1:** We have noticed that there are some missing values in the data. To deal with these missing values, complete the code below to drop these missing values from the dataframe. In the future, we will learn about other ways to handle missing values. "
   ]
  },
  {
   "cell_type": "code",
   "execution_count": null,
   "id": "851d743e",
   "metadata": {
    "tags": []
   },
   "outputs": [],
   "source": [
    "# drop rows with missing values\n",
    "ipums_raw = ...\n",
    "ipums_raw = ipums_raw.reset_index()\n",
    "ipums_raw.shape[0]"
   ]
  },
  {
   "cell_type": "code",
   "execution_count": null,
   "id": "56f53df9",
   "metadata": {
    "deletable": false,
    "editable": false
   },
   "outputs": [],
   "source": [
    "grader.check(\"q2_1\")"
   ]
  },
  {
   "cell_type": "markdown",
   "id": "8535dcb3",
   "metadata": {},
   "source": [
    "### Select Revelant Variables"
   ]
  },
  {
   "cell_type": "markdown",
   "id": "a23bac60",
   "metadata": {},
   "source": [
    "The original dataset contains many variables used to identify a particular household, a person, and their corresponding weights in the sample. These are not our concern, so we will not keep these columns around. \n",
    "\n",
    "Below are the variables we want in the dataframe. "
   ]
  },
  {
   "cell_type": "markdown",
   "id": "e13e031c",
   "metadata": {},
   "source": [
    "| Variable | Label | Description |\n",
    "| --- | --- | --- |\n",
    "| YEAR | Census year | YEAR reports the four-digit year when the household was enumerated or included in the census, the ACS, and the PRCS. |\n",
    "| AGE | Age | AGE reports the person's age in years as of the last birthday. |\n",
    "| SCHOOL | School attendance | SCHOOL indicates whether the respondent attended school during a specified period. |\n",
    "| EDUCD | Educational attainment (detailed version) | EDUC indicates respondents' educational attainment, as measured by the highest year of school or degree completed. |\n",
    "| DEGFIELD | Field of degree (general version) | DEGFIELD reports the field in which the person received a Bachelor's degree, if the person holds a Bachelor's degree. |\n",
    "| DEGFIELDD | Field of degree (detailed version) | DEGFIELD reports the field in which the person received a Bachelor's degree, if the person holds a Bachelor's degree. |\n",
    "| DEGFIELD2 | Field of degree (2) (general version) | DEGFIELD2 reports the second field in which the person received a Bachelor's degree, if the person holds a Bachelor's degree in a second field. |\n",
    "| DEGFIELD2D | Field of degree (2) (detailed version) | DEGFIELD2 reports the second field in which the person received a Bachelor's degree, if the person holds a Bachelor's degree in a second field. |\n",
    "| EMPSTAT | Employment status (general version) | EMPSTAT indicates whether the respondent was a part of the labor force -- working or seeking work -- and, if so, whether the person was currently unemployed. |\n",
    "| OCC | Occupation | OCC reports the person's primary occupation, coded into a contemporary census classification scheme |\n",
    "| INCTOT | Total personal income | INCTOT reports each respondent's total pre-tax personal income or losses from all sources for the previous year. |\n",
    "| INCWAGE | Wage and salary income | INCWAGE reports each respondent's total pre-tax wage and salary income - that is, money received as an employee - for the previous year.  |\n",
    "| INCWAGE_CPIU_2010 | Wage and salary income (standardized using CPIU_2010) | INCWAGE reports each respondent's total pre-tax wage and salary income - that is, money received as an employee - for the previous year. |"
   ]
  },
  {
   "cell_type": "code",
   "execution_count": null,
   "id": "36cd10b5",
   "metadata": {},
   "outputs": [],
   "source": [
    "ipums = ipums_raw[[\"YEAR\", \"AGE\", \"SCHOOL\", \"EDUCD\", \"DEGFIELD\", \n",
    "                   \"DEGFIELDD\", \"DEGFIELD2\", \"DEGFIELD2D\", \"EMPSTAT\", \n",
    "                   \"OCC\", \"INCTOT\", \"INCWAGE\", \"INCWAGE_CPIU_2010\"\n",
    "                  ]].copy()\n",
    "ipums"
   ]
  },
  {
   "cell_type": "markdown",
   "id": "794c027d",
   "metadata": {},
   "source": [
    "### Individuals with College Degrees\n",
    "Since we are interested in how different college degrees affect income, we need to filter the dataset for those individuals who have a college degree (at least a bachelor's degree). \n",
    "\n",
    "| EDUCD | Description |\n",
    "| --- | --- |\n",
    "| ... | ... (rows omitted) |\n",
    "| 090 | 3 years of college |\n",
    "| 100 | 4 years of college |\n",
    "| 101 | Bachelor's degree |\n",
    "| 110 | 5+ years of college |\n",
    "| 111 | 6 years of college (6+ in 1960-1970) |\n",
    "| 112 | 7 years of college |\n",
    "| 113 | 8+ years of college |\n",
    "| 114 | Master's degree |\n",
    "| 115 | Professional degree beyond a bachelor's degree |\n",
    "| 116 | Doctoral degree |\n",
    "| 999 | Missing |\n",
    "\n",
    "Note that records with `EDUCD` greater than or equal to 101 but less than 999 represent a valid record for a person with a college degree. We will use this criterion to filter the dataset. "
   ]
  },
  {
   "cell_type": "markdown",
   "id": "bb8fe9fb",
   "metadata": {},
   "source": [
    "**Question 2.2:** Filter the `ipums` dataframe for individuals with a college degree based on the criteria given above. "
   ]
  },
  {
   "cell_type": "code",
   "execution_count": null,
   "id": "663153c7",
   "metadata": {
    "tags": []
   },
   "outputs": [],
   "source": [
    "ipums_college = ...\n",
    "ipums_college"
   ]
  },
  {
   "cell_type": "code",
   "execution_count": null,
   "id": "51de22f5",
   "metadata": {
    "deletable": false,
    "editable": false
   },
   "outputs": [],
   "source": [
    "grader.check(\"q2_2\")"
   ]
  },
  {
   "cell_type": "markdown",
   "id": "e9c04053",
   "metadata": {},
   "source": [
    "### Individuals in Workforce"
   ]
  },
  {
   "cell_type": "markdown",
   "id": "92206ffa",
   "metadata": {},
   "source": [
    "Juniors who cannot work and seniors who have retired from work will not have wages and salaries. We want to exclude them from our analysis. Assume that working age means 15-64 years old (inclusive). "
   ]
  },
  {
   "cell_type": "markdown",
   "id": "75c5e3a9",
   "metadata": {},
   "source": [
    "**Question 2.3:** Filter the dataframe `ipums_college` for individuals within the working age. "
   ]
  },
  {
   "cell_type": "code",
   "execution_count": null,
   "id": "6ade3ae0",
   "metadata": {
    "tags": []
   },
   "outputs": [],
   "source": [
    "ipums_college_working_age = ...\n",
    "ipums_college_working_age"
   ]
  },
  {
   "cell_type": "code",
   "execution_count": null,
   "id": "e22a03ac",
   "metadata": {
    "deletable": false,
    "editable": false
   },
   "outputs": [],
   "source": [
    "grader.check(\"q2_3\")"
   ]
  },
  {
   "cell_type": "markdown",
   "id": "71cf8a83",
   "metadata": {},
   "source": [
    "### Double Majors"
   ]
  },
  {
   "cell_type": "markdown",
   "id": "7e78f706",
   "metadata": {},
   "source": [
    "Some individuals have double majors. The way the IPUMS ACS dataset captures this is by reporting values in `DEGFIELD2` in addition to `DEGFIELD`. This can complicate our analysis because these individuals' earnings are likely to be affected by both of their majors, while the proportion of influence from each major is unknown. \n",
    "\n",
    "To remove this bias from our analysis, we will stick to individuals with only one college major. We will do that for you here. "
   ]
  },
  {
   "cell_type": "code",
   "execution_count": null,
   "id": "1643a14d",
   "metadata": {},
   "outputs": [],
   "source": [
    "ipums_single_major = ipums_college_working_age[ipums_college_working_age[\"DEGFIELD2\"] == 0]\n",
    "ipums_single_major"
   ]
  },
  {
   "cell_type": "code",
   "execution_count": null,
   "id": "c25548c0",
   "metadata": {},
   "outputs": [],
   "source": [
    "ipums_s = ipums_single_major.drop(['DEGFIELD2', 'DEGFIELD2D'], axis=1)"
   ]
  },
  {
   "cell_type": "markdown",
   "id": "21b33f3e",
   "metadata": {},
   "source": [
    "### What Are Those Majors?"
   ]
  },
  {
   "cell_type": "markdown",
   "id": "5436073f",
   "metadata": {},
   "source": [
    "Majors in the dataframe (`DEGFIELD`, `DEGFIELDD`) are coded as integers. To find out what each code corresponds to, we will use a conversion dictionary given below. "
   ]
  },
  {
   "cell_type": "code",
   "execution_count": null,
   "id": "d0fbde6e",
   "metadata": {},
   "outputs": [],
   "source": [
    "degfield = pd.read_csv(\"data/degfield.txt\", sep='\\t').set_index(\"value\").to_dict()[\"label\"]\n",
    "degfieldd = pd.read_csv(\"data/degfieldd.txt\", sep='\\t').set_index(\"value\").to_dict()[\"label\"]\n",
    "print(degfield)"
   ]
  },
  {
   "cell_type": "markdown",
   "id": "2ba7aded",
   "metadata": {},
   "source": [
    "`DEGFIELD` gives a more general major field. For example, `DEGFIELD` of 55 corresponds to social sciences. \n",
    "\n",
    "`DEGFIELDD` gives a more detailed major field. For example, `DEGFIELDD` of 5501 corresponds to Economics. "
   ]
  },
  {
   "cell_type": "markdown",
   "id": "db3d27c7",
   "metadata": {},
   "source": [
    "Now we will replace all the code in `DEGFIELD` (majors) with texts. "
   ]
  },
  {
   "cell_type": "markdown",
   "id": "e1472096",
   "metadata": {},
   "source": [
    "**Question 2.4:** Complete the following function `replace_code_w_text`, which replaces degree of field codes in column `col` in the dataframe `data` with corresponding texts according to the `ref` dictionary. Hint: you may want to use [`pd.DataFrame.apply`](https://pandas.pydata.org/docs/reference/api/pandas.DataFrame.apply.html). "
   ]
  },
  {
   "cell_type": "code",
   "execution_count": null,
   "id": "8c94401f",
   "metadata": {
    "tags": []
   },
   "outputs": [],
   "source": [
    "# returns the corresponding text given `code`\n",
    "# (you can also use a lambda function instead\n",
    "# of this function)\n",
    "def get_text(code, ref):\n",
    "    return ...\n",
    "\n",
    "def replace_code_w_text(data, col, ref):\n",
    "    output = data.copy()\n",
    "    output[col] = ...\n",
    "    return output\n",
    "\n",
    "ipums_s_text = ipums_s.copy()\n",
    "ipums_s_text = replace_code_w_text(ipums_s_text, \"DEGFIELD\", degfield)\n",
    "ipums_s_text = replace_code_w_text(ipums_s_text, \"DEGFIELDD\", degfieldd)\n",
    "ipums_s_text"
   ]
  },
  {
   "cell_type": "code",
   "execution_count": null,
   "id": "74c0384e",
   "metadata": {
    "deletable": false,
    "editable": false
   },
   "outputs": [],
   "source": [
    "grader.check(\"q2_4\")"
   ]
  },
  {
   "cell_type": "markdown",
   "id": "b6e914bc",
   "metadata": {},
   "source": [
    "----\n",
    "## Section 3: The Most Lucrative Major\n",
    "Now, we will try to find out which major graduates get the best salary. We will also take a look at how things have changed from 2009 to 2019. "
   ]
  },
  {
   "cell_type": "markdown",
   "id": "405606b1",
   "metadata": {},
   "source": [
    "### In 2009"
   ]
  },
  {
   "cell_type": "markdown",
   "id": "b1be96f7",
   "metadata": {},
   "source": [
    "Let's take a look at the most lucrative majors as of 2009. "
   ]
  },
  {
   "cell_type": "markdown",
   "id": "cbacda2e",
   "metadata": {},
   "source": [
    "**Question 3.1:** Filter the `ipums_s` dataframe for records for 2009. Then find the median total income (`INCTOT`) and the median wage and salary (`INCWAGE`) for each major (`DEGFIELDD`). The resulting dataframe should have only three columns: `DEGFIELDD`, `INCTOT`, `INCWAGE` (in that order). \n",
    "\n",
    "Hint: You may want to use [`groupby`](https://pandas.pydata.org/docs/reference/api/pandas.DataFrame.groupby.html) with a correct aggregation function. "
   ]
  },
  {
   "cell_type": "code",
   "execution_count": null,
   "id": "839e13e1",
   "metadata": {
    "tags": []
   },
   "outputs": [],
   "source": [
    "ipums_s_2009 = ...\n",
    "ipums_s_2009_by_major = ...\n",
    "ipums_s_2009_by_major = ipums_s_2009_by_major.reset_index()\n",
    "ipums_s_2009_by_major"
   ]
  },
  {
   "cell_type": "code",
   "execution_count": null,
   "id": "22cd1704",
   "metadata": {
    "deletable": false,
    "editable": false
   },
   "outputs": [],
   "source": [
    "grader.check(\"q3_1\")"
   ]
  },
  {
   "cell_type": "markdown",
   "id": "482b4669",
   "metadata": {},
   "source": [
    "#### Ranking by Wage and Salaries"
   ]
  },
  {
   "cell_type": "markdown",
   "id": "449918d9",
   "metadata": {},
   "source": [
    "**Question 3.2:** Sort the `ipums_s_2009_by_major` by wage and salary (`INCWAGE`) in descending order."
   ]
  },
  {
   "cell_type": "code",
   "execution_count": null,
   "id": "d9920f02",
   "metadata": {
    "tags": []
   },
   "outputs": [],
   "source": [
    "ipums_s_2009_highest_incwage_majors = ...\n",
    "ipums_s_2009_highest_incwage_majors"
   ]
  },
  {
   "cell_type": "code",
   "execution_count": null,
   "id": "a9cba69b",
   "metadata": {
    "deletable": false,
    "editable": false
   },
   "outputs": [],
   "source": [
    "grader.check(\"q3_2\")"
   ]
  },
  {
   "cell_type": "markdown",
   "id": "cb5fd156",
   "metadata": {},
   "source": [
    "### In 2019"
   ]
  },
  {
   "cell_type": "markdown",
   "id": "eb6a8084",
   "metadata": {},
   "source": [
    "To find out how things have changed from 2009 to 2019, we will do the same for 2019. "
   ]
  },
  {
   "cell_type": "markdown",
   "id": "cb1499fe",
   "metadata": {},
   "source": [
    "**Question 3.3:** Create a dataframe `ipums_s_2019_highest_incwage_majors` that contains the sorted median wage for each major. The dataframe is sorted in descreasing order on the variable of interest. \n",
    "\n",
    "Hint: Start by copying the code you used for 2009."
   ]
  },
  {
   "cell_type": "code",
   "execution_count": null,
   "id": "95911f82",
   "metadata": {
    "tags": []
   },
   "outputs": [],
   "source": [
    "ipums_s_2019 = ...\n",
    "ipums_s_2019_by_major = ...\n",
    "...\n",
    "ipums_s_2019_highest_incwage_majors = ..."
   ]
  },
  {
   "cell_type": "code",
   "execution_count": null,
   "id": "3f8a3a07",
   "metadata": {
    "deletable": false,
    "editable": false
   },
   "outputs": [],
   "source": [
    "grader.check(\"q3_3\")"
   ]
  },
  {
   "cell_type": "markdown",
   "id": "e452b818",
   "metadata": {},
   "source": [
    "### Comparison\n",
    "There seems to be a significant change in the most lucrative majors from 2009 to 2019. Let's compare them now."
   ]
  },
  {
   "cell_type": "markdown",
   "id": "b9f0321b",
   "metadata": {},
   "source": [
    "The first thing to do is to select the top ten highest paid majors from 2009 and 2019. "
   ]
  },
  {
   "cell_type": "code",
   "execution_count": null,
   "id": "39d10804",
   "metadata": {},
   "outputs": [],
   "source": [
    "top_ten_majors = list(set(list(ipums_s_2009_highest_incwage_majors.iloc[:10][\"DEGFIELDD\"]) + \n",
    "                          list(ipums_s_2019_highest_incwage_majors.iloc[:10][\"DEGFIELDD\"])\n",
    "                         ))\n",
    "top_ten_majors"
   ]
  },
  {
   "cell_type": "markdown",
   "id": "dc4f5f7b",
   "metadata": {},
   "source": [
    "Next, we'll filter the table for only these majors. We'll see how they changed from 2009 to 2019."
   ]
  },
  {
   "cell_type": "markdown",
   "id": "9aaf8db7",
   "metadata": {},
   "source": [
    "**Question 3.4:** Filter the `ipums_s_2019_highest_incwage_majors` and `ipums_s_2009_highest_incwage_majors` for only those majors (`DEGFIELDD`) in the `top_ten_majors` list, and then merge them together. Finally, sort the dataframe by wages and salaries in 2009 in a descending order. \n",
    "\n",
    "Hint: You may want to use [`isin`](https://pandas.pydata.org/pandas-docs/stable/reference/api/pandas.DataFrame.isin.html)."
   ]
  },
  {
   "cell_type": "code",
   "execution_count": null,
   "id": "840ac605",
   "metadata": {
    "tags": []
   },
   "outputs": [],
   "source": [
    "ipums_2019_top_ten_majors = ipums_s_2019_highest_incwage_majors[...]\n",
    "ipums_2019_top_ten_majors = ipums_2019_top_ten_majors.rename(\n",
    "    columns={\"INCTOT\": \"INCTOT_2019\", \"INCWAGE\": \"INCWAGE_2019\"}\n",
    ") # rename the columns\n",
    "ipums_2009_top_ten_majors = ipums_s_2009_highest_incwage_majors[...]\n",
    "ipums_2009_top_ten_majors = ipums_2009_top_ten_majors.rename(\n",
    "    columns={\"INCTOT\": \"INCTOT_2009\", \"INCWAGE\": \"INCWAGE_2009\"}\n",
    ") # rename the columns\n",
    "\n",
    "# merge and sort here\n",
    "ipums_top_ten_majors = ... \n",
    "...\n",
    "ipums_top_ten_majors"
   ]
  },
  {
   "cell_type": "code",
   "execution_count": null,
   "id": "066c2516",
   "metadata": {
    "deletable": false,
    "editable": false
   },
   "outputs": [],
   "source": [
    "grader.check(\"q3_4\")"
   ]
  },
  {
   "cell_type": "markdown",
   "id": "d2139a2d",
   "metadata": {},
   "source": [
    "Now let's generate some visualization to see this change. "
   ]
  },
  {
   "cell_type": "code",
   "execution_count": null,
   "id": "062cd659",
   "metadata": {},
   "outputs": [],
   "source": [
    "height = 0.8\n",
    "plt.figure(figsize=(8, 10))\n",
    "\n",
    "plt.barh(y=np.arange(len(ipums_top_ten_majors))*3+height/2, height=height, \n",
    "         width=ipums_top_ten_majors.sort_values(\"INCWAGE_2009\")[\"INCWAGE_2009\"], \n",
    "         color=\"peachpuff\", label=\"2009\")\n",
    "\n",
    "plt.barh(y=np.arange(len(ipums_top_ten_majors))*3-height/2, height=height, \n",
    "         width=ipums_top_ten_majors.sort_values(\"INCWAGE_2009\")[\"INCWAGE_2019\"], \n",
    "         color=\"sandybrown\", label=\"2019\")\n",
    "\n",
    "plt.yticks(np.arange(len(ipums_top_ten_majors))*3, ipums_top_ten_majors.sort_values(\"INCWAGE_2009\")[\"DEGFIELDD\"])\n",
    "plt.title(\"Highest Paid College Majors in 2009 vs 2019 (Wage and Salaries)\")\n",
    "plt.legend();"
   ]
  },
  {
   "cell_type": "markdown",
   "id": "ea6d5ade",
   "metadata": {},
   "source": [
    "<!-- BEGIN QUESTION -->\n",
    "\n",
    "**Question 3.5:** Comment on the results shown above. Do these results match your expectations? In addition, do you think there is a potential problem related to outliers? If so, what is a good way to mitigate this problem? "
   ]
  },
  {
   "cell_type": "markdown",
   "id": "86a7e3ca",
   "metadata": {},
   "source": [
    "_Type your answer here, replacing this text._"
   ]
  },
  {
   "cell_type": "markdown",
   "id": "915889bf",
   "metadata": {},
   "source": [
    "<!-- END QUESTION -->\n",
    "\n",
    "----\n",
    "## Section 4: Income Over Life-Cycle (Optional)\n",
    "In the final section of this lab, we will take a look at how lifetime earnings vary by major. **Although this section is optional, it is by no means more difficult than the previous sections, and we strongly encourage you to try it. The results are also very interesting!** This is related to the [Life-Cycle Hypothesis](https://www.economicshelp.org/blog/27080/concepts/life-cycle-hypothesis/).\n",
    "\n",
    "For example, some people make a lot of money early in life but don't see a significant increase in income later on; and some other people don't make a lot of money right out of college, but their income increases significantly as they get older. We want to see if this is related to their major, using the most recent data from 2019. "
   ]
  },
  {
   "cell_type": "markdown",
   "id": "824f2d52",
   "metadata": {},
   "source": [
    "### Economics Majors"
   ]
  },
  {
   "cell_type": "markdown",
   "id": "ad7f1b97",
   "metadata": {},
   "source": [
    "First we will look at the Economics majors. Economics majors contains Agricultural Economics, Economics, and Business Economics, which are represented by `DEGFIELDD` codes 1102, 5501, and 6205. "
   ]
  },
  {
   "cell_type": "markdown",
   "id": "6ecbebdd",
   "metadata": {},
   "source": [
    "**Question 4.1:** Filter the `ipums_s` dataframe for Economics majors based on the criteria above. We only need records for 2019. "
   ]
  },
  {
   "cell_type": "code",
   "execution_count": null,
   "id": "cf2d6aba",
   "metadata": {
    "tags": []
   },
   "outputs": [],
   "source": [
    "ipums_s_2019_econ = ...\n",
    "ipums_s_2019_econ"
   ]
  },
  {
   "cell_type": "code",
   "execution_count": null,
   "id": "dc1467c1",
   "metadata": {
    "deletable": false,
    "editable": false
   },
   "outputs": [],
   "source": [
    "grader.check(\"q4_1\")"
   ]
  },
  {
   "cell_type": "markdown",
   "id": "02d62476",
   "metadata": {},
   "source": [
    "Now we are going to create a visualization of the life cycle income for Economics majors. We will plot the 25th percentile, 50th percentile, 75th percentile, and 90th percentile incomes on the same graph. The y-axis will be the percentile income, and the x-axis will be age."
   ]
  },
  {
   "cell_type": "markdown",
   "id": "8a4d87f0",
   "metadata": {},
   "source": [
    "We have defined the percentile function for you. It can be used as an aggregation function after the groupby."
   ]
  },
  {
   "cell_type": "code",
   "execution_count": null,
   "id": "e85dd638",
   "metadata": {},
   "outputs": [],
   "source": [
    "# percentile function used in groupby aggregate\n",
    "def percentile(n):\n",
    "    def _percentile(x):\n",
    "        return np.percentile(x, n)\n",
    "    _percentile.__name__ = f'percentile_{n}'\n",
    "    return _percentile"
   ]
  },
  {
   "cell_type": "markdown",
   "id": "efab651d",
   "metadata": {},
   "source": [
    "For example, \n",
    "\n",
    "```python\n",
    ">>> df.groupby(...).agg(percentile(25))\n",
    "```\n",
    "\n",
    "will return the 25th percentile values in each group. "
   ]
  },
  {
   "cell_type": "markdown",
   "id": "e6a79569",
   "metadata": {},
   "source": [
    "<!-- BEGIN QUESTION -->\n",
    "\n",
    "**Question 4.2:** Plot the 25th, 50th, 75th, 90th percentile wages and salaries for Economics majors at each age. \n",
    "\n",
    "Hint: You will need to use groupby on `AGE`. Remember to reset index after groupby and aggregate. "
   ]
  },
  {
   "cell_type": "code",
   "execution_count": null,
   "id": "a6522e4a",
   "metadata": {
    "tags": []
   },
   "outputs": [],
   "source": [
    "percentiles = [25, 50, 75, 90]\n",
    "\n",
    "plt.figure(figsize=(9, 6))\n",
    "for p in percentiles:\n",
    "    ipums_s_2019_econ_p_by_age = ...\n",
    "    plt.plot(..., label=f\"Econ {p}th Percentile\")\n",
    "plt.title(\"Percentile Wage and Salaries By Age for Economics Majors in 2019\")\n",
    "plt.xlabel(\"Age\")\n",
    "plt.legend();"
   ]
  },
  {
   "cell_type": "markdown",
   "id": "464e6c3a",
   "metadata": {},
   "source": [
    "<!-- END QUESTION -->\n",
    "\n",
    "**Note that the graph appears to be very volatile. This is due to our extremely small sample size. However, the overall trend is valid.** "
   ]
  },
  {
   "cell_type": "markdown",
   "id": "7d62f13c",
   "metadata": {},
   "source": [
    "### Computer Science Majors"
   ]
  },
  {
   "cell_type": "markdown",
   "id": "fcc8b4e2",
   "metadata": {},
   "source": [
    "This time, repeat the same process for computer science majors. CS majors are represented by `DEGFIELDD` codes 2100, 2101, 2102, 2106, 2107, 2407, and 4005. "
   ]
  },
  {
   "cell_type": "markdown",
   "id": "3b8ee2cf",
   "metadata": {},
   "source": [
    "<!-- BEGIN QUESTION -->\n",
    "\n",
    "**Question 4.3:** Filter the `ipums_s` dataframe for CS majors based on the criteria above. We only need records for 2019. Then plot the 25th, 50th, 75th, 90th percentile wage and salary for CS majors of each age."
   ]
  },
  {
   "cell_type": "code",
   "execution_count": null,
   "id": "47ebc2ac",
   "metadata": {
    "tags": []
   },
   "outputs": [],
   "source": [
    "...\n",
    "plt.title(\"Percentile Wage and Salaries By Age for CS Majors in 2019\")\n",
    "plt.xlabel(\"Age\")\n",
    "plt.legend();"
   ]
  },
  {
   "cell_type": "markdown",
   "id": "e534a162",
   "metadata": {},
   "source": [
    "<!-- END QUESTION -->\n",
    "\n",
    "### Comparison"
   ]
  },
  {
   "cell_type": "markdown",
   "id": "eab897a7",
   "metadata": {},
   "source": [
    "Let's now compare the lifecycle income of Economics majors and CS majors. "
   ]
  },
  {
   "cell_type": "markdown",
   "id": "fe15f023",
   "metadata": {},
   "source": [
    "<!-- BEGIN QUESTION -->\n",
    "\n",
    "**Question 4.4:** Plot the lifecycle wage and salaries of Economics and CS majors together. \n",
    "\n",
    "Hint: You only need to copy and paste in the code in the for loop. "
   ]
  },
  {
   "cell_type": "code",
   "execution_count": null,
   "id": "7a56e879",
   "metadata": {
    "tags": []
   },
   "outputs": [],
   "source": [
    "colors = ['sandybrown', 'coral', 'chocolate', 'sienna', 'cornflowerblue', 'royalblue', 'mediumblue', 'navy']\n",
    "plt.figure(figsize=(12, 8))\n",
    "\n",
    "percentiles = [25, 50, 75, 90]\n",
    "# Economics majors\n",
    "for i, p in enumerate(percentiles):\n",
    "    ...\n",
    "    plt.plot(..., label=f\"Econ {p}th Percentile\", color=colors[i])\n",
    "\n",
    "# CS majors\n",
    "for i, p in enumerate(percentiles):\n",
    "    ...\n",
    "    plt.plot(..., label=f\"CS {p}th Percentile\", color=colors[i+len(percentiles)])\n",
    "plt.title(\"Percentile Wage and Salaries By Age in 2019 (Economics vs Computer Science)\")\n",
    "plt.xlabel(\"Age\")\n",
    "plt.legend();"
   ]
  },
  {
   "cell_type": "markdown",
   "id": "e70348df",
   "metadata": {},
   "source": [
    "<!-- END QUESTION -->\n",
    "\n",
    "**Congratulations!** You're done with Econ 148 Lab 2!"
   ]
  },
  {
   "cell_type": "markdown",
   "id": "8080d723",
   "metadata": {},
   "source": [
    "---\n",
    "## Feedback"
   ]
  },
  {
   "cell_type": "markdown",
   "id": "7d06a3ee",
   "metadata": {},
   "source": [
    "**Question 5:** Please fill out this short [feedback form](https://forms.gle/kKzxPm6oUBgxn3Pt8) to let us know your thoughts about this lab! We really appreciate your opinions and feedback! At the end of the Google form, you should see a codeword. Assign the codeword to the variable `codeword` below. "
   ]
  },
  {
   "cell_type": "code",
   "execution_count": null,
   "id": "244671cd",
   "metadata": {
    "tags": []
   },
   "outputs": [],
   "source": [
    "codeword = ..."
   ]
  },
  {
   "cell_type": "code",
   "execution_count": null,
   "id": "29203759",
   "metadata": {
    "deletable": false,
    "editable": false
   },
   "outputs": [],
   "source": [
    "grader.check(\"q5\")"
   ]
  },
  {
   "cell_type": "markdown",
   "id": "b087d29a",
   "metadata": {
    "deletable": false,
    "editable": false
   },
   "source": [
    "## Submission\n",
    "\n",
    "Make sure you have run all cells in your notebook in order before running the cell below, so that all images/graphs appear in the output. The cell below will generate a zip file for you to submit. **Please save before exporting!**"
   ]
  },
  {
   "cell_type": "code",
   "execution_count": null,
   "id": "5767f165",
   "metadata": {
    "deletable": false,
    "editable": false
   },
   "outputs": [],
   "source": [
    "# Save your notebook first, then run this cell to export your submission.\n",
    "grader.export(run_tests=True)"
   ]
  },
  {
   "cell_type": "markdown",
   "id": "4c6badc0",
   "metadata": {},
   "source": [
    " "
   ]
  }
 ],
 "metadata": {
  "kernelspec": {
   "display_name": "Python 3 (ipykernel)",
   "language": "python",
   "name": "python3"
  },
  "language_info": {
   "codemirror_mode": {
    "name": "ipython",
    "version": 3
   },
   "file_extension": ".py",
   "mimetype": "text/x-python",
   "name": "python",
   "nbconvert_exporter": "python",
   "pygments_lexer": "ipython3",
   "version": "3.10.9"
  },
  "otter": {
   "OK_FORMAT": true,
   "tests": {
    "q1_1": {
     "name": "q1_1",
     "points": null,
     "suites": [
      {
       "cases": [
        {
         "code": ">>> len(api_key) > 0\nTrue",
         "hidden": false,
         "locked": false
        }
       ],
       "scored": true,
       "setup": "",
       "teardown": "",
       "type": "doctest"
      }
     ]
    },
    "q1_3": {
     "name": "q1_3",
     "points": null,
     "suites": [
      {
       "cases": [
        {
         "code": ">>> test_params = {\"ec\": 148, \"eric\": \"van dusen\", \"ds\": \"economists\"}\n>>> test_link = \"https://thisisnotavalidlink.us\"\n>>> test_ep = \"/test\"\n>>> test_res = fetch(test_link, test_ep, test_params, url_only=True)\n>>> test_res == 'https://thisisnotavalidlink.us/test?ec=148&eric=van+dusen&ds=economists'\nTrue",
         "hidden": false,
         "locked": false
        }
       ],
       "scored": true,
       "setup": "",
       "teardown": "",
       "type": "doctest"
      }
     ]
    },
    "q1_4": {
     "name": "q1_4",
     "points": null,
     "suites": [
      {
       "cases": [
        {
         "code": ">>> \"fred/series/observations\" in endpoint\nTrue",
         "hidden": false,
         "locked": false
        },
        {
         "code": ">>> len(params_UNRATE) >= 6\nTrue",
         "hidden": false,
         "locked": false
        },
        {
         "code": ">>> \"series_id\" in params_UNRATE.keys() and params_UNRATE[\"series_id\"] == \"UNRATE\"\nTrue",
         "hidden": false,
         "locked": false
        },
        {
         "code": ">>> \"observation_start\" in params_UNRATE.keys() and params_UNRATE[\"observation_start\"] == \"1958-01-01\"\nTrue",
         "hidden": false,
         "locked": false
        },
        {
         "code": ">>> \"observation_end\" in params_UNRATE.keys() and params_UNRATE[\"observation_end\"] == \"2022-10-01\"\nTrue",
         "hidden": false,
         "locked": false
        },
        {
         "code": ">>> \"frequency\" in params_UNRATE.keys() and params_UNRATE[\"frequency\"] == \"q\"\nTrue",
         "hidden": false,
         "locked": false
        },
        {
         "code": ">>> \"units\" not in params_UNRATE.keys() or (\"units\" in params_UNRATE.keys() and params_UNRATE[\"units\"] == \"lin\")\nTrue",
         "hidden": false,
         "locked": false
        },
        {
         "code": ">>> \"aggregation_method\" not in params_UNRATE.keys() or (\"aggregation_method\" in params_UNRATE.keys() and params_UNRATE[\"aggregation_method\"] == \"avg\")\nTrue",
         "hidden": false,
         "locked": false
        },
        {
         "code": ">>> \"api_key\" in params_UNRATE.keys()\nTrue",
         "hidden": false,
         "locked": false
        },
        {
         "code": ">>> \"file_type\" in params_UNRATE.keys()\nTrue",
         "hidden": false,
         "locked": false
        }
       ],
       "scored": true,
       "setup": "",
       "teardown": "",
       "type": "doctest"
      }
     ]
    },
    "q1_5": {
     "name": "q1_5",
     "points": null,
     "suites": [
      {
       "cases": [
        {
         "code": ">>> \"series_id\" in params_INFLATION.keys() and params_INFLATION[\"series_id\"] == \"CPILFESL\"\nTrue",
         "hidden": false,
         "locked": false
        },
        {
         "code": ">>> \"observation_start\" in params_INFLATION.keys() and params_INFLATION[\"observation_start\"] == \"1958-01-01\"\nTrue",
         "hidden": false,
         "locked": false
        },
        {
         "code": ">>> \"observation_end\" in params_INFLATION.keys() and params_INFLATION[\"observation_end\"] == \"2022-10-01\"\nTrue",
         "hidden": false,
         "locked": false
        },
        {
         "code": ">>> \"frequency\" in params_INFLATION.keys() and params_INFLATION[\"frequency\"] == \"q\"\nTrue",
         "hidden": false,
         "locked": false
        },
        {
         "code": ">>> \"units\" in params_INFLATION.keys() and params_INFLATION[\"units\"] == \"pc1\"\nTrue",
         "hidden": false,
         "locked": false
        },
        {
         "code": ">>> \"aggregation_method\" not in params_INFLATION.keys() or (\"aggregation_method\" in params_INFLATION.keys() and params_INFLATION[\"aggregation_method\"] == \"avg\")\nTrue",
         "hidden": false,
         "locked": false
        },
        {
         "code": ">>> \"api_key\" in params_UNRATE.keys()\nTrue",
         "hidden": false,
         "locked": false
        },
        {
         "code": ">>> \"file_type\" in params_UNRATE.keys()\nTrue",
         "hidden": false,
         "locked": false
        }
       ],
       "scored": true,
       "setup": "",
       "teardown": "",
       "type": "doctest"
      }
     ]
    },
    "q2_1": {
     "name": "q2_1",
     "points": null,
     "suites": [
      {
       "cases": [
        {
         "code": ">>> ipums_raw.shape[0] == 162731\nTrue",
         "hidden": false,
         "locked": false
        }
       ],
       "scored": true,
       "setup": "",
       "teardown": "",
       "type": "doctest"
      }
     ]
    },
    "q2_2": {
     "name": "q2_2",
     "points": null,
     "suites": [
      {
       "cases": [
        {
         "code": ">>> ipums_college.shape == (46270, 13)\nTrue",
         "hidden": false,
         "locked": false
        },
        {
         "code": ">>> np.sum(ipums_college[\"DEGFIELD\"] == 0) == 0\nTrue",
         "hidden": false,
         "locked": false
        }
       ],
       "scored": true,
       "setup": "",
       "teardown": "",
       "type": "doctest"
      }
     ]
    },
    "q2_3": {
     "name": "q2_3",
     "points": null,
     "suites": [
      {
       "cases": [
        {
         "code": ">>> ipums_college_working_age.shape == (36809, 13)\nTrue",
         "hidden": false,
         "locked": false
        },
        {
         "code": ">>> len(ipums_college_working_age[ipums_college_working_age[\"AGE\"] < 15]) == 0\nTrue",
         "hidden": false,
         "locked": false
        },
        {
         "code": ">>> len(ipums_college_working_age[ipums_college_working_age[\"AGE\"] > 64]) == 0\nTrue",
         "hidden": false,
         "locked": false
        }
       ],
       "scored": true,
       "setup": "",
       "teardown": "",
       "type": "doctest"
      }
     ]
    },
    "q2_4": {
     "name": "q2_4",
     "points": null,
     "suites": [
      {
       "cases": [
        {
         "code": ">>> ipums_s_text.shape == (32570, 11)\nTrue",
         "hidden": false,
         "locked": false
        },
        {
         "code": ">>> np.sum(ipums_s_text['DEGFIELD'] == 'Social Sciences') == 2218\nTrue",
         "hidden": false,
         "locked": false
        },
        {
         "code": ">>> np.sum(ipums_s_text['DEGFIELDD'] == 'Economics') == 613\nTrue",
         "hidden": false,
         "locked": false
        }
       ],
       "scored": true,
       "setup": "",
       "teardown": "",
       "type": "doctest"
      }
     ]
    },
    "q3_1": {
     "name": "q3_1",
     "points": null,
     "suites": [
      {
       "cases": [
        {
         "code": ">>> ipums_s_2009_by_major.shape == (171, 3)\nTrue",
         "hidden": false,
         "locked": false
        },
        {
         "code": ">>> np.isclose(np.max(ipums_s_2009_by_major[\"INCTOT\"]), 350700.0)\nTrue",
         "hidden": false,
         "locked": false
        }
       ],
       "scored": true,
       "setup": "",
       "teardown": "",
       "type": "doctest"
      }
     ]
    },
    "q3_2": {
     "name": "q3_2",
     "points": null,
     "suites": [
      {
       "cases": [
        {
         "code": ">>> ipums_s_2009_highest_incwage_majors.iloc[0][\"DEGFIELDD\"] == 'Actuarial Science'\nTrue",
         "hidden": false,
         "locked": false
        },
        {
         "code": ">>> ipums_s_2009_highest_incwage_majors.iloc[-1][\"DEGFIELDD\"] == 'Soil Science'\nTrue",
         "hidden": false,
         "locked": false
        }
       ],
       "scored": true,
       "setup": "",
       "teardown": "",
       "type": "doctest"
      }
     ]
    },
    "q3_3": {
     "name": "q3_3",
     "points": null,
     "suites": [
      {
       "cases": [
        {
         "code": ">>> ipums_s_2019_highest_incwage_majors.shape == (170, 3)\nTrue",
         "hidden": false,
         "locked": false
        },
        {
         "code": ">>> ipums_s_2019_highest_incwage_majors.iloc[0][\"DEGFIELDD\"] == 'Naval Architecture and Marine Engineering'\nTrue",
         "hidden": false,
         "locked": false
        },
        {
         "code": ">>> ipums_s_2019_highest_incwage_majors.iloc[-1][\"DEGFIELDD\"] == 'Actuarial Science'\nTrue",
         "hidden": false,
         "locked": false
        }
       ],
       "scored": true,
       "setup": "",
       "teardown": "",
       "type": "doctest"
      }
     ]
    },
    "q3_4": {
     "name": "q3_4",
     "points": null,
     "suites": [
      {
       "cases": [
        {
         "code": ">>> ipums_top_ten_majors.shape == (18, 5)\nTrue",
         "hidden": false,
         "locked": false
        },
        {
         "code": ">>> ipums_top_ten_majors.iloc[0]['DEGFIELDD'] == 'Actuarial Science'\nTrue",
         "hidden": false,
         "locked": false
        },
        {
         "code": ">>> ipums_top_ten_majors.iloc[-1]['DEGFIELDD'] == 'Cognitive Science and Biopsychology'\nTrue",
         "hidden": false,
         "locked": false
        },
        {
         "code": ">>> np.isclose(ipums_top_ten_majors.iloc[0]['INCTOT_2009'], 350700.0)\nTrue",
         "hidden": false,
         "locked": false
        },
        {
         "code": ">>> np.isclose(ipums_top_ten_majors.iloc[0]['INCTOT_2019'], 3150.0)\nTrue",
         "hidden": false,
         "locked": false
        },
        {
         "code": ">>> np.isclose(np.sum(ipums_top_ten_majors['INCWAGE_2009']), 1817000.0)\nTrue",
         "hidden": false,
         "locked": false
        }
       ],
       "scored": true,
       "setup": "",
       "teardown": "",
       "type": "doctest"
      }
     ]
    },
    "q4_1": {
     "name": "q4_1",
     "points": 0,
     "suites": [
      {
       "cases": [
        {
         "code": ">>> ipums_s_2019_econ.shape == (375, 11)\nTrue",
         "hidden": false,
         "locked": false
        },
        {
         "code": ">>> np.sum(~ipums_s_2019_econ[\"DEGFIELDD\"].isin([1102, 5501, 6205])) == 0\nTrue",
         "hidden": false,
         "locked": false
        }
       ],
       "scored": true,
       "setup": "",
       "teardown": "",
       "type": "doctest"
      }
     ]
    },
    "q5": {
     "name": "q5",
     "points": null,
     "suites": [
      {
       "cases": [
        {
         "code": ">>> sum([ord(c) for c in codeword])^0xec148 == 967422\nTrue",
         "hidden": false,
         "locked": false
        }
       ],
       "scored": true,
       "setup": "",
       "teardown": "",
       "type": "doctest"
      }
     ]
    }
   }
  }
 },
 "nbformat": 4,
 "nbformat_minor": 5
}
