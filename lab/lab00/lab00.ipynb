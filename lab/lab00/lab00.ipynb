{
 "cells": [
  {
   "cell_type": "code",
   "execution_count": null,
   "metadata": {
    "deletable": false,
    "editable": false
   },
   "outputs": [],
   "source": [
    "# Initialize Otter\n",
    "import otter\n",
    "grader = otter.Notebook(\"lab00.ipynb\")"
   ]
  },
  {
   "cell_type": "code",
   "execution_count": null,
   "metadata": {},
   "outputs": [],
   "source": [
    "import math\n",
    "import numpy as np\n",
    "import pandas as pd"
   ]
  },
  {
   "cell_type": "markdown",
   "metadata": {},
   "source": [
    "# Lab 0: Intro to Notebook\n",
    "\n",
    "Welcome to the first lab for this course! We'll go over some Python and NumPy exercises. For most of you, this will be a refresher on how to use Jupyter notebook and how to write code in Python. We will also go over some mathematics that are helpful for this course. "
   ]
  },
  {
   "cell_type": "markdown",
   "metadata": {},
   "source": [
    "#### Learning Objectives\n",
    "1. Review basic Python syntax\n",
    "2. Review baisc numpy syntax and useful methods\n",
    "3. Introduce basic multivariate calculus and linear algebra and their implementation in Python"
   ]
  },
  {
   "cell_type": "markdown",
   "metadata": {
    "nbgrader": {
     "cell_type": "markdown",
     "checksum": "70d77ecade2565eb58c37a0bbccaca8e",
     "grade": false,
     "grade_id": "python-tutorial-links",
     "locked": false,
     "schema_version": 2,
     "solution": false
    }
   },
   "source": [
    "----\n",
    "\n",
    "## Section 1: Python  <a id='python'></a>\n",
    "\n",
    "Python is the main programming language we'll use in the course. Work through the following cells and make sure you understand what is happening in each.\n",
    "\n",
    "Feel free to review one or more of the following materials as a refresher.\n",
    "\n",
    "- **[Python Tutorial](https://docs.python.org/3/tutorial/index.html)**: Introduction to Python from the creators of Python\n",
    "- **[Composing Programs Chapter 1](http://composingprograms.com/pages/11-getting-started.html)**: This is more of a introduction to programming with Python.\n",
    "- **[Advanced Crash Course](http://cs231n.github.io/python-numpy-tutorial/)**: A fast crash course which assumes some programming background.\n",
    "- **[Jupyter Notebook Basics](https://jupyter-notebook.readthedocs.io/en/stable/examples/Notebook/Notebook%20Basics.html)**: A guide to navigating Jupyter Notebooks, including different parts of the user interface and different ways that cells can be used."
   ]
  },
  {
   "cell_type": "markdown",
   "metadata": {},
   "source": [
    "### Mathematical Expressions\n",
    "\n",
    "In this section, we'll go over some basic mathematical expressions in Python."
   ]
  },
  {
   "cell_type": "code",
   "execution_count": null,
   "metadata": {
    "nbgrader": {
     "cell_type": "code",
     "checksum": "373741ec83109a2bb362b522a6e97858",
     "grade": false,
     "grade_id": "math-sqrt",
     "locked": false,
     "schema_version": 2,
     "solution": false
    }
   },
   "outputs": [],
   "source": [
    "# In Python, the ** operator performs exponentiation.\n",
    "math.sqrt(math.e ** (-math.pi + 8))"
   ]
  },
  {
   "cell_type": "markdown",
   "metadata": {},
   "source": [
    "**Question 1.1:** Multiply twenty by the sum of ten raised to the power of two and one. Then, add three. "
   ]
  },
  {
   "cell_type": "code",
   "execution_count": null,
   "metadata": {
    "tags": []
   },
   "outputs": [],
   "source": [
    "q1_1 = ...\n",
    "q1_1"
   ]
  },
  {
   "cell_type": "code",
   "execution_count": null,
   "metadata": {
    "deletable": false,
    "editable": false
   },
   "outputs": [],
   "source": [
    "grader.check(\"q1_1\")"
   ]
  },
  {
   "cell_type": "markdown",
   "metadata": {
    "nbgrader": {
     "cell_type": "markdown",
     "checksum": "1daa637fcc4cd5d89a98f1fa7a56d294",
     "grade": false,
     "grade_id": "output-and-printing",
     "locked": false,
     "schema_version": 2,
     "solution": false
    }
   },
   "source": [
    "### Output and Printing"
   ]
  },
  {
   "cell_type": "markdown",
   "metadata": {},
   "source": [
    "<!-- BEGIN QUESTION -->\n",
    "\n",
    "**Question 1.2:** One at a time, uncomment and run each of the three lines of code below. Without modifying the text itself, change the second line of code so that it prints without errors. "
   ]
  },
  {
   "cell_type": "code",
   "execution_count": null,
   "metadata": {
    "nbgrader": {
     "cell_type": "code",
     "checksum": "9ab477866cebf6782c1e5adb03977369",
     "grade": false,
     "grade_id": "why-no-print",
     "locked": false,
     "schema_version": 2,
     "solution": false
    },
    "scrolled": true,
    "tags": []
   },
   "outputs": [],
   "source": [
    "# print('Hello' + ',', 'world!')\n",
    "# 'Why didn't this line print?'\n",
    "# \"Hello, cell\" + \" output!\""
   ]
  },
  {
   "cell_type": "markdown",
   "metadata": {},
   "source": [
    "<!-- END QUESTION -->\n",
    "\n",
    "### Strings ([Reference](https://developers.google.com/edu/python/strings))"
   ]
  },
  {
   "cell_type": "markdown",
   "metadata": {},
   "source": [
    "Run the code in the two cell blocks below. Notice the errors that occur when you uncomment line 5 in the first block and line 2 in the second block."
   ]
  },
  {
   "cell_type": "code",
   "execution_count": null,
   "metadata": {},
   "outputs": [],
   "source": [
    "s = 'hi'\n",
    "print(s[1])         ## i\n",
    "print(len(s))       ## 2\n",
    "print(s + ' there')\n",
    "#s[1] = 'a' # why doesn't this work?"
   ]
  },
  {
   "cell_type": "code",
   "execution_count": null,
   "metadata": {},
   "outputs": [],
   "source": [
    "avos_num = 6.022 * 10**23\n",
    "#text = \"The value of Euler's number is \" + avos_num      ## NO, does not work\n",
    "text = \"The value of Euler's number is \"  + str(avos_num)  ## yes\n",
    "print(text)"
   ]
  },
  {
   "cell_type": "markdown",
   "metadata": {},
   "source": [
    "**Question 1.3:** Write a line of code that will print the statement \"One mole contains 6.022e23 parts\" without explicitly typing out the number. (Note: in this case, it's okay if your code prints more than three decimal places.)"
   ]
  },
  {
   "cell_type": "code",
   "execution_count": null,
   "metadata": {
    "tags": []
   },
   "outputs": [],
   "source": [
    "..."
   ]
  },
  {
   "cell_type": "markdown",
   "metadata": {},
   "source": [
    "### Lists ([Reference](https://docs.python.org/3.5/tutorial/introduction.html#lists))"
   ]
  },
  {
   "cell_type": "code",
   "execution_count": null,
   "metadata": {},
   "outputs": [],
   "source": [
    "maybe_primes = [1, 2, 3, 5, 7, 13, 17] \n",
    "maybe_primes"
   ]
  },
  {
   "cell_type": "markdown",
   "metadata": {},
   "source": [
    "Practice subsetting lists by running the code in the cell block below."
   ]
  },
  {
   "cell_type": "code",
   "execution_count": null,
   "metadata": {},
   "outputs": [],
   "source": [
    "print(maybe_primes[0])\n",
    "print(maybe_primes[-1])\n",
    "print(maybe_primes[-3:])\n",
    "print(maybe_primes[:])\n",
    "print(maybe_primes + [19, 23, 29, 31, 37])"
   ]
  },
  {
   "cell_type": "markdown",
   "metadata": {},
   "source": [
    "**Question 1.4:** Insert 11 as the sixth element to the list `maybe_primes` and store the result in `more_primes` (such that `more_primes` = [1, 2, 3, 5, 7, 11, 13, 17])."
   ]
  },
  {
   "cell_type": "code",
   "execution_count": null,
   "metadata": {
    "tags": []
   },
   "outputs": [],
   "source": [
    "more_primes = maybe_primes.copy() # make a copy of maybe_primes\n",
    "...\n",
    "more_primes"
   ]
  },
  {
   "cell_type": "code",
   "execution_count": null,
   "metadata": {
    "deletable": false,
    "editable": false
   },
   "outputs": [],
   "source": [
    "grader.check(\"q1_4\")"
   ]
  },
  {
   "cell_type": "markdown",
   "metadata": {},
   "source": [
    "**Question 1.5:** Since 1 doesn't have two positive factors, remove 1 as the first element in `more_primes` and store the result in `primes` (such that `primes` = [2, 3, 5, 7, 11, 13, 17])."
   ]
  },
  {
   "cell_type": "code",
   "execution_count": null,
   "metadata": {
    "tags": []
   },
   "outputs": [],
   "source": [
    "primes = more_primes.copy()\n",
    "...\n",
    "primes"
   ]
  },
  {
   "cell_type": "code",
   "execution_count": null,
   "metadata": {
    "deletable": false,
    "editable": false
   },
   "outputs": [],
   "source": [
    "grader.check(\"q1_5\")"
   ]
  },
  {
   "cell_type": "markdown",
   "metadata": {},
   "source": [
    "### Dictionaries ([Reference](https://realpython.com/python-dicts/))"
   ]
  },
  {
   "cell_type": "markdown",
   "metadata": {},
   "source": [
    "Practice building and modifying dictionaries by running the lines of code below."
   ]
  },
  {
   "cell_type": "code",
   "execution_count": null,
   "metadata": {},
   "outputs": [],
   "source": [
    "tel = {'duncan': 7214, 'julia': 5414, 'akshay': 1685, 'christian': 9522}\n",
    "\n",
    "# insert a new key value pair\n",
    "tel['richard'] = 3698 \n",
    "\n",
    "# delete an existing key value pair (two ways)\n",
    "del tel['julia']\n",
    "tel.pop('duncan')\n",
    "\n",
    "# get a value by key\n",
    "print(tel['akshay'])"
   ]
  },
  {
   "cell_type": "code",
   "execution_count": null,
   "metadata": {},
   "outputs": [],
   "source": [
    "tel"
   ]
  },
  {
   "cell_type": "markdown",
   "metadata": {},
   "source": [
    "**Question 1.6:** Write code that remove the record for \"christian\" from the dictionary `tel2` and add a new record for \"eric\" with value 1480. "
   ]
  },
  {
   "cell_type": "code",
   "execution_count": null,
   "metadata": {
    "tags": []
   },
   "outputs": [],
   "source": [
    "tel2 = {'duncan': 7214, 'julia': 5414, 'akshay': 1685, 'christian': 9522}\n",
    "..."
   ]
  },
  {
   "cell_type": "code",
   "execution_count": null,
   "metadata": {
    "deletable": false,
    "editable": false
   },
   "outputs": [],
   "source": [
    "grader.check(\"q1_6\")"
   ]
  },
  {
   "cell_type": "markdown",
   "metadata": {},
   "source": [
    "### For Loops"
   ]
  },
  {
   "cell_type": "markdown",
   "metadata": {},
   "source": [
    "A for loop is used for iterating over a sequence (that is either a list, a tuple, a dictionary, a set, or a string). For example, if we want to show a message 100 times, then we can use a loop. It's just a simple example; you can achieve much more with loops."
   ]
  },
  {
   "cell_type": "markdown",
   "metadata": {},
   "source": [
    "**Question 1.7:** Write a for loop that computes all multiples of 14, 48, and 148 less than 1000, and stores this list of numbers in `multiples`. "
   ]
  },
  {
   "cell_type": "code",
   "execution_count": null,
   "metadata": {
    "tags": []
   },
   "outputs": [],
   "source": [
    "multiples = []\n",
    "for ...:\n",
    "    if ...:\n",
    "        multiples.append(...)\n",
    "    ...\n",
    "print(multiples)"
   ]
  },
  {
   "cell_type": "code",
   "execution_count": null,
   "metadata": {
    "deletable": false,
    "editable": false
   },
   "outputs": [],
   "source": [
    "grader.check(\"q1_7\")"
   ]
  },
  {
   "cell_type": "markdown",
   "metadata": {
    "nbgrader": {
     "cell_type": "markdown",
     "checksum": "4019eddb08e868ba791409d6fc683de2",
     "grade": false,
     "grade_id": "defining-functions",
     "locked": false,
     "schema_version": 2,
     "solution": false
    }
   },
   "source": [
    "### Defining Functions"
   ]
  },
  {
   "cell_type": "markdown",
   "metadata": {},
   "source": [
    "Here's an example of a function:"
   ]
  },
  {
   "cell_type": "code",
   "execution_count": null,
   "metadata": {
    "nbgrader": {
     "cell_type": "code",
     "checksum": "661113989cc8f0b9d720538abe72442b",
     "grade": false,
     "grade_id": "add-2-function",
     "locked": false,
     "schema_version": 2,
     "solution": false
    }
   },
   "outputs": [],
   "source": [
    "def add2(x):\n",
    "    \"\"\"This docstring explains what this function does: it adds 2 to a number.\"\"\"\n",
    "    return x + 2"
   ]
  },
  {
   "cell_type": "markdown",
   "metadata": {
    "nbgrader": {
     "cell_type": "markdown",
     "checksum": "c09ded864939c7c63ae05ff2acce1d41",
     "grade": false,
     "grade_id": "get-help",
     "locked": false,
     "schema_version": 2,
     "solution": false
    }
   },
   "source": [
    "#### Getting Help"
   ]
  },
  {
   "cell_type": "code",
   "execution_count": null,
   "metadata": {
    "nbgrader": {
     "cell_type": "code",
     "checksum": "5ca8b464f0d81a22dbc80a5d3290933c",
     "grade": false,
     "grade_id": "help-add2",
     "locked": false,
     "schema_version": 2,
     "solution": false
    }
   },
   "outputs": [],
   "source": [
    "help(add2)"
   ]
  },
  {
   "cell_type": "markdown",
   "metadata": {
    "nbgrader": {
     "cell_type": "markdown",
     "checksum": "85d8b83f79434888f22c52650ac2da35",
     "grade": false,
     "grade_id": "begin-question1",
     "locked": false,
     "schema_version": 2,
     "solution": false
    }
   },
   "source": [
    "**Question 1.8:** Fill in the ellipses in the function `print_extension`, which takes in a dictionary `phonebook` and string `name` and returns a string stating the four-digit value associated with the key `name`. For example:\n",
    "\n",
    "    >>> print_extension(tel, 'richard')\n",
    "    'The extension for richard is 3698.'\n",
    "\n",
    "Note: You don't need to handle cases where `name` doesn't exist in the `phonebook`. "
   ]
  },
  {
   "cell_type": "code",
   "execution_count": null,
   "metadata": {
    "tags": []
   },
   "outputs": [],
   "source": [
    "def print_extension(phonebook, name):\n",
    "    value = ... # From the dictionary `phonebook,` extract the value associated with key `name`\n",
    "    return ... # Return the string \"The extension for [name] is [value].\", where [name] and [value] are the corresponding values\n",
    "print_extension(tel, 'akshay') # this should print \"The extension for akshay is 1685.\""
   ]
  },
  {
   "cell_type": "code",
   "execution_count": null,
   "metadata": {
    "deletable": false,
    "editable": false
   },
   "outputs": [],
   "source": [
    "grader.check(\"q1_8\")"
   ]
  },
  {
   "cell_type": "markdown",
   "metadata": {},
   "source": [
    "**Question 1.9:** Write a function `squares_dict` that takes in a list of numbers `l` and creates a dictionary that records the the square of each number.\n",
    "\n",
    "    >>> print(squares_dict([0,1,2,4]))\n",
    "    {0: 0, 1: 1, 2: 4, 4: 16}\n",
    "    \n",
    "It might be helpful to [review dictionaries in Python](https://docs.python.org/3/tutorial/datastructures.html#dictionaries)."
   ]
  },
  {
   "cell_type": "code",
   "execution_count": null,
   "metadata": {
    "tags": []
   },
   "outputs": [],
   "source": [
    "def squares_dict(l):\n",
    "    squares = {} # initialize dictionary to hold the squared numbers\n",
    "\n",
    "    for number in ...:\n",
    "        ...\n",
    "\n",
    "    return squares\n",
    "print(squares_dict([0,1,2,4]))"
   ]
  },
  {
   "cell_type": "code",
   "execution_count": null,
   "metadata": {
    "deletable": false,
    "editable": false
   },
   "outputs": [],
   "source": [
    "grader.check(\"q1_9\")"
   ]
  },
  {
   "cell_type": "markdown",
   "metadata": {
    "nbgrader": {
     "cell_type": "markdown",
     "checksum": "879fbab7b9199d887c56aa42349a5b27",
     "grade": false,
     "grade_id": "numpy-and-tables",
     "locked": false,
     "schema_version": 2,
     "solution": false
    }
   },
   "source": [
    "----\n",
    "\n",
    "## Section 2: NumPy <a id='NumPy'></a>\n",
    "\n",
    "The `NumPy` library lets us do fast, simple computing with numbers in Python. \n",
    "\n",
    "If the following section is a little difficult, we've provided some resources for review:\n",
    "\n",
    "* [DS100 Numpy Review](http://ds100.org/fa17/assets/notebooks/numpy/Numpy_Review.html)\n",
    "* [Condensed Numpy Review](http://cs231n.github.io/python-numpy-tutorial/#numpy)\n",
    "* [The Official Numpy Tutorial](https://numpy.org/doc/stable/user/quickstart.html)\n",
    "\n",
    "<br>\n",
    "\n",
    "**Jupyter pro-tip**: Pull up the docs for any function in Jupyter by running a cell with\n",
    "the function name and a `?` at the end:"
   ]
  },
  {
   "cell_type": "code",
   "execution_count": null,
   "metadata": {
    "nbgrader": {
     "cell_type": "code",
     "checksum": "b86d7aec77704a4bf2119edcec544f55",
     "grade": false,
     "grade_id": "np-arange-huh",
     "locked": false,
     "schema_version": 2,
     "solution": false
    }
   },
   "outputs": [],
   "source": [
    "np.arange?"
   ]
  },
  {
   "cell_type": "markdown",
   "metadata": {
    "nbgrader": {
     "cell_type": "markdown",
     "checksum": "0ecfa74779f4801e846b87a57e256b7a",
     "grade": false,
     "grade_id": "jupyter-pro-tip-two",
     "locked": false,
     "schema_version": 2,
     "solution": false
    }
   },
   "source": [
    "**Another Jupyter pro-tip**: Pull up the docs for any function in Jupyter by typing the function\n",
    "name, then `<Shift>-<Tab>` on your keyboard. Super convenient when you forget the order\n",
    "of the arguments to a function. You can press `<Tab>` multiple tabs to expand the docs. Pressing `<Tab>` does an autocomplete, but doesn’t pull up docs.\n",
    "\n",
    "\n",
    "Try it on the function below:"
   ]
  },
  {
   "cell_type": "code",
   "execution_count": null,
   "metadata": {},
   "outputs": [],
   "source": [
    "np.linspace # what parameters will this function accept? What type do they need to be?"
   ]
  },
  {
   "cell_type": "markdown",
   "metadata": {},
   "source": [
    "In the following questions, we will use numpy to answer some questions about the California Independent System Operator (CAISO) Daily Renewables Watch. This data records the hourly production of various renewable resources as well as a hourly breakdown of total production of resource type, both in megawatts (MW). For an idea of how the dataset is formatted, click [here](http://content.caiso.com/green/renewrpt/20180617_DailyRenewablesWatch.txt). "
   ]
  },
  {
   "cell_type": "markdown",
   "metadata": {},
   "source": [
    "The following line loads the data for Question 2.1.  Note that it uses Pandas -- we'll learn more about that next week!  But the output is a numpy array.  "
   ]
  },
  {
   "cell_type": "code",
   "execution_count": null,
   "metadata": {},
   "outputs": [],
   "source": [
    "data1 = pd.read_csv(\"data/q2_1.csv\").values \n",
    "data1"
   ]
  },
  {
   "cell_type": "markdown",
   "metadata": {},
   "source": [
    "**Question 2.1:** Use numpy operations to output an array containing the hourly values of solar photovoltaic and solar thermal production. \n",
    "\n",
    "Hint: You may want to review how to slice a numpy array. "
   ]
  },
  {
   "cell_type": "code",
   "execution_count": null,
   "metadata": {
    "tags": []
   },
   "outputs": [],
   "source": [
    "q2_1 = ...\n",
    "q2_1"
   ]
  },
  {
   "cell_type": "code",
   "execution_count": null,
   "metadata": {
    "deletable": false,
    "editable": false
   },
   "outputs": [],
   "source": [
    "grader.check(\"q2_1\")"
   ]
  },
  {
   "cell_type": "markdown",
   "metadata": {},
   "source": [
    "Now, we will import another dataset that contains all the data for renewable resources generation in April 2017. "
   ]
  },
  {
   "cell_type": "code",
   "execution_count": null,
   "metadata": {},
   "outputs": [],
   "source": [
    "data2 = pd.read_csv(\"data/q2_2.csv\").values\n",
    "data2"
   ]
  },
  {
   "cell_type": "markdown",
   "metadata": {},
   "source": [
    "**Question 2.2:** Use numpy operations to answer the following question: How much more wind than geothermal electricity (in WM) was generated in April 2017 in total? Note, each entry in the array represents energy produced for a given *hour*.\n",
    "\n",
    "Hint: You may want to use [np.sum](https://numpy.org/doc/stable/reference/generated/numpy.sum.html) or [sum](https://docs.python.org/3/library/functions.html#sum). "
   ]
  },
  {
   "cell_type": "code",
   "execution_count": null,
   "metadata": {
    "tags": []
   },
   "outputs": [],
   "source": [
    "q2_2 = np.sum(data2[:, 6] - data2[:, 2])\n",
    "q2_2"
   ]
  },
  {
   "cell_type": "code",
   "execution_count": null,
   "metadata": {
    "deletable": false,
    "editable": false
   },
   "outputs": [],
   "source": [
    "grader.check(\"q2_2\")"
   ]
  },
  {
   "cell_type": "markdown",
   "metadata": {
    "nbgrader": {
     "cell_type": "markdown",
     "checksum": "e252d3114df4dde790eca749770cb5f2",
     "grade": false,
     "grade_id": "mv-calc",
     "locked": false,
     "schema_version": 2,
     "solution": false
    }
   },
   "source": [
    "----\n",
    "\n",
    "## Optional: Multivariable Calculus <a id='MultiCalc'></a>\n",
    "\n",
    "The following section will ask you to recall your knowledge of multivariable calculus. Although the class is not a hard prerequisite, we will use fundamental concepts, so the following problems should familiarize you to these topics if you haven't taken it yet.\n",
    "\n",
    "(Note that the math is written in a simplified version of LaTeX.  Writing out your answer involves putting exponents on other terms.  See how it works in the markdown source for this expression: $x^{2y}$\n",
    "\n",
    "----"
   ]
  },
  {
   "cell_type": "markdown",
   "metadata": {
    "nbgrader": {
     "cell_type": "markdown",
     "checksum": "578458b94641a0941893232cce4e3d14",
     "grade": false,
     "grade_id": "question3",
     "locked": false,
     "schema_version": 2,
     "solution": false
    },
    "tags": [
     "written"
    ]
   },
   "source": [
    "<!-- BEGIN QUESTION -->\n",
    "\n",
    "**Question 3.1:** Simplify the following expression into the form \n",
    "$$ \\ln(a) + f(x) $$\n",
    "where $a$ is a constant and $f(x)$ is a polynomial function of $x$ (i.e. no natural logarithm):\n",
    "\n",
    "$$\n",
    "\\ln \\left(0.44e^{-3  x} e^{\\cos{x}} \\right) = \\cdots\n",
    "$$"
   ]
  },
  {
   "cell_type": "markdown",
   "metadata": {},
   "source": [
    "_Type your answer here, replacing this text._"
   ]
  },
  {
   "cell_type": "markdown",
   "metadata": {
    "nbgrader": {
     "cell_type": "markdown",
     "checksum": "3ab703085b4fa129f7e4fb80d7cf127d",
     "grade": false,
     "grade_id": "question3b",
     "locked": false,
     "schema_version": 2,
     "solution": false
    },
    "tags": [
     "written"
    ]
   },
   "source": [
    "<!-- END QUESTION -->\n",
    "\n",
    "<!-- BEGIN QUESTION -->\n",
    "\n",
    "**Question 3.2**: Suppose we have the following scalar-valued function on $x$ and $y$:\n",
    "\n",
    "$$ f(x, y) = \\frac{1}{\\cos^2{x}} - 4^y + \\sqrt{x^3 + 3y}  $$\n",
    "\n",
    "Compute the partial derivative with respect to $x$."
   ]
  },
  {
   "cell_type": "markdown",
   "metadata": {},
   "source": [
    "_Type your answer here, replacing this text._"
   ]
  },
  {
   "cell_type": "markdown",
   "metadata": {
    "nbgrader": {
     "cell_type": "markdown",
     "checksum": "e34c1b66b696c223a5937ac9df854aa3",
     "grade": false,
     "grade_id": "question3c",
     "locked": false,
     "schema_version": 2,
     "solution": false
    },
    "tags": [
     "written"
    ]
   },
   "source": [
    "<!-- END QUESTION -->\n",
    "\n",
    "<!-- BEGIN QUESTION -->\n",
    "\n",
    "**Question 3.3:** Now compute the partial derivative of $f(x,y)$ with respect to $y$:"
   ]
  },
  {
   "cell_type": "markdown",
   "metadata": {},
   "source": [
    "_Type your answer here, replacing this text._"
   ]
  },
  {
   "cell_type": "markdown",
   "metadata": {
    "nbgrader": {
     "cell_type": "markdown",
     "checksum": "308dbeb2f4547a9faa27439c6113fca7",
     "grade": false,
     "grade_id": "question4a",
     "locked": false,
     "schema_version": 2,
     "solution": false
    }
   },
   "source": [
    "<!-- END QUESTION -->\n",
    "\n",
    "## Optional: Linear Algebra <a id='LinAlg'></a>\n",
    "\n",
    "We'll continue the math review with a short (optional) section on linear algebra. Luckily, we have NumPy at our disposal to perform matrix operations."
   ]
  },
  {
   "cell_type": "markdown",
   "metadata": {
    "nbgrader": {
     "cell_type": "markdown",
     "checksum": "2d34058989a2c75675476047cff6168c",
     "grade": false,
     "grade_id": "question4",
     "locked": false,
     "schema_version": 2,
     "solution": false
    }
   },
   "source": [
    "In this question, we'll ask you to use your linear algebra knowledge to fill in NumPy matrices. To conduct matrix multiplication in NumPy, you should write code like the following:"
   ]
  },
  {
   "cell_type": "code",
   "execution_count": null,
   "metadata": {
    "nbgrader": {
     "cell_type": "code",
     "checksum": "d38405314a199c0fe8f75ce2b27aa2c4",
     "grade": false,
     "grade_id": "matA-times-matB",
     "locked": false,
     "schema_version": 2,
     "solution": false
    },
    "scrolled": true
   },
   "outputs": [],
   "source": [
    "# A matrix in NumPy is simply a 2-dimensional NumPy array\n",
    "matA = np.array([\n",
    "    [1, 2, 3],\n",
    "    [4, 5, 6],\n",
    "])\n",
    "\n",
    "matB = np.array([\n",
    "    [10, 11],\n",
    "    [12, 13],\n",
    "    [14, 15],\n",
    "])\n",
    "\n",
    "# The notation B @ v means: compute the matrix multiplication Bv\n",
    "matA @ matB"
   ]
  },
  {
   "cell_type": "markdown",
   "metadata": {
    "nbgrader": {
     "cell_type": "markdown",
     "checksum": "1c4bc59ec712d4229ae0eb1bef86e5f5",
     "grade": false,
     "grade_id": "mat-vec-handy",
     "locked": false,
     "schema_version": 2,
     "solution": false
    }
   },
   "source": [
    "You can also use the same syntax to do matrix-vector multiplication or vector dot products. Handy!"
   ]
  },
  {
   "cell_type": "code",
   "execution_count": null,
   "metadata": {
    "nbgrader": {
     "cell_type": "code",
     "checksum": "6e01716f847933c47bbdd4dd557afa0c",
     "grade": false,
     "grade_id": "mat-vec-code",
     "locked": false,
     "schema_version": 2,
     "solution": false
    }
   },
   "outputs": [],
   "source": [
    "matA = np.array([\n",
    "    [1, 2, 3],\n",
    "    [4, 5, 6],\n",
    "])\n",
    "\n",
    "# A vector in NumPy is simply a 1-dimensional NumPy array\n",
    "some_vec = np.array([ 10, 12, 14, ])\n",
    "\n",
    "another_vec = np.array([ 10, 20, 30 ])\n",
    "\n",
    "print(matA @ some_vec)\n",
    "print(some_vec @ another_vec)"
   ]
  },
  {
   "cell_type": "markdown",
   "metadata": {},
   "source": [
    "Sofia, Pete, and Rowan are shopping for fruit at Berkeley Bowl. Berkeley Bowl, true to its name, only sells fruit bowls. A fruit bowl contains some fruit and the price of a fruit bowl is the total price of all of its individual fruit.\n",
    "\n",
    "Berkeley Bowl has bananas for \\\\$2.00, plums for \\\\$3.00, and dragon fruit for \\\\$7.00 (expensive!). These prices can be written in a vector:\n",
    "\n",
    "$$\n",
    "\\vec{v} = \\begin{bmatrix}\n",
    "     2 \\\\\n",
    "     3 \\\\\n",
    "     7 \\\\\n",
    "\\end{bmatrix}\n",
    "$$\n",
    "\n",
    "Berkeley Bowl sells the following fruit bowls:\n",
    "\n",
    "1. 2 of each fruit\n",
    "2. 6 bananas and 2 plums\n",
    "3. 5 dragon fruit\n",
    "\n",
    "\n"
   ]
  },
  {
   "cell_type": "markdown",
   "metadata": {},
   "source": [
    "**Question 4.1:** Create a 2-dimensional numpy array encoding the matrix $B$ such that the matrix-vector multiplication\n",
    "\n",
    "$$\n",
    "B\\vec{v}\n",
    "$$\n",
    "\n",
    "evaluates to a length 3 column vector containing the price of each fruit bowl. The first entry of the result should be the cost of fruit bowl #1, the second entry the cost of fruit bowl #2, etc."
   ]
  },
  {
   "cell_type": "code",
   "execution_count": null,
   "metadata": {
    "tags": []
   },
   "outputs": [],
   "source": [
    "v = np.array([2,3,7])\n",
    "\n",
    "# Fill in B\n",
    "B = np.array([\n",
    "    ...\n",
    "])\n",
    "\n",
    "# The notation B @ v means: compute the matrix multiplication Bv\n",
    "B @ v"
   ]
  },
  {
   "cell_type": "code",
   "execution_count": null,
   "metadata": {
    "deletable": false,
    "editable": false
   },
   "outputs": [],
   "source": [
    "grader.check(\"q4_1\")"
   ]
  },
  {
   "cell_type": "markdown",
   "metadata": {
    "nbgrader": {
     "cell_type": "markdown",
     "checksum": "33b462326181b0cdac402fca0925e323",
     "grade": false,
     "grade_id": "question4b",
     "locked": false,
     "schema_version": 2,
     "solution": false
    }
   },
   "source": [
    "**Question 4.2:** Sofia, Pete, and Rowan make the following purchases:\n",
    "\n",
    "- Sofia buys 6 fruit bowl #2s.\n",
    "- Pete buys 1 of each fruit bowl.\n",
    "- Rowan buys 3 fruit bowl #1s and 1 fruit bowl #3.\n",
    "\n",
    "\n",
    "Create a matrix $A$ such that the matrix expression\n",
    "\n",
    "$$\n",
    "AB\\vec{v}\n",
    "$$\n",
    "\n",
    "evaluates to a length 3 column vector containing how much each of them spent. The first entry of the result should be the total amount spent by Sofia, the second entry the amount sent by Pete, and the third entry the amount spent by Rowan."
   ]
  },
  {
   "cell_type": "code",
   "execution_count": null,
   "metadata": {
    "tags": []
   },
   "outputs": [],
   "source": [
    "# Fill in A\n",
    "A = ...\n",
    "\n",
    "A @ B @ v"
   ]
  },
  {
   "cell_type": "code",
   "execution_count": null,
   "metadata": {
    "deletable": false,
    "editable": false
   },
   "outputs": [],
   "source": [
    "grader.check(\"q4_2\")"
   ]
  },
  {
   "cell_type": "markdown",
   "metadata": {
    "nbgrader": {
     "cell_type": "markdown",
     "checksum": "06f378e57e0aab496a1fab11e6606242",
     "grade": false,
     "grade_id": "cell-8f8d7cbfb6493af0",
     "locked": false,
     "schema_version": 2,
     "solution": false
    }
   },
   "source": [
    "**Question 4.3:** Let's suppose Berkeley Bowl changes their fruit prices, but you don't know what they changed their prices to. Sofia, Pete, and Rowan buy the same quantity of fruit baskets and the number of fruit in each basket is the same, but now they each spent these amounts, respectively:\n",
    "\n",
    "$$\n",
    "\\vec{x} = \\begin{bmatrix}\n",
    "    402 \\\\\n",
    "    136 \\\\\n",
    "    147 \\\\\n",
    "\\end{bmatrix}\n",
    "$$\n",
    "\n",
    "Use `np.linalg.inv` or `np.linalg.solve` to compute the new prices for the individual fruits."
   ]
  },
  {
   "cell_type": "code",
   "execution_count": null,
   "metadata": {
    "tags": []
   },
   "outputs": [],
   "source": [
    "new_v = ...\n",
    "new_v"
   ]
  },
  {
   "cell_type": "code",
   "execution_count": null,
   "metadata": {
    "deletable": false,
    "editable": false
   },
   "outputs": [],
   "source": [
    "grader.check(\"q4_3\")"
   ]
  },
  {
   "cell_type": "markdown",
   "metadata": {},
   "source": [
    "----\n",
    "\n",
    "**Congratulations**, you're done with the first lab in Econ 148!"
   ]
  },
  {
   "cell_type": "code",
   "execution_count": null,
   "metadata": {},
   "outputs": [],
   "source": []
  },
  {
   "cell_type": "markdown",
   "metadata": {
    "deletable": false,
    "editable": false
   },
   "source": [
    "## Submission\n",
    "\n",
    "Make sure you have run all cells in your notebook in order before running the cell below, so that all images/graphs appear in the output. The cell below will generate a zip file for you to submit. **Please save before exporting!**"
   ]
  },
  {
   "cell_type": "code",
   "execution_count": null,
   "metadata": {
    "deletable": false,
    "editable": false
   },
   "outputs": [],
   "source": [
    "# Save your notebook first, then run this cell to export your submission.\n",
    "grader.export(run_tests=True)"
   ]
  },
  {
   "cell_type": "markdown",
   "metadata": {},
   "source": [
    " "
   ]
  }
 ],
 "metadata": {
  "kernelspec": {
   "display_name": "Python 3 (ipykernel)",
   "language": "python",
   "name": "python3"
  },
  "language_info": {
   "codemirror_mode": {
    "name": "ipython",
    "version": 3
   },
   "file_extension": ".py",
   "mimetype": "text/x-python",
   "name": "python",
   "nbconvert_exporter": "python",
   "pygments_lexer": "ipython3",
   "version": "3.8.10"
  },
  "otter": {
   "OK_FORMAT": true,
   "tests": {
    "q1_1": {
     "name": "q1_1",
     "points": null,
     "suites": [
      {
       "cases": [
        {
         "code": ">>> np.isclose(q1_1, 2023)\nTrue",
         "hidden": false,
         "locked": false
        }
       ],
       "scored": true,
       "setup": "",
       "teardown": "",
       "type": "doctest"
      }
     ]
    },
    "q1_4": {
     "name": "q1_4",
     "points": null,
     "suites": [
      {
       "cases": [
        {
         "code": ">>> more_primes == [1, 2, 3, 5, 7, 11, 13, 17]\nTrue",
         "hidden": false,
         "locked": false
        }
       ],
       "scored": true,
       "setup": "",
       "teardown": "",
       "type": "doctest"
      }
     ]
    },
    "q1_5": {
     "name": "q1_5",
     "points": null,
     "suites": [
      {
       "cases": [
        {
         "code": ">>> primes == [2, 3, 5, 7, 11, 13, 17]\nTrue",
         "hidden": false,
         "locked": false
        }
       ],
       "scored": true,
       "setup": "",
       "teardown": "",
       "type": "doctest"
      }
     ]
    },
    "q1_6": {
     "name": "q1_6",
     "points": null,
     "suites": [
      {
       "cases": [
        {
         "code": ">>> len(tel2) == 4\nTrue",
         "hidden": false,
         "locked": false
        },
        {
         "code": ">>> not 'christian' in tel2\nTrue",
         "hidden": false,
         "locked": false
        },
        {
         "code": ">>> assert 'eric' in tel2\n>>> np.isclose(tel2['eric'], 1480)\nTrue",
         "hidden": false,
         "locked": false
        }
       ],
       "scored": true,
       "setup": "",
       "teardown": "",
       "type": "doctest"
      }
     ]
    },
    "q1_7": {
     "name": "q1_7",
     "points": null,
     "suites": [
      {
       "cases": [
        {
         "code": ">>> len(multiples) == 96\nTrue",
         "hidden": false,
         "locked": false
        },
        {
         "code": ">>> np.sum(multiples) == 47964\nTrue",
         "hidden": false,
         "locked": false
        }
       ],
       "scored": true,
       "setup": "",
       "teardown": "",
       "type": "doctest"
      }
     ]
    },
    "q1_8": {
     "name": "q1_8",
     "points": null,
     "suites": [
      {
       "cases": [
        {
         "code": ">>> callable(print_extension)\nTrue",
         "hidden": false,
         "locked": false
        },
        {
         "code": ">>> tel_test = {'alice': 1, 'bob': 2, 'chris': 3}\n>>> assert print_extension(tel_test, 'alice') == 'The extension for alice is 1.'\n>>> assert print_extension(tel_test, 'chris') == 'The extension for chris is 3.'\n",
         "hidden": false,
         "locked": false
        }
       ],
       "scored": true,
       "setup": "",
       "teardown": "",
       "type": "doctest"
      }
     ]
    },
    "q1_9": {
     "name": "q1_9",
     "points": null,
     "suites": [
      {
       "cases": [
        {
         "code": ">>> callable(squares_dict)\nTrue",
         "hidden": false,
         "locked": false
        },
        {
         "code": ">>> squares_test_1 = [0, 1, 2, 4]\n>>> squares_test_1_out = squares_dict(squares_test_1)\n>>> for e in squares_test_1:\n...     assert e in squares_test_1_out and squares_test_1_out[e] == e ** 2\n",
         "hidden": false,
         "locked": false
        },
        {
         "code": ">>> squares_test_2 = [-1, 1, 30, 2]\n>>> squares_test_2_out = squares_dict(squares_test_2)\n>>> for e in squares_test_2:\n...     assert e in squares_test_2_out and squares_test_2_out[e] == e ** 2\n",
         "hidden": false,
         "locked": false
        }
       ],
       "scored": true,
       "setup": "",
       "teardown": "",
       "type": "doctest"
      }
     ]
    },
    "q2_1": {
     "name": "q2_1",
     "points": null,
     "suites": [
      {
       "cases": [
        {
         "code": ">>> q2_1.shape == (24, 2)\nTrue",
         "hidden": false,
         "locked": false
        },
        {
         "code": ">>> np.isclose(np.sum(q2_1[:, 0]) / np.sum(q2_1[:, 1]), 22.97100987575661)\nTrue",
         "hidden": false,
         "locked": false
        }
       ],
       "scored": true,
       "setup": "",
       "teardown": "",
       "type": "doctest"
      }
     ]
    },
    "q2_2": {
     "name": "q2_2",
     "points": null,
     "suites": [
      {
       "cases": [
        {
         "code": ">>> np.isclose(q2_2^0xec148, 379797)\nTrue",
         "hidden": false,
         "locked": false
        }
       ],
       "scored": true,
       "setup": "",
       "teardown": "",
       "type": "doctest"
      }
     ]
    },
    "q4_1": {
     "name": "q4_1",
     "points": null,
     "suites": [
      {
       "cases": [
        {
         "code": ">>> B.shape == (3, 3)\nTrue",
         "hidden": false,
         "locked": false
        },
        {
         "code": ">>> np.allclose(B, np.array([[2, 2, 2], [6, 2, 0], [0, 0, 5]]))\nTrue",
         "hidden": false,
         "locked": false
        }
       ],
       "scored": true,
       "setup": "",
       "teardown": "",
       "type": "doctest"
      }
     ]
    },
    "q4_2": {
     "name": "q4_2",
     "points": null,
     "suites": [
      {
       "cases": [
        {
         "code": ">>> A.shape == (3, 3)\nTrue",
         "hidden": false,
         "locked": false
        },
        {
         "code": ">>> np.allclose(A, np.array([[0, 6, 0], [1, 1, 1], [3, 0, 1]]))\nTrue",
         "hidden": false,
         "locked": false
        }
       ],
       "scored": true,
       "setup": "",
       "teardown": "",
       "type": "doctest"
      }
     ]
    },
    "q4_3": {
     "name": "q4_3",
     "points": null,
     "suites": [
      {
       "cases": [
        {
         "code": ">>> len(new_v) == 3\nTrue",
         "hidden": false,
         "locked": false
        },
        {
         "code": ">>> np.allclose(new_v, np.array([10, 3.5, 6]))\nTrue",
         "hidden": false,
         "locked": false
        }
       ],
       "scored": true,
       "setup": "",
       "teardown": "",
       "type": "doctest"
      }
     ]
    }
   }
  },
  "toc": {
   "colors": {
    "hover_highlight": "#DAA520",
    "running_highlight": "#FF0000",
    "selected_highlight": "#FFD700"
   },
   "moveMenuLeft": true,
   "nav_menu": {
    "height": "512px",
    "width": "252px"
   },
   "navigate_menu": true,
   "number_sections": true,
   "sideBar": true,
   "threshold": 4,
   "toc_cell": true,
   "toc_section_display": "none",
   "toc_window_display": true
  }
 },
 "nbformat": 4,
 "nbformat_minor": 2
}
