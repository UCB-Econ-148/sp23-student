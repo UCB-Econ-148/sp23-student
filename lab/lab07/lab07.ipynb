{
 "cells": [
  {
   "cell_type": "code",
   "execution_count": null,
   "metadata": {
    "deletable": false,
    "editable": false
   },
   "outputs": [],
   "source": [
    "# Initialize Otter\n",
    "import otter\n",
    "grader = otter.Notebook(\"lab07.ipynb\")"
   ]
  },
  {
   "cell_type": "code",
   "execution_count": null,
   "metadata": {},
   "outputs": [],
   "source": [
    "import pandas as pd\n",
    "import numpy as np\n",
    "import matplotlib.pyplot as plt\n",
    "from scipy import stats\n",
    "import warnings\n",
    "warnings.filterwarnings(\"ignore\")"
   ]
  },
  {
   "cell_type": "markdown",
   "metadata": {},
   "source": [
    "# Lab 07: Justice 40\n",
    "\n",
    "Original lecture notebook developed by Dan Hammer. \\\n",
    "Lab 07 for ECON 148 (Spring 2023) by Peter F.G Hollevik."
   ]
  },
  {
   "cell_type": "markdown",
   "metadata": {},
   "source": [
    "Some parts of this lab are repetitions from lecture, but serve as important introductions for your own research on potential flaws of the Justice 40 Initiative."
   ]
  },
  {
   "cell_type": "markdown",
   "metadata": {},
   "source": [
    "---\n",
    "## Part 0: Lead Paint Exposure\n",
    "\n",
    "The Biden Administration [released a memo](https://www.whitehouse.gov/briefing-room/statements-releases/2021/01/27/fact-sheet-president-biden-takes-executive-actions-to-tackle-the-climate-crisis-at-home-and-abroad-create-jobs-and-restore-scientific-integrity-across-federal-government/) within the first week of their term, which addressed environmental justice. The two most important items for this class are:\n",
    "\n",
    "> The order creates a government-wide Justice40 Initiative with the goal of delivering 40 percent of the overall benefits of relevant federal investments to disadvantaged communities and tracks performance toward that goal through the establishment of an Environmental Justice Scorecard.\n",
    "\n",
    "> The order initiates the development of a Climate and Environmental Justice Screening Tool, building off EPA’s EJSCREEN, to identify disadvantaged communities, support the Justice40 Initiative, and inform equitable decision making across the federal government\n",
    "    \n",
    "It is very, very difficult - maybe even impossible - to **quantify environmental justice**, or even what constitutes a *disadvantaged community*. The EPA has tried. There are **fundamental issues** with their data and their math. We can begin to show why and how.\n",
    "\n",
    "First, read in the data from a local directory. We have cleaned the data for you."
   ]
  },
  {
   "cell_type": "code",
   "execution_count": null,
   "metadata": {},
   "outputs": [],
   "source": [
    "df = pd.read_csv(\"EJSCREEN_demo.csv\")\n",
    "df.head()"
   ]
  },
  {
   "cell_type": "markdown",
   "metadata": {},
   "source": [
    "This snippet of data contains:\n",
    "\n",
    "> `P_LDPNT`: Percentile for % pre-1960 housing (lead paint indicator)\n",
    "\n",
    "> `P_LDPNT_D2`: Percentile for EJ Index for % pre-1960 housing (lead paint indicator)\n",
    "\n",
    "> `VULEOPCT`: Demographic Index (based on 2 factors, % low-income and % people of color)"
   ]
  },
  {
   "cell_type": "markdown",
   "metadata": {},
   "source": [
    "The index that the EPA uses to **prioritize communities** for Federal funding is based on a simple, algebraic expression:\n",
    "\n",
    "$$\\mbox{justice} = \\mbox{environmental quality } \\times \\mbox{ demographic index } \\times \\mbox{ population}$$\n",
    "\n",
    "where \n",
    "\n",
    "$$\\mbox{demographic index} = \\frac{[\\% \\mbox{minority}] + [\\% \\mbox{living below 2x federal poverty line}]}{2} - \\mbox{ [national average]}$$\n",
    "\n",
    "Just looking at this expression, you can imagine that there are some strange edge cases - communities that are **on the border of the national average of demographics** that have very different prioritization outcomes.  The data dictionary can be [downloaded directly from the EPA's FTP servers](https://gaftp.epa.gov/EJSCREEN/2020/2020_EJSCREEEN_columns-explained.xlsx).\n",
    "\n",
    "First, create a demographic index in line with the EPA's equation, as well as a variable that indicates whether the Census block has particularly high values of lead paint exposure (above the 90th percentile)."
   ]
  },
  {
   "cell_type": "markdown",
   "metadata": {},
   "source": [
    "We define our `demo_index` as follows:\n",
    "\n",
    "> `VULEOPCT` $-$ mean(`VULEOPCT`)"
   ]
  },
  {
   "cell_type": "code",
   "execution_count": null,
   "metadata": {},
   "outputs": [],
   "source": [
    "df[\"demo_index\"] = df.VULEOPCT - df.VULEOPCT.mean()\n",
    "df[\"index_thresh\"] = np.where(df.P_LDPNT > 90, True, False)\n",
    "df.head()"
   ]
  },
  {
   "cell_type": "markdown",
   "metadata": {},
   "source": [
    "### Raw Lead Paint Exposure vs. EPA Lead Paint Exposure Index'"
   ]
  },
  {
   "cell_type": "markdown",
   "metadata": {},
   "source": [
    "We use `matplotlib` to plot the percentile of raw lead paint values for Census blocks against the EPA index based on lead paint exposure. Color the values for Census blocks with the highest levels of exposure to environmental harm.  A lot of the spread is driven by the demographic index (which isn't presented in this graph, but drives the value of the EPA index.)\n",
    "\n",
    "> Census blocks with the highest levels of lead paint are highlighted in yellow.\n"
   ]
  },
  {
   "cell_type": "code",
   "execution_count": null,
   "metadata": {},
   "outputs": [],
   "source": [
    "plt.figure(figsize=(16, 8))\n",
    "plt.scatter(\n",
    "    df.P_LDPNT, \n",
    "    df.P_LDPNT_D2, \n",
    "    s=0.01, \n",
    "    c=df.index_thresh\n",
    ");\n",
    "plt.xlabel('Percentile for % pre-1960 housing (lead paint indicator)')\n",
    "plt.ylabel('Percentile for EJ Index for % pre-1960 housing (lead paint indicator)')\n",
    "plt.title('Raw Lead Paint Exposure vs. EPA Index Lead Paint Exposure');"
   ]
  },
  {
   "cell_type": "markdown",
   "metadata": {},
   "source": [
    "### EPA Lead Paint Exposure Index vs. Demographic Index"
   ]
  },
  {
   "cell_type": "markdown",
   "metadata": {},
   "source": [
    "We plot the lead paint index against the demographic index. The majority of variation in the Lead Paint EJ Index (y-axis) is driven by the **Demographic Index (x-axis) used by EJSCREEN**, with a sharp discontinuity that is driven by whether a census block falls above or below the national average. \n",
    "\n",
    "The horizontal bar near the 60th percentile in this case is for **census blocks with zero lead paint exposure.** Census blocks with the highest levels of lead paint are highlighted in yellow."
   ]
  },
  {
   "cell_type": "code",
   "execution_count": null,
   "metadata": {},
   "outputs": [],
   "source": [
    "plt.figure(figsize=(16, 8))\n",
    "plt.scatter(\n",
    "    df.demo_index, \n",
    "    df.P_LDPNT_D2, \n",
    "    s=0.005, \n",
    "    c=df.index_thresh\n",
    ")\n",
    "plt.xlabel('EPA Demographic Index')\n",
    "plt.ylabel('Percentile for EJ Index for % pre-1960 housing (lead paint indicator)')\n",
    "plt.title('EPA Index Lead Paint Exposure vs. EPA Demographic Index');"
   ]
  },
  {
   "cell_type": "markdown",
   "metadata": {},
   "source": [
    "The punchline is that, even if a Census block has an **extreme amount of lead paint exposure** (an environmental catastrophe), it won't be considered as part of the Justice40 funding if it falls (even slightly) on the privileged side of the National Average.  There is a sharp discontinuity.\n",
    "\n",
    "> Remember, higher demographic index indicates a more marginalized community. Yellow indicates above 90th percentile in raw lead pain exposure. Several of these communities will not receive EJ support due to low demographic index.\n",
    "\n",
    "There are no sharp discontinuities in the real-world, especially in justice-related work. We don't know what the right answer is, but it can't be this."
   ]
  },
  {
   "cell_type": "markdown",
   "metadata": {},
   "source": [
    "---\n",
    "## Part 1: Urban, Suburban, vs. Rural"
   ]
  },
  {
   "cell_type": "markdown",
   "metadata": {},
   "source": [
    "The EJSCREEN indices are used to prioritize federal funding in order to mitigate environmental injustice. \n",
    "\n",
    "Here, we examine the rural and urban representation in the prioritization data.\n",
    "\n",
    "> We ask: Does this reflect the composition of the United States?  \n",
    "\n",
    "First, read in a dataset that associates each U.S. county with a CDC assessment of urban/suburban/rural. The counties are uniquely identified by a Federal Information Processing System (FIPS) Code. "
   ]
  },
  {
   "cell_type": "code",
   "execution_count": null,
   "metadata": {},
   "outputs": [],
   "source": [
    "# Source: https://www.cdc.gov/nchs/data_access/urban_rural.htm#Data_Files_and_Documentation\n",
    "nchs = pd.read_excel(\"NCHSURCodes2013.xlsx\")\n",
    "nchs = nchs[[\"FIPS code\", \"State Abr.\", \"County name\", \"2013 code\"]]\n",
    "nchs.columns = [\"fips\", \"state\", \"county\", \"classification\"]\n",
    "nchs.head()"
   ]
  },
  {
   "cell_type": "code",
   "execution_count": null,
   "metadata": {},
   "outputs": [],
   "source": [
    "# Associate each of the classifications to one of three categories, rather \n",
    "# than one of six - just to simplify our quick analysis\n",
    "remap_dict = {\n",
    "    1: \"urban\",\n",
    "    2: \"suburban\",\n",
    "    3: \"suburban\",\n",
    "    4: \"rural\",\n",
    "    5: \"rural\",\n",
    "    6: \"rural\"\n",
    "}\n",
    "\n",
    "# replace the values of the `classification` column based on the key-value \n",
    "# pair in `remap_dict`\n",
    "nchs = nchs.replace({'classification': remap_dict})\n",
    "nchs.head()"
   ]
  },
  {
   "cell_type": "markdown",
   "metadata": {},
   "source": [
    "**Question 1.1:** Now, read in the EJ indices and *merge* the dataset with the urban/suburban/rural dataset, so that each of the Census Blocks in the EJSCREEN data now has the CDC categorization. What merge type do you choose, and what are your merging on?"
   ]
  },
  {
   "cell_type": "code",
   "execution_count": null,
   "metadata": {
    "tags": []
   },
   "outputs": [],
   "source": [
    "ejdf = ... # read in data.\n",
    "ejdf = ... # merge. \n",
    "ejdf.head()"
   ]
  },
  {
   "cell_type": "code",
   "execution_count": null,
   "metadata": {
    "deletable": false,
    "editable": false
   },
   "outputs": [],
   "source": [
    "grader.check(\"q1_1\")"
   ]
  },
  {
   "cell_type": "markdown",
   "metadata": {},
   "source": [
    "Next, we create a dictionary to translate opaque variable names to something that is human-readable."
   ]
  },
  {
   "cell_type": "code",
   "execution_count": null,
   "metadata": {},
   "outputs": [],
   "source": [
    "ejvars_dict = {\n",
    "    'P_LDPNT_D2': 'Lead Paint',\n",
    "    'P_DSLPM_D2': 'Diesel Particulate Matter',\n",
    "    'P_CANCR_D2': 'Air Toxics Cancer Risk',\n",
    "    'P_RESP_D2':  'Respiratory Hazard',\n",
    "    'P_PTRAF_D2': 'Traffic Proximity',\n",
    "    'P_PWDIS_D2': 'Water Discharge',\n",
    "    'P_PNPL_D2':  'National Priority List',\n",
    "    'P_PRMP_D2':  'Risk Management Plan',\n",
    "    'P_PTSDF_D2': 'Treatment Storage and Disposal',\n",
    "    'P_OZONE_D2': 'Ozone Proximity',\n",
    "    'P_PM25_D2':  'PM25'\n",
    "}"
   ]
  },
  {
   "cell_type": "markdown",
   "metadata": {},
   "source": [
    "Each of the variables in the dataset indicates **the percentile** where that Census Block falls in prioritization. \n",
    "\n",
    "Those census blocks with high percentiles are prioritized for federal funding.  \n",
    "\n",
    "Here, we examine the urban/suburban/rural breakdown of the population living within these high-priority Census Blocks."
   ]
  },
  {
   "cell_type": "code",
   "execution_count": null,
   "metadata": {},
   "outputs": [],
   "source": [
    "v = 'P_LDPNT_D2'\n",
    "temp_df = ejdf[ejdf[v] > 90]\n",
    "temp_df = temp_df.groupby('classification').sum()['ACSTOTPOP'] # ACSTOTPOP: Total population\n",
    "\n",
    "# add back in the classification variable for future reference\n",
    "temp_dict = dict(temp_df)\n",
    "temp_dict['classification'] = v\n",
    "temp_dict"
   ]
  },
  {
   "cell_type": "markdown",
   "metadata": {},
   "source": [
    "Instead of just displaying the results for one variable, we collect the results for all in a list.\n",
    "Please make sure you understand what each line of code below actually does."
   ]
  },
  {
   "cell_type": "code",
   "execution_count": null,
   "metadata": {},
   "outputs": [],
   "source": [
    "res = []\n",
    "\n",
    "# Note that ejvars_dict.keys() is a list of the EJ variable names\n",
    "for v in ejvars_dict.keys():\n",
    "    temp_df = ejdf[ejdf[v] > 90] # filter for prioritized communities.\n",
    "    temp_df = temp_df.groupby('classification').sum()['ACSTOTPOP']\n",
    "    temp_dict = dict(temp_df)\n",
    "    temp_dict['classification'] = v\n",
    "    res.append(temp_dict)\n",
    "\n",
    "# Create a dataframe of the results\n",
    "graphing_df = pd.DataFrame(res)\n",
    "graphing_df"
   ]
  },
  {
   "cell_type": "markdown",
   "metadata": {},
   "source": [
    "Here's a snippet from the [codebook](https://gaftp.epa.gov/EJSCREEN/2020/2020_EJSCREEEN_columns-explained.xlsx) on the meaning of each variable above."
   ]
  },
  {
   "cell_type": "markdown",
   "metadata": {},
   "source": [
    "| GDB Fieldname | Description |\n",
    "| ----------- | ----------- |\n",
    "| P_LDPNT_D2 | Percentile for EJ Index for % pre-1960 housing (lead paint indicator) |\n",
    "| P_DSLPM_D2 | Percentile for EJ Index for Diesel particulate matter level in air |\n",
    "| P_CANCR_D2 | Percentile for EJ Index for Air toxics cancer risk |\n",
    "| P_RESP_D2 | Percentile for EJ Index for Air toxics respiratory hazard index |\n",
    "| P_PTRAF_D2 | Percentile for EJ Index for Traffic proximity and volume |\n",
    "| P_PWDIS_D2 | Percentile for EJ Index for Indicator for major direct dischargers to water |\n",
    "| P_PNPL_D2 | Percentile for EJ Index for Proximity to National Priorities List (NPL) sites |\n",
    "| P_PRMP_D2 | Percentile for EJ Index for Proximity to Risk Management Plan (RMP) facilities |\n",
    "| P_PTSDF_D2 | Percentile for EJ Index for Proximity to Treatment Storage and Disposal (TSDF) facilities |\n",
    "| P_OZONE_D2 | Percentile for EJ Index for Ozone level in air |\n",
    "| P_PM25_D2 | Percentile for EJ Index for PM2.5 level in air |\n",
    "\n"
   ]
  },
  {
   "cell_type": "markdown",
   "metadata": {},
   "source": [
    "We now have a dataframe with the total population in rural, suburban, and urban areas **that would be prioritized for EJ funding for each of the 11 indicators.** "
   ]
  },
  {
   "cell_type": "markdown",
   "metadata": {},
   "source": [
    "**Question 1.2:** Now, convert this into a percentage, noting that we can't just divide by the total population of the United States across all of these cell values due to missing values - and the fact that those missing values aren't *uniformly distributed* across the indicators."
   ]
  },
  {
   "cell_type": "code",
   "execution_count": null,
   "metadata": {
    "tags": []
   },
   "outputs": [],
   "source": [
    "pop_df = graphing_df[[\"rural\", \"suburban\", \"urban\"]]\n",
    "\n",
    "\n",
    "# first sum over the columns, horizontally\n",
    "total_by_class = ...\n",
    "\n",
    "# then divide, within columns, vertically\n",
    "pop_df = ...\n",
    "\n",
    "# add back the classification column\n",
    "pop_df[\"classification\"] = ...\n",
    "\n",
    "# add an `indicators` column containing human-readable names of each \n",
    "# classification using `ejvars_dict`\n",
    "pop_df[\"indicators\"] = ...\n",
    "pop_df"
   ]
  },
  {
   "cell_type": "code",
   "execution_count": null,
   "metadata": {
    "deletable": false,
    "editable": false
   },
   "outputs": [],
   "source": [
    "grader.check(\"q1_2\")"
   ]
  },
  {
   "cell_type": "markdown",
   "metadata": {},
   "source": [
    "Below, we plot the results as we did in lecture. Make sure you feel comfortable with matplotlib plotting setup below."
   ]
  },
  {
   "cell_type": "code",
   "execution_count": null,
   "metadata": {},
   "outputs": [],
   "source": [
    "# Plot the results. \n",
    "pop_df = pop_df.set_index(pop_df.indicators)\n",
    "\n",
    "pop_df.plot(figsize=(12, 7),\n",
    "    kind=\"barh\", \n",
    "    stacked=True\n",
    ");\n",
    "\n",
    "plt.xlabel('Percentage distribution of Prioritized Communities')\n",
    "plt.ylabel('EPA EJ Indicator')\n",
    "plt.title('EPA EJ Indicator Distribution for Different types of Communities ');"
   ]
  },
  {
   "cell_type": "markdown",
   "metadata": {},
   "source": [
    "Below we replot the results, but sorting the bars by rural values. Think of what story we might want to tell here!"
   ]
  },
  {
   "cell_type": "code",
   "execution_count": null,
   "metadata": {},
   "outputs": [],
   "source": [
    "pop_df.sort_values(by=['rural']).plot(figsize=(12, 7),\n",
    "    kind=\"barh\", \n",
    "    stacked=True\n",
    ");\n",
    "\n",
    "plt.xlabel('Percentage distribution of Prioritized Communities')\n",
    "plt.ylabel('EPA EJ Indicator')\n",
    "plt.title('EPA EJ Indicator Distribution for Different types of Communities ');"
   ]
  },
  {
   "cell_type": "markdown",
   "metadata": {},
   "source": [
    "Does this plot reflect the composition rest of the country? We can check by pulling in our original dataset that contains the population of each census group in the country."
   ]
  },
  {
   "cell_type": "code",
   "execution_count": null,
   "metadata": {},
   "outputs": [],
   "source": [
    "ejdf.groupby(\"classification\").sum()[\"ACSTOTPOP\"] / sum(ejdf[\"ACSTOTPOP\"])"
   ]
  },
  {
   "cell_type": "markdown",
   "metadata": {},
   "source": [
    "<!-- BEGIN QUESTION -->\n",
    "\n",
    "**Question 1.3:** Does our findings reflect the composition of the country as a whole? What do you think could be the cause of this? Answer in 3 to 5 sentences."
   ]
  },
  {
   "cell_type": "markdown",
   "metadata": {},
   "source": [
    "_Type your answer here, replacing this text._"
   ]
  },
  {
   "cell_type": "markdown",
   "metadata": {},
   "source": [
    "<!-- END QUESTION -->\n",
    "\n",
    "---\n",
    "## Part 2: Predicting the EJ Score"
   ]
  },
  {
   "cell_type": "markdown",
   "metadata": {},
   "source": [
    "Next, we seek to see how well the different raw environmental data predict the final EJ scores. Do to so, we use OLS with the setup as follows:\n",
    "\n",
    "The objective is to fit a line that is defined by $y=mx+b$ so that the coefficient $m$ and the intercept $b$ are chosen to minimize the errors between the line and the actual observations.  We use ordinary least squares to find the slope and intercept of this line - the linear model.  There may be other types of models that better represent the data than a linear model; but a linear model is a good first start, just to get a sense of the data.\n",
    "\n",
    "Once we have found the $m$ and $b$ that minimize the errors, which we call $\\hat{m}$ and $\\hat{b}$, we get a predicted $y$ value for each $x$.  We denote and calculate this predicted $y$ value as $\\hat{y} = \\hat{m} x + \\hat{b}$. Note that the $x$ value isn't estimated.  It's just the data.  And therefore has no hat on it.\n",
    "\n",
    "For a particular record, with index $i$, calculate the predicted $y$ value for that observation as $\\hat{y}_i = \\hat{m} x_i + \\hat{b}$.  Note that the values of $\\hat{m}$ and $\\hat{b}$ are constant across all observations and, as a result, don't need the $i$ index.\n",
    "\n",
    "Finally, we denote $\\bar{y}$ as the mean for the $y$ variable, across all observations.\n",
    "\n",
    "Below, we proceed with the analysis for [`PM 2.5`](https://www.epa.gov/air-trends/particulate-matter-pm25-trends). You'll be asked to do the same for [`OZONE`](https://www.epa.gov/air-trends/ozone-trends) in just a second. The pollutant's names link to the EPA's description of the emittors. Check them out if you're unfamiliar."
   ]
  },
  {
   "cell_type": "code",
   "execution_count": null,
   "metadata": {},
   "outputs": [],
   "source": [
    "df = pd.read_csv(\"EJSCREEN_sample2.csv\")\n",
    "df.describe()"
   ]
  },
  {
   "cell_type": "markdown",
   "metadata": {},
   "source": [
    "Run the `stats.linregress` command to gather the coefficient and intercept of the relationship between our `PM2.5` raw data and the final EJ score for `PM2.5` in that community, `D_PM25_2`."
   ]
  },
  {
   "cell_type": "code",
   "execution_count": null,
   "metadata": {},
   "outputs": [],
   "source": [
    "m, b, _, _, _ = stats.linregress(df.PM25, df.D_PM25_2)\n",
    "print(f\"slope: {m}\")\n",
    "print(f\"intercept: {b}\")"
   ]
  },
  {
   "cell_type": "markdown",
   "metadata": {},
   "source": [
    "We plot the relationship with the line of best fit above."
   ]
  },
  {
   "cell_type": "code",
   "execution_count": null,
   "metadata": {},
   "outputs": [],
   "source": [
    "plt.figure(figsize=(16, 8))\n",
    "plt.scatter(\n",
    "    df.PM25,\n",
    "    df.D_PM25_2,\n",
    "    s=0.01\n",
    ")\n",
    "\n",
    "plt.plot(df.PM25, m*df.PM25 + b, color=\"orange\")\n",
    "plt.ylim([-20000, 20000])\n",
    "plt.xlabel('PM2.5 levels in air')\n",
    "plt.ylabel('EJ Index for PM2.5 level in air')\n",
    "plt.title('EJ Index for PM2.5  vs. PM2.5 level in air');"
   ]
  },
  {
   "cell_type": "markdown",
   "metadata": {},
   "source": [
    "Now, we repeat the previous exercise but with our `demographic_index` discussed in lecture and earlier in this lab. Make sure you understand how it is calculated and how it might influence our final EJ score for our environmental indicators."
   ]
  },
  {
   "cell_type": "code",
   "execution_count": null,
   "metadata": {},
   "outputs": [],
   "source": [
    "m, b, _, _, _ = stats.linregress(df.demographic_index, df.D_PM25_2)\n",
    "print(f\"slope: {m}\")\n",
    "print(f\"intercept: {b}\")"
   ]
  },
  {
   "cell_type": "markdown",
   "metadata": {},
   "source": [
    "Plot the relationship and the line of best fit above."
   ]
  },
  {
   "cell_type": "code",
   "execution_count": null,
   "metadata": {},
   "outputs": [],
   "source": [
    "plt.figure(figsize=(16, 8))\n",
    "plt.scatter(\n",
    "    df.demographic_index,\n",
    "    df.D_PM25_2,\n",
    "    s=0.01\n",
    ")\n",
    "plt.plot(df.demographic_index, m*df.demographic_index + b, color=\"orange\")\n",
    "plt.ylim([-20000, 20000])\n",
    "plt.xlabel('EPA EJ Demographic Index')\n",
    "plt.ylabel('EJ Index for PM2.5 level in air')\n",
    "plt.title('EJ Index for PM2.5  vs. EPA EJ Demographic Index');"
   ]
  },
  {
   "cell_type": "markdown",
   "metadata": {},
   "source": [
    "**Question 2.1:** Now, repeat the exercise above for the environmental indicator `OZONE`. Your solution should include 2 plots with appropriate titles, labels, ranges for x and y, and the line of best fit."
   ]
  },
  {
   "cell_type": "code",
   "execution_count": null,
   "metadata": {
    "tags": []
   },
   "outputs": [],
   "source": [
    "# YOUR CODE FOR PLOT 1 HERE.\n",
    "\n",
    "# No prompt. Free code!"
   ]
  },
  {
   "cell_type": "code",
   "execution_count": null,
   "metadata": {
    "tags": []
   },
   "outputs": [],
   "source": [
    "# YOUR CODE FOR PLOT 2 HERE.\n",
    "\n",
    "# No prompt. Free code!"
   ]
  },
  {
   "cell_type": "markdown",
   "metadata": {},
   "source": [
    "<!-- BEGIN QUESTION -->\n",
    "\n",
    "**Question 2.2:** What does your findings suggest about the relationship between the environmental raw data on OZONE, the EJ index for OZONE, and the demographic index used by the EPA? What are potential 'flaws' with this model? Answer in 3 to 5 sentences, at a minimum."
   ]
  },
  {
   "cell_type": "markdown",
   "metadata": {},
   "source": [
    "_Type your answer here, replacing this text._"
   ]
  },
  {
   "cell_type": "markdown",
   "metadata": {},
   "source": [
    "<!-- END QUESTION -->\n",
    "\n",
    "---\n",
    "## Part 3: Focus on $R^2$"
   ]
  },
  {
   "cell_type": "markdown",
   "metadata": {},
   "source": [
    "The R-squared, or coefficient of correlation, or coefficient of determination is a measure of **how much of the variation can be explained by the linear model**.  A higher $R^2$ value indicates that the linear model explains more of the variation - there is less variation relegated to the residuals, relative to the total variation.\n",
    "\n",
    "$$ R^2 = 1 - \\frac{RSS}{TSS} = 1 - \\frac{\\sum_{i} (y_i - \\hat{y}_{i})^{2}}{\\sum_{i} (y_i - \\bar{y})^{2}}$$\n",
    "\n"
   ]
  },
  {
   "cell_type": "markdown",
   "metadata": {},
   "source": [
    "Let's calculate the $R^2$ for `PM2.5` manually. You'll be asked to do the same for `OZONE` in just a second, so pay attention! ;) "
   ]
  },
  {
   "cell_type": "code",
   "execution_count": null,
   "metadata": {},
   "outputs": [],
   "source": [
    "m, b, _, _, _ = stats.linregress(df.PM25, df.D_PM25_2)\n",
    "df[\"yhat\"] = m*df.PM25 + b\n",
    "rss = np.sum((df.D_PM25_2 - df.yhat)**2)\n",
    "tss = np.sum((df.D_PM25_2 - df.D_PM25_2.mean())**2)\n",
    "\n",
    "1 - rss/tss"
   ]
  },
  {
   "cell_type": "markdown",
   "metadata": {},
   "source": [
    "We can do exactly the same by squaring the r parameter gathered from our call to `stats.linregress`."
   ]
  },
  {
   "cell_type": "code",
   "execution_count": null,
   "metadata": {},
   "outputs": [],
   "source": [
    "m, b, r, _, _ = stats.linregress(df.PM25, df.D_PM25_2)\n",
    "\n",
    "r**2"
   ]
  },
  {
   "cell_type": "markdown",
   "metadata": {},
   "source": [
    "> Raw PM2.5 data explains approximately 7% of variation in EJ PM2.5 score. "
   ]
  },
  {
   "cell_type": "code",
   "execution_count": null,
   "metadata": {},
   "outputs": [],
   "source": [
    "m, b, _, _, _ = stats.linregress(df.demographic_index, df.D_PM25_2)\n",
    "df[\"yhat\"] = m*df.demographic_index + b\n",
    "rss = np.sum((df.D_PM25_2 - df.yhat)**2)\n",
    "tss = np.sum((df.D_PM25_2 - df.D_PM25_2.mean())**2)\n",
    "\n",
    "1 - rss/tss"
   ]
  },
  {
   "cell_type": "code",
   "execution_count": null,
   "metadata": {},
   "outputs": [],
   "source": [
    "m, b, r, _, _ = stats.linregress(df.demographic_index, df.D_PM25_2)\n",
    "\n",
    "r**2"
   ]
  },
  {
   "cell_type": "markdown",
   "metadata": {},
   "source": [
    "> The Demographic Index data explains approximately 67% of variation in EJ PM2.5 score. "
   ]
  },
  {
   "cell_type": "markdown",
   "metadata": {},
   "source": [
    "Should it?  We don't know.  But this very apparent mismatch is not being adequately addressed at the highest levels of government, as they discuss how to identify \"underserved communities.\""
   ]
  },
  {
   "cell_type": "markdown",
   "metadata": {},
   "source": [
    "**Question 3.1:** Repeat the exercise above for `OZONE`, but build a function that takes in the independent and dependent variables of an OLS. It should return 2 numbers, the $R^2$ from your first and second regression. Save these as `r2_1` and `r2_2`."
   ]
  },
  {
   "cell_type": "code",
   "execution_count": null,
   "metadata": {
    "tags": []
   },
   "outputs": [],
   "source": [
    "def r2(x,y):\n",
    "    ...\n",
    "    return ...\n",
    "\n",
    "r2_1 = ...\n",
    "r2_2 = ...\n",
    "print(r2_1, r2_2)"
   ]
  },
  {
   "cell_type": "code",
   "execution_count": null,
   "metadata": {
    "deletable": false,
    "editable": false
   },
   "outputs": [],
   "source": [
    "grader.check(\"q3_1\")"
   ]
  },
  {
   "cell_type": "markdown",
   "metadata": {},
   "source": [
    "<!-- BEGIN QUESTION -->\n",
    "\n",
    "**Question 3.2:** Comment on your findings how much of the variation in the EJ Ozone Score is explained by the raw data vs. the demographic index? Why could this be the case? What are potential pitfalls of an EJ Ozone Score like this? Can you think of an example where funding may / or may not be diverted to communities with extreme levels of Ozone in the air? Answer in 3 to 5 sentences, at a minimum. "
   ]
  },
  {
   "cell_type": "markdown",
   "metadata": {},
   "source": [
    "_Type your answer here, replacing this text._"
   ]
  },
  {
   "cell_type": "markdown",
   "metadata": {},
   "source": [
    "<!-- END QUESTION -->\n",
    "\n",
    "---\n",
    "## Bonus Part 4: A Quick Look at the Raw Data\n",
    "The 2 next parts are for your own 'enjoyment' - and offers an insight into how a real-world data scientist do their EDA. Thank you again to Cal grad [Dan Hammer](https://www.danham.me/r/) for his awesome insight into the Justice 40 program and its potential flaws.\n",
    "\n",
    "\n",
    "Let's get a more detailed look at the raw data used above than the `describe()` method affords."
   ]
  },
  {
   "cell_type": "code",
   "execution_count": null,
   "metadata": {},
   "outputs": [],
   "source": [
    "# Evolution of parameters fed into the plot\n",
    "#     plt.hist(df.ACSTOTPOP)\n",
    "#     plt.hist(df.ACSTOTPOP, range=[0,10000])\n",
    "\n",
    "# Set figure size\n",
    "plt.figure(figsize=(16, 8))\n",
    "\n",
    "# Assign the plot to a variable, just to suppress output in Notebooks\n",
    "fig = plt.hist(df[\"ACSTOTPOP\"], range=[0,10000], bins=1000)\n",
    "\n",
    "# Add a vertical line at the mean value, and standard deviations\n",
    "plt.axvline(\n",
    "    df.ACSTOTPOP.mean(), \n",
    "    linewidth=3, \n",
    "    color=\"orange\"\n",
    ")\n",
    "\n",
    "plt.axvline(\n",
    "    df.ACSTOTPOP.mean()-df.ACSTOTPOP.std(), \n",
    "    linewidth=1, \n",
    "    color=\"orange\",\n",
    "    linestyle=\"dashed\"\n",
    ")\n",
    "\n",
    "plt.axvline(\n",
    "    df.ACSTOTPOP.mean()+df.ACSTOTPOP.std(), \n",
    "    linewidth=1, \n",
    "    color=\"orange\",\n",
    "    linestyle=\"dashed\"\n",
    ")\n",
    "\n",
    "print(int(df.ACSTOTPOP.mean()))\n",
    "\n",
    "plt.title('Distribution of Total Census Population')\n",
    "plt.ylabel('Frequency')\n",
    "plt.xlabel('Total Census Population')"
   ]
  },
  {
   "cell_type": "code",
   "execution_count": null,
   "metadata": {},
   "outputs": [],
   "source": [
    "# Evolution of parameters fed into the plot\n",
    "#     plt.hist(df.ACSTOTPOP)\n",
    "#     plt.hist(df.ACSTOTPOP, range=[0,10000])\n",
    "\n",
    "# Set figure size\n",
    "plt.figure(figsize=(16, 8))\n",
    "\n",
    "# Assign the plot to a variable, just to suppress output in Notebooks\n",
    "fig = plt.hist(df.PM25, range=[0,16], bins=1000)\n",
    "\n",
    "# Add a vertical line at the mean value, and standard deviations\n",
    "plt.axvline(\n",
    "    df.PM25.mean(), \n",
    "    linewidth=3, \n",
    "    color=\"orange\"\n",
    ")\n",
    "\n",
    "plt.axvline(\n",
    "    df.PM25.mean()-df.PM25.std(), \n",
    "    linewidth=1, \n",
    "    color=\"orange\",\n",
    "    linestyle=\"dashed\"\n",
    ")\n",
    "\n",
    "plt.axvline(\n",
    "    df.PM25.mean()+df.PM25.std(), \n",
    "    linewidth=1, \n",
    "    color=\"orange\",\n",
    "    linestyle=\"dashed\"\n",
    ")\n",
    "\n",
    "plt.title('Distribution of PM2.5 Concentrations in the Air')\n",
    "plt.ylabel('Frequency')\n",
    "plt.xlabel('PM2.5 Concentrations in the Air')"
   ]
  },
  {
   "cell_type": "markdown",
   "metadata": {},
   "source": [
    "This exercise can easily be repeated for any other numerical variable in the dataset. Feel free to keep exploring!"
   ]
  },
  {
   "cell_type": "code",
   "execution_count": null,
   "metadata": {
    "tags": []
   },
   "outputs": [],
   "source": [
    "# YOUR EXPLORATION HERE. Note: We will check this out, but you are not at all graded on this."
   ]
  },
  {
   "cell_type": "markdown",
   "metadata": {},
   "source": [
    "---\n",
    "## Bonus Part 5: Community Type and Demographic Factors."
   ]
  },
  {
   "cell_type": "markdown",
   "metadata": {},
   "source": [
    "The next part merges all of what we have done above and delves into how the distribtutions of different indicators change for the community type (urban, suburban, and rural)."
   ]
  },
  {
   "cell_type": "code",
   "execution_count": null,
   "metadata": {},
   "outputs": [],
   "source": [
    "# Source: https://www.cdc.gov/nchs/data_access/urban_rural.htm#Data_Files_and_Documentation\n",
    "nchs = pd.read_excel(\"NCHSURCodes2013.xlsx\")\n",
    "nchs = nchs[[\"FIPS code\", \"State Abr.\", \"County name\", \"2013 code\"]]\n",
    "nchs.columns = [\"fips\", \"state\", \"county\", \"classification\"]"
   ]
  },
  {
   "cell_type": "code",
   "execution_count": null,
   "metadata": {},
   "outputs": [],
   "source": [
    "# Associate each of the classifications to one of three categories, rather \n",
    "# than one of six - just to simplify our quick analysis\n",
    "remap_dict = {\n",
    "    1: \"urban\",\n",
    "    2: \"suburban\",\n",
    "    3: \"suburban\",\n",
    "    4: \"rural\",\n",
    "    5: \"rural\",\n",
    "    6: \"rural\"\n",
    "}\n",
    "\n",
    "# replace the values of the `classification` column based on the key-value \n",
    "# pair in `remap_dict`\n",
    "nchs = nchs.replace({'classification': remap_dict})"
   ]
  },
  {
   "cell_type": "code",
   "execution_count": null,
   "metadata": {},
   "outputs": [],
   "source": [
    "ejdf_merged = df.merge(nchs, on=\"fips\")"
   ]
  },
  {
   "cell_type": "code",
   "execution_count": null,
   "metadata": {},
   "outputs": [],
   "source": [
    "urban    = ejdf_merged[ejdf_merged.classification == \"urban\"].LOWINCPCT\n",
    "suburban = ejdf_merged[ejdf_merged.classification == \"suburban\"].LOWINCPCT\n",
    "rural    = ejdf_merged[ejdf_merged.classification == \"rural\"].LOWINCPCT\n",
    "\n",
    "plt.figure(figsize=(20,6))\n",
    "fig = plt.hist(urban, bins=100, alpha=0.5, label=\"urban\")\n",
    "fig = plt.hist(suburban, bins=100, alpha=0.5, label=\"suburban\")\n",
    "fig = plt.hist(rural, bins=100, alpha=0.5, label=\"rural\")\n",
    "\n",
    "plt.xlabel(\"% low income\", size=14)\n",
    "plt.legend(loc='upper right')\n",
    "\n",
    "print(f\"urban: {urban.mean()}\")\n",
    "print(f\"suburban: {suburban.mean()}\")\n",
    "print(f\"rural: {rural.mean()}\")"
   ]
  },
  {
   "cell_type": "markdown",
   "metadata": {},
   "source": [
    "Stop here for a moment and reflect on what this informs us about the potential misalignments in part 1."
   ]
  },
  {
   "cell_type": "code",
   "execution_count": null,
   "metadata": {},
   "outputs": [],
   "source": [
    "urban    = ejdf_merged[ejdf_merged.classification == \"urban\"].MINORPCT\n",
    "suburban = ejdf_merged[ejdf_merged.classification == \"suburban\"].MINORPCT\n",
    "rural    = ejdf_merged[ejdf_merged.classification == \"rural\"].MINORPCT\n",
    "\n",
    "plt.figure(figsize=(20,6))\n",
    "fig = plt.hist(urban, bins=100, alpha=0.5, label=\"urban\")\n",
    "fig = plt.hist(suburban, bins=100, alpha=0.5, label=\"suburban\")\n",
    "fig = plt.hist(rural, bins=100, alpha=0.5, label=\"rural\")\n",
    "\n",
    "plt.xlabel(\"% people of color\", size=14)\n",
    "plt.legend(loc='upper right')\n",
    "\n",
    "print(f\"urban: {urban.mean()}\")\n",
    "print(f\"suburban: {suburban.mean()}\")\n",
    "print(f\"rural: {rural.mean()}\")"
   ]
  },
  {
   "cell_type": "markdown",
   "metadata": {},
   "source": [
    "As above, stop here again for a moment and reflect on what this informs us about the potential misalignments in part 1. These 2 variables are the prime drivers of the demographic index developed by the EPA. Now you should be one step closer to understanding both the 'power' and the 'pitfalls' of the way EJ is handled in the White House."
   ]
  },
  {
   "cell_type": "markdown",
   "metadata": {},
   "source": [
    "---\n",
    "## Feedback"
   ]
  },
  {
   "cell_type": "markdown",
   "metadata": {},
   "source": [
    "**Question 6:** Please fill out this short [feedback form](https://forms.gle/xpJ4wA9aR7yUdnae8) to let us know your thoughts about this lab! We really appreciate your opinions and feedback! At the end of the Google form, you should see a codeword. Assign the codeword to the variable `codeword` below. "
   ]
  },
  {
   "cell_type": "code",
   "execution_count": null,
   "metadata": {
    "tags": []
   },
   "outputs": [],
   "source": [
    "codeword = ..."
   ]
  },
  {
   "cell_type": "code",
   "execution_count": null,
   "metadata": {
    "deletable": false,
    "editable": false
   },
   "outputs": [],
   "source": [
    "grader.check(\"q6\")"
   ]
  },
  {
   "cell_type": "markdown",
   "metadata": {
    "deletable": false,
    "editable": false
   },
   "source": [
    "---\n",
    "\n",
    "To double-check your work, the cell below will rerun all of the autograder tests."
   ]
  },
  {
   "cell_type": "code",
   "execution_count": null,
   "metadata": {
    "deletable": false,
    "editable": false
   },
   "outputs": [],
   "source": [
    "grader.check_all()"
   ]
  },
  {
   "cell_type": "markdown",
   "metadata": {
    "deletable": false,
    "editable": false
   },
   "source": [
    "## Submission\n",
    "\n",
    "Make sure you have run all cells in your notebook in order before running the cell below, so that all images/graphs appear in the output. The cell below will generate a zip file for you to submit. **Please save before exporting!**"
   ]
  },
  {
   "cell_type": "code",
   "execution_count": null,
   "metadata": {
    "deletable": false,
    "editable": false
   },
   "outputs": [],
   "source": [
    "# Save your notebook first, then run this cell to export your submission.\n",
    "grader.export()"
   ]
  },
  {
   "cell_type": "markdown",
   "metadata": {},
   "source": [
    " "
   ]
  }
 ],
 "metadata": {
  "kernelspec": {
   "display_name": "Python 3 (ipykernel)",
   "language": "python",
   "name": "python3"
  },
  "language_info": {
   "codemirror_mode": {
    "name": "ipython",
    "version": 3
   },
   "file_extension": ".py",
   "mimetype": "text/x-python",
   "name": "python",
   "nbconvert_exporter": "python",
   "pygments_lexer": "ipython3",
   "version": "3.8.10"
  },
  "otter": {
   "OK_FORMAT": true,
   "assignment_name": "lab07",
   "tests": {
    "q1_1": {
     "name": "q1_1",
     "points": null,
     "suites": [
      {
       "cases": [
        {
         "code": ">>> ejdf.shape == (220333, 16)\nTrue",
         "hidden": false,
         "locked": false
        },
        {
         "code": ">>> np.all(ejdf.columns == ['P_LDPNT_D2', 'P_DSLPM_D2', 'P_CANCR_D2', 'P_RESP_D2', 'P_PTRAF_D2',\n...        'P_PWDIS_D2', 'P_PNPL_D2', 'P_PRMP_D2', 'P_PTSDF_D2', 'P_OZONE_D2',\n...        'P_PM25_D2', 'fips', 'ACSTOTPOP', 'state', 'county', 'classification'])\nTrue",
         "hidden": false,
         "locked": false
        }
       ],
       "scored": true,
       "setup": "",
       "teardown": "",
       "type": "doctest"
      }
     ]
    },
    "q1_2": {
     "name": "q1_2",
     "points": null,
     "suites": [
      {
       "cases": [
        {
         "code": ">>> pop_df.shape == (11, 5)\nTrue",
         "hidden": false,
         "locked": false
        },
        {
         "code": ">>> np.all(pop_df.columns == ['rural', 'suburban', 'urban', 'classification', 'indicators'])\nTrue",
         "hidden": false,
         "locked": false
        },
        {
         "code": ">>> np.isclose(np.mean(pop_df[\"rural\"]), 0.055933874412808594)\nTrue",
         "hidden": false,
         "locked": false
        },
        {
         "code": ">>> randi = np.random.randint(11)\n>>> ejvars_dict[pop_df.iloc[randi, 3]] == pop_df.iloc[randi, 4]\nTrue",
         "hidden": false,
         "locked": false
        }
       ],
       "scored": true,
       "setup": "",
       "teardown": "",
       "type": "doctest"
      }
     ]
    },
    "q3_1": {
     "name": "q3_1",
     "points": null,
     "suites": [
      {
       "cases": [
        {
         "code": ">>> callable(r2)\nTrue",
         "hidden": false,
         "locked": false
        },
        {
         "code": ">>> np.isclose(r2_1, 0.00958615177281494)\nTrue",
         "hidden": false,
         "locked": false
        },
        {
         "code": ">>> np.isclose(r2_2, 0.6864394472799714)\nTrue",
         "hidden": false,
         "locked": false
        }
       ],
       "scored": true,
       "setup": "",
       "teardown": "",
       "type": "doctest"
      }
     ]
    },
    "q6": {
     "name": "q6",
     "points": null,
     "suites": [
      {
       "cases": [
        {
         "code": ">>> sum([ord(c) for c in codeword])^0xec148 == 967523\nTrue",
         "hidden": false,
         "locked": false
        }
       ],
       "scored": true,
       "setup": "",
       "teardown": "",
       "type": "doctest"
      }
     ]
    }
   }
  }
 },
 "nbformat": 4,
 "nbformat_minor": 4
}
