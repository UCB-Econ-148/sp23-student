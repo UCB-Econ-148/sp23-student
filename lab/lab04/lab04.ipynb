{
 "cells": [
  {
   "cell_type": "code",
   "execution_count": null,
   "id": "bacd1340",
   "metadata": {
    "deletable": false,
    "editable": false
   },
   "outputs": [],
   "source": [
    "# Initialize Otter\n",
    "import otter\n",
    "grader = otter.Notebook(\"lab04.ipynb\")"
   ]
  },
  {
   "cell_type": "code",
   "execution_count": null,
   "id": "7c815196",
   "metadata": {},
   "outputs": [],
   "source": [
    "import sqlalchemy\n",
    "import sqlite3\n",
    "import pandas as pd\n",
    "import numpy as np"
   ]
  },
  {
   "cell_type": "markdown",
   "id": "763ba850",
   "metadata": {},
   "source": [
    "# Lab 4: SQL \n",
    "This notebook is an introduction to SQL. **We will be working with a SQLite dataset: the International Debt (2) Database collected by [the World Bank](https://www.worldbank.org/en/programs/debt-statistics/ids#standard). The dataset contains information about the amount of debt (in USD) owed by developing countries across several categories.** We are going to find the answers to questions like:\n",
    "\n",
    "- What is the total amount of debt that is owed by the countries listed in the dataset?\n",
    "- Which country owns the maximum amount of debt and what does that amount look like?\n",
    "- What is the average amount of debt owed by countries across different debt indicators? \n",
    "\n",
    "From the International Debt (2) Database, we will be working with the debt table that includes 5 columns and 2357 rows. We will use this international debt database table to practice basic SQL queries with [SQL magic functions](https://jupyter-tutorial.readthedocs.io/en/stable/data-processing/postgresql/ipython-sql.html). "
   ]
  },
  {
   "cell_type": "markdown",
   "id": "cb87f55c",
   "metadata": {},
   "source": [
    "**Learning Objectives:**   \n",
    "- Practice basic SQL queries\n",
    "- Translate between SQL queries and Pandas methods"
   ]
  },
  {
   "cell_type": "code",
   "execution_count": null,
   "id": "5f2f1502",
   "metadata": {},
   "outputs": [],
   "source": []
  },
  {
   "cell_type": "markdown",
   "id": "7bf8d8df",
   "metadata": {},
   "source": [
    "## Setup"
   ]
  },
  {
   "cell_type": "code",
   "execution_count": null,
   "id": "9136163a",
   "metadata": {},
   "outputs": [],
   "source": [
    "# %load_ext sql\n",
    "%reload_ext sql"
   ]
  },
  {
   "cell_type": "code",
   "execution_count": null,
   "id": "3e38b4d1",
   "metadata": {},
   "outputs": [],
   "source": [
    "# create a SQL Alchemy connection to the database\n",
    "%sql sqlite:///international_debt_2.db\n",
    "conn = sqlite3.connect(\"international_debt_2.db\")\n",
    "engine = sqlalchemy.create_engine(\"sqlite:///international_debt_2.db\")"
   ]
  },
  {
   "cell_type": "markdown",
   "id": "1242bf64",
   "metadata": {},
   "source": [
    "Let's load in the database by using cell magic so that we can explore the database. "
   ]
  },
  {
   "cell_type": "code",
   "execution_count": null,
   "id": "e81741b6",
   "metadata": {},
   "outputs": [],
   "source": [
    "%%sql\n",
    "SELECT * FROM sqlite_master WHERE type='table';"
   ]
  },
  {
   "cell_type": "markdown",
   "id": "1d48449a",
   "metadata": {},
   "source": [
    "From running the above cell, we see the database has one table debt that we will be using in this notebook."
   ]
  },
  {
   "cell_type": "markdown",
   "id": "abe997bd",
   "metadata": {},
   "source": [
    "---\n",
    "## Part 1: Exploring the Data"
   ]
  },
  {
   "cell_type": "markdown",
   "id": "41ef7875",
   "metadata": {},
   "source": [
    "We want to read the data from a SQL database using a SQL query. \n",
    "\n",
    "SQL queries will be written within \"\"\"s in the beginning and end of the code. After the query is written, we will use `pd.read_sql(query, engine)` to return a Pandas dataframe of the output data. An outline of a written query with the corresponding pandas function is shown below.\n",
    "\n",
    "```python\n",
    "# write the SQL query here\n",
    "query = \"\"\"\n",
    "SELECT ...\n",
    "\"\"\"\n",
    "# this will execute the query and return a Pandas dataframe\n",
    "output = pd.read_sql(query, engine)\n",
    "```"
   ]
  },
  {
   "cell_type": "markdown",
   "id": "8938364c",
   "metadata": {},
   "source": [
    "As an example, if we want to select everything from the `debt` table, we can do the following:\n",
    "```python\n",
    "query = \"\"\"\n",
    "SELECT * \n",
    "FROM debt\n",
    "\"\"\"\n",
    "\n",
    "output = pd.read_sql(query, engine)\n",
    "```"
   ]
  },
  {
   "cell_type": "markdown",
   "id": "3104cbd4",
   "metadata": {},
   "source": [
    "**Question 1.1:** Try this yourself: copy the SQL query from above that selects all the values from the `debt` table. "
   ]
  },
  {
   "cell_type": "code",
   "execution_count": null,
   "id": "4ff29554",
   "metadata": {
    "tags": []
   },
   "outputs": [],
   "source": [
    "q1_1 = ...\n",
    "\n",
    "res_q1_1 = pd.read_sql(q1_1, engine)\n",
    "res_q1_1"
   ]
  },
  {
   "cell_type": "code",
   "execution_count": null,
   "id": "7307f2ec",
   "metadata": {
    "deletable": false,
    "editable": false
   },
   "outputs": [],
   "source": [
    "grader.check(\"q1_1\")"
   ]
  },
  {
   "cell_type": "markdown",
   "id": "38aca9c5",
   "metadata": {},
   "source": [
    "**Question 1.2:** Write a query to select all values for Afghanistan from the `debt` table."
   ]
  },
  {
   "cell_type": "code",
   "execution_count": null,
   "id": "5bba867e",
   "metadata": {
    "tags": []
   },
   "outputs": [],
   "source": [
    "q1_2 = ...\n",
    "\n",
    "res_q1_2 = pd.read_sql(q1_2, engine)\n",
    "res_q1_2"
   ]
  },
  {
   "cell_type": "code",
   "execution_count": null,
   "id": "cb22d9a9",
   "metadata": {
    "deletable": false,
    "editable": false
   },
   "outputs": [],
   "source": [
    "grader.check(\"q1_2\")"
   ]
  },
  {
   "cell_type": "markdown",
   "id": "1e4ab65d",
   "metadata": {},
   "source": [
    "**Question 1.3:** How many distinct countries are there? Write a query that can help us answer this. Your query output should look like the following:\n",
    "\n",
    "| | total_distinct_countries |\n",
    "| --- | --- |\n",
    "| 0 | XXX |\n",
    "\n",
    "Hint: remember to rename the column. "
   ]
  },
  {
   "cell_type": "code",
   "execution_count": null,
   "id": "fd8e5e4f",
   "metadata": {
    "tags": []
   },
   "outputs": [],
   "source": [
    "q1_3 = ...\n",
    "\n",
    "res_q1_3 = pd.read_sql(q1_3, engine)\n",
    "res_q1_3"
   ]
  },
  {
   "cell_type": "code",
   "execution_count": null,
   "id": "957b7e3b",
   "metadata": {
    "deletable": false,
    "editable": false
   },
   "outputs": [],
   "source": [
    "grader.check(\"q1_3\")"
   ]
  },
  {
   "cell_type": "markdown",
   "id": "289bf523",
   "metadata": {},
   "source": [
    "**Question 1.4:** What are the distinct debt indicators? Write a query that can help us answer this. And then order the result by the indicators in an alphabetical order. Your query output should look like the following:\n",
    "\n",
    "| | distinct_debt_indicators |\n",
    "| --- | --- |\n",
    "| 0 | DT.AMT.BLAT.CD |\n",
    "| 1 | DT.AMT.DLXF.CD |\n",
    "| 2 | ... (rows omitted) |\n",
    "\n",
    "Hint: remember to rename the column. "
   ]
  },
  {
   "cell_type": "code",
   "execution_count": null,
   "id": "8b60548e",
   "metadata": {
    "tags": []
   },
   "outputs": [],
   "source": [
    "q1_4 = ...\n",
    "\n",
    "res_q1_4 = pd.read_sql(q1_4, engine)\n",
    "res_q1_4"
   ]
  },
  {
   "cell_type": "code",
   "execution_count": null,
   "id": "7ca07878",
   "metadata": {
    "deletable": false,
    "editable": false
   },
   "outputs": [],
   "source": [
    "grader.check(\"q1_4\")"
   ]
  },
  {
   "cell_type": "markdown",
   "id": "8383791f",
   "metadata": {},
   "source": [
    "**Question 1.5:** What is the total amount of debt for each country? Write a query that can help us answer this. And then order the result by the country name in an alphabetical order. Your query output should look like the following:\n",
    "\n",
    "| | country_name | total_debt |\n",
    "| --- | --- | --- |\n",
    "| 0 | Afghanistan | XXX |\n",
    "| 1 | Albania | XXX |\n",
    "| 2 |  | ... (rows omitted) |\n",
    "\n",
    "Hint: Assume that the total amount of debt is the sum of debt from all categories in the table. Remember to rename the column. "
   ]
  },
  {
   "cell_type": "code",
   "execution_count": null,
   "id": "77ec4f1a",
   "metadata": {
    "scrolled": false,
    "tags": []
   },
   "outputs": [],
   "source": [
    "q1_5 = ...\n",
    "\n",
    "res_q1_5 = pd.read_sql(q1_5, engine)\n",
    "res_q1_5.head(10)"
   ]
  },
  {
   "cell_type": "code",
   "execution_count": null,
   "id": "d96d2b9d",
   "metadata": {
    "deletable": false,
    "editable": false
   },
   "outputs": [],
   "source": [
    "grader.check(\"q1_5\")"
   ]
  },
  {
   "cell_type": "markdown",
   "id": "b9ac82f3",
   "metadata": {},
   "source": [
    "**Question 1.6:** Which are the countries with largest debt? Similar to the last question, but order by the total amount of debt this time in a descending order. Break the tie (if any) by country name in an alphabetical order. Your query output should look like the following:\n",
    "\n",
    "| | country_name | total_debt |\n",
    "| --- | --- | --- |\n",
    "| 0 | China | XXX |\n",
    "| 1 | Brazil | XXX |\n",
    "| 2 |  | ... (rows omitted) |\n",
    "\n",
    "Hint: Assume that the total amount of debt is the sum of debt from all categories in the table. Remember to rename the column. "
   ]
  },
  {
   "cell_type": "code",
   "execution_count": null,
   "id": "97c97702",
   "metadata": {
    "tags": []
   },
   "outputs": [],
   "source": [
    "q1_6 = ...\n",
    "\n",
    "res_q1_6 = pd.read_sql(q1_6, engine)\n",
    "res_q1_6.head(10)"
   ]
  },
  {
   "cell_type": "code",
   "execution_count": null,
   "id": "852f09ad",
   "metadata": {
    "deletable": false,
    "editable": false
   },
   "outputs": [],
   "source": [
    "grader.check(\"q1_6\")"
   ]
  },
  {
   "cell_type": "markdown",
   "id": "b2090ff7",
   "metadata": {},
   "source": [
    "**Question 1.7:** What are the various types of debts and their totals for the developing countries in our data? Write a query that can help us answer this. Order by the total amount of debt for each category in a descending order. Your query output should look like the following:\n",
    "\n",
    "| | indicator_name | total_debt |\n",
    "| --- | --- | --- |\n",
    "| 0 | Principal repayments on external debt, long-te... | XXX |\n",
    "| 1 | Principal repayments on external debt, private... | XXX |\n",
    "| 2 |  | ... (rows omitted) |\n",
    "\n",
    "Hint: remember to rename the column. "
   ]
  },
  {
   "cell_type": "code",
   "execution_count": null,
   "id": "65e15535",
   "metadata": {
    "tags": []
   },
   "outputs": [],
   "source": [
    "q1_7 = ...\n",
    "\n",
    "res_q1_7 = pd.read_sql(q1_7, engine)\n",
    "res_q1_7.head(10)"
   ]
  },
  {
   "cell_type": "code",
   "execution_count": null,
   "id": "d119d9ce",
   "metadata": {
    "deletable": false,
    "editable": false
   },
   "outputs": [],
   "source": [
    "grader.check(\"q1_7\")"
   ]
  },
  {
   "cell_type": "markdown",
   "id": "4f2f0ad3",
   "metadata": {},
   "source": [
    "**Question 1.8:** Now we want to investigate further about the two countries with the largest debt--China and Brazil. Write a query that select only China and Brazil. Order by the debt category code in an alphabetical order, and break tie by country name in an alphabetical order. Your query output should look like the following:\n",
    "\n",
    "| | country_name | country_code\t| indicator_name | indicator_code | debt |\n",
    "| --- | --- | --- | --- | --- | --- |\n",
    "| 0 | Brazil | BRA | PPG, bilateral (AMT, current US\\$) | DT.AMT.BLAT.CD | XXX |\n",
    "| 1 | China | CHN | PPG, bilateral (AMT, current US\\$) | DT.AMT.BLAT.CD | XXX |\n",
    "| 2 |  |  |  |  | ... (rows omitted) |"
   ]
  },
  {
   "cell_type": "code",
   "execution_count": null,
   "id": "d091edaa",
   "metadata": {
    "tags": []
   },
   "outputs": [],
   "source": [
    "q1_8 = ...\n",
    "\n",
    "res_q1_8 = pd.read_sql(q1_8, engine)\n",
    "res_q1_8"
   ]
  },
  {
   "cell_type": "code",
   "execution_count": null,
   "id": "8c0068ef",
   "metadata": {
    "deletable": false,
    "editable": false
   },
   "outputs": [],
   "source": [
    "grader.check(\"q1_8\")"
   ]
  },
  {
   "cell_type": "code",
   "execution_count": null,
   "id": "936dec6a",
   "metadata": {},
   "outputs": [],
   "source": []
  },
  {
   "cell_type": "markdown",
   "id": "1f1d5452",
   "metadata": {},
   "source": [
    "**Question 1.9:** Look at the result above. Do you notice any big difference in the amount of debt in some categories betweem Brazil and China?"
   ]
  },
  {
   "cell_type": "markdown",
   "id": "d90130f7",
   "metadata": {},
   "source": [
    "_Type your answer here, replacing this text._"
   ]
  },
  {
   "cell_type": "code",
   "execution_count": null,
   "id": "802ca3b2",
   "metadata": {},
   "outputs": [],
   "source": []
  },
  {
   "cell_type": "markdown",
   "id": "7b362c93",
   "metadata": {},
   "source": [
    "---\n",
    "## Part 2: Translating SQL queries\n",
    "In this part, we will do some simple exercise to find equivalent commands in SQL and Pandas. "
   ]
  },
  {
   "cell_type": "markdown",
   "id": "233936be",
   "metadata": {},
   "source": [
    "In this part, we will have two tables or dataframes: `farm` and `shop`. You may have already seen them in the discussion sections!\n",
    "\n",
    "The `farm` table:\n",
    "\n",
    "| | crop | price | type | is_red |\n",
    "| --- | --- | --- | --- | --- |\n",
    "| 0 | Starfruit | 750 | Fruit | False |\n",
    "| 1 | Sweet Gem Berry | 3000 | Fruit | True |\n",
    "| 2 | Red Cabbage | 260 | Vegetable | True |\n",
    "| 3 | Parsnip | 35 | Vegetable | True |\n",
    "| 4 | Pumpkin | 320 | Vegetable | False |\n",
    "\n",
    "The `shop` table:\n",
    "\n",
    "| | type | on_sale |\n",
    "| --- | --- | --- |\n",
    "| 0 | Fruit | True |\n",
    "| 1 | Vegetable | False |\n",
    "| 2 | Egg | False |\n",
    "| 3 | Fish | False |"
   ]
  },
  {
   "cell_type": "markdown",
   "id": "55bb4507",
   "metadata": {},
   "source": [
    "**Question 2.1:** Which of the following SQL query or queries are logically equivalent to the following Pandas query?\n",
    "\n",
    "```python\n",
    "farm.merge(shop, how=\"inner\", on=\"type\")\n",
    "```\n",
    "\n",
    "a.\n",
    "``` mysql\n",
    "SELECT * FROM farm, shop\n",
    "WHERE type = type;\n",
    "``` \n",
    "b.\n",
    "``` mysql\n",
    "SELECT * FROM farm, shop \n",
    "WHERE farm.type = shop.type;\n",
    "``` \n",
    "c.\n",
    "``` mysql\n",
    "SELECT * FROM farm\n",
    "INNER JOIN shop\n",
    "WHERE farm.type = shop.type;\n",
    "``` \n",
    "d.\n",
    "``` mysql\n",
    "SELECT * FROM farm\n",
    "INNER JOIN shop\n",
    "ON farm.type = shop.type;\n",
    "``` \n",
    "\n",
    "Assign an array of letters corresponding to your answer to `q2_1` below. For example, `q2_1 = np.array(['a', 'b', 'c', 'd'])`."
   ]
  },
  {
   "cell_type": "code",
   "execution_count": null,
   "id": "06f888e4",
   "metadata": {
    "tags": []
   },
   "outputs": [],
   "source": [
    "q2_1 = ..."
   ]
  },
  {
   "cell_type": "code",
   "execution_count": null,
   "id": "8f5ebc76",
   "metadata": {
    "deletable": false,
    "editable": false
   },
   "outputs": [],
   "source": [
    "grader.check(\"q2_1\")"
   ]
  },
  {
   "cell_type": "markdown",
   "id": "da1818af",
   "metadata": {},
   "source": [
    "**Question 2.2:** Which of the following Pandas command or commands are logically equivalent to the following SQL queries query?\n",
    "\n",
    "``` mysql\n",
    "SELECT type, AVG(price)\n",
    "FROM farm\n",
    "GROUP BY type;\n",
    "\n",
    "``` \n",
    "\n",
    "a.\n",
    "``` python\n",
    "farm[\"price\"].mean()\n",
    "``` \n",
    "b.\n",
    "``` python\n",
    "farm.groupby([\"type\", \"price\"]).mean()\n",
    "```  \n",
    "c.\n",
    "``` python\n",
    "farm.groupby(\"price\")[[\"type\"]].mean()\n",
    "``` \n",
    "d.\n",
    "``` python\n",
    "farm.groupby(\"type\")[[\"price\"]].mean()\n",
    "``` \n",
    "\n",
    "Assign an array of letters corresponding to your answer to `q2_2` below. For example, `q2_2 = np.array(['a', 'b', 'c', 'd'])`."
   ]
  },
  {
   "cell_type": "code",
   "execution_count": null,
   "id": "b1d6d858",
   "metadata": {
    "tags": []
   },
   "outputs": [],
   "source": [
    "q2_2 = ..."
   ]
  },
  {
   "cell_type": "code",
   "execution_count": null,
   "id": "87c7ada1",
   "metadata": {
    "deletable": false,
    "editable": false
   },
   "outputs": [],
   "source": [
    "grader.check(\"q2_2\")"
   ]
  },
  {
   "cell_type": "markdown",
   "id": "c9432e12",
   "metadata": {},
   "source": [
    "---\n",
    "## Feedback"
   ]
  },
  {
   "cell_type": "markdown",
   "id": "38f777b5",
   "metadata": {},
   "source": [
    "**Question 3:** Please fill out this short [feedback form](https://forms.gle/pYhayJs9JvKNnfHD6) to let us know your thoughts about this lab! We really appreciate your opinions and feedback! At the end of the Google form, you should see a codeword. Assign the codeword to the variable `codeword` below. "
   ]
  },
  {
   "cell_type": "code",
   "execution_count": null,
   "id": "659792ee",
   "metadata": {
    "tags": []
   },
   "outputs": [],
   "source": [
    "codeword = ..."
   ]
  },
  {
   "cell_type": "code",
   "execution_count": null,
   "id": "b43b8246",
   "metadata": {
    "deletable": false,
    "editable": false
   },
   "outputs": [],
   "source": [
    "grader.check(\"q3\")"
   ]
  },
  {
   "cell_type": "markdown",
   "id": "362b60e4",
   "metadata": {
    "deletable": false,
    "editable": false
   },
   "source": [
    "## Submission\n",
    "\n",
    "Make sure you have run all cells in your notebook in order before running the cell below, so that all images/graphs appear in the output. The cell below will generate a zip file for you to submit. **Please save before exporting!**"
   ]
  },
  {
   "cell_type": "code",
   "execution_count": null,
   "id": "4e0fb536",
   "metadata": {
    "deletable": false,
    "editable": false
   },
   "outputs": [],
   "source": [
    "# Save your notebook first, then run this cell to export your submission.\n",
    "grader.export(pdf=False, run_tests=True)"
   ]
  },
  {
   "cell_type": "markdown",
   "id": "89b0b1a8",
   "metadata": {},
   "source": [
    " "
   ]
  }
 ],
 "metadata": {
  "kernelspec": {
   "display_name": "Python 3 (ipykernel)",
   "language": "python",
   "name": "python3"
  },
  "language_info": {
   "codemirror_mode": {
    "name": "ipython",
    "version": 3
   },
   "file_extension": ".py",
   "mimetype": "text/x-python",
   "name": "python",
   "nbconvert_exporter": "python",
   "pygments_lexer": "ipython3",
   "version": "3.8.10"
  },
  "otter": {
   "OK_FORMAT": true,
   "assignment_name": "lab04",
   "tests": {
    "q1_1": {
     "name": "q1_1",
     "points": null,
     "suites": [
      {
       "cases": [
        {
         "code": ">>> res_q1_1.shape == (2357, 5)\nTrue",
         "hidden": false,
         "locked": false
        },
        {
         "code": ">>> np.allclose(res_q1_1[(res_q1_1[\"country_code\"] == \"AFG\") & (res_q1_1[\"indicator_code\"] == \"DT.DIS.DLXF.CD\")].debt, 72894453.7)\nTrue",
         "hidden": false,
         "locked": false
        }
       ],
       "scored": true,
       "setup": "",
       "teardown": "",
       "type": "doctest"
      }
     ]
    },
    "q1_2": {
     "name": "q1_2",
     "points": null,
     "suites": [
      {
       "cases": [
        {
         "code": ">>> res_q1_2.shape == (12, 5)\nTrue",
         "hidden": false,
         "locked": false
        },
        {
         "code": ">>> np.all(res_q1_2[\"country_code\"] == \"AFG\")\nTrue",
         "hidden": false,
         "locked": false
        }
       ],
       "scored": true,
       "setup": "",
       "teardown": "",
       "type": "doctest"
      }
     ]
    },
    "q1_3": {
     "name": "q1_3",
     "points": null,
     "suites": [
      {
       "cases": [
        {
         "code": ">>> res_q1_3.shape == (1, 1)\nTrue",
         "hidden": false,
         "locked": false
        },
        {
         "code": ">>> res_q1_3.columns[0] == 'total_distinct_countries'\nTrue",
         "hidden": false,
         "locked": false
        },
        {
         "code": ">>> np.isclose(res_q1_3.iloc[0, 0], 124)\nTrue",
         "hidden": false,
         "locked": false
        }
       ],
       "scored": true,
       "setup": "",
       "teardown": "",
       "type": "doctest"
      }
     ]
    },
    "q1_4": {
     "name": "q1_4",
     "points": null,
     "suites": [
      {
       "cases": [
        {
         "code": ">>> res_q1_4.shape == (25, 1)\nTrue",
         "hidden": false,
         "locked": false
        },
        {
         "code": ">>> res_q1_4.columns[0] == 'distinct_debt_indicators'\nTrue",
         "hidden": false,
         "locked": false
        },
        {
         "code": ">>> len(res_q1_4.iloc[:,0].unique()) == 25\nTrue",
         "hidden": false,
         "locked": false
        }
       ],
       "scored": true,
       "setup": "",
       "teardown": "",
       "type": "doctest"
      }
     ]
    },
    "q1_5": {
     "name": "q1_5",
     "points": null,
     "suites": [
      {
       "cases": [
        {
         "code": ">>> res_q1_5.shape == (124, 2)\nTrue",
         "hidden": false,
         "locked": false
        },
        {
         "code": ">>> res_q1_5.iloc[5].country_name == \"Azerbaijan\"\nTrue",
         "hidden": false,
         "locked": false
        },
        {
         "code": ">>> np.isclose(res_q1_5.iloc[5].total_debt, 8.753733e+09)\nTrue",
         "hidden": false,
         "locked": false
        }
       ],
       "scored": true,
       "setup": "",
       "teardown": "",
       "type": "doctest"
      }
     ]
    },
    "q1_6": {
     "name": "q1_6",
     "points": null,
     "suites": [
      {
       "cases": [
        {
         "code": ">>> res_q1_6.shape == (124, 2)\nTrue",
         "hidden": false,
         "locked": false
        },
        {
         "code": ">>> res_q1_6.iloc[4].country_name == \"Russian Federation\"\nTrue",
         "hidden": false,
         "locked": false
        },
        {
         "code": ">>> np.isclose(res_q1_6.iloc[4].total_debt, 1.912891e+11)\nTrue",
         "hidden": false,
         "locked": false
        }
       ],
       "scored": true,
       "setup": "",
       "teardown": "",
       "type": "doctest"
      }
     ]
    },
    "q1_7": {
     "name": "q1_7",
     "points": null,
     "suites": [
      {
       "cases": [
        {
         "code": ">>> res_q1_7.shape == (25, 2)\nTrue",
         "hidden": false,
         "locked": false
        },
        {
         "code": ">>> res_q1_7.iloc[4].indicator_name == 'Interest payments on external debt, long-term (INT, current US$)'\nTrue",
         "hidden": false,
         "locked": false
        },
        {
         "code": ">>> np.isclose(res_q1_7.iloc[4].total_debt, 2.038590e+11)\nTrue",
         "hidden": false,
         "locked": false
        }
       ],
       "scored": true,
       "setup": "",
       "teardown": "",
       "type": "doctest"
      }
     ]
    },
    "q1_8": {
     "name": "q1_8",
     "points": null,
     "suites": [
      {
       "cases": [
        {
         "code": ">>> res_q1_8.shape == (48, 5)\nTrue",
         "hidden": false,
         "locked": false
        },
        {
         "code": ">>> np.all(res_q1_8[\"country_code\"].isin([\"CHN\", \"BRA\"]))\nTrue",
         "hidden": false,
         "locked": false
        },
        {
         "code": ">>> res_q1_8.iloc[4].indicator_name == 'Principal repayments on external debt, private nonguaranteed (PNG) (AMT, current US$)'\nTrue",
         "hidden": false,
         "locked": false
        },
        {
         "code": ">>> np.isclose(res_q1_8.iloc[4].debt, 41831444053.3)\nTrue",
         "hidden": false,
         "locked": false
        }
       ],
       "scored": true,
       "setup": "",
       "teardown": "",
       "type": "doctest"
      }
     ]
    },
    "q2_1": {
     "name": "q2_1",
     "points": null,
     "suites": [
      {
       "cases": [
        {
         "code": ">>> len(q2_1) > 0\nTrue",
         "hidden": false,
         "locked": false
        },
        {
         "code": ">>> sum([ord(c) for c in q2_1])^0xec148 == 967055\nFalse",
         "hidden": false,
         "locked": false
        }
       ],
       "scored": true,
       "setup": "",
       "teardown": "",
       "type": "doctest"
      }
     ]
    },
    "q2_2": {
     "name": "q2_2",
     "points": null,
     "suites": [
      {
       "cases": [
        {
         "code": ">>> len(q2_2) > 0\nTrue",
         "hidden": false,
         "locked": false
        },
        {
         "code": ">>> sum([ord(c) for c in q2_2])^0xec148 == 966956\nTrue",
         "hidden": false,
         "locked": false
        }
       ],
       "scored": true,
       "setup": "",
       "teardown": "",
       "type": "doctest"
      }
     ]
    },
    "q3": {
     "name": "q3",
     "points": null,
     "suites": [
      {
       "cases": [
        {
         "code": ">>> sum([ord(c) for c in codeword])^0xec148 == 966871\nTrue",
         "hidden": false,
         "locked": false
        }
       ],
       "scored": true,
       "setup": "",
       "teardown": "",
       "type": "doctest"
      }
     ]
    }
   }
  }
 },
 "nbformat": 4,
 "nbformat_minor": 5
}
