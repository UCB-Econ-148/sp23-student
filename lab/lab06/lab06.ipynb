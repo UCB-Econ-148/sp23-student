{
 "cells": [
  {
   "cell_type": "code",
   "execution_count": null,
   "id": "02bd4dd7",
   "metadata": {
    "deletable": false,
    "editable": false
   },
   "outputs": [],
   "source": [
    "# Initialize Otter\n",
    "import otter\n",
    "grader = otter.Notebook(\"lab06.ipynb\")"
   ]
  },
  {
   "cell_type": "code",
   "execution_count": null,
   "id": "9400428e",
   "metadata": {},
   "outputs": [],
   "source": [
    "import numpy as np\n",
    "import pandas as pd\n",
    "\n",
    "import matplotlib.pyplot as plt\n",
    "import seaborn as sns\n",
    "import plotly.express as px\n",
    "from IPython.display import display, Latex, Markdown\n",
    "import ipywidgets as widgets\n",
    "from ipywidgets import interact, interactive, fixed, interact_manual\n",
    "%matplotlib inline\n",
    "\n",
    "import geopandas\n",
    "import pycountry\n",
    "import geopy\n",
    "\n",
    "import re\n",
    "import requests\n",
    "\n",
    "from concurrent.futures import ThreadPoolExecutor\n",
    "from tqdm.notebook import tqdm"
   ]
  },
  {
   "cell_type": "markdown",
   "id": "9f0c8724",
   "metadata": {},
   "source": [
    "## Lab 6: Geospatial Visualizations"
   ]
  },
  {
   "cell_type": "markdown",
   "id": "f2a9770e",
   "metadata": {},
   "source": [
    "In this lab, you will generate a 3D map visualizing data from [this paper](https://gabriel-zucman.eu/who-owns-offshore-real-estate/). The paper looks at the ownership of offshore real estate in Dubai (where Rohan grew up).  We would like to thank Professor Zucman for making his data freely available and accessible. Professor Zucman is one of the foremost experts in economic inequality; take [Econ 133](https://gabriel-zucman.eu/econ133/) to learn about it from him!\n",
    "\n",
    "In order to generate the map, first we will import a cleaned version of the dataset from the paper. Then, we will do some essential data cleaning steps so the data can be interpreted by plotting softwares. Next, we will generate a sample plot. Finally, we will use widgets to easily toggle between multiple plots."
   ]
  },
  {
   "cell_type": "markdown",
   "id": "cb5d70f7",
   "metadata": {},
   "source": [
    "**Learning Objectives**:\n",
    "- Revisits some data cleaning techniques\n",
    "- Generates geospatial visualizations in 2D and 3D"
   ]
  },
  {
   "cell_type": "markdown",
   "id": "621c6666",
   "metadata": {},
   "source": [
    "First, let's load in the dataset."
   ]
  },
  {
   "cell_type": "code",
   "execution_count": null,
   "id": "cbee5d00",
   "metadata": {},
   "outputs": [],
   "source": [
    "data = pd.read_csv('APZO2022Data-cleaned.csv')\n",
    "data.head()"
   ]
  },
  {
   "cell_type": "markdown",
   "id": "51c28eb4",
   "metadata": {},
   "source": [
    "---\n",
    "## Part 1: Cleaning Data"
   ]
  },
  {
   "cell_type": "markdown",
   "id": "5961b687",
   "metadata": {},
   "source": [
    "In this part, you will follow the steps for cleaning the data as described in each individual subpart. If you do not follow the steps exactly, the plots will not be generated in subsequent parts."
   ]
  },
  {
   "cell_type": "markdown",
   "id": "f25caeb0",
   "metadata": {},
   "source": [
    "**Question 1.1:** Set the `Country` column as the table index and delete the first row (the one for the entire World) from the data."
   ]
  },
  {
   "cell_type": "code",
   "execution_count": null,
   "id": "a9ddb553",
   "metadata": {
    "tags": []
   },
   "outputs": [],
   "source": [
    "data = ... # set index\n",
    "data = ... # delete the first row\n",
    "data.head()"
   ]
  },
  {
   "cell_type": "code",
   "execution_count": null,
   "id": "87ee9b7d",
   "metadata": {
    "deletable": false,
    "editable": false
   },
   "outputs": [],
   "source": [
    "grader.check(\"q1_1\")"
   ]
  },
  {
   "cell_type": "markdown",
   "id": "42d186ea",
   "metadata": {},
   "source": [
    "Now, let's take a look at the following columns:"
   ]
  },
  {
   "cell_type": "code",
   "execution_count": null,
   "id": "8fdcde98",
   "metadata": {},
   "outputs": [],
   "source": [
    "data[['Total Property Value / GDP', 'Female share', 'Share of total values owned by top 10% owners', \n",
    "            'Share of total values owned by top 10% persons','Share of total values owned by top 10% firms',\n",
    "           'Share of total values owned by top 1% owners', 'Share of total values owned by top 1% persons',\n",
    "           'Share of total values owned by top 1% firms']]"
   ]
  },
  {
   "cell_type": "markdown",
   "id": "812eb10c",
   "metadata": {},
   "source": [
    "As you can see, the data is written in percents. Since the software can only plot numbers, the percentages will need to be converted to a number out of 100. A similar problem can also be seen below:"
   ]
  },
  {
   "cell_type": "code",
   "execution_count": null,
   "id": "3ef82c58",
   "metadata": {},
   "outputs": [],
   "source": [
    "data[['Total Property Values', 'Mean Property value', 'Median Property Value']]"
   ]
  },
  {
   "cell_type": "markdown",
   "id": "bfbd3b1f",
   "metadata": {},
   "source": [
    "In this case, the letters 'USD', commas and spaces will need to be removed from the above rows so the data can be read as numbers."
   ]
  },
  {
   "cell_type": "markdown",
   "id": "1f873bd7",
   "metadata": {},
   "source": [
    "**Question 1.2:** Fix the issues described above by converting the given columns to numbers. Once you have converted the columns to numbers, change the datatype of all the columns to be `float64`.\n",
    "\n",
    "For example, we want to convert \"7.81%\" to \"7.81\", \"USD 1,410,029,024\" to \"1410029024\". \n",
    "\n",
    "Hint 1: Consider using string methods like we did in project 1.   \n",
    "Hint 2: [`pandas.Series.astype`](https://pandas.pydata.org/pandas-docs/version/1.3/reference/api/pandas.Series.astype.html) may be useful.  \n",
    "Hint 3: You can get part of a string by slicing a string like we did in Lab 5. We can do this on a column in a dataframe using the string method. This [tutorial](https://note.nkmk.me/en/python-pandas-str-slice/) may be helpful. "
   ]
  },
  {
   "cell_type": "code",
   "execution_count": null,
   "id": "64fc1d58",
   "metadata": {
    "tags": []
   },
   "outputs": [],
   "source": [
    "for col in ['Total Property Values', 'Mean Property value', 'Median Property Value']:\n",
    "    data[col] = ... # get rid of 'USD' \n",
    "    data[col] = ... # get rid of commas using regex\n",
    "\n",
    "for col in ['Total Property Value / GDP', 'Female share', 'Share of total values owned by top 10% owners', \n",
    "            'Share of total values owned by top 10% persons','Share of total values owned by top 10% firms',\n",
    "           'Share of total values owned by top 1% owners', 'Share of total values owned by top 1% persons',\n",
    "           'Share of total values owned by top 1% firms']:\n",
    "    data[col] = ... # get rid of '%'\n",
    "\n",
    "# convert all the columns to float64\n",
    "for col in data.columns:\n",
    "    data[col] = ...\n",
    "data"
   ]
  },
  {
   "cell_type": "code",
   "execution_count": null,
   "id": "03b1c037",
   "metadata": {
    "deletable": false,
    "editable": false
   },
   "outputs": [],
   "source": [
    "grader.check(\"q1_2\")"
   ]
  },
  {
   "cell_type": "markdown",
   "id": "ba415a2b",
   "metadata": {},
   "source": [
    "Now that all of our data is stored as floats, we must deal with ambiguity in country names. For example, United States, United States of America and USA all refer to the same country. It's hard for a package to keep track of all the different names for a country, so instead packages like to refer to the standardized, 3-letter [country \n",
    "codes](https://www.iban.com/country-codes). The following function takes in a country name and attempts to find the 3 digit country code associated with the country."
   ]
  },
  {
   "cell_type": "code",
   "execution_count": null,
   "id": "ff2d070e",
   "metadata": {},
   "outputs": [],
   "source": [
    "import pycountry\n",
    "pycountry.countries.get(name='Albania').alpha_3\n",
    "                                    # .alpha_3 refers to the 3-letter country code \n",
    "                                    # .alpha_2 refers to the 2-letter country code"
   ]
  },
  {
   "cell_type": "markdown",
   "id": "a737bd33",
   "metadata": {},
   "source": [
    "**Question 1.3:** Use the provided function to try and find the associated country code for all the countries in your data. Write a function `get_alpha3code` that get the 3-letter country code given the country name, and then apply this function to the index of our dataframe. There will be cases where the function fails as it cannot find the associated country code - consider using a try-except block to deal with these cases."
   ]
  },
  {
   "cell_type": "code",
   "execution_count": null,
   "id": "4da3a621",
   "metadata": {
    "tags": []
   },
   "outputs": [],
   "source": [
    "def get_alpha3code(country_name):\n",
    "    try:\n",
    "        code = ...\n",
    "    except: # if it cannot find the associated country code\n",
    "        code = 'None'\n",
    "    return code\n",
    "data['Code'] = data.index.to_series().apply(...)\n",
    "data.head()"
   ]
  },
  {
   "cell_type": "code",
   "execution_count": null,
   "id": "b7cd9cfe",
   "metadata": {
    "deletable": false,
    "editable": false
   },
   "outputs": [],
   "source": [
    "grader.check(\"q1_3\")"
   ]
  },
  {
   "cell_type": "code",
   "execution_count": null,
   "id": "6cfbdbbd",
   "metadata": {},
   "outputs": [],
   "source": [
    "data[data[\"Code\"] == \"None\"]"
   ]
  },
  {
   "cell_type": "markdown",
   "id": "da1b77dc",
   "metadata": {},
   "source": [
    "**Question 1.4:** We can see that the function fails in a small portion of cases. To fill out the rest, we will use the [Rest Countries API](https://restcountries.com/) and the [\"name\" endpoint](https://restcountries.com/#api-endpoints-v3-name). No API key is needed, but still please use it sparingly. Write a function `fetch_alpha3` below that can get the alpha-3 country code given `country_name`. "
   ]
  },
  {
   "cell_type": "code",
   "execution_count": null,
   "id": "6893af54",
   "metadata": {
    "tags": []
   },
   "outputs": [],
   "source": [
    "def fetch_alpha3(country_name):\n",
    "    base_url = 'https://restcountries.com/v3.1'\n",
    "    endpoint = '/name'\n",
    "    \n",
    "    # replace all instances of '&' with 'and' in country names\n",
    "    alt_country_name = re.sub('&', 'and', country_name)\n",
    "\n",
    "    url = f\"{...}{...}/{alt_country_name}\"\n",
    "    \n",
    "    # For testing purposes only, do not delete\n",
    "    if url_only:\n",
    "        return url\n",
    "    \n",
    "    # fire off the request\n",
    "    res = ...\n",
    "\n",
    "    if res.status_code in range(200, 299):\n",
    "        return res.json()[0]['cca3'] # returns the first result if found\n",
    "    else:\n",
    "        return \"None\" # returns None if not found\n",
    "\n",
    "fetch_alpha3(\"United States of America\")"
   ]
  },
  {
   "cell_type": "code",
   "execution_count": null,
   "id": "b9427757",
   "metadata": {
    "deletable": false,
    "editable": false
   },
   "outputs": [],
   "source": [
    "grader.check(\"q1_4\")"
   ]
  },
  {
   "cell_type": "markdown",
   "id": "c1d95047",
   "metadata": {},
   "source": [
    "Sending API requests to find the alpha-3 code for each country sequentially can take a long time. Most importantly, it usually takes a \"long\" time (in relative terms) to wait for a response from the API server after we send the request. Using multiple threads in Python, we can prepare and fire off many other API requests during the time we are waiting. \n",
    "\n",
    "**Below we will use a multi-threading module that allows us to make several API requests simultaneously. This is out of scope for this class, but is very useful in real life when interacting with an API.** If you are interested, there are many great tutorials online that walk through different multiprocessing or multithreading modules.  "
   ]
  },
  {
   "cell_type": "code",
   "execution_count": null,
   "id": "ba65092e",
   "metadata": {
    "scrolled": false
   },
   "outputs": [],
   "source": [
    "# multi-thread processing\n",
    "def fetch_alpha3_multithread(country_name, data):\n",
    "    \n",
    "    if data.loc[country_name, \"Code\"] == \"None\":\n",
    "    \n",
    "        code = fetch_alpha3(country_name)\n",
    "\n",
    "        if code != \"None\":\n",
    "            data.loc[country_name,'Code'] = code\n",
    "            return None\n",
    "        else:\n",
    "            data.loc[country_name,'Code'] = 'None'\n",
    "            return f\"'{country_name}' not found. \"\n",
    "    \n",
    "    return None\n",
    "\n",
    "# execute using concurrent.futures.ThreadPoolExecutor\n",
    "with ThreadPoolExecutor() as executor:\n",
    "    for msg in tqdm(executor.map(fetch_alpha3_multithread, \n",
    "                            data.index, \n",
    "                            [data] * data.shape[0]\n",
    "                            ), total=data.shape[0]):\n",
    "        if msg: print(msg)\n",
    "    executor.shutdown(wait=True)"
   ]
  },
  {
   "cell_type": "code",
   "execution_count": null,
   "id": "f8817773",
   "metadata": {},
   "outputs": [],
   "source": [
    "data[data[\"Code\"] == \"None\"]"
   ]
  },
  {
   "cell_type": "markdown",
   "id": "8f06f1c5",
   "metadata": {},
   "source": [
    "**Question 1.5:** As mentioned in the previous question, the provided function and the Rest Countries API don't succeed in all the cases. We have provided a list of all the cases where both methods fail but can be corrected by hand; you have to manually correct these cases by referencing the [website](https://www.iban.com/country-codes). This might seem tedious, but that is the point - data cleaning must done with careful attention to detail."
   ]
  },
  {
   "cell_type": "code",
   "execution_count": null,
   "id": "b6f5b5c2",
   "metadata": {
    "tags": []
   },
   "outputs": [],
   "source": [
    "manual_conversion_map = {\n",
    "    'Congo, Republic Of': ..., \n",
    "    'Democratic Rep, Of Congo': ..., \n",
    "    'Kyrgistan': ..., \n",
    "    'Southern Sudan': ...\n",
    "}\n",
    "\n",
    "for key in manual_conversion_map:\n",
    "    data.loc[key, 'Code'] = manual_conversion_map[key]\n",
    "\n",
    "data = data[data[\"Code\"] != \"None\"] # let's drop the rest\n",
    "data"
   ]
  },
  {
   "cell_type": "code",
   "execution_count": null,
   "id": "e277622e",
   "metadata": {
    "deletable": false,
    "editable": false
   },
   "outputs": [],
   "source": [
    "grader.check(\"q1_5\")"
   ]
  },
  {
   "cell_type": "markdown",
   "id": "fc8835c2",
   "metadata": {},
   "source": [
    "## Part 2: Generating a Sample Map"
   ]
  },
  {
   "cell_type": "markdown",
   "id": "6ef909c4",
   "metadata": {},
   "source": [
    "In this part, you will use your data to generate a sample plot visualizing the `Total Property Value / GDP` column."
   ]
  },
  {
   "cell_type": "markdown",
   "id": "50cf4ede",
   "metadata": {},
   "source": [
    "When we hover over a country in the generated plot, we would like to be able to see it's name, the total property value owned and how it compares to the amount of property owned by other countries. In order to do this, we must first rank all the countries by total property value owned."
   ]
  },
  {
   "cell_type": "markdown",
   "id": "3cc9c4f8",
   "metadata": {},
   "source": [
    "**Question 2.1:** First, sort all the values in the table by `Total Property Value / GDP` in ascending order (this sorting is important for when we generate the colors in the plot later). Then, rank all the countries by total property value owned, in descending order. Store all the ranks in a column in the data named 'Rank'. \n",
    "\n",
    "Hint: [`pandas.Series.rank`](https://pandas.pydata.org/docs/reference/api/pandas.Series.rank.html) may be useful."
   ]
  },
  {
   "cell_type": "code",
   "execution_count": null,
   "id": "f98fb7dc",
   "metadata": {
    "tags": []
   },
   "outputs": [],
   "source": [
    "data = ... # sort values\n",
    "data['Rank'] = ... # generate ranking\n",
    "data"
   ]
  },
  {
   "cell_type": "code",
   "execution_count": null,
   "id": "6212052b",
   "metadata": {
    "deletable": false,
    "editable": false
   },
   "outputs": [],
   "source": [
    "grader.check(\"q2_1\")"
   ]
  },
  {
   "cell_type": "markdown",
   "id": "c9a2b5e2",
   "metadata": {},
   "source": [
    "Now, we must think about how we want the colors in the plot to look like. For the sake of simplicity, let's say we want to bin the colors. So, we will need to group the countries into bins depending on their value of `Total Property Value / GDP`, and then assign a color to each bin. Let's take a look at the values in the column.\n"
   ]
  },
  {
   "cell_type": "code",
   "execution_count": null,
   "id": "d4151d39",
   "metadata": {},
   "outputs": [],
   "source": [
    "data['Total Property Value / GDP'].describe()"
   ]
  },
  {
   "cell_type": "markdown",
   "id": "e7fc12a3",
   "metadata": {},
   "source": [
    "As we can see, there are some clear outliers in the data. If we were to only consider the minimum and the maximum of the data, we could assign bins like ${[0,30),  [30,60),  [60,90),  [90,120),  [120,150)}$. This would leave most countries in the bottom most bin, and not provide an accurate color representation of the data. Ultimately, the bins you choose are a personal choice, but it is important to consider how those bins affect the final plot. We have provided sample bins for this part, but please feel free to mess around with these bins if you like."
   ]
  },
  {
   "cell_type": "markdown",
   "id": "984c53c9",
   "metadata": {},
   "source": [
    "<!-- BEGIN QUESTION -->\n",
    "\n",
    "**Question 2.2:** Fill in the provided code below to generate your sample plot for Total Property Value / GDP!"
   ]
  },
  {
   "cell_type": "code",
   "execution_count": null,
   "id": "65e4bb1c",
   "metadata": {
    "scrolled": false,
    "tags": []
   },
   "outputs": [],
   "source": [
    "fig = px.choropleth(data, # This is the name of your dataset\n",
    "                    locations= ..., # Which column are the country codes stored in?\n",
    "                    color=pd.cut(data['Total Property Value / GDP'], \n",
    "                                bins=[0, 0.015,0.05,0.1,0.2,1,140]).astype(str).fillna('No Data'),\n",
    "                                #These are our sample bins, feel free to mess around with them\n",
    "                    hover_name=data.index,\n",
    "                    hover_data={\"Total Property Value / GDP\":\":.1f\", \"Rank\":\":\"},\n",
    "                    # Change the above line so we can see the ratio of property value to GDP to 2 decimal places\n",
    "                    color_discrete_sequence=px.colors.sequential.BuPu,\n",
    "                    #Feel free to mess around with colors if you're interested\n",
    "                    title = ..., # Write an appropriate title\n",
    "                    height = 900\n",
    "                   )\n",
    "fig.update_layout(\n",
    "    geo=dict(\n",
    "        showframe=False,\n",
    "        showcoastlines=False,\n",
    "        projection_type='mercator'\n",
    "    ),\n",
    "    margin=dict(l=50, r=50, t=50, b=50),\n",
    ")\n",
    "fig.show()"
   ]
  },
  {
   "cell_type": "markdown",
   "id": "322c9db7",
   "metadata": {},
   "source": [
    "<!-- END QUESTION -->\n",
    "\n",
    "<!-- BEGIN QUESTION -->\n",
    "\n",
    "**Question 2.3:** Using the code above, generate a similar plot for `Total Property Values`.  Make sure the color bins and title are appropriate. However, make this plot 3D.\n",
    "\n",
    "Hint: which line of code above references a 2D projection of the Earth? Here's a [list of supported projections](https://plotly.com/python/map-configuration/#map-projections). "
   ]
  },
  {
   "cell_type": "code",
   "execution_count": null,
   "id": "229b1d8c",
   "metadata": {
    "tags": []
   },
   "outputs": [],
   "source": [
    "data = ... # this time sort by \"Total Property Values\"\n",
    "data['Rank'] = ... # generate ranking\n",
    "fig = px.choropleth(data, #This is the name of your dataset\n",
    "                    locations= ..., # Which column are the country codes stored in?\n",
    "                    color=pd.cut(data['Total Property Value / GDP'], \n",
    "                               bins=[0, 0.001*1000000000,0.01*1000000000,0.1*1000000000,0.5*1000000000,3*1000000000,300*1000000000]).astype(str).fillna('No Data'),\n",
    "                    #These are our sample bins, feel free to mess around with them\n",
    "                    hover_name=data.index,\n",
    "                    hover_data={\"Total Property Value\":\":.1f\", \"Rank\":\":\"},\n",
    "                    # Change the above line so we can see the ratio of property value to 2 decimal places\n",
    "                    color_discrete_sequence=px.colors.sequential.BuPu,\n",
    "                    #Feel free to mess around with colors if you're interested\n",
    "                    title = ..., # Write an appropriate title\n",
    "                    height = 900\n",
    "                   )\n",
    "fig.update_layout(\n",
    "    geo=dict(\n",
    "        showframe=False,\n",
    "        showcoastlines=False,\n",
    "        projection_type=...\n",
    "    ),\n",
    "    margin=dict(l=50, r=50, t=50, b=50),\n",
    ")\n",
    "fig.show()"
   ]
  },
  {
   "cell_type": "markdown",
   "id": "da62022f",
   "metadata": {},
   "source": [
    "<!-- END QUESTION -->\n",
    "\n",
    "---\n",
    "## Part 3: Using Widgets"
   ]
  },
  {
   "cell_type": "markdown",
   "id": "6151903b",
   "metadata": {},
   "source": [
    "Congratulations on making the first map! In this part, we will generate a map that can easily toggle between different columns to visualize different data. In order to do this, we must first introduce [widgets](https://ipywidgets.readthedocs.io). Widgets are interactive browser controls that allow you to choose between different values. An example is included below."
   ]
  },
  {
   "cell_type": "code",
   "execution_count": null,
   "id": "95f1ed15",
   "metadata": {},
   "outputs": [],
   "source": [
    "from ipywidgets import Dropdown\n",
    "Dropdown(\n",
    "    options=['1', '2', '3'],\n",
    "    value='2',\n",
    "    description='Number:',\n",
    "    disabled=False,\n",
    ")"
   ]
  },
  {
   "cell_type": "markdown",
   "id": "052793b8",
   "metadata": {},
   "source": [
    "The `interact` function in the widgets module takes in a function, a list of values for it's parameters and determines the appropriate widget to let you visualize the function. 2 examples are included below."
   ]
  },
  {
   "cell_type": "code",
   "execution_count": null,
   "id": "75809067",
   "metadata": {},
   "outputs": [],
   "source": [
    "def say_my_name(name):\n",
    "    \"\"\"\n",
    "    Print the current widget value in short sentence\n",
    "    \"\"\"\n",
    "    print(f'My name is {name}')\n",
    "     \n",
    "interact(say_my_name, name=[\"James\", \"Bond\", \"James Bond\"]);"
   ]
  },
  {
   "cell_type": "code",
   "execution_count": null,
   "id": "223eb3c1",
   "metadata": {},
   "outputs": [],
   "source": [
    "def f(x):\n",
    "    return x + 1\n",
    "lst = [1,2,3]\n",
    "interact(f, x=lst);"
   ]
  },
  {
   "cell_type": "markdown",
   "id": "ad3c5582",
   "metadata": {},
   "source": [
    "We will be using the `interact` function to generate a widget that lets us choose between and visualize the different column values easily. In order to this, we must first write a function that lets us generate a 3D plot for any column name. Thankfully, this isn't too hard. If you remember, other than changing the projection, making the plot for question 7 wasn't too bad once your code for question 6 was working.\n",
    "\n",
    "The main thing we must consider for different columns is how to automatically determine the different color bins. After all, we won't be able to make judgement calls for every single bin. One way to automate this process would be to look at the data quintiles - assign the bottom 20% of the data to one bin, the next 20% to another bin, and so on. "
   ]
  },
  {
   "cell_type": "markdown",
   "id": "c135db53",
   "metadata": {},
   "source": [
    "**Question 3.1:** Computationally determine the quintiles of `data['Total Property Values']` and return the information as a list. The list must start at the minimum value of `data['Total Property Values']` and end at the maximum value.\n",
    "\n",
    "Hint: The solution does not need to be longer than one line. This [method](https://pandas.pydata.org/docs/reference/api/pandas.DataFrame.quantile.html) may be helpful. "
   ]
  },
  {
   "cell_type": "code",
   "execution_count": null,
   "id": "7d02a04a",
   "metadata": {
    "tags": []
   },
   "outputs": [],
   "source": [
    "quintiles = ...\n",
    "quintiles = quintiles.to_list() # feel free to delete this line if not needed\n",
    "quintiles"
   ]
  },
  {
   "cell_type": "code",
   "execution_count": null,
   "id": "f025f0c1",
   "metadata": {
    "deletable": false,
    "editable": false
   },
   "outputs": [],
   "source": [
    "grader.check(\"q3_1\")"
   ]
  },
  {
   "cell_type": "markdown",
   "id": "fe6de426",
   "metadata": {},
   "source": [
    "<!-- BEGIN QUESTION -->\n",
    "\n",
    "**Question 3.2:** Write a function that takes in a column name and generates a 3D plot visualizing that column data. Name the function `plot_generator`. Feel free to assign the column name as the plot title."
   ]
  },
  {
   "cell_type": "code",
   "execution_count": null,
   "id": "b7385c83",
   "metadata": {
    "tags": []
   },
   "outputs": [],
   "source": [
    "def plot_generator(col):\n",
    "    data_new = ... # this time sort by col\n",
    "    data_new['Rank'] = ... # generate ranking\n",
    "    fig = px.choropleth(data_new,\n",
    "                        locations=...,\n",
    "                        color=pd.cut(data_new[col], \n",
    "                                    bins=data_new[col].quantile(q=[0,0.2,0.4,0.6, 0.8,1]).tolist()).astype(str).fillna('No Data'),\n",
    "                        hover_name=data_new.index,\n",
    "                        hover_data={col:\":.2f\", \"Rank\":\":\"},\n",
    "                        color_discrete_sequence=px.colors.sequential.BuPu,\n",
    "                        title = ...,\n",
    "                        height = 900\n",
    "                       )\n",
    "    fig.update_layout(\n",
    "         title_text=col,\n",
    "        geo=dict(\n",
    "            showframe=False,\n",
    "            showcoastlines=False,\n",
    "            projection_type=...\n",
    "        ),\n",
    "        margin=dict(l=50, r=50, t=50, b=50),\n",
    "    )\n",
    "    fig.show()"
   ]
  },
  {
   "cell_type": "markdown",
   "id": "9d3a2186",
   "metadata": {},
   "source": [
    "<!-- END QUESTION -->\n",
    "\n",
    "Let's make sure the function works:"
   ]
  },
  {
   "cell_type": "code",
   "execution_count": null,
   "id": "32339d94",
   "metadata": {},
   "outputs": [],
   "source": [
    "plot_generator(\"Total Property Values\")"
   ]
  },
  {
   "cell_type": "markdown",
   "id": "a285260a",
   "metadata": {},
   "source": [
    "Now, view the beautiful visualizations with `interact`!"
   ]
  },
  {
   "cell_type": "code",
   "execution_count": null,
   "id": "f0e17bf2",
   "metadata": {},
   "outputs": [],
   "source": [
    "interact(plot_generator, col=data);"
   ]
  },
  {
   "cell_type": "markdown",
   "id": "3d218bc5",
   "metadata": {},
   "source": [
    "Let's throw in another toggle as a bonus!"
   ]
  },
  {
   "cell_type": "code",
   "execution_count": null,
   "id": "e82208af",
   "metadata": {},
   "outputs": [],
   "source": [
    "display(widgets.interactive(plot_generator, col=widgets.ToggleButtons(options=[\n",
    "    \"Total Property Values\", \"Total Property Value / GDP\", \"Mean Property value\", \"Median Property Value\"])));\n"
   ]
  },
  {
   "cell_type": "code",
   "execution_count": null,
   "id": "0784753c",
   "metadata": {},
   "outputs": [],
   "source": []
  },
  {
   "cell_type": "markdown",
   "id": "fdd47477",
   "metadata": {},
   "source": [
    "<!-- BEGIN QUESTION -->\n",
    "\n",
    "**Question 3.3:** Using the widget that you generate above. Name one country that has both a high total property value invested in Dubai and a high total property value / GDP. What does that potentially imply about income inequality in that country? This is an open-ended question. "
   ]
  },
  {
   "cell_type": "markdown",
   "id": "11608bec",
   "metadata": {},
   "source": [
    "_Type your answer here, replacing this text._"
   ]
  },
  {
   "cell_type": "markdown",
   "id": "e75fb837",
   "metadata": {},
   "source": [
    "<!-- END QUESTION -->\n",
    "\n",
    "**Congratulations!!** You are done with the lab. Hopefully you enjoyed producing these geospatial visualizations!"
   ]
  },
  {
   "cell_type": "code",
   "execution_count": null,
   "id": "07e6350b",
   "metadata": {},
   "outputs": [],
   "source": []
  },
  {
   "cell_type": "markdown",
   "id": "c970297f",
   "metadata": {},
   "source": [
    "---\n",
    "## Feedback"
   ]
  },
  {
   "cell_type": "markdown",
   "id": "279027be",
   "metadata": {},
   "source": [
    "**Question 4:** Please fill out this short [feedback form](https://forms.gle/2w4S5SjQMhCDdjAd8) to let us know your thoughts about this lab! We really appreciate your opinions and feedback! At the end of the Google form, you should see a codeword. Assign the codeword to the variable `codeword` below. "
   ]
  },
  {
   "cell_type": "code",
   "execution_count": null,
   "id": "7f1aed90",
   "metadata": {
    "tags": []
   },
   "outputs": [],
   "source": [
    "codeword = ..."
   ]
  },
  {
   "cell_type": "code",
   "execution_count": null,
   "id": "b8b12a8b",
   "metadata": {
    "deletable": false,
    "editable": false
   },
   "outputs": [],
   "source": [
    "grader.check(\"q4\")"
   ]
  },
  {
   "cell_type": "markdown",
   "id": "9d6e13ee",
   "metadata": {
    "deletable": false,
    "editable": false
   },
   "source": [
    "## Submission\n",
    "\n",
    "Make sure you have run all cells in your notebook in order before running the cell below, so that all images/graphs appear in the output. The cell below will generate a zip file for you to submit. **Please save before exporting!**"
   ]
  },
  {
   "cell_type": "code",
   "execution_count": null,
   "id": "14dc6088",
   "metadata": {
    "deletable": false,
    "editable": false
   },
   "outputs": [],
   "source": [
    "# Save your notebook first, then run this cell to export your submission.\n",
    "grader.export(run_tests=True)"
   ]
  },
  {
   "cell_type": "markdown",
   "id": "122188c2",
   "metadata": {},
   "source": [
    " "
   ]
  }
 ],
 "metadata": {
  "kernelspec": {
   "display_name": "Python 3 (ipykernel)",
   "language": "python",
   "name": "python3"
  },
  "language_info": {
   "codemirror_mode": {
    "name": "ipython",
    "version": 3
   },
   "file_extension": ".py",
   "mimetype": "text/x-python",
   "name": "python",
   "nbconvert_exporter": "python",
   "pygments_lexer": "ipython3",
   "version": "3.8.10"
  },
  "otter": {
   "OK_FORMAT": true,
   "assignment_name": "lab06",
   "tests": {
    "q1_1": {
     "name": "q1_1",
     "points": null,
     "suites": [
      {
       "cases": [
        {
         "code": ">>> data.shape == (197, 26)\nTrue",
         "hidden": false,
         "locked": false
        },
        {
         "code": ">>> data.index.name == 'Country'\nTrue",
         "hidden": false,
         "locked": false
        }
       ],
       "scored": true,
       "setup": "",
       "teardown": "",
       "type": "doctest"
      }
     ]
    },
    "q1_2": {
     "name": "q1_2",
     "points": 3,
     "suites": [
      {
       "cases": [
        {
         "code": ">>> data.shape == (197, 26)\nTrue",
         "failure_message": "You should not modify the shape of this dataframe.",
         "hidden": false,
         "locked": false,
         "points": 0
        },
        {
         "code": ">>> np.all(data[['Total Property Values', 'Mean Property value', 'Median Property Value']].dtypes == 'float64')\nTrue",
         "failure_message": "There're some problems with the first for loop.",
         "hidden": false,
         "locked": false,
         "points": 1
        },
        {
         "code": ">>> np.all(data[['Total Property Value / GDP', 'Female share', 'Share of total values owned by top 10% owners', \n...             'Share of total values owned by top 10% persons','Share of total values owned by top 10% firms',\n...            'Share of total values owned by top 1% owners', 'Share of total values owned by top 1% persons',\n...            'Share of total values owned by top 1% firms']].dtypes == 'float64')\nTrue",
         "failure_message": "There're some problems with the second for loop.",
         "hidden": false,
         "locked": false,
         "points": 1
        },
        {
         "code": ">>> np.all(data.dtypes == 'float64')\nTrue",
         "hidden": false,
         "locked": false,
         "points": 1,
         "success_message": "Great job!"
        }
       ],
       "scored": true,
       "setup": "",
       "teardown": "",
       "type": "doctest"
      }
     ]
    },
    "q1_3": {
     "name": "q1_3",
     "points": null,
     "suites": [
      {
       "cases": [
        {
         "code": ">>> data.shape == (197, 27)\nTrue",
         "hidden": false,
         "locked": false
        },
        {
         "code": ">>> data.loc['Afghanistan', 'Code'] == \"AFG\"\nTrue",
         "hidden": false,
         "locked": false
        },
        {
         "code": ">>> data.loc['Andorra', 'Code'] == \"AND\"\nTrue",
         "hidden": false,
         "locked": false
        },
        {
         "code": ">>> data.loc['Antigua & Barbuda', 'Code'] == \"None\"\nTrue",
         "hidden": false,
         "locked": false
        }
       ],
       "scored": true,
       "setup": "",
       "teardown": "",
       "type": "doctest"
      }
     ]
    },
    "q1_4": {
     "name": "q1_4",
     "points": null,
     "suites": [
      {
       "cases": [
        {
         "code": ">>> fetch_alpha3(\"United States of America\", url_only=True) == 'https://restcountries.com/v3.1/name/United States of America'\nTrue",
         "hidden": false,
         "locked": false
        }
       ],
       "scored": true,
       "setup": "",
       "teardown": "",
       "type": "doctest"
      }
     ]
    },
    "q1_5": {
     "name": "q1_5",
     "points": null,
     "suites": [
      {
       "cases": [
        {
         "code": ">>> sum([ord(c) for c in manual_conversion_map['Congo, Republic Of']])^0xec148 == 967057\nTrue",
         "hidden": false,
         "locked": false
        },
        {
         "code": ">>> sum([ord(c) for c in manual_conversion_map['Democratic Rep, Of Congo']])^0xec148 == 967070\nTrue",
         "hidden": false,
         "locked": false
        },
        {
         "code": ">>> sum([ord(c) for c in manual_conversion_map['Kyrgistan']])^0xec148 == 967076\nTrue",
         "hidden": false,
         "locked": false
        },
        {
         "code": ">>> sum([ord(c) for c in manual_conversion_map['Southern Sudan']])^0xec148 == 967074\nTrue",
         "hidden": false,
         "locked": false
        }
       ],
       "scored": true,
       "setup": "",
       "teardown": "",
       "type": "doctest"
      }
     ]
    },
    "q2_1": {
     "name": "q2_1",
     "points": null,
     "suites": [
      {
       "cases": [
        {
         "code": ">>> np.all(data[\"Total Property Value / GDP\"].diff()[1:] >= 0)\nTrue",
         "hidden": false,
         "locked": false
        }
       ],
       "scored": true,
       "setup": "",
       "teardown": "",
       "type": "doctest"
      }
     ]
    },
    "q3_1": {
     "name": "q3_1",
     "points": null,
     "suites": [
      {
       "cases": [
        {
         "code": ">>> len(quintiles) == 6\nTrue",
         "hidden": false,
         "locked": false
        },
        {
         "code": ">>> np.all(np.diff(quintiles) > 0)\nTrue",
         "hidden": false,
         "locked": false
        }
       ],
       "scored": true,
       "setup": "",
       "teardown": "",
       "type": "doctest"
      }
     ]
    },
    "q4": {
     "name": "q4",
     "points": null,
     "suites": [
      {
       "cases": [
        {
         "code": ">>> sum([ord(c) for c in codeword])^0xec148 == 968033\nTrue",
         "hidden": false,
         "locked": false
        }
       ],
       "scored": true,
       "setup": "",
       "teardown": "",
       "type": "doctest"
      }
     ]
    }
   }
  }
 },
 "nbformat": 4,
 "nbformat_minor": 5
}
